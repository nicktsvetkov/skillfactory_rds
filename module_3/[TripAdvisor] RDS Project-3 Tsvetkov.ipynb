{
 "cells": [
  {
   "cell_type": "markdown",
   "metadata": {},
   "source": [
    "# Загрузка Pandas и очистка данных"
   ]
  },
  {
   "cell_type": "code",
   "execution_count": 1,
   "metadata": {},
   "outputs": [],
   "source": [
    "# PROD\n",
    "import pandas as pd\n",
    "import re\n",
    "import numpy as np\n",
    "import seaborn as sns\n",
    "import matplotlib.pyplot as plt\n",
    "import collections as cl\n",
    "from datetime import datetime\n",
    "from math import radians, sin, cos, asin, sqrt\n",
    "from sklearn.cluster import DBSCAN\n",
    "from sklearn.preprocessing import MinMaxScaler\n",
    "from sklearn.preprocessing import PolynomialFeatures\n",
    "from sklearn.preprocessing import StandardScaler\n",
    "import warnings\n",
    "from scipy.stats import norm\n",
    "import itertools as it\n",
    "\n",
    "%matplotlib inline"
   ]
  },
  {
   "cell_type": "code",
   "execution_count": null,
   "metadata": {},
   "outputs": [],
   "source": [
    "# Restaurant_id — идентификационный номер ресторана / сети ресторанов;\n",
    "# City — город, в котором находится ресторан;\n",
    "# Cuisine Style — кухня или кухни, к которым можно отнести блюда, предлагаемые в ресторане;\n",
    "# Ranking — место, которое занимает данный ресторан среди всех ресторанов своего города;\n",
    "# Rating — рейтинг ресторана по данным TripAdvisor (именно это значение должна будет предсказывать модель);\n",
    "# Price Range — диапазон цен в ресторане;\n",
    "# Number of Reviews — количество отзывов о ресторане;\n",
    "# Reviews — данные о двух отзывах, которые отображаются на сайте ресторана;\n",
    "# URL_TA — URL страницы ресторана на TripAdvosor;\n",
    "# ID_TA — идентификатор ресторана в базе данных TripAdvisor."
   ]
  },
  {
   "cell_type": "code",
   "execution_count": 2,
   "metadata": {},
   "outputs": [],
   "source": [
    "# PROD\n",
    "df_basic = pd.read_csv('main_task.csv')\n",
    "### Добавляем в Датасет значения из соревнования\n",
    "df_kggl = pd.read_csv('kaggle_task.csv')\n",
    "# Дополнительный ДатаСет с Кэггле\n",
    "df_add = pd.read_csv('TA_restaurants_curated.csv')"
   ]
  },
  {
   "cell_type": "code",
   "execution_count": 3,
   "metadata": {},
   "outputs": [],
   "source": [
    "# PROD\n",
    "# Датафрейм по численности населения в городах\n",
    "df_cities = pd.read_csv('worldcities.csv')"
   ]
  },
  {
   "cell_type": "code",
   "execution_count": null,
   "metadata": {},
   "outputs": [],
   "source": [
    "df_basic.info()"
   ]
  },
  {
   "cell_type": "code",
   "execution_count": null,
   "metadata": {},
   "outputs": [],
   "source": [
    "df_kggl.info()"
   ]
  },
  {
   "cell_type": "code",
   "execution_count": null,
   "metadata": {},
   "outputs": [],
   "source": [
    "df_add.info()"
   ]
  },
  {
   "cell_type": "code",
   "execution_count": 4,
   "metadata": {},
   "outputs": [],
   "source": [
    "# PROD\n",
    "df_add.drop(df_add[(df_add.Ranking.isna())|(df_add.Rating.isna())].index, axis = 0, inplace = True)"
   ]
  },
  {
   "cell_type": "code",
   "execution_count": 5,
   "metadata": {},
   "outputs": [],
   "source": [
    "# PROD\n",
    "df_basic['source'] = 'basic'\n",
    "df_add['source'] = 'add'\n",
    "df_kggl['source'] = 'kggl'"
   ]
  },
  {
   "cell_type": "code",
   "execution_count": null,
   "metadata": {},
   "outputs": [],
   "source": []
  },
  {
   "cell_type": "markdown",
   "metadata": {},
   "source": [
    "### Проверка Датасетов на пересечение. Объединение"
   ]
  },
  {
   "cell_type": "code",
   "execution_count": null,
   "metadata": {},
   "outputs": [],
   "source": [
    "# Проверка пересечения: нахожу пересекающиеся ИДшники и проверяю полные дубликаты по ним\n",
    "result_ids_basic_add = (set(df_add.ID_TA)).intersection(set(df_basic.ID_TA))\n",
    "len(result_ids_basic_add)"
   ]
  },
  {
   "cell_type": "code",
   "execution_count": null,
   "metadata": {},
   "outputs": [],
   "source": [
    "result_ids_kggl_add = (set(df_add.ID_TA)).intersection(set(df_kggl.ID_TA))\n",
    "len(result_ids_kggl_add)"
   ]
  },
  {
   "cell_type": "code",
   "execution_count": null,
   "metadata": {
    "scrolled": false
   },
   "outputs": [],
   "source": [
    "df_basic.columns"
   ]
  },
  {
   "cell_type": "code",
   "execution_count": null,
   "metadata": {},
   "outputs": [],
   "source": []
  },
  {
   "cell_type": "code",
   "execution_count": null,
   "metadata": {},
   "outputs": [],
   "source": [
    "df1_add_kggl = df_add[['City', 'Cuisine Style', 'Ranking',\n",
    "       'Price Range', 'Number of Reviews', 'Reviews', 'URL_TA', 'ID_TA', 'source', 'Restaurant_id']].loc[df_add.ID_TA.isin(result_ids_basic_add)]"
   ]
  },
  {
   "cell_type": "code",
   "execution_count": null,
   "metadata": {},
   "outputs": [],
   "source": [
    "df1_add = df_add[['City', 'Cuisine Style', 'Ranking', 'Rating',\n",
    "       'Price Range', 'Number of Reviews', 'Reviews', 'URL_TA', 'ID_TA', 'source', 'Restaurant_id']].loc[df_add.ID_TA.isin(result_ids_basic_add)]"
   ]
  },
  {
   "cell_type": "code",
   "execution_count": null,
   "metadata": {},
   "outputs": [],
   "source": [
    "df1_basic = df_basic[['City', 'Cuisine Style', 'Ranking', 'Rating',\n",
    "       'Price Range', 'Number of Reviews', 'Reviews', 'URL_TA', 'ID_TA', 'source', 'Restaurant_id']].loc[df_basic.ID_TA.isin(result_ids_basic_add)]"
   ]
  },
  {
   "cell_type": "code",
   "execution_count": null,
   "metadata": {},
   "outputs": [],
   "source": [
    "df1_kggl = df_kggl[['City', 'Cuisine Style', 'Ranking',\n",
    "       'Price Range', 'Number of Reviews', 'Reviews', 'URL_TA', 'ID_TA', 'source', 'Restaurant_id']].loc[df_kggl.ID_TA.isin(result_ids_kggl_add)]"
   ]
  },
  {
   "cell_type": "code",
   "execution_count": null,
   "metadata": {},
   "outputs": [],
   "source": [
    "# объединение исходного и расширенного + удаление дубликатов из них\n",
    "len(pd.concat([df1_basic, df1_add], axis = 0))"
   ]
  },
  {
   "cell_type": "code",
   "execution_count": null,
   "metadata": {
    "scrolled": true
   },
   "outputs": [],
   "source": [
    "len(pd.concat([df1_basic, df1_add], axis = 0).drop_duplicates(subset=['ID_TA'], keep='first'))"
   ]
  },
  {
   "cell_type": "code",
   "execution_count": null,
   "metadata": {},
   "outputs": [],
   "source": [
    "# Разница между исходным и объединенным - в 96 значений. Просто сократим список сверяемых значений при удалении дубликатов и выкинем значения из расширенного столбца\n",
    "basic_add_vc = pd.concat([df1_basic.drop_duplicates(subset=['ID_TA'], keep='last'), df1_add], axis = 0).drop_duplicates(subset=['ID_TA'], keep='first')['source'].value_counts()"
   ]
  },
  {
   "cell_type": "code",
   "execution_count": null,
   "metadata": {
    "scrolled": true
   },
   "outputs": [],
   "source": []
  },
  {
   "cell_type": "code",
   "execution_count": null,
   "metadata": {},
   "outputs": [],
   "source": []
  },
  {
   "cell_type": "code",
   "execution_count": null,
   "metadata": {},
   "outputs": [],
   "source": [
    "# Объекдинение расширенного и тестового датасетов, поиск пересечения\n",
    "\n",
    "len(pd.concat([df1_kggl, df1_add_kggl], axis = 0))"
   ]
  },
  {
   "cell_type": "code",
   "execution_count": null,
   "metadata": {},
   "outputs": [],
   "source": [
    "len(pd.concat([df1_kggl, df1_add_kggl], axis = 0).drop_duplicates(subset=['ID_TA'], keep='first'))"
   ]
  },
  {
   "cell_type": "code",
   "execution_count": null,
   "metadata": {},
   "outputs": [],
   "source": [
    "kggl_add_vc = pd.concat([df1_kggl, df1_add_kggl], axis = 0).drop_duplicates(subset=['ID_TA'], keep='first')['source'].value_counts()"
   ]
  },
  {
   "cell_type": "code",
   "execution_count": null,
   "metadata": {},
   "outputs": [],
   "source": []
  },
  {
   "cell_type": "code",
   "execution_count": null,
   "metadata": {},
   "outputs": [],
   "source": []
  },
  {
   "cell_type": "code",
   "execution_count": null,
   "metadata": {},
   "outputs": [],
   "source": [
    "### Объединяем по ID_TA в приоритете оставляя строки из задания и из тестовой выборки"
   ]
  },
  {
   "cell_type": "code",
   "execution_count": 6,
   "metadata": {},
   "outputs": [
    {
     "name": "stdout",
     "output_type": "stream",
     "text": [
      "40000 10000 115751\n"
     ]
    }
   ],
   "source": [
    "# PROD\n",
    "df_basic_con = df_basic[['City', 'Cuisine Style', 'Ranking', 'Rating',\n",
    "       'Price Range', 'Number of Reviews', 'Reviews', 'URL_TA', 'ID_TA', 'source', 'Restaurant_id']]\n",
    "df_kggl['Rating'] = -1\n",
    "df_kggl_con = df_kggl[['City', 'Cuisine Style', 'Ranking', 'Rating',\n",
    "       'Price Range', 'Number of Reviews', 'Reviews', 'URL_TA', 'ID_TA', 'source', 'Restaurant_id']]\n",
    "df_add_con = df_add[['City', 'Cuisine Style', 'Ranking', 'Rating',\n",
    "       'Price Range', 'Number of Reviews', 'Reviews', 'URL_TA', 'ID_TA', 'source', 'Restaurant_id']]\n",
    "print(len(df_basic_con), len(df_kggl_con), len(df_add_con))"
   ]
  },
  {
   "cell_type": "code",
   "execution_count": null,
   "metadata": {},
   "outputs": [],
   "source": []
  },
  {
   "cell_type": "code",
   "execution_count": 7,
   "metadata": {},
   "outputs": [],
   "source": [
    "# PROD\n",
    "df_basic_kggl = pd.concat([df_basic_con.drop_duplicates(subset = ['ID_TA'], keep='last'), df_kggl_con], axis = 0).drop_duplicates(subset=['ID_TA'], keep='last')"
   ]
  },
  {
   "cell_type": "code",
   "execution_count": 8,
   "metadata": {},
   "outputs": [
    {
     "data": {
      "text/plain": [
       "basic    39963\n",
       "kggl     10000\n",
       "Name: source, dtype: int64"
      ]
     },
     "execution_count": 8,
     "metadata": {},
     "output_type": "execute_result"
    }
   ],
   "source": [
    "# PROD\n",
    "# Проверитьсколько значений осталось из исходного датасета!!!\n",
    "df_basic_kggl.source.value_counts()"
   ]
  },
  {
   "cell_type": "code",
   "execution_count": 9,
   "metadata": {},
   "outputs": [],
   "source": [
    "# PROD\n",
    "df = pd.concat([df_basic_kggl, df_add_con.drop_duplicates(subset = ['ID_TA'], keep='last')], axis = 0).drop_duplicates(subset=['ID_TA'], keep='first')"
   ]
  },
  {
   "cell_type": "code",
   "execution_count": null,
   "metadata": {},
   "outputs": [],
   "source": []
  },
  {
   "cell_type": "code",
   "execution_count": null,
   "metadata": {},
   "outputs": [],
   "source": [
    "# PROD\n",
    "# Проверитьсколько значений осталось из исходного датасета\n",
    "df.source.value_counts()"
   ]
  },
  {
   "cell_type": "code",
   "execution_count": null,
   "metadata": {},
   "outputs": [],
   "source": [
    "# для проверки совпадают ли значений в ссылках URL_TA со значениями ID_TA. Чтобы понять, можно ли удалять дубликаты\n",
    "def real_id(link):\n",
    "    pattern_id=re.compile('d[0-9]+')\n",
    "    return pattern_id.search(link)[0]"
   ]
  },
  {
   "cell_type": "code",
   "execution_count": null,
   "metadata": {},
   "outputs": [],
   "source": []
  },
  {
   "cell_type": "code",
   "execution_count": null,
   "metadata": {
    "scrolled": false
   },
   "outputs": [],
   "source": [
    "df.info()"
   ]
  },
  {
   "cell_type": "code",
   "execution_count": 10,
   "metadata": {},
   "outputs": [],
   "source": [
    "# PROD\n",
    "# В расширенном Датасете df_add оказались пустые значения в отзывах (порядка 8 тысяч). Это ошибка данных, т.к. по данному городу у других ресторанов значения есть\n",
    "df.Reviews.fillna('[[], []]', inplace=True)"
   ]
  },
  {
   "cell_type": "code",
   "execution_count": null,
   "metadata": {},
   "outputs": [],
   "source": [
    "# Достаточно много пропусков. Причем в основном в Датасете _add"
   ]
  },
  {
   "cell_type": "markdown",
   "metadata": {},
   "source": [
    "#### Изучение значений в Датафрейме"
   ]
  },
  {
   "cell_type": "code",
   "execution_count": 11,
   "metadata": {},
   "outputs": [],
   "source": [
    "# PROD\n",
    "df.columns = [ 'city', 'cuisine_style', 'ranking', 'rating',\n",
    "       'price_range', 'number_of_reviews', 'reviews', 'URL_TA', 'ID_TA', 'source', 'restaurant_id']"
   ]
  },
  {
   "cell_type": "code",
   "execution_count": 12,
   "metadata": {},
   "outputs": [],
   "source": [
    "# PROD\n",
    "# Список городов\n",
    "cities = df.city.unique()"
   ]
  },
  {
   "cell_type": "code",
   "execution_count": null,
   "metadata": {},
   "outputs": [],
   "source": []
  },
  {
   "cell_type": "code",
   "execution_count": null,
   "metadata": {},
   "outputs": [],
   "source": []
  },
  {
   "cell_type": "code",
   "execution_count": 13,
   "metadata": {},
   "outputs": [],
   "source": [
    "# PROD\n",
    "# Замена названия города на название в датафрейме по населению\n",
    "cities[5]='Porto'"
   ]
  },
  {
   "cell_type": "code",
   "execution_count": 14,
   "metadata": {},
   "outputs": [],
   "source": [
    "# PROD\n",
    "df.city[df.city == 'Oporto'] = 'Porto'"
   ]
  },
  {
   "cell_type": "markdown",
   "metadata": {},
   "source": [
    "#### Заполянем пропуски с кухнях\n",
    "#### Основная идея - это два пути: попробовать заполнить значением other и самыми популярными кухнями в городе топ-ом среднего кол-ва кухонь в ресторане города"
   ]
  },
  {
   "cell_type": "code",
   "execution_count": 15,
   "metadata": {},
   "outputs": [],
   "source": [
    "# PROD\n",
    "df['cuisine_style_other'] = df['cuisine_style'].fillna('other')"
   ]
  },
  {
   "cell_type": "code",
   "execution_count": 16,
   "metadata": {},
   "outputs": [],
   "source": [
    "# PROD\n",
    "# очищаем строки с наименованиями кухонь, преобразовываем в список\n",
    "df['cuisine_style_other']=df['cuisine_style_other'].str.replace('[','').str.replace(']','').str.replace('''''','').str.split(', ')"
   ]
  },
  {
   "cell_type": "code",
   "execution_count": 17,
   "metadata": {},
   "outputs": [],
   "source": [
    "# PROD\n",
    "def cuisine_to_counter(lst):\n",
    "    cuisine_counter = cl.Counter()\n",
    "    for cuisine in lst:\n",
    "        if cuisine == 'other':\n",
    "            continue\n",
    "        else:\n",
    "            cuisine_counter[cuisine]+=1\n",
    "    return cuisine_counter"
   ]
  },
  {
   "cell_type": "code",
   "execution_count": 18,
   "metadata": {},
   "outputs": [],
   "source": [
    "# PROD\n",
    "df['cuisine_style_counter']=df['cuisine_style_other'].apply(cuisine_to_counter)"
   ]
  },
  {
   "cell_type": "code",
   "execution_count": 19,
   "metadata": {},
   "outputs": [],
   "source": [
    "# PROD\n",
    "# подсчет кол-ва кухонь по типам в городе\n",
    "cuisine_by_city = df.loc[df.cuisine_style.isna()!=True].groupby(['city'])['cuisine_style_counter'].sum()"
   ]
  },
  {
   "cell_type": "code",
   "execution_count": null,
   "metadata": {},
   "outputs": [],
   "source": []
  },
  {
   "cell_type": "code",
   "execution_count": 20,
   "metadata": {},
   "outputs": [],
   "source": [
    "# PROD\n",
    "cuisine_number_in_city = {}\n",
    "for city in set(df.city):\n",
    "    cuisine_number_in_city_params = {}\n",
    "    cuisine_number_in_city_params['mean'] = round(df.loc[(df['city']==city) & (df.cuisine_style.isna()!=True)].cuisine_style_counter.apply(len).mean(), 8)\n",
    "    cuisine_number_in_city_params['med'] = df.loc[(df['city']==city) & (df.cuisine_style.isna()!=True)].cuisine_style_counter.apply(len).median()\n",
    "    cuisine_number_in_city_params['mode'] = df.loc[(df['city']==city) & (df.cuisine_style.isna()!=True)].cuisine_style_counter.apply(len).value_counts().idxmax()\n",
    "    cuisine_number_in_city[city] = cuisine_number_in_city_params\n",
    "    "
   ]
  },
  {
   "cell_type": "code",
   "execution_count": null,
   "metadata": {},
   "outputs": [],
   "source": []
  },
  {
   "cell_type": "code",
   "execution_count": null,
   "metadata": {},
   "outputs": [],
   "source": [
    "# Словарь с мерами среднего по кол-ву кухонь\n",
    "cuisine_number_in_city"
   ]
  },
  {
   "cell_type": "code",
   "execution_count": 21,
   "metadata": {},
   "outputs": [],
   "source": [
    "# PROD\n",
    "stat_list = ['mean', 'med', 'mode']"
   ]
  },
  {
   "cell_type": "code",
   "execution_count": null,
   "metadata": {},
   "outputs": [],
   "source": []
  },
  {
   "cell_type": "code",
   "execution_count": 22,
   "metadata": {},
   "outputs": [],
   "source": [
    "# PROD\n",
    "def cuisine_index_in_city(stat, counter, city):\n",
    "    cuisine_number=int(cuisine_number_in_city[city][stat])\n",
    "    index=0\n",
    "    if len(counter)==0:\n",
    "        for item in cuisine_by_city[city].most_common(cuisine_number):\n",
    "            index+=item[1]\n",
    "        return index\n",
    "    else:\n",
    "        for item in list(counter):\n",
    "            index+=cuisine_by_city[city][item]\n",
    "        return index"
   ]
  },
  {
   "cell_type": "code",
   "execution_count": null,
   "metadata": {},
   "outputs": [],
   "source": []
  },
  {
   "cell_type": "code",
   "execution_count": 23,
   "metadata": {},
   "outputs": [],
   "source": [
    "# PROD\n",
    "# кол-во кухонь в ресторане с вариативностью по статистике\n",
    "def cuisine_number(stat, counter, city):\n",
    "    cuisine_number=(cuisine_number_in_city[city][stat])\n",
    "    if len(counter)==0:\n",
    "        return cuisine_number\n",
    "    else:\n",
    "        return len(counter)"
   ]
  },
  {
   "cell_type": "code",
   "execution_count": null,
   "metadata": {
    "scrolled": false
   },
   "outputs": [],
   "source": []
  },
  {
   "cell_type": "code",
   "execution_count": 24,
   "metadata": {},
   "outputs": [],
   "source": [
    "# PROD\n",
    "# Добавляем колонку с суммарным индексом популярности кухни ресторана в городе\n",
    "for stat in stat_list:\n",
    "    df['cuisine_index_'+stat] = df.apply(lambda x: cuisine_index_in_city(stat, x['cuisine_style_counter'], x['city']), axis = 1)"
   ]
  },
  {
   "cell_type": "code",
   "execution_count": null,
   "metadata": {},
   "outputs": [],
   "source": []
  },
  {
   "cell_type": "code",
   "execution_count": 25,
   "metadata": {},
   "outputs": [],
   "source": [
    "# PROD\n",
    "# Добавляем колонку с кол-вом кухонь в ресторане\n",
    "for stat in stat_list:\n",
    "    df['cuisine_number_'+stat] = df.apply(lambda x: cuisine_number(stat, x['cuisine_style_counter'], x['city']), axis = 1)"
   ]
  },
  {
   "cell_type": "code",
   "execution_count": null,
   "metadata": {},
   "outputs": [],
   "source": []
  },
  {
   "cell_type": "code",
   "execution_count": null,
   "metadata": {},
   "outputs": [],
   "source": []
  },
  {
   "cell_type": "code",
   "execution_count": null,
   "metadata": {},
   "outputs": [],
   "source": [
    "# Нормализация значений суммарного индекса популярности кухонь в городе\n",
    "# По-настоящему Нормализовать в итоге не буду, т.к. RF нечувствителен к нормализации"
   ]
  },
  {
   "cell_type": "code",
   "execution_count": 26,
   "metadata": {},
   "outputs": [],
   "source": [
    "# PROD\n",
    "# словарь с мин и макс значнеиями для нормализации по городу\n",
    "dic_norm_city_cuisine = {}\n",
    "for city in cities:\n",
    "    dic_norm_cuisine_params ={}\n",
    "    for stat in stat_list:\n",
    "        dic_norm_cuisine_params_stat={}\n",
    "        max = df.loc[df.city==city]['cuisine_index_'+stat].max()\n",
    "        min = df.loc[df.city==city]['cuisine_index_'+stat].min()\n",
    "        dic_norm_cuisine_params_stat['max']=max\n",
    "        dic_norm_cuisine_params_stat['min']=min\n",
    "        dic_norm_cuisine_params[stat]=dic_norm_cuisine_params_stat\n",
    "    dic_norm_city_cuisine[city]=dic_norm_cuisine_params"
   ]
  },
  {
   "cell_type": "code",
   "execution_count": null,
   "metadata": {},
   "outputs": [],
   "source": []
  },
  {
   "cell_type": "code",
   "execution_count": 27,
   "metadata": {},
   "outputs": [],
   "source": [
    "# PROD\n",
    "# ручная нормализация\n",
    "def mm_norm_cuisine_in_city(stat, index, city):\n",
    "    #ct = df.loc[df.ID_TA==id]['city'].iloc[0]\n",
    "    #ind = df.loc[df.ID_TA==id]['cuisine_index_mean'].iloc[0]\n",
    "    max = dic_norm_city_cuisine[city][stat]['max']\n",
    "    min = dic_norm_city_cuisine[city][stat]['min']\n",
    "    index_norm = (index - min)/(max-min)\n",
    "    return index_norm"
   ]
  },
  {
   "cell_type": "code",
   "execution_count": null,
   "metadata": {},
   "outputs": [],
   "source": []
  },
  {
   "cell_type": "code",
   "execution_count": 28,
   "metadata": {},
   "outputs": [],
   "source": [
    "# PROD\n",
    "# колонка с нормализованными значениями попоулярности кухни по городу\n",
    "for stat in stat_list:\n",
    "    df['cuisine_index_mmnorm_'+stat]=df.apply(lambda x: mm_norm_cuisine_in_city(stat, x['cuisine_index_'+stat], x['city']), axis = 1)"
   ]
  },
  {
   "cell_type": "code",
   "execution_count": null,
   "metadata": {},
   "outputs": [],
   "source": []
  },
  {
   "cell_type": "code",
   "execution_count": 30,
   "metadata": {},
   "outputs": [],
   "source": [
    "# PROD\n",
    "# признак наличия-отсутстивя описания кухонь\n",
    "df['with_cuisine_list']=df['cuisine_style_other'].apply(lambda x: 0 if x[0]=='other' else 1)"
   ]
  },
  {
   "cell_type": "code",
   "execution_count": null,
   "metadata": {},
   "outputs": [],
   "source": []
  },
  {
   "cell_type": "markdown",
   "metadata": {},
   "source": [
    "#### Обработка Ranking. Основная идея: нормализация внутри города, проверка на выбросы"
   ]
  },
  {
   "cell_type": "code",
   "execution_count": 31,
   "metadata": {
    "scrolled": false
   },
   "outputs": [
    {
     "data": {
      "text/plain": [
       "<matplotlib.axes._subplots.AxesSubplot at 0x1ff33b64a20>"
      ]
     },
     "execution_count": 31,
     "metadata": {},
     "output_type": "execute_result"
    },
    {
     "data": {
      "image/png": "[encoded data removed]",
      "text/plain": [
       "<Figure size 432x288 with 1 Axes>"
      ]
     },
     "metadata": {
      "needs_background": "light"
     },
     "output_type": "display_data"
    }
   ],
   "source": [
    "# PROD\n",
    "df['ranking'].hist(bins=30)"
   ]
  },
  {
   "cell_type": "markdown",
   "metadata": {},
   "source": [
    "##### Выбросов не видно. Все вроде в рамках здравого смысла"
   ]
  },
  {
   "cell_type": "code",
   "execution_count": null,
   "metadata": {},
   "outputs": [],
   "source": [
    "# Предположительно, что у совсем новых ресторанов рейтинг низкий - еще не успел накопиться"
   ]
  },
  {
   "cell_type": "code",
   "execution_count": null,
   "metadata": {},
   "outputs": [],
   "source": [
    "#df[['ranking', 'ranking_mmnorm','ID_TA']].loc[df.ranking<38]\n",
    "# предположение неверное"
   ]
  },
  {
   "cell_type": "code",
   "execution_count": null,
   "metadata": {},
   "outputs": [],
   "source": []
  },
  {
   "cell_type": "code",
   "execution_count": 32,
   "metadata": {},
   "outputs": [],
   "source": [
    "# PROD\n",
    "dic_norm_city_ranking = {}\n",
    "for city in cities:\n",
    "    dic_norm_city_ranking[city]=df.loc[df.city==city]['ranking'].max()"
   ]
  },
  {
   "cell_type": "code",
   "execution_count": 33,
   "metadata": {},
   "outputs": [],
   "source": [
    "# PROD\n",
    "def norm_ranking_in_city(ranking, city):\n",
    "    max = dic_norm_city_ranking[city]\n",
    "    rank_norm = ranking/max\n",
    "    return rank_norm"
   ]
  },
  {
   "cell_type": "code",
   "execution_count": 34,
   "metadata": {},
   "outputs": [],
   "source": [
    "# PROD\n",
    "df['ranking_norm']=df.apply(lambda x: norm_ranking_in_city(x['ranking'], x['city']), axis = 1)"
   ]
  },
  {
   "cell_type": "code",
   "execution_count": null,
   "metadata": {},
   "outputs": [],
   "source": []
  },
  {
   "cell_type": "markdown",
   "metadata": {},
   "source": [
    "###### Здесь было проведено логарифмирование и взятие квадратного корня признаков, но это для RF не должно влиять"
   ]
  },
  {
   "cell_type": "code",
   "execution_count": null,
   "metadata": {},
   "outputs": [],
   "source": []
  },
  {
   "cell_type": "markdown",
   "metadata": {},
   "source": [
    "#### price_range. Основные действия: заполнить пропуски средним, преобразовать в числа, сделать get_dummies"
   ]
  },
  {
   "cell_type": "code",
   "execution_count": 35,
   "metadata": {},
   "outputs": [],
   "source": [
    "# PROD\n",
    "df['price_to_digit'] = df['price_range'].fillna(-1).apply(lambda x: x if x==-1 else 1 if x=='$' else 2 if x.replace(' - ', '-')=='$$-$$$' else 3)"
   ]
  },
  {
   "cell_type": "code",
   "execution_count": null,
   "metadata": {},
   "outputs": [],
   "source": [
    "# возвращает вместо пустых значения статисттику по городу"
   ]
  },
  {
   "cell_type": "code",
   "execution_count": null,
   "metadata": {},
   "outputs": [],
   "source": []
  },
  {
   "cell_type": "code",
   "execution_count": 36,
   "metadata": {},
   "outputs": [],
   "source": [
    "# PROD\n",
    "# Словарь со средними значением цен по городам\n",
    "dic_price_city={}\n",
    "for city in cities:\n",
    "    dic_price_city_stat={}\n",
    "    dic_price_city_stat['mean'] = df.loc[(df.price_to_digit>0) & (df.city==city)]['price_to_digit'].mean()\n",
    "    dic_price_city_stat['med'] = df.loc[(df.price_to_digit>0) & (df.city==city)]['price_to_digit'].median()\n",
    "    dic_price_city_stat['mode'] = df.loc[(df.price_to_digit>0) & (df.city==city)]['price_to_digit'].mode().iloc[0]\n",
    "    dic_price_city[city]=dic_price_city_stat"
   ]
  },
  {
   "cell_type": "code",
   "execution_count": null,
   "metadata": {},
   "outputs": [],
   "source": []
  },
  {
   "cell_type": "code",
   "execution_count": 38,
   "metadata": {},
   "outputs": [],
   "source": [
    "# PROD\n",
    "# возвращает среднее значение по городу по ценовой категории\n",
    "def price_city(stat, city, price):\n",
    "    if price == -1:\n",
    "        return dic_price_city[city][stat]\n",
    "    else:\n",
    "        return price"
   ]
  },
  {
   "cell_type": "code",
   "execution_count": 39,
   "metadata": {},
   "outputs": [],
   "source": [
    "# PROD\n",
    "for stat in stat_list:\n",
    "    df['digit_price_'+stat] = df.apply(lambda x: price_city(stat, x['city'], x['price_to_digit']), axis = 1)"
   ]
  },
  {
   "cell_type": "code",
   "execution_count": 40,
   "metadata": {},
   "outputs": [],
   "source": [
    "# PROD\n",
    "df['with_price'] = df['price_to_digit'].apply(lambda x: 0 if x==-1 else 1)"
   ]
  },
  {
   "cell_type": "code",
   "execution_count": null,
   "metadata": {},
   "outputs": [],
   "source": []
  },
  {
   "cell_type": "markdown",
   "metadata": {},
   "source": [
    "##### Здесь была проверка на выбросы, но для RF это несущественно"
   ]
  },
  {
   "cell_type": "code",
   "execution_count": null,
   "metadata": {
    "scrolled": true
   },
   "outputs": [],
   "source": [
    "    "
   ]
  },
  {
   "cell_type": "code",
   "execution_count": 41,
   "metadata": {},
   "outputs": [],
   "source": [
    "# PROD\n",
    "# признак отсутствия значения кол-ва отзывов\n",
    "df['with_number_of_reviews']=pd.isna(df.number_of_reviews).astype('uint8').apply(lambda x: 0 if x==1 else 1)"
   ]
  },
  {
   "cell_type": "code",
   "execution_count": null,
   "metadata": {},
   "outputs": [],
   "source": []
  },
  {
   "cell_type": "code",
   "execution_count": 42,
   "metadata": {},
   "outputs": [],
   "source": [
    "# PROD\n",
    "dic_number_of_reviews_city={}\n",
    "for city in cities:\n",
    "    dic_number_of_reviews_city_stat={}\n",
    "    dic_number_of_reviews_city_stat['mean'] = df.loc[(df.with_number_of_reviews==1) & (df.city==city)]['number_of_reviews'].mean()\n",
    "    dic_number_of_reviews_city_stat['med'] = df.loc[(df.with_number_of_reviews==1) & (df.city==city)]['number_of_reviews'].median()\n",
    "    dic_number_of_reviews_city_stat['mode'] = df.loc[(df.with_number_of_reviews==1) & (df.city==city)]['number_of_reviews'].mode().iloc[0]\n",
    "    dic_number_of_reviews_city[city]=dic_number_of_reviews_city_stat"
   ]
  },
  {
   "cell_type": "code",
   "execution_count": 43,
   "metadata": {},
   "outputs": [],
   "source": [
    "# PROD\n",
    "# возвращает среднее значение по городу по кол-во отзывов\n",
    "def number_of_reviews_city(stat, city, number, with_number):\n",
    "    if with_number == 0:\n",
    "        return dic_number_of_reviews_city[city][stat]\n",
    "    else:\n",
    "        return number"
   ]
  },
  {
   "cell_type": "code",
   "execution_count": 44,
   "metadata": {},
   "outputs": [],
   "source": [
    "# PROD\n",
    "for stat in stat_list:\n",
    "    df['number_of_reviews_'+stat] = df.apply(lambda x: number_of_reviews_city(stat, x['city'], x['number_of_reviews'], x['with_number_of_reviews']), axis = 1)"
   ]
  },
  {
   "cell_type": "code",
   "execution_count": null,
   "metadata": {},
   "outputs": [],
   "source": []
  },
  {
   "cell_type": "code",
   "execution_count": null,
   "metadata": {},
   "outputs": [],
   "source": []
  },
  {
   "cell_type": "markdown",
   "metadata": {},
   "source": [
    "#### Reviews. Определяем пропуски, признак присутствия значения обоих отзывов, вытащить даты последних двух отзывов, длина отзывов, кол-во дней между последними двумя отзывами,  выбросы, как давно был оставлен последний отзыв. Если только один отзыв, то заполнить расстояние между отызвами средним по городу"
   ]
  },
  {
   "cell_type": "code",
   "execution_count": null,
   "metadata": {},
   "outputs": [],
   "source": []
  },
  {
   "cell_type": "code",
   "execution_count": null,
   "metadata": {},
   "outputs": [],
   "source": [
    "# у каждого ресторана минимум 2 отзыва, поэтому наличие только одного текста и даты отзыва - ошибка в данных. Сразу заменим "
   ]
  },
  {
   "cell_type": "code",
   "execution_count": null,
   "metadata": {},
   "outputs": [],
   "source": []
  },
  {
   "cell_type": "code",
   "execution_count": 45,
   "metadata": {},
   "outputs": [],
   "source": [
    "# PROD\n",
    "def reviews_to_list(string):\n",
    "    return string.replace('[[','').replace(']]','').replace('\\'', '\\\"').split('], [')\n",
    "\n",
    "def reviews_text(string):\n",
    "    return reviews_to_list(string)[0]\n",
    "\n",
    "def reviews_date(string):\n",
    "    return reviews_to_list(string)[1]"
   ]
  },
  {
   "cell_type": "code",
   "execution_count": null,
   "metadata": {},
   "outputs": [],
   "source": []
  },
  {
   "cell_type": "code",
   "execution_count": 46,
   "metadata": {},
   "outputs": [],
   "source": [
    "# PROD\n",
    "df['text_reviews_str']= df.reviews.apply(reviews_text)\n",
    "df['date_reviews_str']= df.reviews.apply(reviews_date)"
   ]
  },
  {
   "cell_type": "code",
   "execution_count": null,
   "metadata": {},
   "outputs": [],
   "source": []
  },
  {
   "cell_type": "code",
   "execution_count": null,
   "metadata": {},
   "outputs": [],
   "source": [
    "# выделяем даты двух последних отзывов"
   ]
  },
  {
   "cell_type": "code",
   "execution_count": 47,
   "metadata": {},
   "outputs": [],
   "source": [
    "# PROD\n",
    "def review_text_to_date(str):\n",
    "    datetext_ls=[]\n",
    "    pattern_date1=re.compile('[0-9]+/[0-9]+/[0-9]+')\n",
    "    pattern_date2=re.compile('[0-9]+\\.[0-9]+\\.[0-9]+')\n",
    "    pattern_date3=re.compile('[0-9]+-[0-9]+-[0-9]+')\n",
    "    if pattern_date1.findall(str) !=[]:\n",
    "        datetext_ls.append(pattern_date1.findall(str))\n",
    "    elif pattern_date2.findall(str) !=[]:\n",
    "        datetext_ls.append(pattern_date2.findall(str))\n",
    "    elif pattern_date3.findall(str) !=[]:\n",
    "        datetext_ls.append(pattern_date3.findall(str))\n",
    "    else:\n",
    "        datetext_ls.append('No date')\n",
    "    return datetext_ls"
   ]
  },
  {
   "cell_type": "code",
   "execution_count": 48,
   "metadata": {},
   "outputs": [],
   "source": [
    "# PROD\n",
    "def format_date_list(ls):\n",
    "    res_ls=[]\n",
    "    string_date=''\n",
    "    for list in ls:\n",
    "        if 'No date' in list:\n",
    "            res_ls.append('No date')\n",
    "            continue\n",
    "        else:\n",
    "            for item in list:\n",
    "                if '.' in item:\n",
    "                    string_date=item.str.replace('.', '/')\n",
    "                    #print(string_date)\n",
    "                    res_ls.append(datetime.strptime(string_date, '%m/%d/%Y').date())\n",
    "                elif '-' in item:\n",
    "                    string_date=item.str.replace('-', '/')\n",
    "                    res_ls.append(datetime.strptime(string_date, '%m/%d/%Y').date())\n",
    "                else:\n",
    "                    res_ls.append(datetime.strptime(item, '%m/%d/%Y').date())\n",
    "    return res_ls"
   ]
  },
  {
   "cell_type": "code",
   "execution_count": 49,
   "metadata": {},
   "outputs": [],
   "source": [
    "# PROD\n",
    "df['reviews_date'] = df['date_reviews_str'].apply(review_text_to_date)"
   ]
  },
  {
   "cell_type": "code",
   "execution_count": 50,
   "metadata": {},
   "outputs": [],
   "source": [
    "# PROD\n",
    "df['date_reviews_date'] = df.reviews_date.apply(format_date_list)"
   ]
  },
  {
   "cell_type": "code",
   "execution_count": 51,
   "metadata": {},
   "outputs": [],
   "source": [
    "# PROD\n",
    "df['with_last_reviews'] = df['date_reviews_date'].apply(lambda x: 0 if x[0]=='No date' else len(x))"
   ]
  },
  {
   "cell_type": "code",
   "execution_count": null,
   "metadata": {},
   "outputs": [],
   "source": []
  },
  {
   "cell_type": "code",
   "execution_count": null,
   "metadata": {},
   "outputs": [],
   "source": []
  },
  {
   "cell_type": "code",
   "execution_count": 52,
   "metadata": {},
   "outputs": [],
   "source": [
    "# PROD\n",
    "# Дней между последними двумя отзывами\n",
    "def interval_days(list):\n",
    "    if len(list)<2:\n",
    "        return -1\n",
    "    else:\n",
    "        return abs((list[0] - list[1]).days)"
   ]
  },
  {
   "cell_type": "code",
   "execution_count": 53,
   "metadata": {},
   "outputs": [],
   "source": [
    "# PROD\n",
    "# месяцев между последними двумя отзывами\n",
    "def interval_month(list):\n",
    "    if len(list)<2:\n",
    "        return -1\n",
    "    else:\n",
    "        return abs((list[0] - list[1]).days)/30.4167"
   ]
  },
  {
   "cell_type": "code",
   "execution_count": null,
   "metadata": {},
   "outputs": [],
   "source": []
  },
  {
   "cell_type": "code",
   "execution_count": 54,
   "metadata": {},
   "outputs": [],
   "source": [
    "# PROD\n",
    "df['days_between_reviews']=df.date_reviews_date.apply(interval_days)"
   ]
  },
  {
   "cell_type": "code",
   "execution_count": 55,
   "metadata": {},
   "outputs": [
    {
     "data": {
      "text/plain": [
       "<matplotlib.axes._subplots.AxesSubplot at 0x1ff3775a5f8>"
      ]
     },
     "execution_count": 55,
     "metadata": {},
     "output_type": "execute_result"
    },
    {
     "data": {
      "image/png": "[encoded data removed]",
      "text/plain": [
       "<Figure size 432x288 with 1 Axes>"
      ]
     },
     "metadata": {
      "needs_background": "light"
     },
     "output_type": "display_data"
    }
   ],
   "source": [
    "df['days_between_reviews'].hist(bins = 100)"
   ]
  },
  {
   "cell_type": "code",
   "execution_count": null,
   "metadata": {},
   "outputs": [],
   "source": []
  },
  {
   "cell_type": "code",
   "execution_count": 56,
   "metadata": {},
   "outputs": [],
   "source": [
    "# PROD\n",
    "df['month_between_reviews']=df.date_reviews_date.apply(interval_month)"
   ]
  },
  {
   "cell_type": "code",
   "execution_count": null,
   "metadata": {},
   "outputs": [],
   "source": [
    "df['month_between_reviews'].hist(bins=100)"
   ]
  },
  {
   "cell_type": "code",
   "execution_count": null,
   "metadata": {},
   "outputs": [],
   "source": []
  },
  {
   "cell_type": "code",
   "execution_count": 57,
   "metadata": {},
   "outputs": [],
   "source": [
    "# PROD\n",
    "dic_days_between_reviews_city={}\n",
    "for city in cities:\n",
    "    dic_days_between_reviews_city_stat = {}\n",
    "    dic_days_between_reviews_city_stat['mean'] = df.loc[(df.with_last_reviews==2) & (df.city==city)]['days_between_reviews'].mean()\n",
    "    dic_days_between_reviews_city_stat['med'] = df.loc[(df.with_last_reviews==2) & (df.city==city)]['days_between_reviews'].median()\n",
    "    dic_days_between_reviews_city_stat['mode'] = df.loc[(df.with_last_reviews==2) & (df.city==city)]['days_between_reviews'].mode().iloc[0]\n",
    "    dic_days_between_reviews_city[city]=dic_days_between_reviews_city_stat"
   ]
  },
  {
   "cell_type": "code",
   "execution_count": 58,
   "metadata": {},
   "outputs": [],
   "source": [
    "# PROD\n",
    "# возвращает статистику по городу по расстоянию в днях между последними двумя отзывами\n",
    "def days_between_reviews_city(stat, city, with_last_reviews, days_between_reviews):\n",
    "    if with_last_reviews < 2:\n",
    "        return dic_days_between_reviews_city[city][stat]\n",
    "    else:\n",
    "        return days_between_reviews"
   ]
  },
  {
   "cell_type": "code",
   "execution_count": 59,
   "metadata": {},
   "outputs": [],
   "source": [
    "# PROD\n",
    "for stat in stat_list:\n",
    "    df['days_between_reviews_'+stat] = df.apply(lambda x: days_between_reviews_city(stat, x.city, x.with_last_reviews, x.days_between_reviews), axis = 1)"
   ]
  },
  {
   "cell_type": "code",
   "execution_count": null,
   "metadata": {},
   "outputs": [],
   "source": []
  },
  {
   "cell_type": "code",
   "execution_count": 60,
   "metadata": {},
   "outputs": [],
   "source": [
    "# PROD\n",
    "dic_month_between_reviews_city={}\n",
    "for city in cities:\n",
    "    dic_month_between_reviews_city_stat = {}\n",
    "    dic_month_between_reviews_city_stat['mean'] = df.loc[(df.with_last_reviews==2) & (df.city==city)]['month_between_reviews'].mean()\n",
    "    dic_month_between_reviews_city_stat['med'] = df.loc[(df.with_last_reviews==2) & (df.city==city)]['month_between_reviews'].median()\n",
    "    dic_month_between_reviews_city_stat['mode'] = df.loc[(df.with_last_reviews==2) & (df.city==city)]['month_between_reviews'].mode().iloc[0]\n",
    "    dic_month_between_reviews_city[city]=dic_month_between_reviews_city_stat"
   ]
  },
  {
   "cell_type": "code",
   "execution_count": 61,
   "metadata": {},
   "outputs": [],
   "source": [
    "# PROD\n",
    "# возвращает статистику значение по городу по расстоянию в месяцах между последними двумя отзывами\n",
    "def month_between_reviews_city(stat, city, with_last_reviews, month_between_reviews):\n",
    "    if with_last_reviews < 2:\n",
    "        return dic_month_between_reviews_city[city][stat]\n",
    "    else:\n",
    "        return month_between_reviews"
   ]
  },
  {
   "cell_type": "code",
   "execution_count": 62,
   "metadata": {},
   "outputs": [],
   "source": [
    "# PROD\n",
    "for stat in stat_list:\n",
    "    df['month_between_reviews_'+stat] = df.apply(lambda x: month_between_reviews_city(stat, x.city, x.with_last_reviews, x.month_between_reviews), axis = 1)"
   ]
  },
  {
   "cell_type": "code",
   "execution_count": 63,
   "metadata": {},
   "outputs": [],
   "source": [
    "# PROD\n",
    "def max_date(lst):\n",
    "    if lst[0]>lst[1]:\n",
    "        return lst[0]\n",
    "    else:\n",
    "        return lst[1]"
   ]
  },
  {
   "cell_type": "code",
   "execution_count": 64,
   "metadata": {},
   "outputs": [],
   "source": [
    "# PROD\n",
    "# Расстояние в днях от даты последнего отзыв до сегодня\n",
    "def days_to_today(list):\n",
    "    if len(list)<2:\n",
    "        return -1\n",
    "    else:\n",
    "        return (datetime.today().date() - max_date(list)).days"
   ]
  },
  {
   "cell_type": "code",
   "execution_count": 65,
   "metadata": {},
   "outputs": [],
   "source": [
    "# PROD\n",
    "df['days_after_last_review']=df.date_reviews_date.apply(days_to_today)"
   ]
  },
  {
   "cell_type": "code",
   "execution_count": null,
   "metadata": {},
   "outputs": [],
   "source": []
  },
  {
   "cell_type": "code",
   "execution_count": 66,
   "metadata": {},
   "outputs": [],
   "source": [
    "# PROD\n",
    "dic_days_after_review_city={}\n",
    "for city in cities:\n",
    "    dic_days_after_review_city_stat = {}\n",
    "    dic_days_after_review_city_stat['mean'] = df.loc[(df.with_last_reviews==2) & (df.city==city)]['days_after_last_review'].mean()\n",
    "    dic_days_after_review_city_stat['med'] = df.loc[(df.with_last_reviews==2) & (df.city==city)]['days_after_last_review'].median()\n",
    "    dic_days_after_review_city_stat['mode'] = df.loc[(df.with_last_reviews==2) & (df.city==city)]['days_after_last_review'].mode().iloc[0]\n",
    "    dic_days_after_review_city[city]=dic_days_after_review_city_stat"
   ]
  },
  {
   "cell_type": "code",
   "execution_count": 67,
   "metadata": {},
   "outputs": [],
   "source": [
    "# PROD\n",
    "# возвращает среднее значение по городу по расстоянию в месяцах между последними двумя отзывами\n",
    "def days_after_review_city(stat, city,with_last_reviews, days_after_last_review):\n",
    "    if with_last_reviews < 2:\n",
    "        return dic_days_after_review_city[city][stat]\n",
    "    else:\n",
    "        return days_after_last_review"
   ]
  },
  {
   "cell_type": "code",
   "execution_count": 68,
   "metadata": {
    "scrolled": true
   },
   "outputs": [],
   "source": [
    "# PROD\n",
    "for stat in stat_list:\n",
    "    df['days_after_review_'+stat] = df.apply(lambda x: days_after_review_city(stat, x.city, x.with_last_reviews, x.days_after_last_review), axis = 1)"
   ]
  },
  {
   "cell_type": "code",
   "execution_count": null,
   "metadata": {},
   "outputs": [],
   "source": []
  },
  {
   "cell_type": "code",
   "execution_count": 69,
   "metadata": {},
   "outputs": [],
   "source": [
    "# PROD\n",
    "# Добавляем признаки глобально по всему датасету, а не по городу\n",
    "dic_days_after_review_global={}\n",
    "for stat in stat_list:\n",
    "    dic_days_after_review_global['mean'] = df.loc[(df.with_last_reviews==2)]['days_after_last_review'].mean()\n",
    "    dic_days_after_review_global['med'] = df.loc[(df.with_last_reviews==2)]['days_after_last_review'].median()\n",
    "    dic_days_after_review_global['mode'] = df.loc[(df.with_last_reviews==2)]['days_after_last_review'].mode().iloc[0]"
   ]
  },
  {
   "cell_type": "code",
   "execution_count": 70,
   "metadata": {},
   "outputs": [],
   "source": [
    "# PROD\n",
    "def days_after_review_global(stat, with_last_reviews, days_after_last_review):\n",
    "    if with_last_reviews < 2:\n",
    "        return dic_days_after_review_global[stat]\n",
    "    else:\n",
    "        return days_after_last_review"
   ]
  },
  {
   "cell_type": "code",
   "execution_count": 71,
   "metadata": {},
   "outputs": [],
   "source": [
    "# PROD\n",
    "for stat in stat_list:\n",
    "    df['days_after_review_global_'+stat] = df.apply(lambda x: days_after_review_global(stat, x.with_last_reviews, x.days_after_last_review), axis = 1)"
   ]
  },
  {
   "cell_type": "code",
   "execution_count": null,
   "metadata": {},
   "outputs": [],
   "source": []
  },
  {
   "cell_type": "code",
   "execution_count": 72,
   "metadata": {},
   "outputs": [],
   "source": [
    "# PROD\n",
    "# Расстояние в днях от даты последнего отзыв до сегодня\n",
    "def month_to_today(list):\n",
    "    if len(list)<2:\n",
    "        return -1\n",
    "    else:\n",
    "        return ((datetime.today().date() - max_date(list)).days)/30.4167"
   ]
  },
  {
   "cell_type": "code",
   "execution_count": 73,
   "metadata": {},
   "outputs": [],
   "source": [
    "# PROD\n",
    "df['month_after_last_review']=df.date_reviews_date.apply(month_to_today)"
   ]
  },
  {
   "cell_type": "code",
   "execution_count": 74,
   "metadata": {},
   "outputs": [],
   "source": [
    "# PROD\n",
    "dic_month_after_review_city={}\n",
    "for city in cities:\n",
    "    dic_month_after_review_city_stat = {}\n",
    "    dic_month_after_review_city_stat['mean'] = df.loc[(df.with_last_reviews==2) & (df.city==city)]['month_after_last_review'].mean()\n",
    "    dic_month_after_review_city_stat['med'] = df.loc[(df.with_last_reviews==2) & (df.city==city)]['month_after_last_review'].median()\n",
    "    dic_month_after_review_city_stat['mode'] = df.loc[(df.with_last_reviews==2) & (df.city==city)]['month_after_last_review'].mode().iloc[0]\n",
    "    dic_month_after_review_city[city]=dic_month_after_review_city_stat"
   ]
  },
  {
   "cell_type": "code",
   "execution_count": 75,
   "metadata": {},
   "outputs": [],
   "source": [
    "# PROD\n",
    "# возвращает среднее значение по городу по расстоянию в месяцах между последними двумя отзывами\n",
    "def month_after_review_city(stat, city, with_last_reviews, month_after_last_review):\n",
    "    if with_last_reviews < 2:\n",
    "        return dic_month_after_review_city[city][stat]\n",
    "    else:\n",
    "        return month_after_last_review"
   ]
  },
  {
   "cell_type": "code",
   "execution_count": 76,
   "metadata": {},
   "outputs": [],
   "source": [
    "# PROD\n",
    "for stat in stat_list:\n",
    "    df['month_after_last_review_'+stat] = df.apply(lambda x: month_after_review_city(stat, x.city, x.with_last_reviews, x.month_after_last_review), axis = 1)"
   ]
  },
  {
   "cell_type": "code",
   "execution_count": null,
   "metadata": {},
   "outputs": [],
   "source": []
  },
  {
   "cell_type": "code",
   "execution_count": null,
   "metadata": {},
   "outputs": [],
   "source": []
  },
  {
   "cell_type": "code",
   "execution_count": 77,
   "metadata": {},
   "outputs": [],
   "source": [
    "# PROD\n",
    "# Добавляем признаки глобально по всему датасету, а не по городу\n",
    "dic_month_after_review_global={}\n",
    "for stat in stat_list:\n",
    "    dic_month_after_review_global['mean'] = df.loc[(df.with_last_reviews==2)]['month_after_last_review'].mean()\n",
    "    dic_month_after_review_global['med'] = df.loc[(df.with_last_reviews==2)]['month_after_last_review'].median()\n",
    "    dic_month_after_review_global['mode'] = df.loc[(df.with_last_reviews==2)]['month_after_last_review'].mode().iloc[0]"
   ]
  },
  {
   "cell_type": "code",
   "execution_count": 78,
   "metadata": {},
   "outputs": [],
   "source": [
    "# PROD\n",
    "def month_after_review_global(stat, with_last_reviews, month_after_last_review):\n",
    "    if with_last_reviews < 2:\n",
    "        return dic_month_after_review_global[stat]\n",
    "    else:\n",
    "        return month_after_last_review"
   ]
  },
  {
   "cell_type": "code",
   "execution_count": 79,
   "metadata": {},
   "outputs": [],
   "source": [
    "# PROD\n",
    "for stat in stat_list:\n",
    "    df['month_after_last_review_global_'+stat] = df.apply(lambda x: month_after_review_global(stat, x.with_last_reviews, x.month_after_last_review), axis = 1)"
   ]
  },
  {
   "cell_type": "code",
   "execution_count": null,
   "metadata": {},
   "outputs": [],
   "source": []
  },
  {
   "cell_type": "markdown",
   "metadata": {},
   "source": [
    "#### City. Обогащение признаком столичности. Обогащение кол-вом населения"
   ]
  },
  {
   "cell_type": "code",
   "execution_count": 80,
   "metadata": {},
   "outputs": [],
   "source": [
    "# PROD\n",
    "dic_number_of_restaurants_by_city={}\n",
    "for city in cities:\n",
    "    dic_number_of_restaurants_by_city[city]=df.ranking.loc[df.city == city].max()"
   ]
  },
  {
   "cell_type": "code",
   "execution_count": null,
   "metadata": {},
   "outputs": [],
   "source": []
  },
  {
   "cell_type": "code",
   "execution_count": 81,
   "metadata": {},
   "outputs": [],
   "source": [
    "# PROD\n",
    "# Признак кол-во ресторанов на человека начеления\n",
    "df['number_of_restaurants_per_man'] = df.city.apply(lambda x: dic_number_of_restaurants_by_city[x])"
   ]
  },
  {
   "cell_type": "code",
   "execution_count": null,
   "metadata": {},
   "outputs": [],
   "source": []
  },
  {
   "cell_type": "code",
   "execution_count": 82,
   "metadata": {},
   "outputs": [],
   "source": [
    "# PROD\n",
    "dic_cities = {}\n",
    "for city in cities:\n",
    "    city_info={}\n",
    "    info = df_cities[['population', 'capital']].loc[(df_cities.city_ascii==city)&(df_cities.country != 'United States')&(df_cities.country != 'Canada')&(df_cities.country != 'Venezuela')]\n",
    "    if len(info) == 0:\n",
    "        continue\n",
    "    else:\n",
    "        city_info['population'] = info.population.iloc[0]\n",
    "        city_info['is_capital'] = info.capital.iloc[0]\n",
    "    dic_cities[city] = city_info"
   ]
  },
  {
   "cell_type": "code",
   "execution_count": 83,
   "metadata": {},
   "outputs": [],
   "source": [
    "# PROD\n",
    "# Не хватает города Порту\n",
    "df_cities[df_cities.city_ascii=='Porto']\n",
    "dic_cities['Oporto']={'population': 1337000.0, 'is_capital':'admin'}"
   ]
  },
  {
   "cell_type": "code",
   "execution_count": 84,
   "metadata": {},
   "outputs": [],
   "source": [
    "# PROD\n",
    "# Признак столица/не столица\n",
    "df['is_capital'] = df.city.apply(lambda x: 1 if dic_cities[x]['is_capital'] == 'primary' else 0)"
   ]
  },
  {
   "cell_type": "code",
   "execution_count": null,
   "metadata": {},
   "outputs": [],
   "source": []
  },
  {
   "cell_type": "code",
   "execution_count": 85,
   "metadata": {},
   "outputs": [],
   "source": [
    "# PROD\n",
    "# Возвращает кол-во отзывов на одного человека населения города\n",
    "def reviews_by_population(city, number_of_reviews):\n",
    "    return number_of_reviews/dic_cities[city]['population']"
   ]
  },
  {
   "cell_type": "code",
   "execution_count": 86,
   "metadata": {},
   "outputs": [],
   "source": [
    "# PROD\n",
    "for stat in stat_list:\n",
    "    df['reviews_by_population_'+stat] = df.apply(lambda x: reviews_by_population(x['city'], x['number_of_reviews_'+stat]), axis = 1)"
   ]
  },
  {
   "cell_type": "code",
   "execution_count": null,
   "metadata": {},
   "outputs": [],
   "source": []
  },
  {
   "cell_type": "code",
   "execution_count": 87,
   "metadata": {},
   "outputs": [],
   "source": [
    "# PROD\n",
    "# Возвращает относительный Ranking в зависимости от численности населения\n",
    "def ranking_by_population(city, ranking):\n",
    "    return ranking/dic_cities[city]['population']"
   ]
  },
  {
   "cell_type": "code",
   "execution_count": 88,
   "metadata": {},
   "outputs": [],
   "source": [
    "# PROD\n",
    "df['ranking_by_population'] = df[['city', 'ranking']].apply(lambda x: ranking_by_population(x.city, x.ranking), axis = 1)"
   ]
  },
  {
   "cell_type": "code",
   "execution_count": null,
   "metadata": {},
   "outputs": [],
   "source": []
  },
  {
   "cell_type": "code",
   "execution_count": 89,
   "metadata": {},
   "outputs": [],
   "source": [
    "# PROD\n",
    "# Возвращает относительный Ranking_mmnorm в зависимости от численности населения\n",
    "def ranking_norm_by_population(city, ranking_norm):\n",
    "    return ranking_norm/dic_cities[city]['population']"
   ]
  },
  {
   "cell_type": "code",
   "execution_count": 90,
   "metadata": {},
   "outputs": [],
   "source": [
    "# PROD\n",
    "df['ranking_norm_by_population'] = df[['city', 'ranking_norm']].apply(lambda x: ranking_norm_by_population(x.city, x.ranking_norm), axis = 1)"
   ]
  },
  {
   "cell_type": "code",
   "execution_count": null,
   "metadata": {},
   "outputs": [],
   "source": []
  },
  {
   "cell_type": "code",
   "execution_count": 91,
   "metadata": {},
   "outputs": [],
   "source": [
    "# PROD\n",
    "df['population'] = df.city.apply(lambda x: dic_cities[x]['population'])"
   ]
  },
  {
   "cell_type": "code",
   "execution_count": null,
   "metadata": {},
   "outputs": [],
   "source": []
  },
  {
   "cell_type": "markdown",
   "metadata": {},
   "source": [
    "### Матрица корреляций"
   ]
  },
  {
   "cell_type": "code",
   "execution_count": null,
   "metadata": {},
   "outputs": [],
   "source": [
    "df.corr()"
   ]
  },
  {
   "cell_type": "code",
   "execution_count": null,
   "metadata": {},
   "outputs": [],
   "source": []
  },
  {
   "cell_type": "code",
   "execution_count": null,
   "metadata": {
    "scrolled": true
   },
   "outputs": [],
   "source": [
    "corr = df.corr()\n",
    "cmap = sns.diverging_palette(5, 250, as_cmap=True)\n",
    "\n",
    "def magnify():\n",
    "    return [dict(selector=\"th\",\n",
    "                 props=[(\"font-size\", \"7pt\")]),\n",
    "            dict(selector=\"td\",\n",
    "                 props=[('padding', \"0em 0em\")]),\n",
    "            dict(selector=\"th:hover\",\n",
    "                 props=[(\"font-size\", \"12pt\")]),\n",
    "            dict(selector=\"tr:hover td:hover\",\n",
    "                 props=[('max-width', '200px'),\n",
    "                        ('font-size', '12pt')])\n",
    "]\n",
    "\n",
    "corr.style.background_gradient(cmap, axis=1)\\\n",
    "    .set_properties(**{'max-width': '80px', 'font-size': '10pt'})\\\n",
    "    .set_caption(\"Hover to magify\")\\\n",
    "    .set_precision(2)\\\n",
    "    .set_table_styles(magnify())"
   ]
  },
  {
   "cell_type": "code",
   "execution_count": null,
   "metadata": {},
   "outputs": [],
   "source": [
    "# Здесь видна линейная взаимосвязь между признаками, на ее основе можно сделать определенные предположения о причинах связи признаков. Но пытаться однозначно определить взаимосвязь с Рейтингом опасно\n",
    "# Т.к. для RF линейная зависимость не так важна\n",
    "# Матрица была использована для генерации новых признаков (микс связанных линейно признаков)]]"
   ]
  },
  {
   "cell_type": "code",
   "execution_count": null,
   "metadata": {},
   "outputs": [],
   "source": []
  },
  {
   "cell_type": "markdown",
   "metadata": {},
   "source": [
    "#### Dummy- переменные: ценовые категории, города"
   ]
  },
  {
   "cell_type": "code",
   "execution_count": null,
   "metadata": {},
   "outputs": [],
   "source": [
    "# df1 - без dummy по городу"
   ]
  },
  {
   "cell_type": "code",
   "execution_count": 92,
   "metadata": {},
   "outputs": [],
   "source": [
    "# PROD\n",
    "dummy_city = pd.get_dummies(df['city'])\n",
    "df = pd.concat([df,dummy_city],axis = 1)"
   ]
  },
  {
   "cell_type": "code",
   "execution_count": null,
   "metadata": {},
   "outputs": [],
   "source": []
  },
  {
   "cell_type": "code",
   "execution_count": null,
   "metadata": {},
   "outputs": [],
   "source": [
    "# PROD\n",
    "# Резервная копия\n",
    "df1=df.copy(deep=True)"
   ]
  },
  {
   "cell_type": "code",
   "execution_count": null,
   "metadata": {},
   "outputs": [],
   "source": []
  },
  {
   "cell_type": "code",
   "execution_count": null,
   "metadata": {},
   "outputs": [],
   "source": [
    "columns_list = list(df.columns)"
   ]
  },
  {
   "cell_type": "code",
   "execution_count": null,
   "metadata": {},
   "outputs": [],
   "source": []
  },
  {
   "cell_type": "code",
   "execution_count": 230,
   "metadata": {},
   "outputs": [],
   "source": [
    "column_list_for_delete1 = ['ranking',\n",
    "'city',\n",
    " 'cuisine_style',\n",
    " 'price_range',\n",
    " 'number_of_reviews',\n",
    " 'reviews',\n",
    " 'URL_TA',\n",
    " 'ID_TA',\n",
    " 'cuisine_style_other',\n",
    " 'cuisine_style_counter',\n",
    " 'price_to_digit',\n",
    " 'text_reviews_str',\n",
    " 'date_reviews_str',\n",
    " 'reviews_date',\n",
    " 'date_reviews_date',\n",
    " 'days_between_reviews',\n",
    " 'month_between_reviews',\n",
    " 'days_after_last_review',\n",
    " 'month_after_last_review',\n",
    "'cuisine_index_mmnorm_mean',\n",
    "'cuisine_index_mmnorm_med',\n",
    "'cuisine_index_mmnorm_mode']"
   ]
  },
  {
   "cell_type": "code",
   "execution_count": 94,
   "metadata": {},
   "outputs": [],
   "source": [
    "# Резервная копия\n",
    "df_copy = df.copy(deep=True)"
   ]
  },
  {
   "cell_type": "code",
   "execution_count": null,
   "metadata": {},
   "outputs": [],
   "source": []
  },
  {
   "cell_type": "code",
   "execution_count": 231,
   "metadata": {},
   "outputs": [],
   "source": [
    "# df=df_copy.copy(deep=True)"
   ]
  },
  {
   "cell_type": "code",
   "execution_count": null,
   "metadata": {},
   "outputs": [],
   "source": []
  },
  {
   "cell_type": "markdown",
   "metadata": {},
   "source": [
    "# Удаление колонок"
   ]
  },
  {
   "cell_type": "code",
   "execution_count": 232,
   "metadata": {},
   "outputs": [],
   "source": [
    "df.drop(column_list_for_delete1, axis=1, inplace=True)"
   ]
  },
  {
   "cell_type": "code",
   "execution_count": 212,
   "metadata": {},
   "outputs": [
    {
     "data": {
      "text/plain": [
       "add      65625\n",
       "basic    39963\n",
       "kggl     10000\n",
       "Name: source, dtype: int64"
      ]
     },
     "execution_count": 212,
     "metadata": {},
     "output_type": "execute_result"
    }
   ],
   "source": [
    "df.source.value_counts()"
   ]
  },
  {
   "cell_type": "code",
   "execution_count": null,
   "metadata": {},
   "outputs": [],
   "source": []
  },
  {
   "cell_type": "code",
   "execution_count": null,
   "metadata": {},
   "outputs": [],
   "source": [
    "# PROD"
   ]
  },
  {
   "cell_type": "code",
   "execution_count": 233,
   "metadata": {},
   "outputs": [],
   "source": [
    "df_kaggle = df[df.source == 'kggl'].copy(deep=True)"
   ]
  },
  {
   "cell_type": "code",
   "execution_count": 234,
   "metadata": {},
   "outputs": [
    {
     "data": {
      "text/plain": [
       "kggl    10000\n",
       "Name: source, dtype: int64"
      ]
     },
     "execution_count": 234,
     "metadata": {},
     "output_type": "execute_result"
    }
   ],
   "source": [
    "df[df.source == 'kggl'].source.value_counts()"
   ]
  },
  {
   "cell_type": "code",
   "execution_count": 117,
   "metadata": {},
   "outputs": [],
   "source": []
  },
  {
   "cell_type": "code",
   "execution_count": 235,
   "metadata": {},
   "outputs": [],
   "source": [
    "df = df[df.source != 'kggl'].copy(deep=True)"
   ]
  },
  {
   "cell_type": "code",
   "execution_count": null,
   "metadata": {},
   "outputs": [],
   "source": []
  },
  {
   "cell_type": "code",
   "execution_count": 236,
   "metadata": {},
   "outputs": [],
   "source": [
    "df.drop(['source', 'restaurant_id'], axis = 1, inplace = True)"
   ]
  },
  {
   "cell_type": "code",
   "execution_count": 253,
   "metadata": {},
   "outputs": [],
   "source": [
    "df_kaggle.drop(['source'], axis = 1, inplace = True)"
   ]
  },
  {
   "cell_type": "code",
   "execution_count": null,
   "metadata": {},
   "outputs": [],
   "source": [
    "# Определяем, сколько комбинаций будет, когда замиксуем все статистические колонки и норм/ненорм колонки\n",
    "# От идеи отказался, т.к. комбинаций 300к+\n",
    "#count = 0\n",
    "#for list in it.product(*list_of_list):\n",
    "#    count+=1"
   ]
  },
  {
   "cell_type": "code",
   "execution_count": null,
   "metadata": {},
   "outputs": [],
   "source": [
    "#(it.product(*list_of_list))\n",
    "#[reviews_by_population_columns, after_last_review_columns, number_of_reviews_columns]"
   ]
  },
  {
   "cell_type": "code",
   "execution_count": null,
   "metadata": {},
   "outputs": [],
   "source": []
  },
  {
   "cell_type": "code",
   "execution_count": 237,
   "metadata": {
    "scrolled": true
   },
   "outputs": [],
   "source": [
    "# PROD\n",
    "full_columns_list = df.columns"
   ]
  },
  {
   "cell_type": "code",
   "execution_count": 238,
   "metadata": {},
   "outputs": [],
   "source": [
    "# Коллонки со статистиками\n",
    "list_mean = []\n",
    "list_med = []\n",
    "list_mode = []"
   ]
  },
  {
   "cell_type": "code",
   "execution_count": 239,
   "metadata": {},
   "outputs": [],
   "source": [
    "# PROD\n",
    "def col_list(stat1, stat2):\n",
    "    list = []\n",
    "    for col in full_columns_list:\n",
    "        if (stat1 not in col) &(stat2 not in col) :\n",
    "            list.append(col)\n",
    "    return list"
   ]
  },
  {
   "cell_type": "code",
   "execution_count": 240,
   "metadata": {},
   "outputs": [],
   "source": [
    "list_mean = col_list('med', 'mode')\n",
    "list_med = col_list('mean', 'mode')\n",
    "list_mode = col_list('med', 'mean')"
   ]
  },
  {
   "cell_type": "code",
   "execution_count": 241,
   "metadata": {},
   "outputs": [],
   "source": [
    "df_mean = df[list_mean]"
   ]
  },
  {
   "cell_type": "code",
   "execution_count": 242,
   "metadata": {},
   "outputs": [],
   "source": [
    "df_med = df[list_med]"
   ]
  },
  {
   "cell_type": "code",
   "execution_count": 243,
   "metadata": {},
   "outputs": [],
   "source": [
    "df_mode = df[list_mode]"
   ]
  },
  {
   "cell_type": "code",
   "execution_count": 254,
   "metadata": {},
   "outputs": [],
   "source": [
    "df_kaggle_mean = df_kaggle[list_mean]"
   ]
  },
  {
   "cell_type": "markdown",
   "metadata": {},
   "source": [
    "# Фиксируем RANDOM_SEED для воспроизводимости"
   ]
  },
  {
   "cell_type": "code",
   "execution_count": 130,
   "metadata": {},
   "outputs": [],
   "source": [
    "RS1=42"
   ]
  },
  {
   "cell_type": "code",
   "execution_count": null,
   "metadata": {},
   "outputs": [],
   "source": []
  },
  {
   "cell_type": "markdown",
   "metadata": {},
   "source": [
    "# Разбиваем датафрейм на части, необходимые для обучения и тестирования модели"
   ]
  },
  {
   "cell_type": "code",
   "execution_count": 244,
   "metadata": {},
   "outputs": [],
   "source": [
    "# Х - данные с информацией о ресторанах, у - целевая переменная (рейтинги ресторанов)\n",
    "X = df_mean.drop(['rating'], axis = 1)\n",
    "y = df_mean['rating']"
   ]
  },
  {
   "cell_type": "code",
   "execution_count": null,
   "metadata": {},
   "outputs": [],
   "source": [
    "#X.info()"
   ]
  },
  {
   "cell_type": "code",
   "execution_count": 133,
   "metadata": {},
   "outputs": [],
   "source": [
    "# Загружаем специальный инструмент для разбивки:\n",
    "from sklearn.model_selection import train_test_split"
   ]
  },
  {
   "cell_type": "code",
   "execution_count": 245,
   "metadata": {},
   "outputs": [],
   "source": [
    "# Наборы данных с меткой \"train\" будут использоваться для обучения модели, \"test\" - для тестирования.\n",
    "# Для тестирования мы будем использовать 20% от исходного датасета.\n",
    "X_train, X_test, y_train, y_test = train_test_split(X, y, test_size=0.2)"
   ]
  },
  {
   "cell_type": "markdown",
   "metadata": {},
   "source": [
    "# Создаём, обучаем и тестируем модель"
   ]
  },
  {
   "cell_type": "code",
   "execution_count": 135,
   "metadata": {},
   "outputs": [],
   "source": [
    "# Импортируем необходимые библиотеки:\n",
    "from sklearn.ensemble import RandomForestRegressor # инструмент для создания и обучения модели\n",
    "from sklearn import metrics # инструменты для оценки точности модели"
   ]
  },
  {
   "cell_type": "code",
   "execution_count": 246,
   "metadata": {},
   "outputs": [],
   "source": [
    "# Создаём модель\n",
    "regr = RandomForestRegressor(n_estimators=100, random_state=RS1)\n",
    "\n",
    "# Обучаем модель на тестовом наборе данных\n",
    "regr.fit(X_train, y_train)\n",
    "\n",
    "# Используем обученную модель для предсказания рейтинга ресторанов в тестовой выборке.\n",
    "# Предсказанные значения записываем в переменную y_pred\n",
    "y_pred = regr.predict(X_test)"
   ]
  },
  {
   "cell_type": "code",
   "execution_count": null,
   "metadata": {},
   "outputs": [],
   "source": []
  },
  {
   "cell_type": "code",
   "execution_count": 203,
   "metadata": {},
   "outputs": [],
   "source": [
    "# Округление выдачи модели - повышает качество"
   ]
  },
  {
   "cell_type": "code",
   "execution_count": 140,
   "metadata": {},
   "outputs": [],
   "source": [
    "def y_round(val):\n",
    "    if val%1<0.25:\n",
    "        return val//1\n",
    "    elif val%1<0.75:\n",
    "        return (val//1+0.5)\n",
    "    else:\n",
    "        return (val//1+1)"
   ]
  },
  {
   "cell_type": "code",
   "execution_count": 247,
   "metadata": {},
   "outputs": [],
   "source": [
    "y_pred_ser=pd.Series(y_pred)"
   ]
  },
  {
   "cell_type": "code",
   "execution_count": 248,
   "metadata": {},
   "outputs": [],
   "source": [
    "y_pred_ser_round = y_pred_ser.apply(y_round)"
   ]
  },
  {
   "cell_type": "markdown",
   "metadata": {},
   "source": [
    "### попробовать с округлением результатов работы модели и без"
   ]
  },
  {
   "cell_type": "code",
   "execution_count": 189,
   "metadata": {},
   "outputs": [
    {
     "name": "stdout",
     "output_type": "stream",
     "text": [
      "MAE: 0.19644947438204374\n"
     ]
    }
   ],
   "source": [
    "# Сравниваем предсказанные значения (y_pred) с реальными (y_test), и смотрим насколько они в среднем отличаются\n",
    "# Метрика называется Mean Absolute Error (MAE) и показывает среднее отклонение предсказанных значений от фактических.\n",
    "print('MAE:', metrics.mean_absolute_error(y_test, y_pred))"
   ]
  },
  {
   "cell_type": "code",
   "execution_count": 249,
   "metadata": {},
   "outputs": [
    {
     "name": "stdout",
     "output_type": "stream",
     "text": [
      "MAE: 0.16587745051614736\n"
     ]
    }
   ],
   "source": [
    "print('MAE:', metrics.mean_absolute_error(y_test, y_pred_ser_round))"
   ]
  },
  {
   "cell_type": "markdown",
   "metadata": {},
   "source": [
    "#### из статистических колонок mean дает наилучший результат (было 9 колонок, у которых были те или иные варианты со статистикой и нормализацией)"
   ]
  },
  {
   "cell_type": "code",
   "execution_count": 252,
   "metadata": {},
   "outputs": [
    {
     "data": {
      "text/plain": [
       "<matplotlib.axes._subplots.AxesSubplot at 0x1ff3efa4048>"
      ]
     },
     "execution_count": 252,
     "metadata": {},
     "output_type": "execute_result"
    },
    {
     "data": {
      "image/png": "[encoded data removed]",
      "text/plain": [
       "<Figure size 720x720 with 1 Axes>"
      ]
     },
     "metadata": {
      "needs_background": "light"
     },
     "output_type": "display_data"
    }
   ],
   "source": [
    "# в RandomForestRegressor есть возможность вывести самые важные признаки для модели\n",
    "plt.rcParams['figure.figsize'] = (10,10)\n",
    "feat_importances = pd.Series(regr.feature_importances_, index=X.columns)\n",
    "feat_importances.nlargest(25).plot(kind='barh')"
   ]
  },
  {
   "cell_type": "markdown",
   "metadata": {},
   "source": [
    "#### Удаление признаков месяцев иежду отзывами и дней с последнего отзыва не привело к повышению точности модели:("
   ]
  },
  {
   "cell_type": "markdown",
   "metadata": {},
   "source": [
    "### Submission"
   ]
  },
  {
   "cell_type": "code",
   "execution_count": 255,
   "metadata": {},
   "outputs": [],
   "source": [
    "X_test_data = df_kaggle_mean.drop(['rating'], axis = 1)"
   ]
  },
  {
   "cell_type": "code",
   "execution_count": null,
   "metadata": {},
   "outputs": [],
   "source": []
  },
  {
   "cell_type": "code",
   "execution_count": 256,
   "metadata": {},
   "outputs": [],
   "source": [
    "predict_submission = regr.predict(X_test_data)"
   ]
  },
  {
   "cell_type": "code",
   "execution_count": 258,
   "metadata": {},
   "outputs": [],
   "source": [
    "predict_submission_ser=pd.Series(predict_submission)"
   ]
  },
  {
   "cell_type": "code",
   "execution_count": 271,
   "metadata": {},
   "outputs": [],
   "source": [
    "predict_submission_ser_round = predict_submission_ser.apply(y_round)"
   ]
  },
  {
   "cell_type": "code",
   "execution_count": null,
   "metadata": {},
   "outputs": [],
   "source": []
  },
  {
   "cell_type": "code",
   "execution_count": 267,
   "metadata": {},
   "outputs": [],
   "source": [
    "submission=pd.DataFrame()"
   ]
  },
  {
   "cell_type": "code",
   "execution_count": 268,
   "metadata": {},
   "outputs": [],
   "source": [
    "submission['Restaurant_id'] = df_kggl['Restaurant_id']"
   ]
  },
  {
   "cell_type": "code",
   "execution_count": 272,
   "metadata": {},
   "outputs": [],
   "source": [
    "submission['Rating'] = predict_submission_ser_round"
   ]
  },
  {
   "cell_type": "code",
   "execution_count": null,
   "metadata": {},
   "outputs": [],
   "source": []
  },
  {
   "cell_type": "code",
   "execution_count": 274,
   "metadata": {},
   "outputs": [
    {
     "data": {
      "text/html": [
       "<div>\n",
       "<style scoped>\n",
       "    .dataframe tbody tr th:only-of-type {\n",
       "        vertical-align: middle;\n",
       "    }\n",
       "\n",
       "    .dataframe tbody tr th {\n",
       "        vertical-align: top;\n",
       "    }\n",
       "\n",
       "    .dataframe thead th {\n",
       "        text-align: right;\n",
       "    }\n",
       "</style>\n",
       "<table border=\"1\" class=\"dataframe\">\n",
       "  <thead>\n",
       "    <tr style=\"text-align: right;\">\n",
       "      <th></th>\n",
       "      <th>Restaurant_id</th>\n",
       "      <th>Rating</th>\n",
       "    </tr>\n",
       "  </thead>\n",
       "  <tbody>\n",
       "    <tr>\n",
       "      <th>0</th>\n",
       "      <td>id_0</td>\n",
       "      <td>3.5</td>\n",
       "    </tr>\n",
       "    <tr>\n",
       "      <th>1</th>\n",
       "      <td>id_1</td>\n",
       "      <td>4.0</td>\n",
       "    </tr>\n",
       "    <tr>\n",
       "      <th>2</th>\n",
       "      <td>id_2</td>\n",
       "      <td>4.5</td>\n",
       "    </tr>\n",
       "    <tr>\n",
       "      <th>3</th>\n",
       "      <td>id_3</td>\n",
       "      <td>4.5</td>\n",
       "    </tr>\n",
       "    <tr>\n",
       "      <th>4</th>\n",
       "      <td>id_4</td>\n",
       "      <td>4.5</td>\n",
       "    </tr>\n",
       "  </tbody>\n",
       "</table>\n",
       "</div>"
      ],
      "text/plain": [
       "  Restaurant_id  Rating\n",
       "0          id_0     3.5\n",
       "1          id_1     4.0\n",
       "2          id_2     4.5\n",
       "3          id_3     4.5\n",
       "4          id_4     4.5"
      ]
     },
     "execution_count": 274,
     "metadata": {},
     "output_type": "execute_result"
    }
   ],
   "source": [
    "submission.to_csv('submission.csv', index=False)\n",
    "submission.head()"
   ]
  },
  {
   "cell_type": "code",
   "execution_count": null,
   "metadata": {},
   "outputs": [],
   "source": []
  }
 ],
 "metadata": {
  "kernelspec": {
   "display_name": "Python 3",
   "language": "python",
   "name": "python3"
  },
  "language_info": {
   "codemirror_mode": {
    "name": "ipython",
    "version": 3
   },
   "file_extension": ".py",
   "mimetype": "text/x-python",
   "name": "python",
   "nbconvert_exporter": "python",
   "pygments_lexer": "ipython3",
   "version": "3.7.3"
  }
 },
 "nbformat": 4,
 "nbformat_minor": 2
}
