{
 "cells": [
  {
   "cell_type": "code",
   "execution_count": 1,
   "metadata": {
    "_cell_guid": "b1076dfc-b9ad-4769-8c92-a6c4dae69d19",
    "_uuid": "8f2839f25d086af736a60e9eeb907d3b93b6e0e5"
   },
   "outputs": [],
   "source": [
    "import numpy as np\n",
    "import pandas as pd\n",
    "from collections import Counter\n",
    "import datetime\n",
    "from datetime import datetime, timedelta\n",
    "import itertools as its"
   ]
  },
  {
   "cell_type": "code",
   "execution_count": 11,
   "metadata": {},
   "outputs": [
    {
     "data": {
      "text/html": [
       "<div>\n",
       "<style scoped>\n",
       "    .dataframe tbody tr th:only-of-type {\n",
       "        vertical-align: middle;\n",
       "    }\n",
       "\n",
       "    .dataframe tbody tr th {\n",
       "        vertical-align: top;\n",
       "    }\n",
       "\n",
       "    .dataframe thead th {\n",
       "        text-align: right;\n",
       "    }\n",
       "</style>\n",
       "<table border=\"1\" class=\"dataframe\">\n",
       "  <thead>\n",
       "    <tr style=\"text-align: right;\">\n",
       "      <th></th>\n",
       "      <th>imdb_id</th>\n",
       "      <th>popularity</th>\n",
       "      <th>budget</th>\n",
       "      <th>revenue</th>\n",
       "      <th>original_title</th>\n",
       "      <th>cast</th>\n",
       "      <th>director</th>\n",
       "      <th>tagline</th>\n",
       "      <th>overview</th>\n",
       "      <th>runtime</th>\n",
       "      <th>genres</th>\n",
       "      <th>production_companies</th>\n",
       "      <th>release_date</th>\n",
       "      <th>vote_count</th>\n",
       "      <th>vote_average</th>\n",
       "      <th>release_year</th>\n",
       "    </tr>\n",
       "  </thead>\n",
       "  <tbody>\n",
       "    <tr>\n",
       "      <th>642</th>\n",
       "      <td>tt0988595</td>\n",
       "      <td>1.400898</td>\n",
       "      <td>30000000</td>\n",
       "      <td>160259319</td>\n",
       "      <td>27 Dresses</td>\n",
       "      <td>Katherine Heigl|James Marsden|Malin Ã…kerman|J...</td>\n",
       "      <td>Anne Fletcher</td>\n",
       "      <td>She's about to find the perfect fit.</td>\n",
       "      <td>Altruistic Jane finds herself facing her worst...</td>\n",
       "      <td>111</td>\n",
       "      <td>Comedy|Romance</td>\n",
       "      <td>Spyglass Entertainment|Fox 2000 Pictures|Dune ...</td>\n",
       "      <td>1/10/2008</td>\n",
       "      <td>610</td>\n",
       "      <td>6.1</td>\n",
       "      <td>2008</td>\n",
       "    </tr>\n",
       "    <tr>\n",
       "      <th>854</th>\n",
       "      <td>tt1067774</td>\n",
       "      <td>0.410616</td>\n",
       "      <td>20000000</td>\n",
       "      <td>17425000</td>\n",
       "      <td>Monte Carlo</td>\n",
       "      <td>Selena Gomez|Katie Cassidy|Cory Monteith|Leigh...</td>\n",
       "      <td>Thomas Bezucha</td>\n",
       "      <td>She's having the time of someone else's life.</td>\n",
       "      <td>Three young women vacationing in Paris find th...</td>\n",
       "      <td>109</td>\n",
       "      <td>Adventure|Comedy|Romance</td>\n",
       "      <td>Dune Entertainment|Regency Enterprises|Fox 200...</td>\n",
       "      <td>7/1/2011</td>\n",
       "      <td>359</td>\n",
       "      <td>5.9</td>\n",
       "      <td>2011</td>\n",
       "    </tr>\n",
       "    <tr>\n",
       "      <th>1111</th>\n",
       "      <td>tt0311113</td>\n",
       "      <td>1.491266</td>\n",
       "      <td>150000000</td>\n",
       "      <td>212011111</td>\n",
       "      <td>Master and Commander: The Far Side of the World</td>\n",
       "      <td>Russell Crowe|Paul Bettany|James D'Arcy|Billy ...</td>\n",
       "      <td>Peter Weir</td>\n",
       "      <td>The Courage to Do the Impossible Lies in the H...</td>\n",
       "      <td>After an abrupt and violent encounter with a F...</td>\n",
       "      <td>138</td>\n",
       "      <td>Adventure</td>\n",
       "      <td>Universal Pictures|Twentieth Century Fox Film ...</td>\n",
       "      <td>11/14/2003</td>\n",
       "      <td>434</td>\n",
       "      <td>6.6</td>\n",
       "      <td>2003</td>\n",
       "    </tr>\n",
       "    <tr>\n",
       "      <th>379</th>\n",
       "      <td>tt1104001</td>\n",
       "      <td>2.911727</td>\n",
       "      <td>170000000</td>\n",
       "      <td>400062763</td>\n",
       "      <td>TRON: Legacy</td>\n",
       "      <td>Garrett Hedlund|Jeff Bridges|Olivia Wilde|Bruc...</td>\n",
       "      <td>Joseph Kosinski</td>\n",
       "      <td>The Game Has Changed.</td>\n",
       "      <td>Sam Flynn, the tech-savvy and daring son of Ke...</td>\n",
       "      <td>125</td>\n",
       "      <td>Adventure|Action|Science Fiction</td>\n",
       "      <td>Walt Disney Pictures|LivePlanet|Prana Studios|...</td>\n",
       "      <td>12/10/2010</td>\n",
       "      <td>2026</td>\n",
       "      <td>6.3</td>\n",
       "      <td>2010</td>\n",
       "    </tr>\n",
       "    <tr>\n",
       "      <th>1871</th>\n",
       "      <td>tt0144528</td>\n",
       "      <td>1.616724</td>\n",
       "      <td>84000000</td>\n",
       "      <td>123307945</td>\n",
       "      <td>Nutty Professor II: The Klumps</td>\n",
       "      <td>Eddie Murphy|Janet Jackson|Larry Miller|John A...</td>\n",
       "      <td>Peter Segal</td>\n",
       "      <td>The Klumps are back!</td>\n",
       "      <td>The hilarity begins when professor Sherman Klu...</td>\n",
       "      <td>106</td>\n",
       "      <td>Fantasy|Comedy|Romance|Science Fiction</td>\n",
       "      <td>Imagine Entertainment|Universal Pictures</td>\n",
       "      <td>7/27/2000</td>\n",
       "      <td>168</td>\n",
       "      <td>4.8</td>\n",
       "      <td>2000</td>\n",
       "    </tr>\n",
       "  </tbody>\n",
       "</table>\n",
       "</div>"
      ],
      "text/plain": [
       "        imdb_id  popularity     budget    revenue  \\\n",
       "642   tt0988595    1.400898   30000000  160259319   \n",
       "854   tt1067774    0.410616   20000000   17425000   \n",
       "1111  tt0311113    1.491266  150000000  212011111   \n",
       "379   tt1104001    2.911727  170000000  400062763   \n",
       "1871  tt0144528    1.616724   84000000  123307945   \n",
       "\n",
       "                                       original_title  \\\n",
       "642                                        27 Dresses   \n",
       "854                                       Monte Carlo   \n",
       "1111  Master and Commander: The Far Side of the World   \n",
       "379                                      TRON: Legacy   \n",
       "1871                   Nutty Professor II: The Klumps   \n",
       "\n",
       "                                                   cast         director  \\\n",
       "642   Katherine Heigl|James Marsden|Malin Ã…kerman|J...    Anne Fletcher   \n",
       "854   Selena Gomez|Katie Cassidy|Cory Monteith|Leigh...   Thomas Bezucha   \n",
       "1111  Russell Crowe|Paul Bettany|James D'Arcy|Billy ...       Peter Weir   \n",
       "379   Garrett Hedlund|Jeff Bridges|Olivia Wilde|Bruc...  Joseph Kosinski   \n",
       "1871  Eddie Murphy|Janet Jackson|Larry Miller|John A...      Peter Segal   \n",
       "\n",
       "                                                tagline  \\\n",
       "642                She's about to find the perfect fit.   \n",
       "854       She's having the time of someone else's life.   \n",
       "1111  The Courage to Do the Impossible Lies in the H...   \n",
       "379                               The Game Has Changed.   \n",
       "1871                               The Klumps are back!   \n",
       "\n",
       "                                               overview  runtime  \\\n",
       "642   Altruistic Jane finds herself facing her worst...      111   \n",
       "854   Three young women vacationing in Paris find th...      109   \n",
       "1111  After an abrupt and violent encounter with a F...      138   \n",
       "379   Sam Flynn, the tech-savvy and daring son of Ke...      125   \n",
       "1871  The hilarity begins when professor Sherman Klu...      106   \n",
       "\n",
       "                                      genres  \\\n",
       "642                           Comedy|Romance   \n",
       "854                 Adventure|Comedy|Romance   \n",
       "1111                               Adventure   \n",
       "379         Adventure|Action|Science Fiction   \n",
       "1871  Fantasy|Comedy|Romance|Science Fiction   \n",
       "\n",
       "                                   production_companies release_date  \\\n",
       "642   Spyglass Entertainment|Fox 2000 Pictures|Dune ...    1/10/2008   \n",
       "854   Dune Entertainment|Regency Enterprises|Fox 200...     7/1/2011   \n",
       "1111  Universal Pictures|Twentieth Century Fox Film ...   11/14/2003   \n",
       "379   Walt Disney Pictures|LivePlanet|Prana Studios|...   12/10/2010   \n",
       "1871           Imagine Entertainment|Universal Pictures    7/27/2000   \n",
       "\n",
       "      vote_count  vote_average  release_year  \n",
       "642          610           6.1          2008  \n",
       "854          359           5.9          2011  \n",
       "1111         434           6.6          2003  \n",
       "379         2026           6.3          2010  \n",
       "1871         168           4.8          2000  "
      ]
     },
     "execution_count": 11,
     "metadata": {},
     "output_type": "execute_result"
    }
   ],
   "source": [
    "imdb_df = pd.read_csv('data.csv')\n",
    "imdb_df.sample(5)"
   ]
  },
  {
   "cell_type": "code",
   "execution_count": 8,
   "metadata": {},
   "outputs": [
    {
     "data": {
      "text/plain": [
       "1890"
      ]
     },
     "execution_count": 8,
     "metadata": {},
     "output_type": "execute_result"
    }
   ],
   "source": [
    "len(data)"
   ]
  },
  {
   "cell_type": "markdown",
   "metadata": {},
   "source": [
    "# Предобработка датасета"
   ]
  },
  {
   "cell_type": "code",
   "execution_count": 5,
   "metadata": {},
   "outputs": [],
   "source": [
    "answer_ls = []  # создадим список с ответами. сюда будем добавлять ответы по мере прохождения теста\n",
    "# сюда можем вписать создание новых колонок в датасете"
   ]
  },
  {
   "cell_type": "code",
   "execution_count": 15,
   "metadata": {},
   "outputs": [],
   "source": [
    "# Добавляю колонку для определения прибыли (вопрос 6 и далее)\n",
    "imdb_df['profit'] = imdb_df['revenue'] - imdb_df['budget']"
   ]
  },
  {
   "cell_type": "code",
   "execution_count": 23,
   "metadata": {},
   "outputs": [],
   "source": [
    "# Добавляем каунтер по жанрам (вопрос 11 и далее)\n",
    "imdb_df['genres_counter'] = imdb_df.genres.apply(\n",
    "    lambda x: Counter(x.split('|')))"
   ]
  },
  {
   "cell_type": "code",
   "execution_count": 26,
   "metadata": {},
   "outputs": [],
   "source": [
    "# Добавляем каунтер по режиссерам (вопрос 13 и далее)\n",
    "imdb_df['director_counter'] = imdb_df.director.apply(\n",
    "    lambda x: Counter(x.split('|')))"
   ]
  },
  {
   "cell_type": "code",
   "execution_count": 30,
   "metadata": {},
   "outputs": [],
   "source": [
    "# Список имен режиссеров (для 15 вопроса и далее)\n",
    "imdb_df['director_list'] = imdb_df['director'].apply(lambda x: x.split('|'))"
   ]
  },
  {
   "cell_type": "code",
   "execution_count": 43,
   "metadata": {},
   "outputs": [],
   "source": [
    "# Список компаний (студий) (для вопроса 20 и далее)\n",
    "imdb_df['studio_list'] = imdb_df.production_companies.apply(\n",
    "    lambda x: x.split('|'))"
   ]
  },
  {
   "cell_type": "code",
   "execution_count": 47,
   "metadata": {},
   "outputs": [],
   "source": [
    "# Список компаний (студий) (для вопроса 21 и далее)\n",
    "imdb_df['studio_counter'] = imdb_df.production_companies.apply(\n",
    "    lambda x: Counter(x.split('|')))"
   ]
  },
  {
   "cell_type": "code",
   "execution_count": 68,
   "metadata": {},
   "outputs": [],
   "source": [
    "# Добавляем месяц релиза\n",
    "imdb_df['release_month'] = imdb_df['release_date'].apply(\n",
    "    lambda x: datetime.strptime(x, '%m/%d/%Y').month)"
   ]
  },
  {
   "cell_type": "code",
   "execution_count": 74,
   "metadata": {},
   "outputs": [],
   "source": [
    "# Добавляем сезон (вопрос 29 и далее)\n",
    "def month_to_season(month):\n",
    "    season = ''\n",
    "    if month in [1, 2, 12]:\n",
    "        season = 'winter'\n",
    "    elif month in [3, 4, 5]:\n",
    "        season = 'spring'\n",
    "    elif month in [6, 7, 8]:\n",
    "        season = 'summer'\n",
    "    else:\n",
    "        season = 'autumn'\n",
    "    return(season)"
   ]
  },
  {
   "cell_type": "code",
   "execution_count": 75,
   "metadata": {},
   "outputs": [],
   "source": [
    "imdb_df['season'] = imdb_df['release_month'].apply(month_to_season)"
   ]
  },
  {
   "cell_type": "code",
   "execution_count": 88,
   "metadata": {},
   "outputs": [],
   "source": [
    "# Добавляем колонку с длиной фильма в символах (вопрос 31)\n",
    "imdb_df['len_title'] = imdb_df['original_title'].apply(len)"
   ]
  },
  {
   "cell_type": "code",
   "execution_count": 90,
   "metadata": {},
   "outputs": [],
   "source": [
    "# Добавляю колонку с длиной фильма в сорвах ((сколкьо слов в названии фильма)) - вопрос 32\n",
    "imdb_df['len_word_title'] = imdb_df['original_title'].apply(\n",
    "    lambda x: len(x.split()))"
   ]
  },
  {
   "cell_type": "code",
   "execution_count": 104,
   "metadata": {},
   "outputs": [],
   "source": [
    "# Для второго варианта решения вопроса 35. Добавляем колонку с каунтером сочетаний пар актеров\n",
    "imdb_df['actor_list'] = imdb_df.cast.apply(lambda x: x.split('|'))\n",
    "imdb_df['actor_pair_counter'] = imdb_df['actor_list'].apply(\n",
    "    lambda x: Counter(its.combinations(x, 2)))"
   ]
  },
  {
   "cell_type": "markdown",
   "metadata": {},
   "source": [
    "#### ВАЖНО: варианты ответов будут указываться в соответствии с их номером на платформе, а не в этом ноутбуке, т.к. они не всегда сосвпадают"
   ]
  },
  {
   "cell_type": "markdown",
   "metadata": {},
   "source": [
    "# 1. У какого фильма из списка самый большой бюджет?\n",
    "Варианты ответов:\n",
    "1. The Dark Knight Rises (tt1345836)\n",
    "2. Spider-Man 3 (tt0413300)\n",
    "3. Avengers: Age of Ultron (tt2395427)\n",
    "4. The Warrior's Way\t(tt1032751)\n",
    "5. Pirates of the Caribbean: On Stranger Tides (tt1298650)"
   ]
  },
  {
   "cell_type": "code",
   "execution_count": null,
   "metadata": {},
   "outputs": [],
   "source": [
    "# тут вводим ваш ответ и добавлем его в список ответов (сейчас для примера стоит \"1\")\n",
    "imdb_df.loc[imdb_df.imdb_id.isin(['tt1345836', 'tt0413300', 'tt2395427', 'tt1032751', 'tt1298650'])][[\n",
    "    'original_title', 'budget']].sort_values('budget', ascending=False).head(1)"
   ]
  },
  {
   "cell_type": "code",
   "execution_count": 6,
   "metadata": {},
   "outputs": [],
   "source": [
    "answer_ls.append(4)"
   ]
  },
  {
   "cell_type": "markdown",
   "metadata": {},
   "source": [
    "# 2. Какой из фильмов самый длительный (в минутах)\n",
    "1. The Lord of the Rings: The Return of the King\t(tt0167260)\n",
    "2. Gods and Generals\t(tt0279111)\n",
    "3. King Kong\t(tt0360717)\n",
    "4. Pearl Harbor\t(tt0213149)\n",
    "5. Alexander\t(tt0346491)"
   ]
  },
  {
   "cell_type": "code",
   "execution_count": null,
   "metadata": {},
   "outputs": [],
   "source": [
    "imdb_df.loc[imdb_df.imdb_id.isin(['tt0167260', 'tt0279111', 'tt0360717', 'tt0213149', 'tt0346491'])][[\n",
    "    'original_title', 'runtime']].sort_values('runtime', ascending=False).head(1)"
   ]
  },
  {
   "cell_type": "code",
   "execution_count": 7,
   "metadata": {},
   "outputs": [],
   "source": [
    "answer_ls.append(2)"
   ]
  },
  {
   "cell_type": "markdown",
   "metadata": {},
   "source": [
    "# 3. Какой из фильмов самый короткий (в минутах)\n",
    "Варианты ответов:\n",
    "\n",
    "1. Home on the Range\ttt0299172\n",
    "2. The Jungle Book 2\ttt0283426\n",
    "3. Winnie the Pooh\ttt1449283\n",
    "4. Corpse Bride\ttt0121164\n",
    "5. Hoodwinked!\ttt0443536"
   ]
  },
  {
   "cell_type": "code",
   "execution_count": null,
   "metadata": {},
   "outputs": [],
   "source": [
    "imdb_df.loc[imdb_df.imdb_id.isin(['tt0299172', 'tt0283426', 'tt1449283', 'tt0121164', 'tt0443536'])][[\n",
    "    'original_title', 'runtime']].sort_values('runtime').head(1)"
   ]
  },
  {
   "cell_type": "code",
   "execution_count": 9,
   "metadata": {},
   "outputs": [],
   "source": [
    "answer_ls.append(3)"
   ]
  },
  {
   "cell_type": "markdown",
   "metadata": {},
   "source": [
    "# 4. Средняя длительность фильма?\n",
    "\n",
    "Варианты ответов:\n",
    "1. 115\n",
    "2. 110\n",
    "3. 105\n",
    "4. 120\n",
    "5. 100\n"
   ]
  },
  {
   "cell_type": "code",
   "execution_count": null,
   "metadata": {},
   "outputs": [],
   "source": [
    "round(imdb_df.runtime.mean(), 0)"
   ]
  },
  {
   "cell_type": "code",
   "execution_count": 12,
   "metadata": {},
   "outputs": [],
   "source": [
    "answer_ls.append(2)"
   ]
  },
  {
   "cell_type": "markdown",
   "metadata": {},
   "source": [
    "# 5. Средняя длительность фильма по медиане?\n",
    "Варианты ответов:\n",
    "1. 106\n",
    "2. 112\n",
    "3. 101\n",
    "4. 120\n",
    "5. 115\n",
    "\n",
    "\n"
   ]
  },
  {
   "cell_type": "code",
   "execution_count": null,
   "metadata": {},
   "outputs": [],
   "source": [
    "round(imdb_df.runtime.median(), 0)"
   ]
  },
  {
   "cell_type": "code",
   "execution_count": 13,
   "metadata": {},
   "outputs": [],
   "source": [
    "answer_ls.append(1)"
   ]
  },
  {
   "cell_type": "markdown",
   "metadata": {},
   "source": [
    "# 6. Какой самый прибыльный фильм?\n",
    "Варианты ответов:\n",
    "1. The Avengers\ttt0848228\n",
    "2. Minions\ttt2293640\n",
    "3. Star Wars: The Force Awakens\ttt2488496\n",
    "4. Furious 7\ttt2820852\n",
    "5. Avatar\ttt0499549"
   ]
  },
  {
   "cell_type": "code",
   "execution_count": 17,
   "metadata": {},
   "outputs": [],
   "source": [
    "imdb_df.loc[imdb_df.imdb_id.isin(['tt0848228', 'tt2293640', 'tt2488496', 'tt2820852', 'tt0499549'])][[\n",
    "    'original_title', 'budget', 'revenue', 'profit']].sort_values('profit', ascending=False).head(1)"
   ]
  },
  {
   "cell_type": "code",
   "execution_count": 18,
   "metadata": {},
   "outputs": [],
   "source": [
    "answer_ls.append(5)"
   ]
  },
  {
   "cell_type": "markdown",
   "metadata": {},
   "source": [
    "# 7. Какой фильм самый убыточный?\n",
    "Варианты ответов:\n",
    "1. Supernova tt0134983\n",
    "2. The Warrior's Way tt1032751\n",
    "3. Flushed Away\ttt0424095\n",
    "4. The Adventures of Pluto Nash\ttt0180052\n",
    "5. The Lone Ranger\ttt1210819"
   ]
  },
  {
   "cell_type": "code",
   "execution_count": null,
   "metadata": {},
   "outputs": [],
   "source": [
    "imdb_df.loc[imdb_df.imdb_id.isin(['tt0134983', 'tt1032751', 'tt0424095', 'tt0180052', 'tt1210819'])][[\n",
    "    'original_title', 'budget', 'revenue', 'profit']].sort_values('profit', ascending=True)  # .head(1)"
   ]
  },
  {
   "cell_type": "code",
   "execution_count": 19,
   "metadata": {},
   "outputs": [],
   "source": [
    "answer_ls.append(2)"
   ]
  },
  {
   "cell_type": "markdown",
   "metadata": {},
   "source": [
    "# 8. Сколько всего фильмов в прибыли?\n",
    "Варианты ответов:\n",
    "1. 1478\n",
    "2. 1520\n",
    "3. 1241\n",
    "4. 1135\n",
    "5. 1398\n"
   ]
  },
  {
   "cell_type": "code",
   "execution_count": null,
   "metadata": {},
   "outputs": [],
   "source": [
    "imdb_df[imdb_df.profit > 0].imdb_id.count()"
   ]
  },
  {
   "cell_type": "code",
   "execution_count": 20,
   "metadata": {},
   "outputs": [],
   "source": [
    "answer_ls.append(1)"
   ]
  },
  {
   "cell_type": "markdown",
   "metadata": {},
   "source": [
    "# 9. Самый прибыльный фильм в 2008 году?\n",
    "Варианты ответов:\n",
    "1. Madagascar: Escape 2 Africa\ttt0479952\n",
    "2. Iron Man\ttt0371746\n",
    "3. Kung Fu Panda\ttt0441773\n",
    "4. The Dark Knight\ttt0468569\n",
    "5. Mamma Mia!\ttt0795421"
   ]
  },
  {
   "cell_type": "code",
   "execution_count": null,
   "metadata": {},
   "outputs": [],
   "source": [
    "imdb_df[imdb_df.release_year == 2008][['original_title', 'release_year',\n",
    "                                       'budget', 'revenue', 'profit']].sort_values('revenue', ascending=False).head(1)"
   ]
  },
  {
   "cell_type": "code",
   "execution_count": 21,
   "metadata": {},
   "outputs": [],
   "source": [
    "answer_ls.append(4)"
   ]
  },
  {
   "cell_type": "markdown",
   "metadata": {},
   "source": [
    "# 10. Самый убыточный фильм за период с 2012 по 2014 (включительно)?\n",
    "Варианты ответов:\n",
    "1. Winter's Tale\ttt1837709\n",
    "2. Stolen\ttt1656186\n",
    "3. Broken City\ttt1235522\n",
    "4. Upside Down\ttt1374992\n",
    "5. The Lone Ranger\ttt1210819\n"
   ]
  },
  {
   "cell_type": "code",
   "execution_count": null,
   "metadata": {},
   "outputs": [],
   "source": [
    "imdb_df.release_year.apply(lambda x: 2011 < x < 2015)[\n",
    "    ['original_title', 'release_year', 'budget', 'revenue', 'profit']].sort_values('profit', ascending=True).head(1)"
   ]
  },
  {
   "cell_type": "code",
   "execution_count": 22,
   "metadata": {},
   "outputs": [],
   "source": [
    "answer_ls.append(5)"
   ]
  },
  {
   "cell_type": "markdown",
   "metadata": {},
   "source": [
    "# 11. Какого жанра фильмов больше всего?\n",
    "Варианты ответов:\n",
    "1. Action\n",
    "2. Adventure\n",
    "3. Drama\n",
    "4. Comedy\n",
    "5. Thriller"
   ]
  },
  {
   "cell_type": "code",
   "execution_count": null,
   "metadata": {},
   "outputs": [],
   "source": [
    "imdb_df['genres_counter'].sum().most_common(5)"
   ]
  },
  {
   "cell_type": "code",
   "execution_count": 24,
   "metadata": {},
   "outputs": [],
   "source": [
    "answer_ls.append(3)"
   ]
  },
  {
   "cell_type": "markdown",
   "metadata": {},
   "source": [
    "# 12. Какого жанра среди прибыльных фильмов больше всего?\n",
    "Варианты ответов:\n",
    "1. Drama\n",
    "2. Comedy\n",
    "3. Action\n",
    "4. Thriller\n",
    "5. Adventure"
   ]
  },
  {
   "cell_type": "code",
   "execution_count": null,
   "metadata": {},
   "outputs": [],
   "source": [
    "imdb_df['genres_counter'].loc[imdb_df['profit'] > 0].sum().most_common(5)"
   ]
  },
  {
   "cell_type": "code",
   "execution_count": 25,
   "metadata": {},
   "outputs": [],
   "source": [
    "answer_ls.append(3)"
   ]
  },
  {
   "cell_type": "markdown",
   "metadata": {},
   "source": [
    "# 13. Кто из режиссеров снял больше всего фильмов?\n",
    "Варианты ответов:\n",
    "1. Steven Spielberg\n",
    "2. Ridley Scott \n",
    "3. Steven Soderbergh\n",
    "4. Christopher Nolan\n",
    "5. Clint Eastwood"
   ]
  },
  {
   "cell_type": "code",
   "execution_count": null,
   "metadata": {},
   "outputs": [],
   "source": [
    "imdb_df['director_counter'].sum().most_common(5)"
   ]
  },
  {
   "cell_type": "code",
   "execution_count": 27,
   "metadata": {},
   "outputs": [],
   "source": [
    "answer_ls.append(3)"
   ]
  },
  {
   "cell_type": "markdown",
   "metadata": {},
   "source": [
    "# 14. Кто из режиссеров снял больше всего Прибыльных фильмов?\n",
    "Варианты ответов:\n",
    "1. Steven Soderbergh\n",
    "2. Clint Eastwood\n",
    "3. Steven Spielberg\n",
    "4. Ridley Scott\n",
    "5. Christopher Nolan"
   ]
  },
  {
   "cell_type": "code",
   "execution_count": null,
   "metadata": {},
   "outputs": [],
   "source": [
    "imdb_df['director_counter'].loc[imdb_df['profit'] > 0].sum().most_common(5)"
   ]
  },
  {
   "cell_type": "code",
   "execution_count": 28,
   "metadata": {},
   "outputs": [],
   "source": [
    "answer_ls.append(2)"
   ]
  },
  {
   "cell_type": "markdown",
   "metadata": {},
   "source": [
    "# 15. Кто из режиссеров принес больше всего прибыли?\n",
    "Варианты ответов:\n",
    "1. Steven Spielberg\n",
    "2. Christopher Nolan\n",
    "3. David Yates\n",
    "4. James Cameron\n",
    "5. Peter Jackson\n"
   ]
  },
  {
   "cell_type": "code",
   "execution_count": 35,
   "metadata": {},
   "outputs": [],
   "source": [
    "dir_max_profit = Counter({'Steven Spielberg': 0,\n",
    "                          'James Cameron': 0,\n",
    "                          'Christopher Nolan': 0,\n",
    "                          'David Yates': 0,\n",
    "                          'Peter Jackson': 0})\n",
    "\n",
    "for index, row in imdb_df[['director_list', 'profit']].iterrows():\n",
    "    for name in dir_max_profit.keys():\n",
    "        if name in row['director_list']:\n",
    "            dir_max_profit[name] += row['profit']\n",
    "dir_max_profit.most_common(5)"
   ]
  },
  {
   "cell_type": "code",
   "execution_count": null,
   "metadata": {},
   "outputs": [],
   "source": [
    "# Второй способ (более простой, но надо искать глазами):\n",
    "print('Steven Spielberg заработал всего: ', imdb_df['profit'].loc[imdb_df.director.apply(\n",
    "    lambda x: 'Steven Spielberg' in x)].sum())\n",
    "print('James Cameron заработал всего: ', imdb_df['profit'].loc[imdb_df.director.apply(\n",
    "    lambda x: 'James Cameron' in x)].sum())\n",
    "print('Christopher Nolan заработал всего: ', imdb_df['profit'].loc[imdb_df.director.apply(\n",
    "    lambda x: 'Christopher Nolan' in x)].sum())\n",
    "print('David Yates заработал всего: ', imdb_df['profit'].loc[imdb_df.director.apply(\n",
    "    lambda x: 'David Yates' in x)].sum())\n",
    "print('Peter Jackson заработал всего: ', imdb_df['profit'].loc[imdb_df.director.apply(\n",
    "    lambda x: 'Peter Jackson' in x)].sum())"
   ]
  },
  {
   "cell_type": "code",
   "execution_count": 37,
   "metadata": {},
   "outputs": [],
   "source": [
    "answer_ls.append(5)"
   ]
  },
  {
   "cell_type": "markdown",
   "metadata": {},
   "source": [
    "# 16. Какой актер принес больше всего прибыли?\n",
    "Варианты ответов:\n",
    "1. Emma Watson\n",
    "2. Johnny Depp\n",
    "3. Michelle Rodriguez\n",
    "4. Orlando Bloom\n",
    "5. Rupert Grint"
   ]
  },
  {
   "cell_type": "code",
   "execution_count": null,
   "metadata": {},
   "outputs": [],
   "source": [
    "print('Emma Watson заработала: {}'.format(\n",
    "    imdb_df[['profit']].loc[imdb_df.cast.apply(lambda x: 'Emma Watson' in x)].sum()))\n",
    "print('Johnny Depp заработал: {}'.format(\n",
    "    imdb_df[['profit']].loc[imdb_df.cast.apply(lambda x: 'Johnny Depp' in x)].sum()))\n",
    "print('Michelle Rodriguez заработала: {}'.format(imdb_df[[\n",
    "      'profit']].loc[imdb_df.cast.apply(lambda x: 'Michelle Rodriguez' in x)].sum()))\n",
    "print('Orlando Bloom заработал: {}'.format(\n",
    "    imdb_df[['profit']].loc[imdb_df.cast.apply(lambda x: 'Orlando Bloom' in x)].sum()))\n",
    "print('Rupert Grint заработал: {}'.format(\n",
    "    imdb_df[['profit']].loc[imdb_df.cast.apply(lambda x: 'Rupert Grint' in x)].sum()))"
   ]
  },
  {
   "cell_type": "code",
   "execution_count": 39,
   "metadata": {},
   "outputs": [],
   "source": [
    "answer_ls.append(1)"
   ]
  },
  {
   "cell_type": "markdown",
   "metadata": {},
   "source": [
    "# 17. Какой актер принес меньше всего прибыли в 2012 году?\n",
    "Варианты ответов:\n",
    "1. Nicolas Cage\n",
    "2. Danny Huston\n",
    "3. Kirsten Dunst\n",
    "4. Jim Sturgess\n",
    "5. Sami Gayle"
   ]
  },
  {
   "cell_type": "code",
   "execution_count": null,
   "metadata": {},
   "outputs": [],
   "source": [
    "question17_counter = Counter({\n",
    "    'Nicolas Cage': 0,\n",
    "    'Danny Huston': 0,\n",
    "    'Kirsten Dunst': 0,\n",
    "    'Jim Sturgess': 0,\n",
    "    'Sami Gayle': 0\n",
    "})"
   ]
  },
  {
   "cell_type": "code",
   "execution_count": null,
   "metadata": {},
   "outputs": [],
   "source": [
    "for key in question17_counter.keys():\n",
    "    quest17_counter[key] = imdb_df.loc[(imdb_df.release_year == 2012) & (\n",
    "        imdb_df.actor_list.apply(lambda x: key in x))]['profit'].sum()"
   ]
  },
  {
   "cell_type": "code",
   "execution_count": null,
   "metadata": {},
   "outputs": [],
   "source": [
    "question17_counter.most_common()"
   ]
  },
  {
   "cell_type": "code",
   "execution_count": 40,
   "metadata": {},
   "outputs": [],
   "source": [
    "answer_ls.append(3)"
   ]
  },
  {
   "cell_type": "markdown",
   "metadata": {},
   "source": [
    "# 18. Какой актер снялся в большем количестве высокобюджетных фильмов? (в фильмах где бюджет выше среднего по данной выборке)\n",
    "Варианты ответов:\n",
    "1. Tom Cruise\n",
    "2. Mark Wahlberg \n",
    "3. Matt Damon\n",
    "4. Angelina Jolie\n",
    "5. Adam Sandler"
   ]
  },
  {
   "cell_type": "code",
   "execution_count": null,
   "metadata": {},
   "outputs": [],
   "source": [
    "imdb_df[imdb_df['budget'] > imdb_df['budget'].mean(\n",
    ")]['cast_counter'].sum().most_common(5)"
   ]
  },
  {
   "cell_type": "code",
   "execution_count": null,
   "metadata": {},
   "outputs": [],
   "source": []
  },
  {
   "cell_type": "markdown",
   "metadata": {},
   "source": [
    "# 19. В фильмах какого жанра больше всего снимался Nicolas Cage?  \n",
    "Варианты ответа:\n",
    "1. Drama\n",
    "2. Action\n",
    "3. Thriller\n",
    "4. Adventure\n",
    "5. Crime"
   ]
  },
  {
   "cell_type": "code",
   "execution_count": null,
   "metadata": {},
   "outputs": [],
   "source": [
    "imdb_df[imdb_df.actor_list.apply(\n",
    "    lambda x: 'Nicolas Cage' in x)].genres_counter.sum().most_common(3)"
   ]
  },
  {
   "cell_type": "code",
   "execution_count": 42,
   "metadata": {},
   "outputs": [],
   "source": [
    "answer_ls.append(2)"
   ]
  },
  {
   "cell_type": "markdown",
   "metadata": {},
   "source": [
    "# 20. Какая студия сняла больше всего фильмов?\n",
    "Варианты ответа:\n",
    "1. Universal Pictures (Universal)\n",
    "2. Paramount Pictures\n",
    "3. Columbia Pictures\n",
    "4. Warner Bros\n",
    "5. Twentieth Century Fox Film Corporation"
   ]
  },
  {
   "cell_type": "code",
   "execution_count": 51,
   "metadata": {},
   "outputs": [
    {
     "name": "stdout",
     "output_type": "stream",
     "text": [
      "Universal:  185\n",
      "Paramount Pictures:  122\n",
      "Columbia Pictures:  163\n",
      "Warner Bros:  183\n",
      "Twentieth Century Fox:  117\n"
     ]
    }
   ],
   "source": [
    "print('Universal: ', imdb_df[imdb_df['production_companies'].apply(\n",
    "    lambda x: 'Universal' in x)]['imdb_id'].count())\n",
    "print('Paramount Pictures: ', imdb_df[imdb_df['production_companies'].apply(\n",
    "    lambda x: 'Paramount Pictures' in x)]['imdb_id'].count())\n",
    "print('Columbia Pictures: ', imdb_df[imdb_df['production_companies'].apply(\n",
    "    lambda x: 'Columbia Pictures' in x)]['imdb_id'].count())\n",
    "print('Warner Bros: ', imdb_df[imdb_df['production_companies'].apply(\n",
    "    lambda x: 'Warner Bros' in x)]['imdb_id'].count())\n",
    "print('Twentieth Century Fox: ', imdb_df[imdb_df['production_companies'].apply(\n",
    "    lambda x: 'Twentieth Century Fox' in x)]['imdb_id'].count())"
   ]
  },
  {
   "cell_type": "code",
   "execution_count": 55,
   "metadata": {},
   "outputs": [
    {
     "data": {
      "text/plain": [
       "[('Universal Pictures', 173)]"
      ]
     },
     "execution_count": 55,
     "metadata": {},
     "output_type": "execute_result"
    }
   ],
   "source": [
    "# Второй вариант. Мне кажется, менее правильный и точный, хотя ответ тот же - по названию, но не по кол-ву фильмов\n",
    "# Здесь если у студии в названии есть доп. слово, то это считается новым названием\n",
    "Counter(imdb_df['studio_list'].sum()).most_common(1)"
   ]
  },
  {
   "cell_type": "code",
   "execution_count": 44,
   "metadata": {},
   "outputs": [],
   "source": [
    "answer_ls.append(1)"
   ]
  },
  {
   "cell_type": "markdown",
   "metadata": {},
   "source": [
    "# 21. Какая студия сняла больше всего фильмов в 2015 году?\n",
    "Варианты ответа:\n",
    "1. Universal Pictures\n",
    "2. Paramount Pictures\n",
    "3. Columbia Pictures\n",
    "4. Warner Bros\n",
    "5. Twentieth Century Fox Film Corporation"
   ]
  },
  {
   "cell_type": "code",
   "execution_count": 48,
   "metadata": {},
   "outputs": [
    {
     "name": "stdout",
     "output_type": "stream",
     "text": [
      "Universal Pictures:  11\n",
      "Paramount Pictures:  7\n",
      "Columbia Pictures:  7\n",
      "Warner Bros:  12\n",
      "Twentieth Century Fox Film Corporation:  8\n"
     ]
    }
   ],
   "source": [
    "# Вариант 1\n",
    "# Использую названия прямо из вариантов ответов\n",
    "print('Universal Pictures: ', imdb_df[(imdb_df['release_year'] == 2015) & (\n",
    "    imdb_df['production_companies'].apply(lambda x: 'Universal Pictures' in x))]['imdb_id'].count())\n",
    "print('Paramount Pictures: ', imdb_df[(imdb_df['release_year'] == 2015) & (\n",
    "    imdb_df['production_companies'].apply(lambda x: 'Paramount Pictures' in x))]['imdb_id'].count())\n",
    "print('Columbia Pictures: ', imdb_df[(imdb_df['release_year'] == 2015) & (\n",
    "    imdb_df['production_companies'].apply(lambda x: 'Columbia Pictures' in x))]['imdb_id'].count())\n",
    "print('Warner Bros: ', imdb_df[(imdb_df['release_year'] == 2015) & (\n",
    "    imdb_df['production_companies'].apply(lambda x: 'Warner Bros' in x))]['imdb_id'].count())\n",
    "print('Twentieth Century Fox Film Corporation: ', imdb_df[(imdb_df['release_year'] == 2015) & (\n",
    "    imdb_df['production_companies'].apply(lambda x: 'Twentieth Century Fox Film Corporation' in x))]['imdb_id'].count())"
   ]
  },
  {
   "cell_type": "code",
   "execution_count": 58,
   "metadata": {},
   "outputs": [
    {
     "data": {
      "text/plain": [
       "[('Warner Bros.', 12)]"
      ]
     },
     "execution_count": 58,
     "metadata": {},
     "output_type": "execute_result"
    }
   ],
   "source": [
    "# Вариант решения 2 - через Каунтер\n",
    "imdb_df['studio_counter'].loc[imdb_df.release_year == 2015].sum().most_common(1)"
   ]
  },
  {
   "cell_type": "code",
   "execution_count": 59,
   "metadata": {},
   "outputs": [],
   "source": [
    "answer_ls.append(4)"
   ]
  },
  {
   "cell_type": "markdown",
   "metadata": {},
   "source": [
    "# 22. Какая студия заработала больше всего денег в жанре комедий за все время?\n",
    "Варианты ответа:\n",
    "1. Warner Bros\n",
    "2. Universal Pictures (Universal)\n",
    "3. Columbia Pictures\n",
    "4. Paramount Pictures\n",
    "5. Walt Disney"
   ]
  },
  {
   "cell_type": "code",
   "execution_count": null,
   "metadata": {},
   "outputs": [],
   "source": [
    "print('Universal: ', imdb_df[(imdb_df['genres'].apply(lambda x: 'Comedy' in x)) & (\n",
    "    imdb_df['production_companies'].apply(lambda x: 'Universal' in x))]['profit'].sum())\n",
    "print('Paramount Pictures: ', imdb_df[(imdb_df['genres'].apply(lambda x: 'Comedy' in x)) & (\n",
    "    imdb_df['production_companies'].apply(lambda x: 'Paramount Pictures' in x))]['profit'].sum())\n",
    "print('Columbia Pictures: ', imdb_df[(imdb_df['genres'].apply(lambda x: 'Comedy' in x)) & (\n",
    "    imdb_df['production_companies'].apply(lambda x: 'Columbia Pictures' in x))]['profit'].sum())\n",
    "print('Warner Bros: ', imdb_df[(imdb_df['genres'].apply(lambda x: 'Comedy' in x)) & (\n",
    "    imdb_df['production_companies'].apply(lambda x: 'Warner Bros' in x))]['profit'].sum())\n",
    "print('Walt Disney: ', imdb_df[(imdb_df['genres'].apply(lambda x: 'Comedy' in x)) & (\n",
    "    imdb_df['production_companies'].apply(lambda x: 'Walt Disney' in x))]['profit'].sum())"
   ]
  },
  {
   "cell_type": "code",
   "execution_count": 60,
   "metadata": {},
   "outputs": [],
   "source": [
    "answer_ls.append(2)"
   ]
  },
  {
   "cell_type": "markdown",
   "metadata": {},
   "source": [
    "# 23. Какая студия заработала больше всего денег в 2012 году?\n",
    "Варианты ответа:\n",
    "1. Universal Pictures (Universal)\n",
    "2. Warner Bros\n",
    "3. Columbia Pictures\n",
    "4. Paramount Pictures\n",
    "5. Lucasfilm"
   ]
  },
  {
   "cell_type": "code",
   "execution_count": null,
   "metadata": {},
   "outputs": [],
   "source": [
    "print('Universal: ', imdb_df[(imdb_df['release_year'] == 2012) & (\n",
    "    imdb_df['production_companies'].apply(lambda x: 'Universal' in x))]['profit'].sum())\n",
    "print('Paramount Pictures: ', imdb_df[(imdb_df['release_year'] == 2012) & (\n",
    "    imdb_df['production_companies'].apply(lambda x: 'Paramount Pictures' in x))]['profit'].sum())\n",
    "print('Columbia Pictures: ', imdb_df[(imdb_df['release_year'] == 2012) & (\n",
    "    imdb_df['production_companies'].apply(lambda x: 'Columbia Pictures' in x))]['profit'].sum())\n",
    "print('Warner Bros: ', imdb_df[(imdb_df['release_year'] == 2012) & (\n",
    "    imdb_df['production_companies'].apply(lambda x: 'Warner Bros' in x))]['profit'].sum())\n",
    "print('Lucasfilm: ', imdb_df[(imdb_df['release_year'] == 2012) & (\n",
    "    imdb_df['production_companies'].apply(lambda x: 'Lucasfilm' in x))]['profit'].sum())"
   ]
  },
  {
   "cell_type": "code",
   "execution_count": 62,
   "metadata": {},
   "outputs": [],
   "source": [
    "answer_ls.append(3)"
   ]
  },
  {
   "cell_type": "markdown",
   "metadata": {},
   "source": [
    "# 24. Самый убыточный фильм от Paramount Pictures\n",
    "Варианты ответа:\n",
    "\n",
    "1. K-19: The Widowmaker tt0267626\n",
    "2. Next tt0435705\n",
    "3. Twisted tt0315297\n",
    "4. The Love Guru tt0811138\n",
    "5. The Fighter tt0964517"
   ]
  },
  {
   "cell_type": "code",
   "execution_count": null,
   "metadata": {},
   "outputs": [],
   "source": [
    "question23_list = ['tt0267626',\n",
    "                   'tt0435705',\n",
    "                   'tt0315297',\n",
    "                   'tt0811138',\n",
    "                   'tt0964517']"
   ]
  },
  {
   "cell_type": "code",
   "execution_count": null,
   "metadata": {},
   "outputs": [],
   "source": [
    "imdb_df[imdb_df.imdb_id.isin(question23_list)][[\n",
    "    'imdb_id', 'profit', 'original_title', 'production_companies']].sort_values('profit')"
   ]
  },
  {
   "cell_type": "code",
   "execution_count": 63,
   "metadata": {},
   "outputs": [],
   "source": [
    "answer_ls.append(1)"
   ]
  },
  {
   "cell_type": "markdown",
   "metadata": {},
   "source": [
    "# 25. Какой Самый прибыльный год (заработали больше всего)?\n",
    "Варианты ответа:\n",
    "1. 2014\n",
    "2. 2008\n",
    "3. 2012\n",
    "4. 2002\n",
    "5. 2015"
   ]
  },
  {
   "cell_type": "code",
   "execution_count": null,
   "metadata": {},
   "outputs": [],
   "source": [
    "imdb_df[['production_companies', 'profit', 'release_year']].groupby(\n",
    "    ['release_year']).sum().sort_values('profit', ascending=False).head(4)"
   ]
  },
  {
   "cell_type": "code",
   "execution_count": 64,
   "metadata": {},
   "outputs": [],
   "source": [
    "answer_ls.append(5)"
   ]
  },
  {
   "cell_type": "markdown",
   "metadata": {},
   "source": [
    "# 26. Какой Самый прибыльный год для студии Warner Bros?\n",
    "Варианты ответа:\n",
    "1. 2014\n",
    "2. 2008\n",
    "3. 2012\n",
    "4. 2010\n",
    "5. 2015"
   ]
  },
  {
   "cell_type": "code",
   "execution_count": null,
   "metadata": {},
   "outputs": [],
   "source": [
    "imdb_df[['production_companies', 'release_year', 'profit']].loc[imdb_df['production_companies'].apply(\n",
    "    lambda x: 'Warner Bros' in x)].groupby(['release_year']).sum().sort_values('profit', ascending=False).head(5)"
   ]
  },
  {
   "cell_type": "code",
   "execution_count": 65,
   "metadata": {},
   "outputs": [],
   "source": [
    "answer_ls.append(1)"
   ]
  },
  {
   "cell_type": "markdown",
   "metadata": {},
   "source": [
    "# 27. В каком месяце за все годы суммарно вышло больше всего фильмов?\n",
    "Варианты ответа:\n",
    "1. Январь\n",
    "2. Июнь\n",
    "3. Декабрь\n",
    "4. Сентябрь\n",
    "5. Май"
   ]
  },
  {
   "cell_type": "code",
   "execution_count": null,
   "metadata": {},
   "outputs": [],
   "source": [
    "imdb_df[['release_month', 'imdb_id']].groupby(\n",
    "    ['release_month']).count().sort_values('imdb_id', ascending=False).head(3)"
   ]
  },
  {
   "cell_type": "code",
   "execution_count": 69,
   "metadata": {},
   "outputs": [],
   "source": [
    "answer_ls.append(4)"
   ]
  },
  {
   "cell_type": "markdown",
   "metadata": {},
   "source": [
    "# 28. Сколько суммарно вышло фильмов летом? (за июнь, июль, август)\n",
    "Варианты ответа:\n",
    "1. 345\n",
    "2. 450\n",
    "3. 478\n",
    "4. 523\n",
    "5. 381"
   ]
  },
  {
   "cell_type": "code",
   "execution_count": 70,
   "metadata": {},
   "outputs": [],
   "source": [
    "summer_mnth = [6, 7, 8]"
   ]
  },
  {
   "cell_type": "code",
   "execution_count": 72,
   "metadata": {},
   "outputs": [],
   "source": [
    "# Первый вариант решения\n",
    "imdb_df[['release_date', 'release_month', 'original_title', 'imdb_id']\n",
    "        ].loc[imdb_df['release_month'].isin(summer_mnth)].nunique()"
   ]
  },
  {
   "cell_type": "code",
   "execution_count": null,
   "metadata": {},
   "outputs": [],
   "source": [
    "# Второй вариант - более простой\n",
    "imdb_df['imdb_id'].loc[imdb_df['month_release_date'].isin([6, 7, 8])].count()"
   ]
  },
  {
   "cell_type": "code",
   "execution_count": null,
   "metadata": {},
   "outputs": [],
   "source": [
    "# третий вариант - более простой\n",
    "imdb_df['imdb_id'].loc[imdb_df['month_release_date'].isin([6, 7, 8])].nunique()"
   ]
  },
  {
   "cell_type": "code",
   "execution_count": 73,
   "metadata": {},
   "outputs": [],
   "source": [
    "answer_ls.append(2)"
   ]
  },
  {
   "cell_type": "markdown",
   "metadata": {},
   "source": [
    "# 29. Какой режисер выпускает (суммарно по годам) больше всего фильмов зимой?\n",
    "Варианты ответов:\n",
    "1. Steven Soderbergh\n",
    "2. Christopher Nolan\n",
    "3. Clint Eastwood\n",
    "4. Ridley Scott\n",
    "5. Peter Jackson"
   ]
  },
  {
   "cell_type": "code",
   "execution_count": 76,
   "metadata": {},
   "outputs": [
    {
     "data": {
      "text/plain": [
       "[('Peter Jackson', 7)]"
      ]
     },
     "execution_count": 76,
     "metadata": {},
     "output_type": "execute_result"
    }
   ],
   "source": [
    "# Вариант решения 1 - через каунтер\n",
    "imdb_df[(imdb_df.release_month == 1) | (imdb_df.release_month == 2) | (\n",
    "    imdb_df.release_month == 12)].director_counter.sum().most_common(1)"
   ]
  },
  {
   "cell_type": "code",
   "execution_count": null,
   "metadata": {},
   "outputs": [],
   "source": []
  },
  {
   "cell_type": "code",
   "execution_count": null,
   "metadata": {},
   "outputs": [],
   "source": [
    "# Вариант 2\n",
    "print('Steven Soderbergh снял зимой: ', imdb_df[['season', 'director', 'imdb_id']].loc[(imdb_df.director.apply(\n",
    "    lambda x: 'Steven Soderbergh' in x)) & (imdb_df['season'] == 'winter')]['imdb_id'].nunique())  # .sort_values('imdb_id', ascending = False)\n",
    "print('Christopher Nolan снял зимой: ', imdb_df[['season', 'director', 'imdb_id']].loc[(imdb_df.director.apply(\n",
    "    lambda x: 'Christopher Nolan' in x)) & (imdb_df['season'] == 'winter')]['imdb_id'].nunique())  # .sort_values('imdb_id', ascending = False)\n",
    "print('Clint Eastwood снял зимой: ', imdb_df[['season', 'director', 'imdb_id']].loc[(imdb_df.director.apply(\n",
    "    lambda x: 'Clint Eastwood' in x)) & (imdb_df['season'] == 'winter')]['imdb_id'].nunique())  # .sort_values('imdb_id', ascending = False)\n",
    "print('Ridley Scott снял зимой: ', imdb_df[['season', 'director', 'imdb_id']].loc[(imdb_df.director.apply(\n",
    "    lambda x: 'Ridley Scott' in x)) & (imdb_df['season'] == 'winter')]['imdb_id'].nunique())  # .sort_values('imdb_id', ascending = False)\n",
    "print('Peter Jackson снял зимой: ', imdb_df[['season', 'director', 'imdb_id']].loc[(imdb_df.director.apply(\n",
    "    lambda x: 'Peter Jackson' in x)) & (imdb_df['season'] == 'winter')]['imdb_id'].nunique())  # .sort_values('imdb_id', ascending = False)"
   ]
  },
  {
   "cell_type": "code",
   "execution_count": 77,
   "metadata": {},
   "outputs": [],
   "source": [
    "answer_ls.append(5)"
   ]
  },
  {
   "cell_type": "markdown",
   "metadata": {},
   "source": [
    "# 30. Какой месяц чаще всего по годам самый прибыльный?\n",
    "Варианты ответа:\n",
    "1. Январь\n",
    "2. Июнь\n",
    "3. Декабрь\n",
    "4. Сентябрь\n",
    "5. Май"
   ]
  },
  {
   "cell_type": "code",
   "execution_count": null,
   "metadata": {},
   "outputs": [],
   "source": [
    "# ЧЕРЕЗ PIVOT - короткое и лаконичное решение\n",
    "pivot_best_month = imdb_df[['release_year', 'month_release_date', 'profit']].pivot_table(\n",
    "    values=['profit'],\n",
    "    index=['month_release_date'],\n",
    "    columns=['release_year'],\n",
    "    aggfunc='sum')"
   ]
  },
  {
   "cell_type": "code",
   "execution_count": null,
   "metadata": {},
   "outputs": [],
   "source": [
    "pivot_best_month.idxmax().value_counts()"
   ]
  },
  {
   "cell_type": "code",
   "execution_count": null,
   "metadata": {},
   "outputs": [],
   "source": []
  },
  {
   "cell_type": "code",
   "execution_count": null,
   "metadata": {},
   "outputs": [],
   "source": [
    "# Вариант 2 - длинный и через функции"
   ]
  },
  {
   "cell_type": "code",
   "execution_count": 85,
   "metadata": {},
   "outputs": [],
   "source": [
    "# функция определяет самый прибыльный месяц в году по году\n",
    "def best_profit_month_by_year(year):\n",
    "    best_month = 0\n",
    "    best_month = imdb_df[['profit', 'release_month']].loc[imdb_df['release_year'] == year].groupby(\n",
    "        'release_month').sum().sort_values('profit', ascending=False).head(1).index[0]\n",
    "    return (best_month)"
   ]
  },
  {
   "cell_type": "code",
   "execution_count": 82,
   "metadata": {},
   "outputs": [],
   "source": [
    "years = imdb_df['release_year'].unique()\n",
    "best_month_list = [1, 6, 12, 9, 5]"
   ]
  },
  {
   "cell_type": "code",
   "execution_count": 86,
   "metadata": {},
   "outputs": [],
   "source": [
    "def all_years_best_month(years_list, month_list):\n",
    "    best_month_counter = Counter({1: 0, 6: 0, 12: 0, 9: 0, 5: 0})\n",
    "    # print(month_list)\n",
    "    for year in years_list:\n",
    "        # print(year)\n",
    "        best_month = 0\n",
    "        best_month = best_profit_month_by_year(year)\n",
    "        # print(best_month)\n",
    "        if best_month in month_list:\n",
    "            best_month_counter[best_month] += 1\n",
    "    return(best_month_counter)"
   ]
  },
  {
   "cell_type": "code",
   "execution_count": 87,
   "metadata": {},
   "outputs": [
    {
     "data": {
      "text/plain": [
       "[(6, 7), (12, 4), (5, 4)]"
      ]
     },
     "execution_count": 87,
     "metadata": {},
     "output_type": "execute_result"
    }
   ],
   "source": [
    "all_years_best_month(years, best_month_list).most_common(3)"
   ]
  },
  {
   "cell_type": "code",
   "execution_count": 78,
   "metadata": {},
   "outputs": [],
   "source": [
    "answer_ls.append(2)"
   ]
  },
  {
   "cell_type": "markdown",
   "metadata": {},
   "source": [
    "# 31. Названия фильмов какой студии в среднем самые длинные по количеству символов?\n",
    "Варианты ответа:\n",
    "1. Universal Pictures (Universal)\n",
    "2. Warner Bros\n",
    "3. Jim Henson Company, The\n",
    "4. Paramount Pictures\n",
    "5. Four By Two Productions"
   ]
  },
  {
   "cell_type": "code",
   "execution_count": null,
   "metadata": {},
   "outputs": [],
   "source": [
    "print('Средняя длина названия у Universal: ', round(\n",
    "    imdb_df.loc[imdb_df.production_companies.apply(lambda x: 'Universal' in x)]['len_title'].mean(), 3))\n",
    "print('Средняя длина названия у Warner Bros: ', round(\n",
    "    imdb_df.loc[imdb_df.production_companies.apply(lambda x: 'Warner Bros' in x)]['len_title'].mean(), 3))\n",
    "print('Средняя длина названия у Jim Henson Company, The: ', round(\n",
    "    imdb_df.loc[imdb_df.production_companies.apply(lambda x: 'Jim Henson Company, The' in x)]['len_title'].mean(), 3))\n",
    "print('Средняя длина названия у Paramount Pictures: ', round(\n",
    "    imdb_df.loc[imdb_df.production_companies.apply(lambda x: 'Paramount Pictures' in x)]['len_title'].mean(), 3))\n",
    "print('Средняя длина названия у Four By Two Productions: ', round(\n",
    "    imdb_df.loc[imdb_df.production_companies.apply(lambda x: 'Four By Two Productions' in x)]['len_title'].mean(), 3))"
   ]
  },
  {
   "cell_type": "code",
   "execution_count": 89,
   "metadata": {},
   "outputs": [],
   "source": [
    "answer_ls.append(5)"
   ]
  },
  {
   "cell_type": "markdown",
   "metadata": {},
   "source": [
    "# 32. Названия фильмов какой студии в среднем самые длинные по количеству слов?\n",
    "Варианты ответа:\n",
    "1. Universal Pictures (Universal)\n",
    "2. Warner Bros\n",
    "3. Jim Henson Company, The\n",
    "4. Paramount Pictures\n",
    "5. Four By Two Productions"
   ]
  },
  {
   "cell_type": "code",
   "execution_count": null,
   "metadata": {},
   "outputs": [],
   "source": [
    "print('Средняя длина названия (кол-во слов) у Universal: ',\n",
    "      round(imdb_df.loc[imdb_df.production_companies.apply(lambda x: 'Universal' in x)]['len_word_title_space'].mean(), 3))\n",
    "print('Средняя длина названия (кол-во слов) у Warner Bros: ',\n",
    "      round(imdb_df.loc[imdb_df.production_companies.apply(lambda x: 'Warner Bros' in x)]['len_word_title_space'].mean(), 3))\n",
    "print('Средняя длина названия (кол-во слов) у Jim Henson Company, The: ',\n",
    "      round(imdb_df.loc[imdb_df.production_companies.apply(lambda x: 'Jim Henson Company, The' in x)]['len_word_title_space'].mean(), 3))\n",
    "print('Средняя длина названия (кол-во слов) у Paramount Pictures: ',\n",
    "      round(imdb_df.loc[imdb_df.production_companies.apply(lambda x: 'Paramount Pictures' in x)]['len_word_title_space'].mean(), 3))\n",
    "print('Средняя длина названия (кол-во слов) у Four By Two Productions: ',\n",
    "      round(imdb_df.loc[imdb_df.production_companies.apply(lambda x: 'Four By Two Productions' in x)]['len_word_title_space'].mean(), 3))"
   ]
  },
  {
   "cell_type": "code",
   "execution_count": 91,
   "metadata": {},
   "outputs": [],
   "source": [
    "answer_ls.append(5)"
   ]
  },
  {
   "cell_type": "markdown",
   "metadata": {},
   "source": [
    "# 33. Сколько разных слов используется в названиях фильмов?(без учета регистра)\n",
    "Варианты ответа:\n",
    "1. 6540\n",
    "2. 1002\n",
    "3. 2461\n",
    "4. 28304\n",
    "5. 3432"
   ]
  },
  {
   "cell_type": "code",
   "execution_count": null,
   "metadata": {},
   "outputs": [],
   "source": [
    "# ЧЕРЕЗ SET() - убираем дубли с помощью set()\n",
    "word_list_space = []\n",
    "for title in imdb_df['original_title']:\n",
    "    words = []\n",
    "    words = title.split()\n",
    "    for word in words:\n",
    "        word_list_space.append(word.lower())\n",
    "print(len(set(word_list_space)))"
   ]
  },
  {
   "cell_type": "code",
   "execution_count": null,
   "metadata": {},
   "outputs": [],
   "source": []
  },
  {
   "cell_type": "code",
   "execution_count": null,
   "metadata": {},
   "outputs": [],
   "source": [
    "# способ 2. Через список, добавляем только уникальные + разделитель пробел\n",
    "word_list_space = []\n",
    "for title in imdb_df['original_title']:\n",
    "    words = []\n",
    "    words = title.split()\n",
    "    for word in words:\n",
    "        if word.lower() in word_list_space:\n",
    "            continue\n",
    "        else:\n",
    "            word_list_space.append(word.lower())\n",
    "print(len(word_list_space))"
   ]
  },
  {
   "cell_type": "code",
   "execution_count": null,
   "metadata": {},
   "outputs": [],
   "source": []
  },
  {
   "cell_type": "code",
   "execution_count": null,
   "metadata": {},
   "outputs": [],
   "source": []
  },
  {
   "cell_type": "code",
   "execution_count": null,
   "metadata": {},
   "outputs": [],
   "source": [
    "# Способ 0 полностью через set() - похож на первый\n",
    "word_list = set()\n",
    "for title in imdb_df['original_title']:\n",
    "    words = []\n",
    "    words = title.split()\n",
    "    for word in words:\n",
    "        word_list.add(word.lower())\n",
    "print(len(word_list))"
   ]
  },
  {
   "cell_type": "code",
   "execution_count": 92,
   "metadata": {},
   "outputs": [],
   "source": [
    "answer_ls.append(3)"
   ]
  },
  {
   "cell_type": "markdown",
   "metadata": {},
   "source": [
    "# 34. Какие фильмы входят в 1 процент лучших по рейтингу?\n",
    "Варианты ответа:\n",
    "1. Inside Out, Gone Girl, 12 Years a Slave\n",
    "2. BloodRayne, The Adventures of Rocky & Bullwinkle\n",
    "3. The Lord of the Rings: The Return of the King\n",
    "4. 300, Lucky Number Slevin"
   ]
  },
  {
   "cell_type": "code",
   "execution_count": null,
   "metadata": {},
   "outputs": [],
   "source": [
    "var1_34 = ['Inside Out', 'Gone Girl', '12 Years a Slave']\n",
    "var2_34 = ['BloodRayne', 'The Adventures of Rocky and Bullwinkle']\n",
    "var3_34 = ['The Lord of the Rings: The Return of the King', 'Upside Down']\n",
    "var4_34 = ['300', 'Lucky Number Slevin']\n",
    "var5_34 = ['Upside Down', '300', 'Inside Out',\n",
    "           'The Lord of the Rings: The Return of the King']"
   ]
  },
  {
   "cell_type": "code",
   "execution_count": null,
   "metadata": {},
   "outputs": [],
   "source": [
    "ratio_np_array = imdb_df['vote_average'].to_numpy()"
   ]
  },
  {
   "cell_type": "code",
   "execution_count": null,
   "metadata": {},
   "outputs": [],
   "source": [
    "ratio_perc = np.percentile(ratio_np_array, 99)"
   ]
  },
  {
   "cell_type": "code",
   "execution_count": null,
   "metadata": {},
   "outputs": [],
   "source": [
    "print('Вариант 1 - {} фильма, а получилось: {}'.format(len(var1_34),\n",
    "                                                       len(imdb_df.loc[(imdb_df.vote_average > ratio_perc) & (imdb_df.original_title.isin(var1_34))][['original_title', 'vote_average']])))\n",
    "print('Вариант 2 - {} фильма, а получилось: {}'.format(len(var2_34),\n",
    "                                                       len(imdb_df.loc[(imdb_df.vote_average > ratio_perc) & (imdb_df.original_title.isin(var2_34))][['original_title', 'vote_average']])))\n",
    "print('Вариант 2 - {} фильма, а получилось: {}'.format(len(var3_34),\n",
    "                                                       len(imdb_df.loc[(imdb_df.vote_average > ratio_perc) & (imdb_df.original_title.isin(var3_34))][['original_title', 'vote_average']])))\n",
    "print('Вариант 2 - {} фильма, а получилось: {}'.format(len(var4_34),\n",
    "                                                       len(imdb_df.loc[(imdb_df.vote_average > ratio_perc) & (imdb_df.original_title.isin(var4_34))][['original_title', 'vote_average']])))\n",
    "print('Вариант 2 - {} фильма, а получилось: {}'.format(len(var5_34),\n",
    "                                                       len(imdb_df.loc[(imdb_df.vote_average > ratio_perc) & (imdb_df.original_title.isin(var5_34))][['original_title', 'vote_average']])))"
   ]
  },
  {
   "cell_type": "code",
   "execution_count": 93,
   "metadata": {},
   "outputs": [],
   "source": [
    "answer_ls.append(1)"
   ]
  },
  {
   "cell_type": "markdown",
   "metadata": {},
   "source": [
    "# 35. Какие актеры чаще всего снимаются в одном фильме вместе\n",
    "Варианты ответа:\n",
    "1. Johnny Depp & Helena Bonham Carter\n",
    "2. Hugh Jackman & Ian McKellen\n",
    "3. Vin Diesel & Paul Walker\n",
    "4. Adam Sandler & Kevin James\n",
    "5. Daniel Radcliffe & Rupert Grint"
   ]
  },
  {
   "cell_type": "code",
   "execution_count": null,
   "metadata": {},
   "outputs": [],
   "source": [
    "actor_group_set1 = set(['Johnny Depp', 'Helena Bonham Carter'])\n",
    "actor_group_set2 = set(['Hugh Jackman', 'Ian McKellen'])\n",
    "actor_group_set3 = set(['Vin Diesel', 'Paul Walker'])\n",
    "actor_group_set4 = set(['Adam Sandler', 'Kevin James'])\n",
    "actor_group_set5 = set(['Daniel Radcliffe', 'Rupert Grint'])"
   ]
  },
  {
   "cell_type": "code",
   "execution_count": null,
   "metadata": {},
   "outputs": [],
   "source": [
    "print('Johnny Depp and Helena Bonham Carter снялись вместе в фильмах: ',\n",
    "      imdb_df['actor_list'].loc[imdb_df['actor_list'].apply(lambda x: actor_group_set1.issubset(x))].count())\n",
    "print('Hugh Jackman and Ian McKellen снялись вместе в фильмах: ',\n",
    "      imdb_df['actor_list'].loc[imdb_df['actor_list'].apply(lambda x: actor_group_set2.issubset(x))].count())\n",
    "print('Vin Diesel and Paul Walker снялись вместе в фильмах: ',\n",
    "      imdb_df['actor_list'].loc[imdb_df['actor_list'].apply(lambda x: actor_group_set3.issubset(x))].count())\n",
    "print('Adam Sandler and Kevin James снялись вместе в фильмах: ',\n",
    "      imdb_df['actor_list'].loc[imdb_df['actor_list'].apply(lambda x: actor_group_set4.issubset(x))].count())\n",
    "print('Daniel Radcliffe and Rupert Grint снялись вместе в фильмах: ',\n",
    "      imdb_df['actor_list'].loc[imdb_df['actor_list'].apply(lambda x: actor_group_set5.issubset(x))].count())"
   ]
  },
  {
   "cell_type": "code",
   "execution_count": null,
   "metadata": {},
   "outputs": [],
   "source": []
  },
  {
   "cell_type": "code",
   "execution_count": null,
   "metadata": {},
   "outputs": [],
   "source": [
    "# Второй способ - для тренировки (через combinations + Counter)\n",
    "imdb_df['actor_pair_counter'].sum().most_common(5)"
   ]
  },
  {
   "cell_type": "code",
   "execution_count": null,
   "metadata": {},
   "outputs": [],
   "source": [
    "# или можно для каждой пары поискать по ключу конекретное значение:\n",
    "imdb_df['actor_pair_counter'].sum()[('Daniel Radcliffe', 'Rupert Grint')]"
   ]
  },
  {
   "cell_type": "code",
   "execution_count": 94,
   "metadata": {},
   "outputs": [],
   "source": [
    "answer_ls.append(5)"
   ]
  },
  {
   "cell_type": "markdown",
   "metadata": {},
   "source": [
    "# 36. У какого из режиссеров выше вероятность выпустить фильм в прибыли? (5 баллов)101\n",
    "Варианты ответа:\n",
    "1. Quentin Tarantino\n",
    "2. Steven Soderbergh\n",
    "3. Robert Rodriguez\n",
    "4. Christopher Nolan\n",
    "5. Clint Eastwood"
   ]
  },
  {
   "cell_type": "code",
   "execution_count": 95,
   "metadata": {},
   "outputs": [],
   "source": [
    "director_best_list = ['Quentin Tarantino',\n",
    "                      'Steven Soderbergh',\n",
    "                      'Robert Rodriguez',\n",
    "                      'Christopher Nolan',\n",
    "                      'Clint Eastwood']"
   ]
  },
  {
   "cell_type": "code",
   "execution_count": 96,
   "metadata": {},
   "outputs": [],
   "source": [
    "def profit_film_perc(name):\n",
    "    ratio = imdb_df['director_counter'].loc[(imdb_df.profit > 0) & (imdb_df.director.apply(lambda x: name in x))].sum()[\n",
    "        name]/imdb_df['director_counter'].loc[(imdb_df.director.apply(lambda x: name in x))].sum()[name]\n",
    "    return ratio"
   ]
  },
  {
   "cell_type": "code",
   "execution_count": 97,
   "metadata": {},
   "outputs": [
    {
     "name": "stdout",
     "output_type": "stream",
     "text": [
      "У Quentin Tarantino рейтинг такой: 85.71%\n",
      "У Steven Soderbergh рейтинг такой: 76.92%\n",
      "У Robert Rodriguez рейтинг такой: 72.73%\n",
      "У Christopher Nolan рейтинг такой: 100.00%\n",
      "У Clint Eastwood рейтинг такой: 83.33%\n"
     ]
    }
   ],
   "source": [
    "for name in director_best_list:\n",
    "    print('У {} рейтинг такой: {:.2%}'.format(name, profit_film_perc(name)))"
   ]
  },
  {
   "cell_type": "code",
   "execution_count": 98,
   "metadata": {},
   "outputs": [],
   "source": [
    "answer_ls.append(4)"
   ]
  },
  {
   "cell_type": "markdown",
   "metadata": {},
   "source": [
    "# Submission"
   ]
  },
  {
   "cell_type": "code",
   "execution_count": 99,
   "metadata": {},
   "outputs": [
    {
     "data": {
      "text/plain": [
       "36"
      ]
     },
     "execution_count": 99,
     "metadata": {},
     "output_type": "execute_result"
    }
   ],
   "source": [
    "len(answer_ls)"
   ]
  },
  {
   "cell_type": "code",
   "execution_count": 100,
   "metadata": {},
   "outputs": [
    {
     "data": {
      "text/html": [
       "<div>\n",
       "<style scoped>\n",
       "    .dataframe tbody tr th:only-of-type {\n",
       "        vertical-align: middle;\n",
       "    }\n",
       "\n",
       "    .dataframe tbody tr th {\n",
       "        vertical-align: top;\n",
       "    }\n",
       "\n",
       "    .dataframe thead th {\n",
       "        text-align: right;\n",
       "    }\n",
       "</style>\n",
       "<table border=\"1\" class=\"dataframe\">\n",
       "  <thead>\n",
       "    <tr style=\"text-align: right;\">\n",
       "      <th></th>\n",
       "      <th>Id</th>\n",
       "      <th>Answer</th>\n",
       "    </tr>\n",
       "  </thead>\n",
       "  <tbody>\n",
       "    <tr>\n",
       "      <th>0</th>\n",
       "      <td>1</td>\n",
       "      <td>4</td>\n",
       "    </tr>\n",
       "    <tr>\n",
       "      <th>1</th>\n",
       "      <td>2</td>\n",
       "      <td>2</td>\n",
       "    </tr>\n",
       "    <tr>\n",
       "      <th>2</th>\n",
       "      <td>3</td>\n",
       "      <td>3</td>\n",
       "    </tr>\n",
       "    <tr>\n",
       "      <th>3</th>\n",
       "      <td>4</td>\n",
       "      <td>2</td>\n",
       "    </tr>\n",
       "    <tr>\n",
       "      <th>4</th>\n",
       "      <td>5</td>\n",
       "      <td>1</td>\n",
       "    </tr>\n",
       "    <tr>\n",
       "      <th>5</th>\n",
       "      <td>6</td>\n",
       "      <td>5</td>\n",
       "    </tr>\n",
       "    <tr>\n",
       "      <th>6</th>\n",
       "      <td>7</td>\n",
       "      <td>2</td>\n",
       "    </tr>\n",
       "    <tr>\n",
       "      <th>7</th>\n",
       "      <td>8</td>\n",
       "      <td>1</td>\n",
       "    </tr>\n",
       "    <tr>\n",
       "      <th>8</th>\n",
       "      <td>9</td>\n",
       "      <td>4</td>\n",
       "    </tr>\n",
       "    <tr>\n",
       "      <th>9</th>\n",
       "      <td>10</td>\n",
       "      <td>5</td>\n",
       "    </tr>\n",
       "    <tr>\n",
       "      <th>10</th>\n",
       "      <td>11</td>\n",
       "      <td>3</td>\n",
       "    </tr>\n",
       "    <tr>\n",
       "      <th>11</th>\n",
       "      <td>12</td>\n",
       "      <td>3</td>\n",
       "    </tr>\n",
       "    <tr>\n",
       "      <th>12</th>\n",
       "      <td>13</td>\n",
       "      <td>3</td>\n",
       "    </tr>\n",
       "    <tr>\n",
       "      <th>13</th>\n",
       "      <td>14</td>\n",
       "      <td>2</td>\n",
       "    </tr>\n",
       "    <tr>\n",
       "      <th>14</th>\n",
       "      <td>15</td>\n",
       "      <td>5</td>\n",
       "    </tr>\n",
       "    <tr>\n",
       "      <th>15</th>\n",
       "      <td>16</td>\n",
       "      <td>1</td>\n",
       "    </tr>\n",
       "    <tr>\n",
       "      <th>16</th>\n",
       "      <td>17</td>\n",
       "      <td>3</td>\n",
       "    </tr>\n",
       "    <tr>\n",
       "      <th>17</th>\n",
       "      <td>18</td>\n",
       "      <td>3</td>\n",
       "    </tr>\n",
       "    <tr>\n",
       "      <th>18</th>\n",
       "      <td>19</td>\n",
       "      <td>2</td>\n",
       "    </tr>\n",
       "    <tr>\n",
       "      <th>19</th>\n",
       "      <td>20</td>\n",
       "      <td>1</td>\n",
       "    </tr>\n",
       "    <tr>\n",
       "      <th>20</th>\n",
       "      <td>21</td>\n",
       "      <td>4</td>\n",
       "    </tr>\n",
       "    <tr>\n",
       "      <th>21</th>\n",
       "      <td>22</td>\n",
       "      <td>2</td>\n",
       "    </tr>\n",
       "    <tr>\n",
       "      <th>22</th>\n",
       "      <td>23</td>\n",
       "      <td>3</td>\n",
       "    </tr>\n",
       "    <tr>\n",
       "      <th>23</th>\n",
       "      <td>24</td>\n",
       "      <td>1</td>\n",
       "    </tr>\n",
       "    <tr>\n",
       "      <th>24</th>\n",
       "      <td>25</td>\n",
       "      <td>5</td>\n",
       "    </tr>\n",
       "    <tr>\n",
       "      <th>25</th>\n",
       "      <td>26</td>\n",
       "      <td>1</td>\n",
       "    </tr>\n",
       "    <tr>\n",
       "      <th>26</th>\n",
       "      <td>27</td>\n",
       "      <td>4</td>\n",
       "    </tr>\n",
       "    <tr>\n",
       "      <th>27</th>\n",
       "      <td>28</td>\n",
       "      <td>2</td>\n",
       "    </tr>\n",
       "    <tr>\n",
       "      <th>28</th>\n",
       "      <td>29</td>\n",
       "      <td>5</td>\n",
       "    </tr>\n",
       "    <tr>\n",
       "      <th>29</th>\n",
       "      <td>30</td>\n",
       "      <td>2</td>\n",
       "    </tr>\n",
       "    <tr>\n",
       "      <th>30</th>\n",
       "      <td>31</td>\n",
       "      <td>5</td>\n",
       "    </tr>\n",
       "    <tr>\n",
       "      <th>31</th>\n",
       "      <td>32</td>\n",
       "      <td>5</td>\n",
       "    </tr>\n",
       "    <tr>\n",
       "      <th>32</th>\n",
       "      <td>33</td>\n",
       "      <td>3</td>\n",
       "    </tr>\n",
       "    <tr>\n",
       "      <th>33</th>\n",
       "      <td>34</td>\n",
       "      <td>1</td>\n",
       "    </tr>\n",
       "    <tr>\n",
       "      <th>34</th>\n",
       "      <td>35</td>\n",
       "      <td>5</td>\n",
       "    </tr>\n",
       "    <tr>\n",
       "      <th>35</th>\n",
       "      <td>36</td>\n",
       "      <td>4</td>\n",
       "    </tr>\n",
       "  </tbody>\n",
       "</table>\n",
       "</div>"
      ],
      "text/plain": [
       "    Id  Answer\n",
       "0    1       4\n",
       "1    2       2\n",
       "2    3       3\n",
       "3    4       2\n",
       "4    5       1\n",
       "5    6       5\n",
       "6    7       2\n",
       "7    8       1\n",
       "8    9       4\n",
       "9   10       5\n",
       "10  11       3\n",
       "11  12       3\n",
       "12  13       3\n",
       "13  14       2\n",
       "14  15       5\n",
       "15  16       1\n",
       "16  17       3\n",
       "17  18       3\n",
       "18  19       2\n",
       "19  20       1\n",
       "20  21       4\n",
       "21  22       2\n",
       "22  23       3\n",
       "23  24       1\n",
       "24  25       5\n",
       "25  26       1\n",
       "26  27       4\n",
       "27  28       2\n",
       "28  29       5\n",
       "29  30       2\n",
       "30  31       5\n",
       "31  32       5\n",
       "32  33       3\n",
       "33  34       1\n",
       "34  35       5\n",
       "35  36       4"
      ]
     },
     "execution_count": 100,
     "metadata": {},
     "output_type": "execute_result"
    }
   ],
   "source": [
    "pd.DataFrame({'Id': range(1, len(answer_ls)+1),\n",
    "              'Answer': answer_ls}, columns=['Id', 'Answer'])"
   ]
  },
  {
   "cell_type": "markdown",
   "metadata": {},
   "source": [
    "## Как видится, интереснее было бы сделать так, чтобы прибыль на режиссера (актера/студию/...) была не прибыль на весь фильм, а часть прибыли пропорционально кол-ву сущностей на каждый фильм :)"
   ]
  },
  {
   "cell_type": "code",
   "execution_count": null,
   "metadata": {},
   "outputs": [],
   "source": []
  }
 ],
 "metadata": {
  "kernelspec": {
   "display_name": "Python 3",
   "language": "python",
   "name": "python3"
  },
  "language_info": {
   "codemirror_mode": {
    "name": "ipython",
    "version": 3
   },
   "file_extension": ".py",
   "mimetype": "text/x-python",
   "name": "python",
   "nbconvert_exporter": "python",
   "pygments_lexer": "ipython3",
   "version": "3.7.3"
  }
 },
 "nbformat": 4,
 "nbformat_minor": 4
}
