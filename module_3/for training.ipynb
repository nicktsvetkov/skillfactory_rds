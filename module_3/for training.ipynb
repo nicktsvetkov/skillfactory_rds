{
 "cells": [
  {
   "cell_type": "code",
   "execution_count": 1,
   "metadata": {},
   "outputs": [],
   "source": [
    "import pandas as pd\n",
    "import re\n",
    "import numpy as np\n",
    "import seaborn as sns\n",
    "import matplotlib.pyplot as plt\n",
    "import collections as cl\n",
    "from datetime import datetime\n",
    "from math import radians, sin, cos, asin, sqrt\n",
    "from sklearn.cluster import DBSCAN\n",
    "from sklearn.preprocessing import MinMaxScaler\n",
    "from sklearn.preprocessing import PolynomialFeatures\n",
    "from sklearn.preprocessing import StandardScaler\n",
    "import warnings\n",
    "from scipy.stats import norm\n",
    "\n",
    "%matplotlib inline"
   ]
  },
  {
   "cell_type": "code",
   "execution_count": 2,
   "metadata": {},
   "outputs": [],
   "source": [
    "# Restaurant_id — идентификационный номер ресторана / сети ресторанов;\n",
    "# City — город, в котором находится ресторан;\n",
    "# Cuisine Style — кухня или кухни, к которым можно отнести блюда, предлагаемые в ресторане;\n",
    "# Ranking — место, которое занимает данный ресторан среди всех ресторанов своего города;\n",
    "# Rating — рейтинг ресторана по данным TripAdvisor (именно это значение должна будет предсказывать модель);\n",
    "# Price Range — диапазон цен в ресторане;\n",
    "# Number of Reviews — количество отзывов о ресторане;\n",
    "# Reviews — данные о двух отзывах, которые отображаются на сайте ресторана;\n",
    "# URL_TA — URL страницы ресторана на TripAdvosor;\n",
    "# ID_TA — идентификатор ресторана в базе данных TripAdvisor."
   ]
  },
  {
   "cell_type": "code",
   "execution_count": 5,
   "metadata": {},
   "outputs": [],
   "source": [
    "df = pd.read_csv('main_task.csv')"
   ]
  },
  {
   "cell_type": "code",
   "execution_count": 6,
   "metadata": {},
   "outputs": [
    {
     "data": {
      "text/plain": [
       "125"
      ]
     },
     "execution_count": 6,
     "metadata": {},
     "output_type": "execute_result"
    }
   ],
   "source": [
    "# 4.3\n",
    "# сколько типов кухонь представлено\n",
    "cuisins = []\n",
    "for lst in df['Cuisine Style'].loc[df['Cuisine Style'].isna()!=True].str.replace('[','').str.replace(']','').str.split(', '):\n",
    "    cuisins+=lst\n",
    "len(set(cuisins))"
   ]
  },
  {
   "cell_type": "code",
   "execution_count": 7,
   "metadata": {},
   "outputs": [
    {
     "data": {
      "text/plain": [
       "[(\"'Vegetarian Friendly'\", 11189)]"
      ]
     },
     "execution_count": 7,
     "metadata": {},
     "output_type": "execute_result"
    }
   ],
   "source": [
    "# какая хухня представлена в наибольшем кол-ве ресторанов\n",
    "c= cl.Counter()\n",
    "for lst in df['Cuisine Style'].loc[df['Cuisine Style'].isna()!=True].str.replace('[','').str.replace(']','').str.split(', '):\n",
    "    for item in lst:\n",
    "        c[item]+=1\n",
    "c.most_common(1)"
   ]
  },
  {
   "cell_type": "code",
   "execution_count": 8,
   "metadata": {},
   "outputs": [
    {
     "data": {
      "text/plain": [
       "2.6224"
      ]
     },
     "execution_count": 8,
     "metadata": {},
     "output_type": "execute_result"
    }
   ],
   "source": [
    "df['Cuisine Style'].fillna('other').str.replace('[','').str.replace(']','').str.split(', ').apply(len).mean()"
   ]
  },
  {
   "cell_type": "code",
   "execution_count": null,
   "metadata": {},
   "outputs": [],
   "source": []
  },
  {
   "cell_type": "code",
   "execution_count": null,
   "metadata": {},
   "outputs": [],
   "source": []
  },
  {
   "cell_type": "markdown",
   "metadata": {},
   "source": [
    "## Что не включил в паййплайн"
   ]
  },
  {
   "cell_type": "code",
   "execution_count": 1,
   "metadata": {},
   "outputs": [],
   "source": [
    "# Для нормализации датафрейма через библиотеку мешает пазница в размерностях новой колонки и номрализуемого диапазона\n",
    "#scaler = MinMaxScaler()\n",
    "#scaler.fit_transform(df['cuisine_index'].loc[df.city == 'London'].values.reshape(-1,1))"
   ]
  },
  {
   "cell_type": "markdown",
   "metadata": {},
   "source": [
    "#### Извращаться с логарифмированием и взятием квадратного корня тоже не буду, т.к. для RF это не поомжет. С этого места пропускаем¶"
   ]
  },
  {
   "cell_type": "code",
   "execution_count": null,
   "metadata": {},
   "outputs": [],
   "source": [
    "# добавляем колонки с логарифмом и корнем\n",
    "df['ranking_sqrt']=df['ranking'].apply(np.sqrt)"
   ]
  },
  {
   "cell_type": "code",
   "execution_count": null,
   "metadata": {},
   "outputs": [],
   "source": [
    "dic_norm_city_ranking_sqrt = {}\n",
    "for city in cities:\n",
    "    dic_norm_ranking_params ={}\n",
    "    max = df.loc[df.city==city]['ranking_sqrt'].max()\n",
    "    min=df.loc[df.city==city]['ranking_sqrt'].min()\n",
    "    dic_norm_ranking_params['max']=max\n",
    "    dic_norm_ranking_params['min']=min\n",
    "    dic_norm_city_ranking_sqrt[city]=dic_norm_ranking_params"
   ]
  },
  {
   "cell_type": "code",
   "execution_count": null,
   "metadata": {},
   "outputs": [],
   "source": [
    "def mm_norm_ranking_in_city_sqrt(id):\n",
    "    ct = df.loc[df.ID_TA==id]['city'].iloc[0]\n",
    "    rank = df.loc[df.ID_TA==id]['ranking_sqrt'].iloc[0]\n",
    "    max = dic_norm_city_ranking_sqrt[ct]['max']\n",
    "    min = dic_norm_city_ranking_sqrt[ct]['min']\n",
    "    rank_norm = (rank - min)/(max-min)\n",
    "    return rank_norm"
   ]
  },
  {
   "cell_type": "code",
   "execution_count": null,
   "metadata": {},
   "outputs": [],
   "source": [
    "df['ranking_mmnorm_sqrt']=df['ID_TA'].apply(mm_norm_ranking_in_city_sqrt)"
   ]
  },
  {
   "cell_type": "code",
   "execution_count": null,
   "metadata": {},
   "outputs": [],
   "source": [
    "df['ranking_log']=df['ranking'].apply(np.log)"
   ]
  },
  {
   "cell_type": "code",
   "execution_count": null,
   "metadata": {},
   "outputs": [],
   "source": [
    "dic_norm_city_ranking_log = {}\n",
    "for city in cities:\n",
    "    dic_norm_ranking_params ={}\n",
    "    max = df.loc[df.city==city]['ranking_log'].max()\n",
    "    min=df.loc[df.city==city]['ranking_log'].min()\n",
    "    dic_norm_ranking_params['max']=max\n",
    "    dic_norm_ranking_params['min']=min\n",
    "    dic_norm_city_ranking_log[city]=dic_norm_ranking_params"
   ]
  },
  {
   "cell_type": "code",
   "execution_count": null,
   "metadata": {},
   "outputs": [],
   "source": [
    "def mm_norm_ranking_in_city_log(id):\n",
    "    ct = df.loc[df.ID_TA==id]['city'].iloc[0]\n",
    "    rank = df.loc[df.ID_TA==id]['ranking_log'].iloc[0]\n",
    "    max = dic_norm_city_ranking_log[ct]['max']\n",
    "    min = dic_norm_city_ranking_log[ct]['min']\n",
    "    rank_norm = (rank - min)/(max-min)\n",
    "    return rank_norm"
   ]
  },
  {
   "cell_type": "code",
   "execution_count": null,
   "metadata": {},
   "outputs": [],
   "source": [
    "df['ranking_mmnorm_log']=df['ID_TA'].apply(mm_norm_ranking_in_city_log)"
   ]
  },
  {
   "cell_type": "code",
   "execution_count": null,
   "metadata": {},
   "outputs": [],
   "source": []
  },
  {
   "cell_type": "code",
   "execution_count": null,
   "metadata": {},
   "outputs": [],
   "source": [
    "### Про выбросы"
   ]
  },
  {
   "cell_type": "code",
   "execution_count": null,
   "metadata": {},
   "outputs": [],
   "source": [
    "df.number_of_reviews.loc[df.number_of_reviews<3].count()\n",
    "# минимально два отзыва"
   ]
  },
  {
   "cell_type": "code",
   "execution_count": null,
   "metadata": {},
   "outputs": [],
   "source": [
    "df['URL_TA'].loc[df.number_of_reviews>6000].iloc[1]"
   ]
  },
  {
   "cell_type": "code",
   "execution_count": null,
   "metadata": {},
   "outputs": [],
   "source": [
    "df[['number_of_reviews', 'URL_TA']].loc[df.number_of_reviews>6000]"
   ]
  },
  {
   "cell_type": "code",
   "execution_count": null,
   "metadata": {},
   "outputs": [],
   "source": [
    "df.iloc[19251]['URL_TA']"
   ]
  },
  {
   "cell_type": "code",
   "execution_count": null,
   "metadata": {},
   "outputs": [],
   "source": [
    "df.number_of_reviews.hist(bins=100)"
   ]
  },
  {
   "cell_type": "code",
   "execution_count": null,
   "metadata": {},
   "outputs": [],
   "source": [
    "df.number_of_reviews.apply(np.sqrt).hist(bins=50)"
   ]
  },
  {
   "cell_type": "code",
   "execution_count": null,
   "metadata": {},
   "outputs": [],
   "source": [
    "df.number_of_reviews.apply(np.log).hist(bins=50)"
   ]
  },
  {
   "cell_type": "markdown",
   "metadata": {},
   "source": [
    "##### Выбросы есть. Попробуем их найти"
   ]
  },
  {
   "cell_type": "code",
   "execution_count": null,
   "metadata": {},
   "outputs": [],
   "source": [
    "df.number_of_reviews.quantile(0.99)"
   ]
  },
  {
   "cell_type": "code",
   "execution_count": null,
   "metadata": {},
   "outputs": [],
   "source": [
    "# Кажется на глаз, что значения больше 1600-1800 являются выбросами"
   ]
  },
  {
   "cell_type": "code",
   "execution_count": null,
   "metadata": {},
   "outputs": [],
   "source": [
    "# межквантильный интервал"
   ]
  },
  {
   "cell_type": "code",
   "execution_count": null,
   "metadata": {},
   "outputs": [],
   "source": [
    "def out_iqr(val):\n",
    "    q1 = val.quantile(0.25)\n",
    "    q3 = val.quantile(0.75)\n",
    "    print(q1, q3)\n",
    "    iqr = q3 - q1\n",
    "    print(iqr)\n",
    "    upper_bound = q3 + (1.5*iqr)\n",
    "    print(upper_bound)\n",
    "    lower_bound = q1 - (1.5*iqr) \n",
    "    print(lower_bound)\n",
    "    return np.where((val > upper_bound) | (val < lower_bound))[0]"
   ]
  },
  {
   "cell_type": "code",
   "execution_count": null,
   "metadata": {},
   "outputs": [],
   "source": [
    "out_ranking_iqr=out_iqr(df.number_of_reviews)"
   ]
  },
  {
   "cell_type": "code",
   "execution_count": null,
   "metadata": {},
   "outputs": [],
   "source": [
    "# Анализ IQR показал, что значения выше 274 - выбросы"
   ]
  },
  {
   "cell_type": "code",
   "execution_count": 2,
   "metadata": {},
   "outputs": [],
   "source": [
    "# z-score на три отклонения"
   ]
  },
  {
   "cell_type": "code",
   "execution_count": null,
   "metadata": {},
   "outputs": [],
   "source": [
    "def outliers_z_score(val, threshold=3):\n",
    "    mean = np.mean(val)\n",
    "    std= np.std(val)\n",
    "    z_scores = [(item - mean) / std for item in val]\n",
    "    return np.where(np.abs(z_scores) > threshold)[0]"
   ]
  },
  {
   "cell_type": "code",
   "execution_count": null,
   "metadata": {},
   "outputs": [],
   "source": [
    "with warnings.catch_warnings():\n",
    "    warnings.simplefilter('ignore')\n",
    "    out = outliers_z_score(df.number_of_reviews)"
   ]
  },
  {
   "cell_type": "code",
   "execution_count": null,
   "metadata": {},
   "outputs": [],
   "source": [
    "len(df.number_of_reviews.loc[df.number_of_reviews>1000])"
   ]
  },
  {
   "cell_type": "code",
   "execution_count": null,
   "metadata": {},
   "outputs": [],
   "source": [
    "# анализ показал, что начиная прмиерно с 1000 - выбросы"
   ]
  },
  {
   "cell_type": "code",
   "execution_count": null,
   "metadata": {},
   "outputs": [],
   "source": []
  },
  {
   "cell_type": "code",
   "execution_count": null,
   "metadata": {},
   "outputs": [],
   "source": [
    "# поиск по распределению"
   ]
  },
  {
   "cell_type": "code",
   "execution_count": null,
   "metadata": {},
   "outputs": [],
   "source": [
    "def estimate_gaussian(val):\n",
    "    mu = np.mean(val, axis=0)\n",
    "    sigma = np.cov(val.T)\n",
    "    return mu, sigma\n",
    "    \n",
    "def get_gaussian(mu, sigma):\n",
    "    distribution = norm(mu, sigma)\n",
    "    return distribution\n",
    "\n",
    "def get_probs(distribution, val):\n",
    "    return distribution.pdf(val)"
   ]
  },
  {
   "cell_type": "code",
   "execution_count": null,
   "metadata": {},
   "outputs": [],
   "source": [
    "mu, sigma = estimate_gaussian(df.number_of_reviews.dropna())\n",
    "print(mu, sigma)\n",
    "distribution = get_gaussian(mu, sigma)\n",
    "probabilities = get_probs(distribution, df.number_of_reviews.dropna())"
   ]
  },
  {
   "cell_type": "code",
   "execution_count": null,
   "metadata": {},
   "outputs": [],
   "source": [
    "out_dist = np.where(probabilities < 0.999)[0]\n",
    "len(out_dist)"
   ]
  },
  {
   "cell_type": "code",
   "execution_count": null,
   "metadata": {},
   "outputs": [],
   "source": [
    "mu, sigma = estimate_gaussian(df.number_of_reviews.apply(np.log).dropna())\n",
    "print(mu, sigma)\n",
    "distribution = get_gaussian(mu, sigma)\n",
    "probabilities = get_probs(distribution, df.number_of_reviews.apply(np.log).dropna())"
   ]
  },
  {
   "cell_type": "code",
   "execution_count": null,
   "metadata": {},
   "outputs": [],
   "source": []
  },
  {
   "cell_type": "code",
   "execution_count": null,
   "metadata": {},
   "outputs": [],
   "source": [
    "out_dist = np.where(probabilities < 0.05)[0]\n",
    "len(out_dist)"
   ]
  },
  {
   "cell_type": "code",
   "execution_count": null,
   "metadata": {},
   "outputs": [],
   "source": [
    "mu, sigma = estimate_gaussian(df.number_of_reviews.apply(np.sqrt).dropna())\n",
    "print(mu, sigma)\n",
    "distribution = get_gaussian(mu, sigma)\n",
    "probabilities = get_probs(distribution, df.number_of_reviews.apply(np.sqrt).dropna())"
   ]
  },
  {
   "cell_type": "code",
   "execution_count": null,
   "metadata": {},
   "outputs": [],
   "source": []
  },
  {
   "cell_type": "code",
   "execution_count": null,
   "metadata": {},
   "outputs": [],
   "source": [
    "out_dist = np.where(probabilities < 0.014)[0]\n",
    "len(out_dist)"
   ]
  },
  {
   "cell_type": "code",
   "execution_count": null,
   "metadata": {},
   "outputs": [],
   "source": [
    "# показывает какую-то дичь"
   ]
  },
  {
   "cell_type": "code",
   "execution_count": null,
   "metadata": {},
   "outputs": [],
   "source": []
  },
  {
   "cell_type": "code",
   "execution_count": null,
   "metadata": {},
   "outputs": [],
   "source": [
    "# DBSCAN"
   ]
  },
  {
   "cell_type": "code",
   "execution_count": null,
   "metadata": {},
   "outputs": [],
   "source": [
    "a = np.array(df['number_of_reviews'].dropna().values).reshape(-1, 1)"
   ]
  },
  {
   "cell_type": "code",
   "execution_count": null,
   "metadata": {},
   "outputs": [],
   "source": [
    "out_dbscan = DBSCAN(eps=0.5, min_samples=10).fit(a)"
   ]
  },
  {
   "cell_type": "code",
   "execution_count": null,
   "metadata": {},
   "outputs": [],
   "source": [
    "len(np.where(out_dbscan.labels_ == -1)[0])"
   ]
  },
  {
   "cell_type": "code",
   "execution_count": null,
   "metadata": {},
   "outputs": [],
   "source": [
    "# поиск пересечения\n",
    "len(set(np.where(out_dbscan.labels_ == -1)[0]).intersection(set(out)).intersection(set(out_ranking_iqr)))"
   ]
  },
  {
   "cell_type": "markdown",
   "metadata": {},
   "source": [
    "##### Пересечение дало всего 45 значений. RandomForest нечувствителен к выбросам, поэтому забьем"
   ]
  },
  {
   "cell_type": "code",
   "execution_count": null,
   "metadata": {},
   "outputs": [],
   "source": []
  },
  {
   "cell_type": "code",
   "execution_count": null,
   "metadata": {},
   "outputs": [],
   "source": []
  },
  {
   "cell_type": "code",
   "execution_count": null,
   "metadata": {},
   "outputs": [],
   "source": []
  }
 ],
 "metadata": {
  "kernelspec": {
   "display_name": "Python 3",
   "language": "python",
   "name": "python3"
  },
  "language_info": {
   "codemirror_mode": {
    "name": "ipython",
    "version": 3
   },
   "file_extension": ".py",
   "mimetype": "text/x-python",
   "name": "python",
   "nbconvert_exporter": "python",
   "pygments_lexer": "ipython3",
   "version": "3.7.3"
  }
 },
 "nbformat": 4,
 "nbformat_minor": 2
}
