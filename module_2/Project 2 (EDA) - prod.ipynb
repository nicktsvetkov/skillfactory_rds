{
 "cells": [
  {
   "cell_type": "code",
   "execution_count": 1,
   "metadata": {},
   "outputs": [],
   "source": [
    "import pandas as pd\n",
    "import numpy as np\n",
    "import matplotlib.pyplot as plt\n",
    "import seaborn as sns\n",
    "from itertools import combinations\n",
    "from scipy.stats import ttest_ind\n",
    "from statsmodels.stats import weightstats as ws\n",
    "from pandas import isnull"
   ]
  },
  {
   "cell_type": "code",
   "execution_count": 2,
   "metadata": {},
   "outputs": [],
   "source": [
    "pd.set_option('display.max_rows', 50)\n",
    "pd.set_option('display.max_columns', 50)"
   ]
  },
  {
   "cell_type": "code",
   "execution_count": 3,
   "metadata": {},
   "outputs": [],
   "source": [
    "sns.set()"
   ]
  },
  {
   "cell_type": "markdown",
   "metadata": {},
   "source": [
    "### Суть проекта — отследить влияние условий жизни учащихся в возрасте от 15 до 22 лет на их успеваемость по математике, чтобы на ранней стадии выявлять студентов, находящихся в группе риска"
   ]
  },
  {
   "cell_type": "code",
   "execution_count": 4,
   "metadata": {},
   "outputs": [],
   "source": [
    "df = pd.read_csv('stud_math.csv')"
   ]
  },
  {
   "cell_type": "code",
   "execution_count": 108,
   "metadata": {},
   "outputs": [],
   "source": [
    "df1 = pd.read_csv('stud_math.csv')"
   ]
  },
  {
   "cell_type": "code",
   "execution_count": 109,
   "metadata": {},
   "outputs": [],
   "source": [
    "df1.columns = ['school', 'sex', 'age', 'addr_type', 'famsize', 'p_status', 'm_edu', 'f_edu',\n",
    "               'm_job', 'f_job', 'reason', 'guardian', 'traveltime', 'studytime',\n",
    "               'failures', 'schoolsup', 'famsup', 'paid_math', 'activities', 'nursery',\n",
    "               'studytime_gran', 'higher', 'internet', 'romantic', 'famrel',\n",
    "               'freetime', 'go_out', 'health', 'absences', 'score']"
   ]
  },
  {
   "cell_type": "code",
   "execution_count": null,
   "metadata": {},
   "outputs": [],
   "source": []
  },
  {
   "cell_type": "code",
   "execution_count": null,
   "metadata": {},
   "outputs": [],
   "source": []
  },
  {
   "cell_type": "code",
   "execution_count": 111,
   "metadata": {},
   "outputs": [],
   "source": [
    "for col in colstodigit_list_small:\n",
    "    df1[col+'_dig'] = df1[col].apply(lambda x: simple_dic_small[x]\n",
    "                                     if isnull(x) is False else x)"
   ]
  },
  {
   "cell_type": "code",
   "execution_count": null,
   "metadata": {},
   "outputs": [],
   "source": []
  },
  {
   "cell_type": "code",
   "execution_count": 5,
   "metadata": {},
   "outputs": [
    {
     "data": {
      "text/html": [
       "<div>\n",
       "<style scoped>\n",
       "    .dataframe tbody tr th:only-of-type {\n",
       "        vertical-align: middle;\n",
       "    }\n",
       "\n",
       "    .dataframe tbody tr th {\n",
       "        vertical-align: top;\n",
       "    }\n",
       "\n",
       "    .dataframe thead th {\n",
       "        text-align: right;\n",
       "    }\n",
       "</style>\n",
       "<table border=\"1\" class=\"dataframe\">\n",
       "  <thead>\n",
       "    <tr style=\"text-align: right;\">\n",
       "      <th></th>\n",
       "      <th>school</th>\n",
       "      <th>sex</th>\n",
       "      <th>age</th>\n",
       "      <th>address</th>\n",
       "      <th>famsize</th>\n",
       "      <th>Pstatus</th>\n",
       "      <th>Medu</th>\n",
       "      <th>Fedu</th>\n",
       "      <th>Mjob</th>\n",
       "      <th>Fjob</th>\n",
       "      <th>reason</th>\n",
       "      <th>guardian</th>\n",
       "      <th>traveltime</th>\n",
       "      <th>studytime</th>\n",
       "      <th>failures</th>\n",
       "      <th>schoolsup</th>\n",
       "      <th>famsup</th>\n",
       "      <th>paid</th>\n",
       "      <th>activities</th>\n",
       "      <th>nursery</th>\n",
       "      <th>studytime, granular</th>\n",
       "      <th>higher</th>\n",
       "      <th>internet</th>\n",
       "      <th>romantic</th>\n",
       "      <th>famrel</th>\n",
       "      <th>freetime</th>\n",
       "      <th>goout</th>\n",
       "      <th>health</th>\n",
       "      <th>absences</th>\n",
       "      <th>score</th>\n",
       "    </tr>\n",
       "  </thead>\n",
       "  <tbody>\n",
       "    <tr>\n",
       "      <th>44</th>\n",
       "      <td>GP</td>\n",
       "      <td>F</td>\n",
       "      <td>16</td>\n",
       "      <td>U</td>\n",
       "      <td>LE3</td>\n",
       "      <td>T</td>\n",
       "      <td>2.0</td>\n",
       "      <td>2.0</td>\n",
       "      <td>other</td>\n",
       "      <td>NaN</td>\n",
       "      <td>course</td>\n",
       "      <td>father</td>\n",
       "      <td>2.0</td>\n",
       "      <td>2.0</td>\n",
       "      <td>1.0</td>\n",
       "      <td>yes</td>\n",
       "      <td>no</td>\n",
       "      <td>no</td>\n",
       "      <td>NaN</td>\n",
       "      <td>yes</td>\n",
       "      <td>-6.0</td>\n",
       "      <td>yes</td>\n",
       "      <td>yes</td>\n",
       "      <td>no</td>\n",
       "      <td>4.0</td>\n",
       "      <td>3.0</td>\n",
       "      <td>3.0</td>\n",
       "      <td>5.0</td>\n",
       "      <td>14.0</td>\n",
       "      <td>45.0</td>\n",
       "    </tr>\n",
       "    <tr>\n",
       "      <th>15</th>\n",
       "      <td>GP</td>\n",
       "      <td>F</td>\n",
       "      <td>16</td>\n",
       "      <td>U</td>\n",
       "      <td>GT3</td>\n",
       "      <td>NaN</td>\n",
       "      <td>4.0</td>\n",
       "      <td>4.0</td>\n",
       "      <td>health</td>\n",
       "      <td>other</td>\n",
       "      <td>home</td>\n",
       "      <td>mother</td>\n",
       "      <td>1.0</td>\n",
       "      <td>1.0</td>\n",
       "      <td>0.0</td>\n",
       "      <td>no</td>\n",
       "      <td>yes</td>\n",
       "      <td>no</td>\n",
       "      <td>no</td>\n",
       "      <td>yes</td>\n",
       "      <td>-3.0</td>\n",
       "      <td>yes</td>\n",
       "      <td>yes</td>\n",
       "      <td>no</td>\n",
       "      <td>4.0</td>\n",
       "      <td>4.0</td>\n",
       "      <td>4.0</td>\n",
       "      <td>2.0</td>\n",
       "      <td>4.0</td>\n",
       "      <td>70.0</td>\n",
       "    </tr>\n",
       "    <tr>\n",
       "      <th>241</th>\n",
       "      <td>GP</td>\n",
       "      <td>M</td>\n",
       "      <td>17</td>\n",
       "      <td>NaN</td>\n",
       "      <td>LE3</td>\n",
       "      <td>A</td>\n",
       "      <td>4.0</td>\n",
       "      <td>4.0</td>\n",
       "      <td>teacher</td>\n",
       "      <td>other</td>\n",
       "      <td>course</td>\n",
       "      <td>mother</td>\n",
       "      <td>NaN</td>\n",
       "      <td>2.0</td>\n",
       "      <td>0.0</td>\n",
       "      <td>no</td>\n",
       "      <td>yes</td>\n",
       "      <td>yes</td>\n",
       "      <td>no</td>\n",
       "      <td>yes</td>\n",
       "      <td>-6.0</td>\n",
       "      <td>yes</td>\n",
       "      <td>yes</td>\n",
       "      <td>no</td>\n",
       "      <td>3.0</td>\n",
       "      <td>3.0</td>\n",
       "      <td>NaN</td>\n",
       "      <td>4.0</td>\n",
       "      <td>2.0</td>\n",
       "      <td>60.0</td>\n",
       "    </tr>\n",
       "    <tr>\n",
       "      <th>359</th>\n",
       "      <td>MS</td>\n",
       "      <td>F</td>\n",
       "      <td>18</td>\n",
       "      <td>NaN</td>\n",
       "      <td>LE3</td>\n",
       "      <td>T</td>\n",
       "      <td>1.0</td>\n",
       "      <td>1.0</td>\n",
       "      <td>at_home</td>\n",
       "      <td>services</td>\n",
       "      <td>course</td>\n",
       "      <td>father</td>\n",
       "      <td>2.0</td>\n",
       "      <td>3.0</td>\n",
       "      <td>0.0</td>\n",
       "      <td>no</td>\n",
       "      <td>no</td>\n",
       "      <td>no</td>\n",
       "      <td>no</td>\n",
       "      <td>NaN</td>\n",
       "      <td>-9.0</td>\n",
       "      <td>yes</td>\n",
       "      <td>yes</td>\n",
       "      <td>no</td>\n",
       "      <td>5.0</td>\n",
       "      <td>3.0</td>\n",
       "      <td>2.0</td>\n",
       "      <td>4.0</td>\n",
       "      <td>0.0</td>\n",
       "      <td>80.0</td>\n",
       "    </tr>\n",
       "    <tr>\n",
       "      <th>347</th>\n",
       "      <td>GP</td>\n",
       "      <td>M</td>\n",
       "      <td>18</td>\n",
       "      <td>U</td>\n",
       "      <td>GT3</td>\n",
       "      <td>T</td>\n",
       "      <td>4.0</td>\n",
       "      <td>3.0</td>\n",
       "      <td>teacher</td>\n",
       "      <td>other</td>\n",
       "      <td>course</td>\n",
       "      <td>NaN</td>\n",
       "      <td>1.0</td>\n",
       "      <td>3.0</td>\n",
       "      <td>0.0</td>\n",
       "      <td>no</td>\n",
       "      <td>yes</td>\n",
       "      <td>yes</td>\n",
       "      <td>no</td>\n",
       "      <td>yes</td>\n",
       "      <td>-9.0</td>\n",
       "      <td>NaN</td>\n",
       "      <td>yes</td>\n",
       "      <td>yes</td>\n",
       "      <td>NaN</td>\n",
       "      <td>4.0</td>\n",
       "      <td>5.0</td>\n",
       "      <td>5.0</td>\n",
       "      <td>0.0</td>\n",
       "      <td>45.0</td>\n",
       "    </tr>\n",
       "  </tbody>\n",
       "</table>\n",
       "</div>"
      ],
      "text/plain": [
       "    school sex  age address famsize Pstatus  Medu  Fedu     Mjob      Fjob  \\\n",
       "44      GP   F   16       U     LE3       T   2.0   2.0    other       NaN   \n",
       "15      GP   F   16       U     GT3     NaN   4.0   4.0   health     other   \n",
       "241     GP   M   17     NaN     LE3       A   4.0   4.0  teacher     other   \n",
       "359     MS   F   18     NaN     LE3       T   1.0   1.0  at_home  services   \n",
       "347     GP   M   18       U     GT3       T   4.0   3.0  teacher     other   \n",
       "\n",
       "     reason guardian  traveltime  studytime  failures schoolsup famsup paid  \\\n",
       "44   course   father         2.0        2.0       1.0       yes     no   no   \n",
       "15     home   mother         1.0        1.0       0.0        no    yes   no   \n",
       "241  course   mother         NaN        2.0       0.0        no    yes  yes   \n",
       "359  course   father         2.0        3.0       0.0        no     no   no   \n",
       "347  course      NaN         1.0        3.0       0.0        no    yes  yes   \n",
       "\n",
       "    activities nursery  studytime, granular higher internet romantic  famrel  \\\n",
       "44         NaN     yes                 -6.0    yes      yes       no     4.0   \n",
       "15          no     yes                 -3.0    yes      yes       no     4.0   \n",
       "241         no     yes                 -6.0    yes      yes       no     3.0   \n",
       "359         no     NaN                 -9.0    yes      yes       no     5.0   \n",
       "347         no     yes                 -9.0    NaN      yes      yes     NaN   \n",
       "\n",
       "     freetime  goout  health  absences  score  \n",
       "44        3.0    3.0     5.0      14.0   45.0  \n",
       "15        4.0    4.0     2.0       4.0   70.0  \n",
       "241       3.0    NaN     4.0       2.0   60.0  \n",
       "359       3.0    2.0     4.0       0.0   80.0  \n",
       "347       4.0    5.0     5.0       0.0   45.0  "
      ]
     },
     "execution_count": 5,
     "metadata": {},
     "output_type": "execute_result"
    }
   ],
   "source": [
    "df.sample(5)"
   ]
  },
  {
   "cell_type": "code",
   "execution_count": null,
   "metadata": {},
   "outputs": [],
   "source": []
  },
  {
   "cell_type": "code",
   "execution_count": null,
   "metadata": {
    "scrolled": false
   },
   "outputs": [],
   "source": []
  },
  {
   "cell_type": "code",
   "execution_count": null,
   "metadata": {},
   "outputs": [],
   "source": []
  },
  {
   "cell_type": "code",
   "execution_count": 6,
   "metadata": {},
   "outputs": [],
   "source": [
    "df.columns = ['school', 'sex', 'age', 'addr_type', 'famsize', 'p_status', 'm_edu', 'f_edu',\n",
    "              'm_job', 'f_job', 'reason', 'guardian', 'traveltime', 'studytime',\n",
    "              'failures', 'schoolsup', 'famsup', 'paid_math', 'activities', 'nursery',\n",
    "              'studytime_gran', 'higher', 'internet', 'romantic', 'famrel',\n",
    "              'freetime', 'go_out', 'health', 'absences', 'score']\n",
    "# school — аббревиатура школы, в которой учится ученик\n",
    "# sex — пол ученика ('F' - женский, 'M' - мужской)\n",
    "# age — возраст ученика (от 15 до 22)\n",
    "# address — тип адреса ученика ('U' - городской, 'R' - за городом)\n",
    "# famsize — размер семьи('LE3' <= 3, 'GT3' >3)\n",
    "# Pstatus — статус совместного жилья родителей ('T' - живут вместе 'A' - раздельно)\n",
    "# Medu — образование матери (0 - нет, 1 - 4 класса, 2 - 5-9 классы, 3 - среднее специальное или 11 классов, 4 - высшее)\n",
    "# Fedu — образование отца (0 - нет, 1 - 4 класса, 2 - 5-9 классы, 3 - среднее специальное или 11 классов, 4 - высшее)\n",
    "# Mjob — работа матери ('teacher' - учитель, 'health' - сфера здравоохранения, 'services' - гос служба, 'at_home' - не работает, 'other' - другое)\n",
    "# Fjob — работа отца ('teacher' - учитель, 'health' - сфера здравоохранения, 'services' - гос служба, 'at_home' - не работает, 'other' - другое)\n",
    "# reason — причина выбора школы ('home' - близость к дому, 'reputation' - репутация школы, 'course' - образовательная программа, 'other' - другое)\n",
    "# guardian — опекун ('mother' - мать, 'father' - отец, 'other' - другое)\n",
    "# traveltime — время в пути до школы (1 - <15 мин., 2 - 15-30 мин., 3 - 30-60 мин., 4 - >60 мин.)\n",
    "# studytime — время на учёбу помимо школы в неделю (1 - <2 часов, 2 - 2-5 часов, 3 - 5-10 часов, 4 - >10 часов)\n",
    "# failures — количество внеучебных неудач (n, если 1<=n<=3, иначе 0)\n",
    "# schoolsup — дополнительная образовательная поддержка (yes или no)\n",
    "# famsup — семейная образовательная поддержка (yes или no)\n",
    "# paid — дополнительные платные занятия по математике (yes или no)\n",
    "# activities — дополнительные внеучебные занятия (yes или no)\n",
    "# nursery — посещал детский сад (yes или no)\n",
    "# higher — хочет получить высшее образование (yes или no)\n",
    "# internet — наличие интернета дома (yes или no)\n",
    "# romantic — в романтических отношениях (yes или no)\n",
    "# famrel — семейные отношения (от 1 - очень плохо до 5 - очень хорошо)\n",
    "# freetime — свободное время после школы (от 1 - очень мало до 5 - очень мого)\n",
    "# goout — проведение времени с друзьями (от 1 - очень мало до 5 - очень много)\n",
    "# health — текущее состояние здоровья (от 1 - очень плохо до 5 - очень хорошо)\n",
    "# absences — количество пропущенных занятий\n",
    "# score — баллы по госэкзамену по математике"
   ]
  },
  {
   "cell_type": "code",
   "execution_count": 8,
   "metadata": {
    "scrolled": true
   },
   "outputs": [
    {
     "name": "stdout",
     "output_type": "stream",
     "text": [
      "<class 'pandas.core.frame.DataFrame'>\n",
      "RangeIndex: 395 entries, 0 to 394\n",
      "Data columns (total 30 columns):\n",
      "school            395 non-null object\n",
      "sex               395 non-null object\n",
      "age               395 non-null int64\n",
      "addr_type         378 non-null object\n",
      "famsize           368 non-null object\n",
      "p_status          350 non-null object\n",
      "m_edu             392 non-null float64\n",
      "f_edu             371 non-null float64\n",
      "m_job             376 non-null object\n",
      "f_job             359 non-null object\n",
      "reason            378 non-null object\n",
      "guardian          364 non-null object\n",
      "traveltime        367 non-null float64\n",
      "studytime         388 non-null float64\n",
      "failures          373 non-null float64\n",
      "schoolsup         386 non-null object\n",
      "famsup            356 non-null object\n",
      "paid_math         355 non-null object\n",
      "activities        381 non-null object\n",
      "nursery           379 non-null object\n",
      "studytime_gran    388 non-null float64\n",
      "higher            375 non-null object\n",
      "internet          361 non-null object\n",
      "romantic          364 non-null object\n",
      "famrel            368 non-null float64\n",
      "freetime          384 non-null float64\n",
      "go_out            387 non-null float64\n",
      "health            380 non-null float64\n",
      "absences          383 non-null float64\n",
      "score             389 non-null float64\n",
      "dtypes: float64(12), int64(1), object(17)\n",
      "memory usage: 92.7+ KB\n"
     ]
    }
   ],
   "source": [
    "df.info()"
   ]
  },
  {
   "cell_type": "code",
   "execution_count": 7,
   "metadata": {},
   "outputs": [],
   "source": [
    "columns = ['school', 'sex', 'age', 'addr_type', 'famsize', 'p_status', 'm_edu', 'f_edu',\n",
    "           'm_job', 'f_job', 'reason', 'guardian', 'traveltime', 'studytime',\n",
    "           'failures', 'schoolsup', 'famsup', 'paid_math', 'activities', 'nursery',\n",
    "           'studytime', 'higher', 'internet', 'romantic', 'famrel',\n",
    "           'freetime', 'go_out', 'health', 'absences', 'score']"
   ]
  },
  {
   "cell_type": "code",
   "execution_count": null,
   "metadata": {},
   "outputs": [],
   "source": []
  },
  {
   "cell_type": "code",
   "execution_count": 9,
   "metadata": {},
   "outputs": [],
   "source": [
    "# списки колонок по типам\n",
    "int_cols = []\n",
    "float_cols = []\n",
    "obj_cols = []\n",
    "for col in df.columns:\n",
    "    if df[col].dtype == 'O':\n",
    "        obj_cols.append(col)\n",
    "    elif df[col].dtype == 'int64':\n",
    "        int_cols.append(col)\n",
    "    else:\n",
    "        float_cols.append(col)"
   ]
  },
  {
   "cell_type": "code",
   "execution_count": null,
   "metadata": {},
   "outputs": [],
   "source": []
  },
  {
   "cell_type": "code",
   "execution_count": 10,
   "metadata": {},
   "outputs": [],
   "source": [
    "dig_cols = int_cols+float_cols"
   ]
  },
  {
   "cell_type": "code",
   "execution_count": null,
   "metadata": {},
   "outputs": [],
   "source": []
  },
  {
   "cell_type": "markdown",
   "metadata": {
    "scrolled": true
   },
   "source": [
    "## Общие показатели"
   ]
  },
  {
   "cell_type": "code",
   "execution_count": null,
   "metadata": {},
   "outputs": [],
   "source": [
    "def general_func_by_coltype(frame):\n",
    "    for col in frame.columns:\n",
    "        if df.loc[:, col].dtype == 'O':\n",
    "            print('ОБРАБОТКА ТЕКСТОВОЙ КОЛОНКИ {}'.format(col))\n",
    "            print('Пустых значений: {}'. format(\n",
    "                len(df)-df[:, col].value_counts().sum()))\n",
    "            print('Уникальных значений {}, из них с частотой более 10: {} \\n\\n'.format(\n",
    "                df[:, col].nunique(), (df[:, col].value_counts() > 10).sum()))\n",
    "        elif df.loc[:, col].dtype == 'int64' or df.loc[:, col].dtype == 'float64':\n",
    "            print('ОБРАБОТКА ЧИСЛОВОЙ КОЛОНКИ {}'.format(col))\n",
    "            print('Пустых значений: {}'.format(\n",
    "                len(df)-df[:, col].value_counts().sum()))\n",
    "            median = df.loc[:, col].median()\n",
    "            IQR = df.loc[:, col].quantile(0.75) - df.loc[:, col].quantile(0.25)\n",
    "            perc25 = df.loc[:, col].quantile(0.25)\n",
    "            perc75 = df.loc[:, col].quantile(0.75)\n",
    "            df = df.loc[df.loc[:, col].between(\n",
    "                perc25 - 1.5*IQR, perc75 + 1.5*IQR)]"
   ]
  },
  {
   "cell_type": "code",
   "execution_count": null,
   "metadata": {},
   "outputs": [],
   "source": [
    "general_func_by_coltype(df)"
   ]
  },
  {
   "cell_type": "markdown",
   "metadata": {},
   "source": [
    "### Обрабатываем колонки  с текстовыми значениями"
   ]
  },
  {
   "cell_type": "markdown",
   "metadata": {},
   "source": [
    "#### проверка на наличие посторонних символов в строках"
   ]
  },
  {
   "cell_type": "code",
   "execution_count": 11,
   "metadata": {},
   "outputs": [],
   "source": [
    "def syminstr(column):\n",
    "    print('Обработка колонки {}'.format(column))\n",
    "    if type(df[column][0]) == str:\n",
    "        for index, item in df[column].loc[df[column].isna() != True].items():\n",
    "            if item.isalpha():\n",
    "                continue\n",
    "            else:\n",
    "                print('Встречается символ помимо букв в колонке {c} в строке {i}, значение {w}'.format(\n",
    "                    c=column, i=index, w=item))"
   ]
  },
  {
   "cell_type": "code",
   "execution_count": null,
   "metadata": {},
   "outputs": [],
   "source": []
  },
  {
   "cell_type": "code",
   "execution_count": null,
   "metadata": {},
   "outputs": [],
   "source": [
    "for col in columns:\n",
    "    syminstr(col)"
   ]
  },
  {
   "cell_type": "markdown",
   "metadata": {},
   "source": [
    "#### Помимо букв в текстовых колонках только один посторонний символ - \"_\". Уберем его для простоты работы."
   ]
  },
  {
   "cell_type": "code",
   "execution_count": 12,
   "metadata": {},
   "outputs": [],
   "source": [
    "def sym_del(item):\n",
    "    if type(item) == float:\n",
    "        return None\n",
    "    else:\n",
    "        return item.replace('_', '')"
   ]
  },
  {
   "cell_type": "code",
   "execution_count": 13,
   "metadata": {},
   "outputs": [],
   "source": [
    "df.m_job = df.m_job.apply(sym_del)"
   ]
  },
  {
   "cell_type": "code",
   "execution_count": 14,
   "metadata": {},
   "outputs": [],
   "source": [
    "df.f_job = df.f_job.apply(sym_del)"
   ]
  },
  {
   "cell_type": "markdown",
   "metadata": {},
   "source": [
    "#### Выводим общие статистические данные по текстовым колонкам:"
   ]
  },
  {
   "cell_type": "code",
   "execution_count": 15,
   "metadata": {},
   "outputs": [],
   "source": [
    "# функция для вывода статистических данных по текстовым колонкам\n",
    "def strcolstat(col):\n",
    "    print('ОБРАБОТКА ТЕКСТОВОЙ КОЛОНКИ {}'.format(col))\n",
    "    print('Пустых значений: {}'. format(len(df)-df[col].value_counts().sum()))\n",
    "    print('Уникальных значений {}, из них с частотой более 20: {} \\n\\n'.format(\n",
    "        df[col].nunique(), (df[col].value_counts() > 10).sum()))"
   ]
  },
  {
   "cell_type": "code",
   "execution_count": 16,
   "metadata": {},
   "outputs": [],
   "source": [
    "# фкнуция для вывода статистических данных по числовым колонкам\n",
    "def numcolstat(col):\n",
    "    print('ОБРАБОТКА ЧИСЛОВОЙ КОЛОНКИ {}'.format(col))\n",
    "    print('Пустых значений: {} \\n\\n'.format(\n",
    "        len(df)-df[col].value_counts().sum()))\n",
    "    display(pd.DataFrame(df[col].value_counts()))"
   ]
  },
  {
   "cell_type": "code",
   "execution_count": 17,
   "metadata": {},
   "outputs": [],
   "source": [
    "def colstatprint(col):\n",
    "    if df[col].dtype == 'O':\n",
    "        strcolstat(col)\n",
    "    else:\n",
    "        numcolstat(col)"
   ]
  },
  {
   "cell_type": "code",
   "execution_count": 18,
   "metadata": {},
   "outputs": [
    {
     "name": "stdout",
     "output_type": "stream",
     "text": [
      "ОБРАБОТКА ТЕКСТОВОЙ КОЛОНКИ school\n",
      "Пустых значений: 0\n",
      "Уникальных значений 2, из них с частотой более 20: 2 \n",
      "\n",
      "\n",
      "ОБРАБОТКА ТЕКСТОВОЙ КОЛОНКИ sex\n",
      "Пустых значений: 0\n",
      "Уникальных значений 2, из них с частотой более 20: 2 \n",
      "\n",
      "\n",
      "ОБРАБОТКА ТЕКСТОВОЙ КОЛОНКИ addr_type\n",
      "Пустых значений: 17\n",
      "Уникальных значений 2, из них с частотой более 20: 2 \n",
      "\n",
      "\n",
      "ОБРАБОТКА ТЕКСТОВОЙ КОЛОНКИ famsize\n",
      "Пустых значений: 27\n",
      "Уникальных значений 2, из них с частотой более 20: 2 \n",
      "\n",
      "\n",
      "ОБРАБОТКА ТЕКСТОВОЙ КОЛОНКИ p_status\n",
      "Пустых значений: 45\n",
      "Уникальных значений 2, из них с частотой более 20: 2 \n",
      "\n",
      "\n",
      "ОБРАБОТКА ТЕКСТОВОЙ КОЛОНКИ m_job\n",
      "Пустых значений: 19\n",
      "Уникальных значений 5, из них с частотой более 20: 5 \n",
      "\n",
      "\n",
      "ОБРАБОТКА ТЕКСТОВОЙ КОЛОНКИ f_job\n",
      "Пустых значений: 36\n",
      "Уникальных значений 5, из них с частотой более 20: 5 \n",
      "\n",
      "\n",
      "ОБРАБОТКА ТЕКСТОВОЙ КОЛОНКИ reason\n",
      "Пустых значений: 17\n",
      "Уникальных значений 4, из них с частотой более 20: 4 \n",
      "\n",
      "\n",
      "ОБРАБОТКА ТЕКСТОВОЙ КОЛОНКИ guardian\n",
      "Пустых значений: 31\n",
      "Уникальных значений 3, из них с частотой более 20: 3 \n",
      "\n",
      "\n",
      "ОБРАБОТКА ТЕКСТОВОЙ КОЛОНКИ schoolsup\n",
      "Пустых значений: 9\n",
      "Уникальных значений 2, из них с частотой более 20: 2 \n",
      "\n",
      "\n",
      "ОБРАБОТКА ТЕКСТОВОЙ КОЛОНКИ famsup\n",
      "Пустых значений: 39\n",
      "Уникальных значений 2, из них с частотой более 20: 2 \n",
      "\n",
      "\n",
      "ОБРАБОТКА ТЕКСТОВОЙ КОЛОНКИ paid_math\n",
      "Пустых значений: 40\n",
      "Уникальных значений 2, из них с частотой более 20: 2 \n",
      "\n",
      "\n",
      "ОБРАБОТКА ТЕКСТОВОЙ КОЛОНКИ activities\n",
      "Пустых значений: 14\n",
      "Уникальных значений 2, из них с частотой более 20: 2 \n",
      "\n",
      "\n",
      "ОБРАБОТКА ТЕКСТОВОЙ КОЛОНКИ nursery\n",
      "Пустых значений: 16\n",
      "Уникальных значений 2, из них с частотой более 20: 2 \n",
      "\n",
      "\n",
      "ОБРАБОТКА ТЕКСТОВОЙ КОЛОНКИ higher\n",
      "Пустых значений: 20\n",
      "Уникальных значений 2, из них с частотой более 20: 2 \n",
      "\n",
      "\n",
      "ОБРАБОТКА ТЕКСТОВОЙ КОЛОНКИ internet\n",
      "Пустых значений: 34\n",
      "Уникальных значений 2, из них с частотой более 20: 2 \n",
      "\n",
      "\n",
      "ОБРАБОТКА ТЕКСТОВОЙ КОЛОНКИ romantic\n",
      "Пустых значений: 31\n",
      "Уникальных значений 2, из них с частотой более 20: 2 \n",
      "\n",
      "\n"
     ]
    }
   ],
   "source": [
    "for col in obj_cols:\n",
    "    colstatprint(col)"
   ]
  },
  {
   "cell_type": "markdown",
   "metadata": {},
   "source": [
    "#### Заменяем nan на None для удобства"
   ]
  },
  {
   "cell_type": "code",
   "execution_count": 19,
   "metadata": {},
   "outputs": [],
   "source": [
    "for col in columns:\n",
    "    df[col] = df[col].apply(lambda x: None if isnull(x) else x)"
   ]
  },
  {
   "cell_type": "code",
   "execution_count": null,
   "metadata": {},
   "outputs": [],
   "source": []
  },
  {
   "cell_type": "markdown",
   "metadata": {},
   "source": [
    "### Обрабатываем дополнительно столбцы, в которых возможно только два значения: добавляем аналгичные столбцы с числами 0/1\n",
    "##### идея была посмотреть корреляцию на замененных на числа текстовых значениях"
   ]
  },
  {
   "cell_type": "code",
   "execution_count": 20,
   "metadata": {},
   "outputs": [],
   "source": [
    "def colstrtodigit(col):\n",
    "    if df[col].nunique() < 3:\n",
    "        colstodigit_list.append(col)"
   ]
  },
  {
   "cell_type": "code",
   "execution_count": 21,
   "metadata": {},
   "outputs": [],
   "source": [
    "colstodigit_list = []\n",
    "for col in columns:\n",
    "    if df[col].dtype == 'O':\n",
    "        colstrtodigit(col)\n",
    "    else:\n",
    "        continue"
   ]
  },
  {
   "cell_type": "code",
   "execution_count": 29,
   "metadata": {},
   "outputs": [
    {
     "data": {
      "text/plain": [
       "['school',\n",
       " 'sex',\n",
       " 'addr_type',\n",
       " 'famsize',\n",
       " 'p_status',\n",
       " 'schoolsup',\n",
       " 'famsup',\n",
       " 'paid_math',\n",
       " 'activities',\n",
       " 'nursery',\n",
       " 'higher',\n",
       " 'internet',\n",
       " 'romantic']"
      ]
     },
     "execution_count": 29,
     "metadata": {},
     "output_type": "execute_result"
    }
   ],
   "source": [
    "colstodigit_list"
   ]
  },
  {
   "cell_type": "code",
   "execution_count": 22,
   "metadata": {
    "scrolled": false
   },
   "outputs": [],
   "source": [
    "dic_coltodigit = {}\n",
    "for col in colstodigit_list:\n",
    "    num = 0\n",
    "    dic_colstodigit = {}\n",
    "    for key in df[col].loc[df[col].isna() != True].unique():\n",
    "        dic_colstodigit[key] = num\n",
    "        num += 1\n",
    "    dic_coltodigit[col] = dic_colstodigit"
   ]
  },
  {
   "cell_type": "code",
   "execution_count": null,
   "metadata": {},
   "outputs": [],
   "source": []
  },
  {
   "cell_type": "code",
   "execution_count": 23,
   "metadata": {},
   "outputs": [],
   "source": [
    "# замена Да - на 1, Нет - на 0\n",
    "for value in dic_coltodigit.values():\n",
    "    for key in value.keys():\n",
    "        if key == 'yes' or key == 'GT3':\n",
    "            value[key] = 1\n",
    "        elif key == 'no' or key == 'LE3':\n",
    "            value[key] = 0\n",
    "        else:\n",
    "            continue"
   ]
  },
  {
   "cell_type": "code",
   "execution_count": 30,
   "metadata": {
    "scrolled": true
   },
   "outputs": [
    {
     "data": {
      "text/plain": [
       "{'school': {'GP': 0, 'MS': 1},\n",
       " 'sex': {'F': 0, 'M': 1},\n",
       " 'addr_type': {'U': 0, 'R': 1},\n",
       " 'famsize': {'GT3': 1, 'LE3': 0},\n",
       " 'p_status': {'A': 0, 'T': 1},\n",
       " 'schoolsup': {'yes': 1, 'no': 0},\n",
       " 'famsup': {'no': 0, 'yes': 1},\n",
       " 'paid_math': {'no': 0, 'yes': 1},\n",
       " 'activities': {'no': 0, 'yes': 1},\n",
       " 'nursery': {'yes': 1, 'no': 0},\n",
       " 'higher': {'yes': 1, 'no': 0},\n",
       " 'internet': {'yes': 1, 'no': 0},\n",
       " 'romantic': {'no': 0, 'yes': 1}}"
      ]
     },
     "execution_count": 30,
     "metadata": {},
     "output_type": "execute_result"
    }
   ],
   "source": [
    "dic_coltodigit"
   ]
  },
  {
   "cell_type": "code",
   "execution_count": 24,
   "metadata": {},
   "outputs": [],
   "source": [
    "simple_dic = {}\n",
    "for col in colstodigit_list:\n",
    "    for key, value in dic_coltodigit[col].items():\n",
    "        simple_dic[key] = value"
   ]
  },
  {
   "cell_type": "code",
   "execution_count": 25,
   "metadata": {
    "scrolled": true
   },
   "outputs": [
    {
     "data": {
      "text/plain": [
       "{'GP': 0,\n",
       " 'MS': 1,\n",
       " 'F': 0,\n",
       " 'M': 1,\n",
       " 'U': 0,\n",
       " 'R': 1,\n",
       " 'GT3': 1,\n",
       " 'LE3': 0,\n",
       " 'A': 0,\n",
       " 'T': 1,\n",
       " 'yes': 1,\n",
       " 'no': 0}"
      ]
     },
     "execution_count": 25,
     "metadata": {},
     "output_type": "execute_result"
    }
   ],
   "source": [
    "simple_dic"
   ]
  },
  {
   "cell_type": "code",
   "execution_count": null,
   "metadata": {},
   "outputs": [],
   "source": []
  },
  {
   "cell_type": "code",
   "execution_count": 26,
   "metadata": {},
   "outputs": [],
   "source": [
    "simple_dic_small = {}"
   ]
  },
  {
   "cell_type": "code",
   "execution_count": 31,
   "metadata": {},
   "outputs": [],
   "source": [
    "colstodigit_list_small = []"
   ]
  },
  {
   "cell_type": "code",
   "execution_count": 32,
   "metadata": {},
   "outputs": [],
   "source": [
    "colstodigit_list_small = ['famsize', 'schoolsup', 'famsup', 'paid_math',\n",
    "                          'activities', 'nursery', 'higher', 'internet', 'romantic']"
   ]
  },
  {
   "cell_type": "code",
   "execution_count": 27,
   "metadata": {},
   "outputs": [],
   "source": [
    "simple_dic_small = {'GT3': 1,\n",
    "                    'LE3': 0,\n",
    "                    'yes': 1,\n",
    "                    'no': 0}"
   ]
  },
  {
   "cell_type": "code",
   "execution_count": 33,
   "metadata": {},
   "outputs": [],
   "source": [
    "for col in colstodigit_list_small:\n",
    "    df[col+'_dig'] = df[col].apply(lambda x: simple_dic_small[x]\n",
    "                                   if isnull(x) is False else x)"
   ]
  },
  {
   "cell_type": "code",
   "execution_count": 34,
   "metadata": {},
   "outputs": [
    {
     "data": {
      "text/html": [
       "<div>\n",
       "<style scoped>\n",
       "    .dataframe tbody tr th:only-of-type {\n",
       "        vertical-align: middle;\n",
       "    }\n",
       "\n",
       "    .dataframe tbody tr th {\n",
       "        vertical-align: top;\n",
       "    }\n",
       "\n",
       "    .dataframe thead th {\n",
       "        text-align: right;\n",
       "    }\n",
       "</style>\n",
       "<table border=\"1\" class=\"dataframe\">\n",
       "  <thead>\n",
       "    <tr style=\"text-align: right;\">\n",
       "      <th></th>\n",
       "      <th>school</th>\n",
       "      <th>sex</th>\n",
       "      <th>age</th>\n",
       "      <th>addr_type</th>\n",
       "      <th>famsize</th>\n",
       "      <th>p_status</th>\n",
       "      <th>m_edu</th>\n",
       "      <th>f_edu</th>\n",
       "      <th>m_job</th>\n",
       "      <th>f_job</th>\n",
       "      <th>reason</th>\n",
       "      <th>guardian</th>\n",
       "      <th>traveltime</th>\n",
       "      <th>studytime</th>\n",
       "      <th>failures</th>\n",
       "      <th>schoolsup</th>\n",
       "      <th>famsup</th>\n",
       "      <th>paid_math</th>\n",
       "      <th>activities</th>\n",
       "      <th>nursery</th>\n",
       "      <th>studytime_gran</th>\n",
       "      <th>higher</th>\n",
       "      <th>internet</th>\n",
       "      <th>romantic</th>\n",
       "      <th>famrel</th>\n",
       "      <th>freetime</th>\n",
       "      <th>go_out</th>\n",
       "      <th>health</th>\n",
       "      <th>absences</th>\n",
       "      <th>score</th>\n",
       "      <th>famsize_dig</th>\n",
       "      <th>schoolsup_dig</th>\n",
       "      <th>famsup_dig</th>\n",
       "      <th>paid_math_dig</th>\n",
       "      <th>activities_dig</th>\n",
       "      <th>nursery_dig</th>\n",
       "      <th>higher_dig</th>\n",
       "      <th>internet_dig</th>\n",
       "      <th>romantic_dig</th>\n",
       "    </tr>\n",
       "  </thead>\n",
       "  <tbody>\n",
       "    <tr>\n",
       "      <th>182</th>\n",
       "      <td>GP</td>\n",
       "      <td>F</td>\n",
       "      <td>17</td>\n",
       "      <td>U</td>\n",
       "      <td>GT3</td>\n",
       "      <td>None</td>\n",
       "      <td>2.0</td>\n",
       "      <td>4.0</td>\n",
       "      <td>services</td>\n",
       "      <td>None</td>\n",
       "      <td>reputation</td>\n",
       "      <td>father</td>\n",
       "      <td>NaN</td>\n",
       "      <td>2.0</td>\n",
       "      <td>0.0</td>\n",
       "      <td>no</td>\n",
       "      <td>yes</td>\n",
       "      <td>no</td>\n",
       "      <td>yes</td>\n",
       "      <td>yes</td>\n",
       "      <td>-6.0</td>\n",
       "      <td>yes</td>\n",
       "      <td>no</td>\n",
       "      <td>no</td>\n",
       "      <td>5.0</td>\n",
       "      <td>4.0</td>\n",
       "      <td>2.0</td>\n",
       "      <td>5.0</td>\n",
       "      <td>0.0</td>\n",
       "      <td>85.0</td>\n",
       "      <td>1.0</td>\n",
       "      <td>0.0</td>\n",
       "      <td>1.0</td>\n",
       "      <td>0.0</td>\n",
       "      <td>1.0</td>\n",
       "      <td>1.0</td>\n",
       "      <td>1.0</td>\n",
       "      <td>0.0</td>\n",
       "      <td>0.0</td>\n",
       "    </tr>\n",
       "    <tr>\n",
       "      <th>343</th>\n",
       "      <td>GP</td>\n",
       "      <td>F</td>\n",
       "      <td>17</td>\n",
       "      <td>U</td>\n",
       "      <td>GT3</td>\n",
       "      <td>A</td>\n",
       "      <td>2.0</td>\n",
       "      <td>2.0</td>\n",
       "      <td>athome</td>\n",
       "      <td>athome</td>\n",
       "      <td>home</td>\n",
       "      <td>father</td>\n",
       "      <td>1.0</td>\n",
       "      <td>2.0</td>\n",
       "      <td>1.0</td>\n",
       "      <td>no</td>\n",
       "      <td>yes</td>\n",
       "      <td>no</td>\n",
       "      <td>no</td>\n",
       "      <td>yes</td>\n",
       "      <td>-6.0</td>\n",
       "      <td>yes</td>\n",
       "      <td>yes</td>\n",
       "      <td>yes</td>\n",
       "      <td>3.0</td>\n",
       "      <td>3.0</td>\n",
       "      <td>1.0</td>\n",
       "      <td>4.0</td>\n",
       "      <td>0.0</td>\n",
       "      <td>0.0</td>\n",
       "      <td>1.0</td>\n",
       "      <td>0.0</td>\n",
       "      <td>1.0</td>\n",
       "      <td>0.0</td>\n",
       "      <td>0.0</td>\n",
       "      <td>1.0</td>\n",
       "      <td>1.0</td>\n",
       "      <td>1.0</td>\n",
       "      <td>1.0</td>\n",
       "    </tr>\n",
       "    <tr>\n",
       "      <th>125</th>\n",
       "      <td>GP</td>\n",
       "      <td>M</td>\n",
       "      <td>15</td>\n",
       "      <td>U</td>\n",
       "      <td>GT3</td>\n",
       "      <td>T</td>\n",
       "      <td>3.0</td>\n",
       "      <td>4.0</td>\n",
       "      <td>services</td>\n",
       "      <td>services</td>\n",
       "      <td>home</td>\n",
       "      <td>father</td>\n",
       "      <td>1.0</td>\n",
       "      <td>1.0</td>\n",
       "      <td>NaN</td>\n",
       "      <td>yes</td>\n",
       "      <td>no</td>\n",
       "      <td>no</td>\n",
       "      <td>no</td>\n",
       "      <td>yes</td>\n",
       "      <td>-3.0</td>\n",
       "      <td>yes</td>\n",
       "      <td>None</td>\n",
       "      <td>no</td>\n",
       "      <td>5.0</td>\n",
       "      <td>5.0</td>\n",
       "      <td>5.0</td>\n",
       "      <td>5.0</td>\n",
       "      <td>0.0</td>\n",
       "      <td>60.0</td>\n",
       "      <td>1.0</td>\n",
       "      <td>1.0</td>\n",
       "      <td>0.0</td>\n",
       "      <td>0.0</td>\n",
       "      <td>0.0</td>\n",
       "      <td>1.0</td>\n",
       "      <td>1.0</td>\n",
       "      <td>NaN</td>\n",
       "      <td>0.0</td>\n",
       "    </tr>\n",
       "    <tr>\n",
       "      <th>134</th>\n",
       "      <td>GP</td>\n",
       "      <td>M</td>\n",
       "      <td>15</td>\n",
       "      <td>R</td>\n",
       "      <td>GT3</td>\n",
       "      <td>T</td>\n",
       "      <td>3.0</td>\n",
       "      <td>4.0</td>\n",
       "      <td>athome</td>\n",
       "      <td>teacher</td>\n",
       "      <td>course</td>\n",
       "      <td>mother</td>\n",
       "      <td>NaN</td>\n",
       "      <td>2.0</td>\n",
       "      <td>0.0</td>\n",
       "      <td>no</td>\n",
       "      <td>yes</td>\n",
       "      <td>no</td>\n",
       "      <td>no</td>\n",
       "      <td>yes</td>\n",
       "      <td>-6.0</td>\n",
       "      <td>yes</td>\n",
       "      <td>no</td>\n",
       "      <td>yes</td>\n",
       "      <td>5.0</td>\n",
       "      <td>3.0</td>\n",
       "      <td>3.0</td>\n",
       "      <td>5.0</td>\n",
       "      <td>0.0</td>\n",
       "      <td>0.0</td>\n",
       "      <td>1.0</td>\n",
       "      <td>0.0</td>\n",
       "      <td>1.0</td>\n",
       "      <td>0.0</td>\n",
       "      <td>0.0</td>\n",
       "      <td>1.0</td>\n",
       "      <td>1.0</td>\n",
       "      <td>0.0</td>\n",
       "      <td>1.0</td>\n",
       "    </tr>\n",
       "    <tr>\n",
       "      <th>301</th>\n",
       "      <td>GP</td>\n",
       "      <td>M</td>\n",
       "      <td>17</td>\n",
       "      <td>U</td>\n",
       "      <td>LE3</td>\n",
       "      <td>T</td>\n",
       "      <td>4.0</td>\n",
       "      <td>4.0</td>\n",
       "      <td>other</td>\n",
       "      <td>teacher</td>\n",
       "      <td>home</td>\n",
       "      <td>father</td>\n",
       "      <td>2.0</td>\n",
       "      <td>1.0</td>\n",
       "      <td>0.0</td>\n",
       "      <td>no</td>\n",
       "      <td>no</td>\n",
       "      <td>yes</td>\n",
       "      <td>no</td>\n",
       "      <td>yes</td>\n",
       "      <td>-3.0</td>\n",
       "      <td>yes</td>\n",
       "      <td>yes</td>\n",
       "      <td>no</td>\n",
       "      <td>4.0</td>\n",
       "      <td>1.0</td>\n",
       "      <td>1.0</td>\n",
       "      <td>5.0</td>\n",
       "      <td>0.0</td>\n",
       "      <td>50.0</td>\n",
       "      <td>0.0</td>\n",
       "      <td>0.0</td>\n",
       "      <td>0.0</td>\n",
       "      <td>1.0</td>\n",
       "      <td>0.0</td>\n",
       "      <td>1.0</td>\n",
       "      <td>1.0</td>\n",
       "      <td>1.0</td>\n",
       "      <td>0.0</td>\n",
       "    </tr>\n",
       "  </tbody>\n",
       "</table>\n",
       "</div>"
      ],
      "text/plain": [
       "    school sex  age addr_type famsize p_status  m_edu  f_edu     m_job  \\\n",
       "182     GP   F   17         U     GT3     None    2.0    4.0  services   \n",
       "343     GP   F   17         U     GT3        A    2.0    2.0    athome   \n",
       "125     GP   M   15         U     GT3        T    3.0    4.0  services   \n",
       "134     GP   M   15         R     GT3        T    3.0    4.0    athome   \n",
       "301     GP   M   17         U     LE3        T    4.0    4.0     other   \n",
       "\n",
       "        f_job      reason guardian  traveltime  studytime  failures schoolsup  \\\n",
       "182      None  reputation   father         NaN        2.0       0.0        no   \n",
       "343    athome        home   father         1.0        2.0       1.0        no   \n",
       "125  services        home   father         1.0        1.0       NaN       yes   \n",
       "134   teacher      course   mother         NaN        2.0       0.0        no   \n",
       "301   teacher        home   father         2.0        1.0       0.0        no   \n",
       "\n",
       "    famsup paid_math activities nursery  studytime_gran higher internet  \\\n",
       "182    yes        no        yes     yes            -6.0    yes       no   \n",
       "343    yes        no         no     yes            -6.0    yes      yes   \n",
       "125     no        no         no     yes            -3.0    yes     None   \n",
       "134    yes        no         no     yes            -6.0    yes       no   \n",
       "301     no       yes         no     yes            -3.0    yes      yes   \n",
       "\n",
       "    romantic  famrel  freetime  go_out  health  absences  score  famsize_dig  \\\n",
       "182       no     5.0       4.0     2.0     5.0       0.0   85.0          1.0   \n",
       "343      yes     3.0       3.0     1.0     4.0       0.0    0.0          1.0   \n",
       "125       no     5.0       5.0     5.0     5.0       0.0   60.0          1.0   \n",
       "134      yes     5.0       3.0     3.0     5.0       0.0    0.0          1.0   \n",
       "301       no     4.0       1.0     1.0     5.0       0.0   50.0          0.0   \n",
       "\n",
       "     schoolsup_dig  famsup_dig  paid_math_dig  activities_dig  nursery_dig  \\\n",
       "182            0.0         1.0            0.0             1.0          1.0   \n",
       "343            0.0         1.0            0.0             0.0          1.0   \n",
       "125            1.0         0.0            0.0             0.0          1.0   \n",
       "134            0.0         1.0            0.0             0.0          1.0   \n",
       "301            0.0         0.0            1.0             0.0          1.0   \n",
       "\n",
       "     higher_dig  internet_dig  romantic_dig  \n",
       "182         1.0           0.0           0.0  \n",
       "343         1.0           1.0           1.0  \n",
       "125         1.0           NaN           0.0  \n",
       "134         1.0           0.0           1.0  \n",
       "301         1.0           1.0           0.0  "
      ]
     },
     "execution_count": 34,
     "metadata": {},
     "output_type": "execute_result"
    }
   ],
   "source": [
    "df.sample(5)"
   ]
  },
  {
   "cell_type": "code",
   "execution_count": null,
   "metadata": {},
   "outputs": [],
   "source": []
  },
  {
   "cell_type": "code",
   "execution_count": null,
   "metadata": {},
   "outputs": [],
   "source": []
  },
  {
   "cell_type": "code",
   "execution_count": null,
   "metadata": {},
   "outputs": [],
   "source": []
  },
  {
   "cell_type": "code",
   "execution_count": null,
   "metadata": {},
   "outputs": [],
   "source": []
  },
  {
   "cell_type": "markdown",
   "metadata": {},
   "source": [
    "### Исследуем числовые столбцы"
   ]
  },
  {
   "cell_type": "markdown",
   "metadata": {},
   "source": [
    "##### Общее:"
   ]
  },
  {
   "cell_type": "code",
   "execution_count": 35,
   "metadata": {
    "scrolled": true
   },
   "outputs": [
    {
     "name": "stdout",
     "output_type": "stream",
     "text": [
      "ОБРАБОТКА ЧИСЛОВОЙ КОЛОНКИ age\n",
      "Пустых значений: 0 \n",
      "\n",
      "\n"
     ]
    },
    {
     "data": {
      "text/html": [
       "<div>\n",
       "<style scoped>\n",
       "    .dataframe tbody tr th:only-of-type {\n",
       "        vertical-align: middle;\n",
       "    }\n",
       "\n",
       "    .dataframe tbody tr th {\n",
       "        vertical-align: top;\n",
       "    }\n",
       "\n",
       "    .dataframe thead th {\n",
       "        text-align: right;\n",
       "    }\n",
       "</style>\n",
       "<table border=\"1\" class=\"dataframe\">\n",
       "  <thead>\n",
       "    <tr style=\"text-align: right;\">\n",
       "      <th></th>\n",
       "      <th>age</th>\n",
       "    </tr>\n",
       "  </thead>\n",
       "  <tbody>\n",
       "    <tr>\n",
       "      <th>16</th>\n",
       "      <td>104</td>\n",
       "    </tr>\n",
       "    <tr>\n",
       "      <th>17</th>\n",
       "      <td>98</td>\n",
       "    </tr>\n",
       "    <tr>\n",
       "      <th>18</th>\n",
       "      <td>82</td>\n",
       "    </tr>\n",
       "    <tr>\n",
       "      <th>15</th>\n",
       "      <td>82</td>\n",
       "    </tr>\n",
       "    <tr>\n",
       "      <th>19</th>\n",
       "      <td>24</td>\n",
       "    </tr>\n",
       "    <tr>\n",
       "      <th>20</th>\n",
       "      <td>3</td>\n",
       "    </tr>\n",
       "    <tr>\n",
       "      <th>22</th>\n",
       "      <td>1</td>\n",
       "    </tr>\n",
       "    <tr>\n",
       "      <th>21</th>\n",
       "      <td>1</td>\n",
       "    </tr>\n",
       "  </tbody>\n",
       "</table>\n",
       "</div>"
      ],
      "text/plain": [
       "    age\n",
       "16  104\n",
       "17   98\n",
       "18   82\n",
       "15   82\n",
       "19   24\n",
       "20    3\n",
       "22    1\n",
       "21    1"
      ]
     },
     "metadata": {},
     "output_type": "display_data"
    },
    {
     "name": "stdout",
     "output_type": "stream",
     "text": [
      "ОБРАБОТКА ЧИСЛОВОЙ КОЛОНКИ m_edu\n",
      "Пустых значений: 3 \n",
      "\n",
      "\n"
     ]
    },
    {
     "data": {
      "text/html": [
       "<div>\n",
       "<style scoped>\n",
       "    .dataframe tbody tr th:only-of-type {\n",
       "        vertical-align: middle;\n",
       "    }\n",
       "\n",
       "    .dataframe tbody tr th {\n",
       "        vertical-align: top;\n",
       "    }\n",
       "\n",
       "    .dataframe thead th {\n",
       "        text-align: right;\n",
       "    }\n",
       "</style>\n",
       "<table border=\"1\" class=\"dataframe\">\n",
       "  <thead>\n",
       "    <tr style=\"text-align: right;\">\n",
       "      <th></th>\n",
       "      <th>m_edu</th>\n",
       "    </tr>\n",
       "  </thead>\n",
       "  <tbody>\n",
       "    <tr>\n",
       "      <th>4.0</th>\n",
       "      <td>131</td>\n",
       "    </tr>\n",
       "    <tr>\n",
       "      <th>2.0</th>\n",
       "      <td>102</td>\n",
       "    </tr>\n",
       "    <tr>\n",
       "      <th>3.0</th>\n",
       "      <td>97</td>\n",
       "    </tr>\n",
       "    <tr>\n",
       "      <th>1.0</th>\n",
       "      <td>59</td>\n",
       "    </tr>\n",
       "    <tr>\n",
       "      <th>0.0</th>\n",
       "      <td>3</td>\n",
       "    </tr>\n",
       "  </tbody>\n",
       "</table>\n",
       "</div>"
      ],
      "text/plain": [
       "     m_edu\n",
       "4.0    131\n",
       "2.0    102\n",
       "3.0     97\n",
       "1.0     59\n",
       "0.0      3"
      ]
     },
     "metadata": {},
     "output_type": "display_data"
    },
    {
     "name": "stdout",
     "output_type": "stream",
     "text": [
      "ОБРАБОТКА ЧИСЛОВОЙ КОЛОНКИ f_edu\n",
      "Пустых значений: 24 \n",
      "\n",
      "\n"
     ]
    },
    {
     "data": {
      "text/html": [
       "<div>\n",
       "<style scoped>\n",
       "    .dataframe tbody tr th:only-of-type {\n",
       "        vertical-align: middle;\n",
       "    }\n",
       "\n",
       "    .dataframe tbody tr th {\n",
       "        vertical-align: top;\n",
       "    }\n",
       "\n",
       "    .dataframe thead th {\n",
       "        text-align: right;\n",
       "    }\n",
       "</style>\n",
       "<table border=\"1\" class=\"dataframe\">\n",
       "  <thead>\n",
       "    <tr style=\"text-align: right;\">\n",
       "      <th></th>\n",
       "      <th>f_edu</th>\n",
       "    </tr>\n",
       "  </thead>\n",
       "  <tbody>\n",
       "    <tr>\n",
       "      <th>2.0</th>\n",
       "      <td>106</td>\n",
       "    </tr>\n",
       "    <tr>\n",
       "      <th>3.0</th>\n",
       "      <td>96</td>\n",
       "    </tr>\n",
       "    <tr>\n",
       "      <th>4.0</th>\n",
       "      <td>88</td>\n",
       "    </tr>\n",
       "    <tr>\n",
       "      <th>1.0</th>\n",
       "      <td>78</td>\n",
       "    </tr>\n",
       "    <tr>\n",
       "      <th>0.0</th>\n",
       "      <td>2</td>\n",
       "    </tr>\n",
       "    <tr>\n",
       "      <th>40.0</th>\n",
       "      <td>1</td>\n",
       "    </tr>\n",
       "  </tbody>\n",
       "</table>\n",
       "</div>"
      ],
      "text/plain": [
       "      f_edu\n",
       "2.0     106\n",
       "3.0      96\n",
       "4.0      88\n",
       "1.0      78\n",
       "0.0       2\n",
       "40.0      1"
      ]
     },
     "metadata": {},
     "output_type": "display_data"
    },
    {
     "name": "stdout",
     "output_type": "stream",
     "text": [
      "ОБРАБОТКА ЧИСЛОВОЙ КОЛОНКИ traveltime\n",
      "Пустых значений: 28 \n",
      "\n",
      "\n"
     ]
    },
    {
     "data": {
      "text/html": [
       "<div>\n",
       "<style scoped>\n",
       "    .dataframe tbody tr th:only-of-type {\n",
       "        vertical-align: middle;\n",
       "    }\n",
       "\n",
       "    .dataframe tbody tr th {\n",
       "        vertical-align: top;\n",
       "    }\n",
       "\n",
       "    .dataframe thead th {\n",
       "        text-align: right;\n",
       "    }\n",
       "</style>\n",
       "<table border=\"1\" class=\"dataframe\">\n",
       "  <thead>\n",
       "    <tr style=\"text-align: right;\">\n",
       "      <th></th>\n",
       "      <th>traveltime</th>\n",
       "    </tr>\n",
       "  </thead>\n",
       "  <tbody>\n",
       "    <tr>\n",
       "      <th>1.0</th>\n",
       "      <td>242</td>\n",
       "    </tr>\n",
       "    <tr>\n",
       "      <th>2.0</th>\n",
       "      <td>96</td>\n",
       "    </tr>\n",
       "    <tr>\n",
       "      <th>3.0</th>\n",
       "      <td>22</td>\n",
       "    </tr>\n",
       "    <tr>\n",
       "      <th>4.0</th>\n",
       "      <td>7</td>\n",
       "    </tr>\n",
       "  </tbody>\n",
       "</table>\n",
       "</div>"
      ],
      "text/plain": [
       "     traveltime\n",
       "1.0         242\n",
       "2.0          96\n",
       "3.0          22\n",
       "4.0           7"
      ]
     },
     "metadata": {},
     "output_type": "display_data"
    },
    {
     "name": "stdout",
     "output_type": "stream",
     "text": [
      "ОБРАБОТКА ЧИСЛОВОЙ КОЛОНКИ studytime\n",
      "Пустых значений: 7 \n",
      "\n",
      "\n"
     ]
    },
    {
     "data": {
      "text/html": [
       "<div>\n",
       "<style scoped>\n",
       "    .dataframe tbody tr th:only-of-type {\n",
       "        vertical-align: middle;\n",
       "    }\n",
       "\n",
       "    .dataframe tbody tr th {\n",
       "        vertical-align: top;\n",
       "    }\n",
       "\n",
       "    .dataframe thead th {\n",
       "        text-align: right;\n",
       "    }\n",
       "</style>\n",
       "<table border=\"1\" class=\"dataframe\">\n",
       "  <thead>\n",
       "    <tr style=\"text-align: right;\">\n",
       "      <th></th>\n",
       "      <th>studytime</th>\n",
       "    </tr>\n",
       "  </thead>\n",
       "  <tbody>\n",
       "    <tr>\n",
       "      <th>2.0</th>\n",
       "      <td>194</td>\n",
       "    </tr>\n",
       "    <tr>\n",
       "      <th>1.0</th>\n",
       "      <td>103</td>\n",
       "    </tr>\n",
       "    <tr>\n",
       "      <th>3.0</th>\n",
       "      <td>64</td>\n",
       "    </tr>\n",
       "    <tr>\n",
       "      <th>4.0</th>\n",
       "      <td>27</td>\n",
       "    </tr>\n",
       "  </tbody>\n",
       "</table>\n",
       "</div>"
      ],
      "text/plain": [
       "     studytime\n",
       "2.0        194\n",
       "1.0        103\n",
       "3.0         64\n",
       "4.0         27"
      ]
     },
     "metadata": {},
     "output_type": "display_data"
    },
    {
     "name": "stdout",
     "output_type": "stream",
     "text": [
      "ОБРАБОТКА ЧИСЛОВОЙ КОЛОНКИ failures\n",
      "Пустых значений: 22 \n",
      "\n",
      "\n"
     ]
    },
    {
     "data": {
      "text/html": [
       "<div>\n",
       "<style scoped>\n",
       "    .dataframe tbody tr th:only-of-type {\n",
       "        vertical-align: middle;\n",
       "    }\n",
       "\n",
       "    .dataframe tbody tr th {\n",
       "        vertical-align: top;\n",
       "    }\n",
       "\n",
       "    .dataframe thead th {\n",
       "        text-align: right;\n",
       "    }\n",
       "</style>\n",
       "<table border=\"1\" class=\"dataframe\">\n",
       "  <thead>\n",
       "    <tr style=\"text-align: right;\">\n",
       "      <th></th>\n",
       "      <th>failures</th>\n",
       "    </tr>\n",
       "  </thead>\n",
       "  <tbody>\n",
       "    <tr>\n",
       "      <th>0.0</th>\n",
       "      <td>293</td>\n",
       "    </tr>\n",
       "    <tr>\n",
       "      <th>1.0</th>\n",
       "      <td>49</td>\n",
       "    </tr>\n",
       "    <tr>\n",
       "      <th>2.0</th>\n",
       "      <td>16</td>\n",
       "    </tr>\n",
       "    <tr>\n",
       "      <th>3.0</th>\n",
       "      <td>15</td>\n",
       "    </tr>\n",
       "  </tbody>\n",
       "</table>\n",
       "</div>"
      ],
      "text/plain": [
       "     failures\n",
       "0.0       293\n",
       "1.0        49\n",
       "2.0        16\n",
       "3.0        15"
      ]
     },
     "metadata": {},
     "output_type": "display_data"
    },
    {
     "name": "stdout",
     "output_type": "stream",
     "text": [
      "ОБРАБОТКА ЧИСЛОВОЙ КОЛОНКИ studytime_gran\n",
      "Пустых значений: 7 \n",
      "\n",
      "\n"
     ]
    },
    {
     "data": {
      "text/html": [
       "<div>\n",
       "<style scoped>\n",
       "    .dataframe tbody tr th:only-of-type {\n",
       "        vertical-align: middle;\n",
       "    }\n",
       "\n",
       "    .dataframe tbody tr th {\n",
       "        vertical-align: top;\n",
       "    }\n",
       "\n",
       "    .dataframe thead th {\n",
       "        text-align: right;\n",
       "    }\n",
       "</style>\n",
       "<table border=\"1\" class=\"dataframe\">\n",
       "  <thead>\n",
       "    <tr style=\"text-align: right;\">\n",
       "      <th></th>\n",
       "      <th>studytime_gran</th>\n",
       "    </tr>\n",
       "  </thead>\n",
       "  <tbody>\n",
       "    <tr>\n",
       "      <th>-6.0</th>\n",
       "      <td>194</td>\n",
       "    </tr>\n",
       "    <tr>\n",
       "      <th>-3.0</th>\n",
       "      <td>103</td>\n",
       "    </tr>\n",
       "    <tr>\n",
       "      <th>-9.0</th>\n",
       "      <td>64</td>\n",
       "    </tr>\n",
       "    <tr>\n",
       "      <th>-12.0</th>\n",
       "      <td>27</td>\n",
       "    </tr>\n",
       "  </tbody>\n",
       "</table>\n",
       "</div>"
      ],
      "text/plain": [
       "       studytime_gran\n",
       "-6.0              194\n",
       "-3.0              103\n",
       "-9.0               64\n",
       "-12.0              27"
      ]
     },
     "metadata": {},
     "output_type": "display_data"
    },
    {
     "name": "stdout",
     "output_type": "stream",
     "text": [
      "ОБРАБОТКА ЧИСЛОВОЙ КОЛОНКИ famrel\n",
      "Пустых значений: 27 \n",
      "\n",
      "\n"
     ]
    },
    {
     "data": {
      "text/html": [
       "<div>\n",
       "<style scoped>\n",
       "    .dataframe tbody tr th:only-of-type {\n",
       "        vertical-align: middle;\n",
       "    }\n",
       "\n",
       "    .dataframe tbody tr th {\n",
       "        vertical-align: top;\n",
       "    }\n",
       "\n",
       "    .dataframe thead th {\n",
       "        text-align: right;\n",
       "    }\n",
       "</style>\n",
       "<table border=\"1\" class=\"dataframe\">\n",
       "  <thead>\n",
       "    <tr style=\"text-align: right;\">\n",
       "      <th></th>\n",
       "      <th>famrel</th>\n",
       "    </tr>\n",
       "  </thead>\n",
       "  <tbody>\n",
       "    <tr>\n",
       "      <th>4.0</th>\n",
       "      <td>182</td>\n",
       "    </tr>\n",
       "    <tr>\n",
       "      <th>5.0</th>\n",
       "      <td>99</td>\n",
       "    </tr>\n",
       "    <tr>\n",
       "      <th>3.0</th>\n",
       "      <td>62</td>\n",
       "    </tr>\n",
       "    <tr>\n",
       "      <th>2.0</th>\n",
       "      <td>17</td>\n",
       "    </tr>\n",
       "    <tr>\n",
       "      <th>1.0</th>\n",
       "      <td>7</td>\n",
       "    </tr>\n",
       "    <tr>\n",
       "      <th>-1.0</th>\n",
       "      <td>1</td>\n",
       "    </tr>\n",
       "  </tbody>\n",
       "</table>\n",
       "</div>"
      ],
      "text/plain": [
       "      famrel\n",
       " 4.0     182\n",
       " 5.0      99\n",
       " 3.0      62\n",
       " 2.0      17\n",
       " 1.0       7\n",
       "-1.0       1"
      ]
     },
     "metadata": {},
     "output_type": "display_data"
    },
    {
     "name": "stdout",
     "output_type": "stream",
     "text": [
      "ОБРАБОТКА ЧИСЛОВОЙ КОЛОНКИ freetime\n",
      "Пустых значений: 11 \n",
      "\n",
      "\n"
     ]
    },
    {
     "data": {
      "text/html": [
       "<div>\n",
       "<style scoped>\n",
       "    .dataframe tbody tr th:only-of-type {\n",
       "        vertical-align: middle;\n",
       "    }\n",
       "\n",
       "    .dataframe tbody tr th {\n",
       "        vertical-align: top;\n",
       "    }\n",
       "\n",
       "    .dataframe thead th {\n",
       "        text-align: right;\n",
       "    }\n",
       "</style>\n",
       "<table border=\"1\" class=\"dataframe\">\n",
       "  <thead>\n",
       "    <tr style=\"text-align: right;\">\n",
       "      <th></th>\n",
       "      <th>freetime</th>\n",
       "    </tr>\n",
       "  </thead>\n",
       "  <tbody>\n",
       "    <tr>\n",
       "      <th>3.0</th>\n",
       "      <td>153</td>\n",
       "    </tr>\n",
       "    <tr>\n",
       "      <th>4.0</th>\n",
       "      <td>112</td>\n",
       "    </tr>\n",
       "    <tr>\n",
       "      <th>2.0</th>\n",
       "      <td>63</td>\n",
       "    </tr>\n",
       "    <tr>\n",
       "      <th>5.0</th>\n",
       "      <td>38</td>\n",
       "    </tr>\n",
       "    <tr>\n",
       "      <th>1.0</th>\n",
       "      <td>18</td>\n",
       "    </tr>\n",
       "  </tbody>\n",
       "</table>\n",
       "</div>"
      ],
      "text/plain": [
       "     freetime\n",
       "3.0       153\n",
       "4.0       112\n",
       "2.0        63\n",
       "5.0        38\n",
       "1.0        18"
      ]
     },
     "metadata": {},
     "output_type": "display_data"
    },
    {
     "name": "stdout",
     "output_type": "stream",
     "text": [
      "ОБРАБОТКА ЧИСЛОВОЙ КОЛОНКИ go_out\n",
      "Пустых значений: 8 \n",
      "\n",
      "\n"
     ]
    },
    {
     "data": {
      "text/html": [
       "<div>\n",
       "<style scoped>\n",
       "    .dataframe tbody tr th:only-of-type {\n",
       "        vertical-align: middle;\n",
       "    }\n",
       "\n",
       "    .dataframe tbody tr th {\n",
       "        vertical-align: top;\n",
       "    }\n",
       "\n",
       "    .dataframe thead th {\n",
       "        text-align: right;\n",
       "    }\n",
       "</style>\n",
       "<table border=\"1\" class=\"dataframe\">\n",
       "  <thead>\n",
       "    <tr style=\"text-align: right;\">\n",
       "      <th></th>\n",
       "      <th>go_out</th>\n",
       "    </tr>\n",
       "  </thead>\n",
       "  <tbody>\n",
       "    <tr>\n",
       "      <th>3.0</th>\n",
       "      <td>127</td>\n",
       "    </tr>\n",
       "    <tr>\n",
       "      <th>2.0</th>\n",
       "      <td>101</td>\n",
       "    </tr>\n",
       "    <tr>\n",
       "      <th>4.0</th>\n",
       "      <td>84</td>\n",
       "    </tr>\n",
       "    <tr>\n",
       "      <th>5.0</th>\n",
       "      <td>52</td>\n",
       "    </tr>\n",
       "    <tr>\n",
       "      <th>1.0</th>\n",
       "      <td>23</td>\n",
       "    </tr>\n",
       "  </tbody>\n",
       "</table>\n",
       "</div>"
      ],
      "text/plain": [
       "     go_out\n",
       "3.0     127\n",
       "2.0     101\n",
       "4.0      84\n",
       "5.0      52\n",
       "1.0      23"
      ]
     },
     "metadata": {},
     "output_type": "display_data"
    },
    {
     "name": "stdout",
     "output_type": "stream",
     "text": [
      "ОБРАБОТКА ЧИСЛОВОЙ КОЛОНКИ health\n",
      "Пустых значений: 15 \n",
      "\n",
      "\n"
     ]
    },
    {
     "data": {
      "text/html": [
       "<div>\n",
       "<style scoped>\n",
       "    .dataframe tbody tr th:only-of-type {\n",
       "        vertical-align: middle;\n",
       "    }\n",
       "\n",
       "    .dataframe tbody tr th {\n",
       "        vertical-align: top;\n",
       "    }\n",
       "\n",
       "    .dataframe thead th {\n",
       "        text-align: right;\n",
       "    }\n",
       "</style>\n",
       "<table border=\"1\" class=\"dataframe\">\n",
       "  <thead>\n",
       "    <tr style=\"text-align: right;\">\n",
       "      <th></th>\n",
       "      <th>health</th>\n",
       "    </tr>\n",
       "  </thead>\n",
       "  <tbody>\n",
       "    <tr>\n",
       "      <th>5.0</th>\n",
       "      <td>138</td>\n",
       "    </tr>\n",
       "    <tr>\n",
       "      <th>3.0</th>\n",
       "      <td>89</td>\n",
       "    </tr>\n",
       "    <tr>\n",
       "      <th>4.0</th>\n",
       "      <td>63</td>\n",
       "    </tr>\n",
       "    <tr>\n",
       "      <th>1.0</th>\n",
       "      <td>47</td>\n",
       "    </tr>\n",
       "    <tr>\n",
       "      <th>2.0</th>\n",
       "      <td>43</td>\n",
       "    </tr>\n",
       "  </tbody>\n",
       "</table>\n",
       "</div>"
      ],
      "text/plain": [
       "     health\n",
       "5.0     138\n",
       "3.0      89\n",
       "4.0      63\n",
       "1.0      47\n",
       "2.0      43"
      ]
     },
     "metadata": {},
     "output_type": "display_data"
    },
    {
     "name": "stdout",
     "output_type": "stream",
     "text": [
      "ОБРАБОТКА ЧИСЛОВОЙ КОЛОНКИ absences\n",
      "Пустых значений: 12 \n",
      "\n",
      "\n"
     ]
    },
    {
     "data": {
      "text/html": [
       "<div>\n",
       "<style scoped>\n",
       "    .dataframe tbody tr th:only-of-type {\n",
       "        vertical-align: middle;\n",
       "    }\n",
       "\n",
       "    .dataframe tbody tr th {\n",
       "        vertical-align: top;\n",
       "    }\n",
       "\n",
       "    .dataframe thead th {\n",
       "        text-align: right;\n",
       "    }\n",
       "</style>\n",
       "<table border=\"1\" class=\"dataframe\">\n",
       "  <thead>\n",
       "    <tr style=\"text-align: right;\">\n",
       "      <th></th>\n",
       "      <th>absences</th>\n",
       "    </tr>\n",
       "  </thead>\n",
       "  <tbody>\n",
       "    <tr>\n",
       "      <th>0.0</th>\n",
       "      <td>111</td>\n",
       "    </tr>\n",
       "    <tr>\n",
       "      <th>2.0</th>\n",
       "      <td>60</td>\n",
       "    </tr>\n",
       "    <tr>\n",
       "      <th>4.0</th>\n",
       "      <td>53</td>\n",
       "    </tr>\n",
       "    <tr>\n",
       "      <th>6.0</th>\n",
       "      <td>31</td>\n",
       "    </tr>\n",
       "    <tr>\n",
       "      <th>8.0</th>\n",
       "      <td>21</td>\n",
       "    </tr>\n",
       "    <tr>\n",
       "      <th>10.0</th>\n",
       "      <td>17</td>\n",
       "    </tr>\n",
       "    <tr>\n",
       "      <th>12.0</th>\n",
       "      <td>12</td>\n",
       "    </tr>\n",
       "    <tr>\n",
       "      <th>14.0</th>\n",
       "      <td>12</td>\n",
       "    </tr>\n",
       "    <tr>\n",
       "      <th>3.0</th>\n",
       "      <td>8</td>\n",
       "    </tr>\n",
       "    <tr>\n",
       "      <th>16.0</th>\n",
       "      <td>7</td>\n",
       "    </tr>\n",
       "    <tr>\n",
       "      <th>7.0</th>\n",
       "      <td>6</td>\n",
       "    </tr>\n",
       "    <tr>\n",
       "      <th>5.0</th>\n",
       "      <td>5</td>\n",
       "    </tr>\n",
       "    <tr>\n",
       "      <th>18.0</th>\n",
       "      <td>5</td>\n",
       "    </tr>\n",
       "    <tr>\n",
       "      <th>20.0</th>\n",
       "      <td>4</td>\n",
       "    </tr>\n",
       "    <tr>\n",
       "      <th>22.0</th>\n",
       "      <td>3</td>\n",
       "    </tr>\n",
       "    <tr>\n",
       "      <th>9.0</th>\n",
       "      <td>3</td>\n",
       "    </tr>\n",
       "    <tr>\n",
       "      <th>1.0</th>\n",
       "      <td>3</td>\n",
       "    </tr>\n",
       "    <tr>\n",
       "      <th>15.0</th>\n",
       "      <td>2</td>\n",
       "    </tr>\n",
       "    <tr>\n",
       "      <th>13.0</th>\n",
       "      <td>2</td>\n",
       "    </tr>\n",
       "    <tr>\n",
       "      <th>11.0</th>\n",
       "      <td>2</td>\n",
       "    </tr>\n",
       "    <tr>\n",
       "      <th>25.0</th>\n",
       "      <td>1</td>\n",
       "    </tr>\n",
       "    <tr>\n",
       "      <th>54.0</th>\n",
       "      <td>1</td>\n",
       "    </tr>\n",
       "    <tr>\n",
       "      <th>385.0</th>\n",
       "      <td>1</td>\n",
       "    </tr>\n",
       "    <tr>\n",
       "      <th>26.0</th>\n",
       "      <td>1</td>\n",
       "    </tr>\n",
       "    <tr>\n",
       "      <th>56.0</th>\n",
       "      <td>1</td>\n",
       "    </tr>\n",
       "    <tr>\n",
       "      <th>24.0</th>\n",
       "      <td>1</td>\n",
       "    </tr>\n",
       "    <tr>\n",
       "      <th>212.0</th>\n",
       "      <td>1</td>\n",
       "    </tr>\n",
       "    <tr>\n",
       "      <th>21.0</th>\n",
       "      <td>1</td>\n",
       "    </tr>\n",
       "    <tr>\n",
       "      <th>75.0</th>\n",
       "      <td>1</td>\n",
       "    </tr>\n",
       "    <tr>\n",
       "      <th>30.0</th>\n",
       "      <td>1</td>\n",
       "    </tr>\n",
       "    <tr>\n",
       "      <th>19.0</th>\n",
       "      <td>1</td>\n",
       "    </tr>\n",
       "    <tr>\n",
       "      <th>38.0</th>\n",
       "      <td>1</td>\n",
       "    </tr>\n",
       "    <tr>\n",
       "      <th>40.0</th>\n",
       "      <td>1</td>\n",
       "    </tr>\n",
       "    <tr>\n",
       "      <th>23.0</th>\n",
       "      <td>1</td>\n",
       "    </tr>\n",
       "    <tr>\n",
       "      <th>17.0</th>\n",
       "      <td>1</td>\n",
       "    </tr>\n",
       "    <tr>\n",
       "      <th>28.0</th>\n",
       "      <td>1</td>\n",
       "    </tr>\n",
       "  </tbody>\n",
       "</table>\n",
       "</div>"
      ],
      "text/plain": [
       "       absences\n",
       "0.0         111\n",
       "2.0          60\n",
       "4.0          53\n",
       "6.0          31\n",
       "8.0          21\n",
       "10.0         17\n",
       "12.0         12\n",
       "14.0         12\n",
       "3.0           8\n",
       "16.0          7\n",
       "7.0           6\n",
       "5.0           5\n",
       "18.0          5\n",
       "20.0          4\n",
       "22.0          3\n",
       "9.0           3\n",
       "1.0           3\n",
       "15.0          2\n",
       "13.0          2\n",
       "11.0          2\n",
       "25.0          1\n",
       "54.0          1\n",
       "385.0         1\n",
       "26.0          1\n",
       "56.0          1\n",
       "24.0          1\n",
       "212.0         1\n",
       "21.0          1\n",
       "75.0          1\n",
       "30.0          1\n",
       "19.0          1\n",
       "38.0          1\n",
       "40.0          1\n",
       "23.0          1\n",
       "17.0          1\n",
       "28.0          1"
      ]
     },
     "metadata": {},
     "output_type": "display_data"
    },
    {
     "name": "stdout",
     "output_type": "stream",
     "text": [
      "ОБРАБОТКА ЧИСЛОВОЙ КОЛОНКИ score\n",
      "Пустых значений: 6 \n",
      "\n",
      "\n"
     ]
    },
    {
     "data": {
      "text/html": [
       "<div>\n",
       "<style scoped>\n",
       "    .dataframe tbody tr th:only-of-type {\n",
       "        vertical-align: middle;\n",
       "    }\n",
       "\n",
       "    .dataframe tbody tr th {\n",
       "        vertical-align: top;\n",
       "    }\n",
       "\n",
       "    .dataframe thead th {\n",
       "        text-align: right;\n",
       "    }\n",
       "</style>\n",
       "<table border=\"1\" class=\"dataframe\">\n",
       "  <thead>\n",
       "    <tr style=\"text-align: right;\">\n",
       "      <th></th>\n",
       "      <th>score</th>\n",
       "    </tr>\n",
       "  </thead>\n",
       "  <tbody>\n",
       "    <tr>\n",
       "      <th>50.0</th>\n",
       "      <td>54</td>\n",
       "    </tr>\n",
       "    <tr>\n",
       "      <th>55.0</th>\n",
       "      <td>46</td>\n",
       "    </tr>\n",
       "    <tr>\n",
       "      <th>0.0</th>\n",
       "      <td>37</td>\n",
       "    </tr>\n",
       "    <tr>\n",
       "      <th>75.0</th>\n",
       "      <td>33</td>\n",
       "    </tr>\n",
       "    <tr>\n",
       "      <th>65.0</th>\n",
       "      <td>31</td>\n",
       "    </tr>\n",
       "    <tr>\n",
       "      <th>40.0</th>\n",
       "      <td>31</td>\n",
       "    </tr>\n",
       "    <tr>\n",
       "      <th>60.0</th>\n",
       "      <td>31</td>\n",
       "    </tr>\n",
       "    <tr>\n",
       "      <th>70.0</th>\n",
       "      <td>27</td>\n",
       "    </tr>\n",
       "    <tr>\n",
       "      <th>45.0</th>\n",
       "      <td>27</td>\n",
       "    </tr>\n",
       "    <tr>\n",
       "      <th>80.0</th>\n",
       "      <td>16</td>\n",
       "    </tr>\n",
       "    <tr>\n",
       "      <th>30.0</th>\n",
       "      <td>15</td>\n",
       "    </tr>\n",
       "    <tr>\n",
       "      <th>90.0</th>\n",
       "      <td>12</td>\n",
       "    </tr>\n",
       "    <tr>\n",
       "      <th>35.0</th>\n",
       "      <td>9</td>\n",
       "    </tr>\n",
       "    <tr>\n",
       "      <th>25.0</th>\n",
       "      <td>7</td>\n",
       "    </tr>\n",
       "    <tr>\n",
       "      <th>85.0</th>\n",
       "      <td>6</td>\n",
       "    </tr>\n",
       "    <tr>\n",
       "      <th>95.0</th>\n",
       "      <td>5</td>\n",
       "    </tr>\n",
       "    <tr>\n",
       "      <th>100.0</th>\n",
       "      <td>1</td>\n",
       "    </tr>\n",
       "    <tr>\n",
       "      <th>20.0</th>\n",
       "      <td>1</td>\n",
       "    </tr>\n",
       "  </tbody>\n",
       "</table>\n",
       "</div>"
      ],
      "text/plain": [
       "       score\n",
       "50.0      54\n",
       "55.0      46\n",
       "0.0       37\n",
       "75.0      33\n",
       "65.0      31\n",
       "40.0      31\n",
       "60.0      31\n",
       "70.0      27\n",
       "45.0      27\n",
       "80.0      16\n",
       "30.0      15\n",
       "90.0      12\n",
       "35.0       9\n",
       "25.0       7\n",
       "85.0       6\n",
       "95.0       5\n",
       "100.0      1\n",
       "20.0       1"
      ]
     },
     "metadata": {},
     "output_type": "display_data"
    }
   ],
   "source": [
    "for col in dig_cols:\n",
    "    colstatprint(col)"
   ]
  },
  {
   "cell_type": "markdown",
   "metadata": {},
   "source": [
    "#### Вывод: все колонки типа float по факту можно преобразовать к int. Так проще строить визуализацию"
   ]
  },
  {
   "cell_type": "markdown",
   "metadata": {},
   "source": [
    "### Исследуем распределение"
   ]
  },
  {
   "cell_type": "code",
   "execution_count": null,
   "metadata": {
    "scrolled": true
   },
   "outputs": [],
   "source": [
    "dig_cols"
   ]
  },
  {
   "cell_type": "code",
   "execution_count": 36,
   "metadata": {},
   "outputs": [],
   "source": [
    "def float_to_int(val):\n",
    "    if isnull(val):\n",
    "        return None\n",
    "    else:\n",
    "        return int(val)"
   ]
  },
  {
   "cell_type": "code",
   "execution_count": 37,
   "metadata": {},
   "outputs": [],
   "source": [
    "for col in dig_cols:\n",
    "    df[col] = df[col].apply(float_to_int)"
   ]
  },
  {
   "cell_type": "code",
   "execution_count": null,
   "metadata": {},
   "outputs": [],
   "source": [
    "def del_out_by_quant(col):\n",
    "    median = df[col].median()\n",
    "    IQR = df[col].quantile(0.75) - df[col].quantile(0.25)\n",
    "    perc25 = df[col].quantile(0.25)\n",
    "    perc75 = df[col].quantile(0.75)\n",
    "    df = df.loc[df[col].between(perc25 - 1.5*IQR, perc75 + 1.5*IQR)]\n",
    "    print('25-й перцентиль: {},'.format(perc25), '75-й перцентиль: {},'.format(perc75),\n",
    "          \"IQR: {}, \".format(IQR), \"Границы выбросов: [{f}, {l}].\".format(f=perc25 - 1.5*IQR, l=perc75 + 1.5*IQR))"
   ]
  },
  {
   "cell_type": "code",
   "execution_count": 38,
   "metadata": {},
   "outputs": [],
   "source": [
    "def parameters(col):\n",
    "    median = df[col].median()\n",
    "    IQR = df[col].quantile(0.75) - df[col].quantile(0.25)\n",
    "    perc25 = df[col].quantile(0.25)\n",
    "    perc75 = df[col].quantile(0.75)\n",
    "    return median, IQR, perc25, perc75"
   ]
  },
  {
   "cell_type": "markdown",
   "metadata": {},
   "source": [
    "### Колонка age"
   ]
  },
  {
   "cell_type": "markdown",
   "metadata": {},
   "source": [
    "#### Лимиты: 15:22"
   ]
  },
  {
   "cell_type": "code",
   "execution_count": null,
   "metadata": {},
   "outputs": [],
   "source": []
  },
  {
   "cell_type": "code",
   "execution_count": 39,
   "metadata": {
    "scrolled": true
   },
   "outputs": [],
   "source": [
    "def digit_col_plot(col):\n",
    "    df[col].hist(bins=df[col].nunique(), range=(\n",
    "        df[col].min(), df[col].max()), label=col)\n",
    "    plt.legend()"
   ]
  },
  {
   "cell_type": "code",
   "execution_count": 40,
   "metadata": {},
   "outputs": [],
   "source": [
    "def digit_boxplot(col):\n",
    "    sns.boxplot(x=col,  data=df)"
   ]
  },
  {
   "cell_type": "code",
   "execution_count": 41,
   "metadata": {},
   "outputs": [
    {
     "data": {
      "image/png": "[encoded data removed]",
      "text/plain": [
       "<Figure size 432x288 with 1 Axes>"
      ]
     },
     "metadata": {},
     "output_type": "display_data"
    }
   ],
   "source": [
    "digit_boxplot('age')"
   ]
  },
  {
   "cell_type": "code",
   "execution_count": 42,
   "metadata": {},
   "outputs": [
    {
     "data": {
      "image/png": "[encoded data removed]",
      "text/plain": [
       "<Figure size 432x288 with 1 Axes>"
      ]
     },
     "metadata": {},
     "output_type": "display_data"
    }
   ],
   "source": [
    "digit_col_plot('age')"
   ]
  },
  {
   "cell_type": "code",
   "execution_count": 43,
   "metadata": {
    "scrolled": false
   },
   "outputs": [
    {
     "data": {
      "text/plain": [
       "count    395.000000\n",
       "mean      16.696203\n",
       "std        1.276043\n",
       "min       15.000000\n",
       "25%       16.000000\n",
       "50%       17.000000\n",
       "75%       18.000000\n",
       "max       22.000000\n",
       "Name: age, dtype: float64"
      ]
     },
     "execution_count": 43,
     "metadata": {},
     "output_type": "execute_result"
    }
   ],
   "source": [
    "df['age'].describe()"
   ]
  },
  {
   "cell_type": "code",
   "execution_count": 44,
   "metadata": {},
   "outputs": [
    {
     "name": "stdout",
     "output_type": "stream",
     "text": [
      "ОБРАБОТКА ЧИСЛОВОЙ КОЛОНКИ age\n",
      "Пустых значений: 0 \n",
      "\n",
      "\n"
     ]
    },
    {
     "data": {
      "text/html": [
       "<div>\n",
       "<style scoped>\n",
       "    .dataframe tbody tr th:only-of-type {\n",
       "        vertical-align: middle;\n",
       "    }\n",
       "\n",
       "    .dataframe tbody tr th {\n",
       "        vertical-align: top;\n",
       "    }\n",
       "\n",
       "    .dataframe thead th {\n",
       "        text-align: right;\n",
       "    }\n",
       "</style>\n",
       "<table border=\"1\" class=\"dataframe\">\n",
       "  <thead>\n",
       "    <tr style=\"text-align: right;\">\n",
       "      <th></th>\n",
       "      <th>age</th>\n",
       "    </tr>\n",
       "  </thead>\n",
       "  <tbody>\n",
       "    <tr>\n",
       "      <th>16</th>\n",
       "      <td>104</td>\n",
       "    </tr>\n",
       "    <tr>\n",
       "      <th>17</th>\n",
       "      <td>98</td>\n",
       "    </tr>\n",
       "    <tr>\n",
       "      <th>18</th>\n",
       "      <td>82</td>\n",
       "    </tr>\n",
       "    <tr>\n",
       "      <th>15</th>\n",
       "      <td>82</td>\n",
       "    </tr>\n",
       "    <tr>\n",
       "      <th>19</th>\n",
       "      <td>24</td>\n",
       "    </tr>\n",
       "    <tr>\n",
       "      <th>20</th>\n",
       "      <td>3</td>\n",
       "    </tr>\n",
       "    <tr>\n",
       "      <th>22</th>\n",
       "      <td>1</td>\n",
       "    </tr>\n",
       "    <tr>\n",
       "      <th>21</th>\n",
       "      <td>1</td>\n",
       "    </tr>\n",
       "  </tbody>\n",
       "</table>\n",
       "</div>"
      ],
      "text/plain": [
       "    age\n",
       "16  104\n",
       "17   98\n",
       "18   82\n",
       "15   82\n",
       "19   24\n",
       "20    3\n",
       "22    1\n",
       "21    1"
      ]
     },
     "metadata": {},
     "output_type": "display_data"
    }
   ],
   "source": [
    "colstatprint('age')"
   ]
  },
  {
   "cell_type": "code",
   "execution_count": 45,
   "metadata": {},
   "outputs": [
    {
     "name": "stdout",
     "output_type": "stream",
     "text": [
      "25-й перцентиль: 16.0, 75-й перцентиль: 18.0, IQR: 2.0,  Границы выбросов: [13.0, 21.0].\n"
     ]
    }
   ],
   "source": [
    "median, IQR, perc25, perc75 = parameters('age')\n",
    "df = df.loc[df['age'].between(perc25 - 1.5*IQR, perc75 + 1.5*IQR)]\n",
    "print('25-й перцентиль: {},'.format(perc25), '75-й перцентиль: {},'.format(perc75),\n",
    "      \"IQR: {}, \".format(IQR), \"Границы выбросов: [{f}, {l}].\".format(f=perc25 - 1.5*IQR, l=perc75 + 1.5*IQR))"
   ]
  },
  {
   "cell_type": "code",
   "execution_count": null,
   "metadata": {},
   "outputs": [],
   "source": []
  },
  {
   "cell_type": "code",
   "execution_count": null,
   "metadata": {},
   "outputs": [],
   "source": [
    "df['age'].describe()"
   ]
  },
  {
   "cell_type": "markdown",
   "metadata": {
    "scrolled": true
   },
   "source": [
    "##### Выводы: пропусков нет, распределение, смещенное вправо. Выбросов мало. Выборка смещена к более молодому возрасту, основное распределение лежит от 15 до 19"
   ]
  },
  {
   "cell_type": "markdown",
   "metadata": {},
   "source": [
    "### Колонка m_edu\n",
    "#### лимиты: 0:4"
   ]
  },
  {
   "cell_type": "code",
   "execution_count": 46,
   "metadata": {
    "scrolled": true
   },
   "outputs": [
    {
     "data": {
      "image/png": "[encoded data removed]",
      "text/plain": [
       "<Figure size 432x288 with 1 Axes>"
      ]
     },
     "metadata": {},
     "output_type": "display_data"
    }
   ],
   "source": [
    "digit_col_plot('m_edu')"
   ]
  },
  {
   "cell_type": "code",
   "execution_count": 47,
   "metadata": {},
   "outputs": [
    {
     "data": {
      "image/png": "[encoded data removed]",
      "text/plain": [
       "<Figure size 432x288 with 1 Axes>"
      ]
     },
     "metadata": {},
     "output_type": "display_data"
    }
   ],
   "source": [
    "digit_boxplot('m_edu')"
   ]
  },
  {
   "cell_type": "code",
   "execution_count": 48,
   "metadata": {
    "scrolled": true
   },
   "outputs": [
    {
     "name": "stdout",
     "output_type": "stream",
     "text": [
      "ОБРАБОТКА ЧИСЛОВОЙ КОЛОНКИ m_edu\n",
      "Пустых значений: 3 \n",
      "\n",
      "\n"
     ]
    },
    {
     "data": {
      "text/html": [
       "<div>\n",
       "<style scoped>\n",
       "    .dataframe tbody tr th:only-of-type {\n",
       "        vertical-align: middle;\n",
       "    }\n",
       "\n",
       "    .dataframe tbody tr th {\n",
       "        vertical-align: top;\n",
       "    }\n",
       "\n",
       "    .dataframe thead th {\n",
       "        text-align: right;\n",
       "    }\n",
       "</style>\n",
       "<table border=\"1\" class=\"dataframe\">\n",
       "  <thead>\n",
       "    <tr style=\"text-align: right;\">\n",
       "      <th></th>\n",
       "      <th>m_edu</th>\n",
       "    </tr>\n",
       "  </thead>\n",
       "  <tbody>\n",
       "    <tr>\n",
       "      <th>4.0</th>\n",
       "      <td>131</td>\n",
       "    </tr>\n",
       "    <tr>\n",
       "      <th>2.0</th>\n",
       "      <td>102</td>\n",
       "    </tr>\n",
       "    <tr>\n",
       "      <th>3.0</th>\n",
       "      <td>96</td>\n",
       "    </tr>\n",
       "    <tr>\n",
       "      <th>1.0</th>\n",
       "      <td>59</td>\n",
       "    </tr>\n",
       "    <tr>\n",
       "      <th>0.0</th>\n",
       "      <td>3</td>\n",
       "    </tr>\n",
       "  </tbody>\n",
       "</table>\n",
       "</div>"
      ],
      "text/plain": [
       "     m_edu\n",
       "4.0    131\n",
       "2.0    102\n",
       "3.0     96\n",
       "1.0     59\n",
       "0.0      3"
      ]
     },
     "metadata": {},
     "output_type": "display_data"
    }
   ],
   "source": [
    "colstatprint('m_edu')"
   ]
  },
  {
   "cell_type": "code",
   "execution_count": 49,
   "metadata": {},
   "outputs": [
    {
     "data": {
      "text/plain": [
       "count    391.000000\n",
       "mean       2.749361\n",
       "std        1.099461\n",
       "min        0.000000\n",
       "25%        2.000000\n",
       "50%        3.000000\n",
       "75%        4.000000\n",
       "max        4.000000\n",
       "Name: m_edu, dtype: float64"
      ]
     },
     "execution_count": 49,
     "metadata": {},
     "output_type": "execute_result"
    }
   ],
   "source": [
    "df['m_edu'].describe()"
   ]
  },
  {
   "cell_type": "code",
   "execution_count": 50,
   "metadata": {},
   "outputs": [
    {
     "name": "stdout",
     "output_type": "stream",
     "text": [
      "25-й перцентиль: 2.0, 75-й перцентиль: 4.0, IQR: 2.0,  Границы выбросов: [-1.0, 7.0].\n"
     ]
    }
   ],
   "source": [
    "median, IQR, perc25, perc75 = parameters('m_edu')\n",
    "df = df.loc[df['m_edu'].between(perc25 - 1.5*IQR, perc75 + 1.5*IQR)]\n",
    "print('25-й перцентиль: {},'.format(perc25), '75-й перцентиль: {},'.format(perc75),\n",
    "      \"IQR: {}, \".format(IQR), \"Границы выбросов: [{f}, {l}].\".format(f=perc25 - 1.5*IQR, l=perc75 + 1.5*IQR))"
   ]
  },
  {
   "cell_type": "code",
   "execution_count": null,
   "metadata": {
    "scrolled": false
   },
   "outputs": [],
   "source": []
  },
  {
   "cell_type": "code",
   "execution_count": null,
   "metadata": {},
   "outputs": [],
   "source": [
    "df['m_edu'].describe()"
   ]
  },
  {
   "cell_type": "markdown",
   "metadata": {},
   "source": [
    "#### Выводы: пропусков мало, распределение, заметно смещенное влево. Выбросов мало. В выбрку попали в основном эксперименты, в которых у матери есть хотя бы 9 классов общего образования, основное распределение лежит от 2 до 4"
   ]
  },
  {
   "cell_type": "markdown",
   "metadata": {},
   "source": [
    "### Анализируем f_edu\n",
    "#### Лимиты: 0:4"
   ]
  },
  {
   "cell_type": "code",
   "execution_count": 51,
   "metadata": {
    "scrolled": true
   },
   "outputs": [
    {
     "data": {
      "image/png": "[encoded data removed]",
      "text/plain": [
       "<Figure size 432x288 with 1 Axes>"
      ]
     },
     "metadata": {},
     "output_type": "display_data"
    }
   ],
   "source": [
    "digit_boxplot('f_edu')"
   ]
  },
  {
   "cell_type": "code",
   "execution_count": 52,
   "metadata": {
    "scrolled": true
   },
   "outputs": [
    {
     "data": {
      "image/png": "[encoded data removed]",
      "text/plain": [
       "<Figure size 432x288 with 1 Axes>"
      ]
     },
     "metadata": {},
     "output_type": "display_data"
    }
   ],
   "source": [
    "digit_col_plot('f_edu')"
   ]
  },
  {
   "cell_type": "code",
   "execution_count": 53,
   "metadata": {},
   "outputs": [
    {
     "name": "stdout",
     "output_type": "stream",
     "text": [
      "ОБРАБОТКА ЧИСЛОВОЙ КОЛОНКИ f_edu\n",
      "Пустых значений: 24 \n",
      "\n",
      "\n"
     ]
    },
    {
     "data": {
      "text/html": [
       "<div>\n",
       "<style scoped>\n",
       "    .dataframe tbody tr th:only-of-type {\n",
       "        vertical-align: middle;\n",
       "    }\n",
       "\n",
       "    .dataframe tbody tr th {\n",
       "        vertical-align: top;\n",
       "    }\n",
       "\n",
       "    .dataframe thead th {\n",
       "        text-align: right;\n",
       "    }\n",
       "</style>\n",
       "<table border=\"1\" class=\"dataframe\">\n",
       "  <thead>\n",
       "    <tr style=\"text-align: right;\">\n",
       "      <th></th>\n",
       "      <th>f_edu</th>\n",
       "    </tr>\n",
       "  </thead>\n",
       "  <tbody>\n",
       "    <tr>\n",
       "      <th>2.0</th>\n",
       "      <td>105</td>\n",
       "    </tr>\n",
       "    <tr>\n",
       "      <th>3.0</th>\n",
       "      <td>95</td>\n",
       "    </tr>\n",
       "    <tr>\n",
       "      <th>4.0</th>\n",
       "      <td>88</td>\n",
       "    </tr>\n",
       "    <tr>\n",
       "      <th>1.0</th>\n",
       "      <td>76</td>\n",
       "    </tr>\n",
       "    <tr>\n",
       "      <th>0.0</th>\n",
       "      <td>2</td>\n",
       "    </tr>\n",
       "    <tr>\n",
       "      <th>40.0</th>\n",
       "      <td>1</td>\n",
       "    </tr>\n",
       "  </tbody>\n",
       "</table>\n",
       "</div>"
      ],
      "text/plain": [
       "      f_edu\n",
       "2.0     105\n",
       "3.0      95\n",
       "4.0      88\n",
       "1.0      76\n",
       "0.0       2\n",
       "40.0      1"
      ]
     },
     "metadata": {},
     "output_type": "display_data"
    }
   ],
   "source": [
    "colstatprint('f_edu')"
   ]
  },
  {
   "cell_type": "code",
   "execution_count": 54,
   "metadata": {},
   "outputs": [
    {
     "data": {
      "text/plain": [
       "count    367.000000\n",
       "mean       2.623978\n",
       "std        2.237356\n",
       "min        0.000000\n",
       "25%        2.000000\n",
       "50%        3.000000\n",
       "75%        3.000000\n",
       "max       40.000000\n",
       "Name: f_edu, dtype: float64"
      ]
     },
     "execution_count": 54,
     "metadata": {},
     "output_type": "execute_result"
    }
   ],
   "source": [
    "df['f_edu'].describe()"
   ]
  },
  {
   "cell_type": "code",
   "execution_count": null,
   "metadata": {},
   "outputs": [],
   "source": [
    "# del_out_by_quant(df, 'f_edu') - не работает"
   ]
  },
  {
   "cell_type": "code",
   "execution_count": 55,
   "metadata": {},
   "outputs": [
    {
     "name": "stdout",
     "output_type": "stream",
     "text": [
      "25-й перцентиль: 2.0, 75-й перцентиль: 3.0, IQR: 1.0,  Границы выбросов: [0.5, 4.5].\n"
     ]
    }
   ],
   "source": [
    "median, IQR, perc25, perc75 = parameters('f_edu')\n",
    "df = df.loc[df['f_edu'].between(perc25 - 1.5*IQR, perc75 + 1.5*IQR)]\n",
    "print('25-й перцентиль: {},'.format(perc25), '75-й перцентиль: {},'.format(perc75),\n",
    "      \"IQR: {}, \".format(IQR), \"Границы выбросов: [{f}, {l}].\".format(f=perc25 - 1.5*IQR, l=perc75 + 1.5*IQR))"
   ]
  },
  {
   "cell_type": "code",
   "execution_count": null,
   "metadata": {},
   "outputs": [],
   "source": [
    "df['f_edu'].describe()"
   ]
  },
  {
   "cell_type": "markdown",
   "metadata": {},
   "source": [
    "##### Вывод: в выборку попали семьи, у которых обраование матери в среднем выше, чем обьразование отца. Образование отцов в основном распределено между 2 и 3 (т.е. просто средняя или полная школа школа/техникум). Есть один выброс"
   ]
  },
  {
   "cell_type": "code",
   "execution_count": null,
   "metadata": {},
   "outputs": [],
   "source": []
  },
  {
   "cell_type": "markdown",
   "metadata": {},
   "source": [
    "### Колонка traveltime"
   ]
  },
  {
   "cell_type": "code",
   "execution_count": 56,
   "metadata": {},
   "outputs": [
    {
     "data": {
      "image/png": "[encoded data removed]",
      "text/plain": [
       "<Figure size 432x288 with 1 Axes>"
      ]
     },
     "metadata": {},
     "output_type": "display_data"
    }
   ],
   "source": [
    "digit_boxplot('traveltime')"
   ]
  },
  {
   "cell_type": "code",
   "execution_count": 57,
   "metadata": {},
   "outputs": [
    {
     "data": {
      "image/png": "[encoded data removed]",
      "text/plain": [
       "<Figure size 432x288 with 1 Axes>"
      ]
     },
     "metadata": {},
     "output_type": "display_data"
    }
   ],
   "source": [
    "digit_col_plot('traveltime')"
   ]
  },
  {
   "cell_type": "code",
   "execution_count": 58,
   "metadata": {},
   "outputs": [
    {
     "name": "stdout",
     "output_type": "stream",
     "text": [
      "ОБРАБОТКА ЧИСЛОВОЙ КОЛОНКИ traveltime\n",
      "Пустых значений: 25 \n",
      "\n",
      "\n"
     ]
    },
    {
     "data": {
      "text/html": [
       "<div>\n",
       "<style scoped>\n",
       "    .dataframe tbody tr th:only-of-type {\n",
       "        vertical-align: middle;\n",
       "    }\n",
       "\n",
       "    .dataframe tbody tr th {\n",
       "        vertical-align: top;\n",
       "    }\n",
       "\n",
       "    .dataframe thead th {\n",
       "        text-align: right;\n",
       "    }\n",
       "</style>\n",
       "<table border=\"1\" class=\"dataframe\">\n",
       "  <thead>\n",
       "    <tr style=\"text-align: right;\">\n",
       "      <th></th>\n",
       "      <th>traveltime</th>\n",
       "    </tr>\n",
       "  </thead>\n",
       "  <tbody>\n",
       "    <tr>\n",
       "      <th>1.0</th>\n",
       "      <td>221</td>\n",
       "    </tr>\n",
       "    <tr>\n",
       "      <th>2.0</th>\n",
       "      <td>90</td>\n",
       "    </tr>\n",
       "    <tr>\n",
       "      <th>3.0</th>\n",
       "      <td>21</td>\n",
       "    </tr>\n",
       "    <tr>\n",
       "      <th>4.0</th>\n",
       "      <td>7</td>\n",
       "    </tr>\n",
       "  </tbody>\n",
       "</table>\n",
       "</div>"
      ],
      "text/plain": [
       "     traveltime\n",
       "1.0         221\n",
       "2.0          90\n",
       "3.0          21\n",
       "4.0           7"
      ]
     },
     "metadata": {},
     "output_type": "display_data"
    }
   ],
   "source": [
    "colstatprint('traveltime')"
   ]
  },
  {
   "cell_type": "code",
   "execution_count": 59,
   "metadata": {},
   "outputs": [
    {
     "data": {
      "text/plain": [
       "count    339.000000\n",
       "mean       1.451327\n",
       "std        0.704900\n",
       "min        1.000000\n",
       "25%        1.000000\n",
       "50%        1.000000\n",
       "75%        2.000000\n",
       "max        4.000000\n",
       "Name: traveltime, dtype: float64"
      ]
     },
     "execution_count": 59,
     "metadata": {},
     "output_type": "execute_result"
    }
   ],
   "source": [
    "df['traveltime'].describe()"
   ]
  },
  {
   "cell_type": "code",
   "execution_count": 60,
   "metadata": {},
   "outputs": [
    {
     "name": "stdout",
     "output_type": "stream",
     "text": [
      "25-й перцентиль: 1.0, 75-й перцентиль: 2.0, IQR: 1.0,  Границы выбросов: [-0.5, 3.5].\n"
     ]
    }
   ],
   "source": [
    "median, IQR, perc25, perc75 = parameters('traveltime')\n",
    "df = df.loc[df['traveltime'].between(perc25 - 1.5*IQR, perc75 + 1.5*IQR)]\n",
    "print('25-й перцентиль: {},'.format(perc25), '75-й перцентиль: {},'.format(perc75),\n",
    "      \"IQR: {}, \".format(IQR), \"Границы выбросов: [{f}, {l}].\".format(f=perc25 - 1.5*IQR, l=perc75 + 1.5*IQR))"
   ]
  },
  {
   "cell_type": "code",
   "execution_count": null,
   "metadata": {
    "scrolled": true
   },
   "outputs": [],
   "source": [
    "df['traveltime'].describe()"
   ]
  },
  {
   "cell_type": "markdown",
   "metadata": {},
   "source": [
    "##### Выводы: Распределение также смещено вправо. В целом у учеников школа расположена в основном близко (в 30 минутах от дома)"
   ]
  },
  {
   "cell_type": "code",
   "execution_count": null,
   "metadata": {},
   "outputs": [],
   "source": []
  },
  {
   "cell_type": "markdown",
   "metadata": {},
   "source": [
    "#### studytime"
   ]
  },
  {
   "cell_type": "code",
   "execution_count": 61,
   "metadata": {},
   "outputs": [
    {
     "data": {
      "image/png": "[encoded data removed]",
      "text/plain": [
       "<Figure size 432x288 with 1 Axes>"
      ]
     },
     "metadata": {},
     "output_type": "display_data"
    }
   ],
   "source": [
    "digit_boxplot('studytime')"
   ]
  },
  {
   "cell_type": "code",
   "execution_count": 62,
   "metadata": {},
   "outputs": [
    {
     "data": {
      "image/png": "[encoded data removed]",
      "text/plain": [
       "<Figure size 432x288 with 1 Axes>"
      ]
     },
     "metadata": {},
     "output_type": "display_data"
    }
   ],
   "source": [
    "digit_col_plot('studytime')"
   ]
  },
  {
   "cell_type": "code",
   "execution_count": 63,
   "metadata": {},
   "outputs": [
    {
     "name": "stdout",
     "output_type": "stream",
     "text": [
      "ОБРАБОТКА ЧИСЛОВОЙ КОЛОНКИ studytime\n",
      "Пустых значений: 6 \n",
      "\n",
      "\n"
     ]
    },
    {
     "data": {
      "text/html": [
       "<div>\n",
       "<style scoped>\n",
       "    .dataframe tbody tr th:only-of-type {\n",
       "        vertical-align: middle;\n",
       "    }\n",
       "\n",
       "    .dataframe tbody tr th {\n",
       "        vertical-align: top;\n",
       "    }\n",
       "\n",
       "    .dataframe thead th {\n",
       "        text-align: right;\n",
       "    }\n",
       "</style>\n",
       "<table border=\"1\" class=\"dataframe\">\n",
       "  <thead>\n",
       "    <tr style=\"text-align: right;\">\n",
       "      <th></th>\n",
       "      <th>studytime</th>\n",
       "    </tr>\n",
       "  </thead>\n",
       "  <tbody>\n",
       "    <tr>\n",
       "      <th>2.0</th>\n",
       "      <td>164</td>\n",
       "    </tr>\n",
       "    <tr>\n",
       "      <th>1.0</th>\n",
       "      <td>87</td>\n",
       "    </tr>\n",
       "    <tr>\n",
       "      <th>3.0</th>\n",
       "      <td>53</td>\n",
       "    </tr>\n",
       "    <tr>\n",
       "      <th>4.0</th>\n",
       "      <td>22</td>\n",
       "    </tr>\n",
       "  </tbody>\n",
       "</table>\n",
       "</div>"
      ],
      "text/plain": [
       "     studytime\n",
       "2.0        164\n",
       "1.0         87\n",
       "3.0         53\n",
       "4.0         22"
      ]
     },
     "metadata": {},
     "output_type": "display_data"
    }
   ],
   "source": [
    "colstatprint('studytime')"
   ]
  },
  {
   "cell_type": "code",
   "execution_count": 64,
   "metadata": {},
   "outputs": [
    {
     "data": {
      "text/plain": [
       "count    326.000000\n",
       "mean       2.030675\n",
       "std        0.837015\n",
       "min        1.000000\n",
       "25%        1.000000\n",
       "50%        2.000000\n",
       "75%        2.000000\n",
       "max        4.000000\n",
       "Name: studytime, dtype: float64"
      ]
     },
     "execution_count": 64,
     "metadata": {},
     "output_type": "execute_result"
    }
   ],
   "source": [
    "df['studytime'].describe()"
   ]
  },
  {
   "cell_type": "code",
   "execution_count": 65,
   "metadata": {},
   "outputs": [
    {
     "name": "stdout",
     "output_type": "stream",
     "text": [
      "25-й перцентиль: 1.0, 75-й перцентиль: 2.0, IQR: 1.0,  Границы выбросов: [-0.5, 3.5].\n"
     ]
    }
   ],
   "source": [
    "median, IQR, perc25, perc75 = parameters('studytime')\n",
    "df = df.loc[df['studytime'].between(perc25 - 1.5*IQR, perc75 + 1.5*IQR)]\n",
    "print('25-й перцентиль: {},'.format(perc25), '75-й перцентиль: {},'.format(perc75),\n",
    "      \"IQR: {}, \".format(IQR), \"Границы выбросов: [{f}, {l}].\".format(f=perc25 - 1.5*IQR, l=perc75 + 1.5*IQR))"
   ]
  },
  {
   "cell_type": "code",
   "execution_count": null,
   "metadata": {},
   "outputs": [],
   "source": [
    "df['studytime'].describe()"
   ]
  },
  {
   "cell_type": "markdown",
   "metadata": {},
   "source": [
    "##### Выводы: в ццелом распределение нормальное, ученики в осноном тратят от 1 до 2 часов для занятий дополнительно"
   ]
  },
  {
   "cell_type": "markdown",
   "metadata": {},
   "source": [
    "### failures"
   ]
  },
  {
   "cell_type": "code",
   "execution_count": 66,
   "metadata": {},
   "outputs": [
    {
     "data": {
      "image/png": "[encoded data removed]",
      "text/plain": [
       "<Figure size 432x288 with 1 Axes>"
      ]
     },
     "metadata": {},
     "output_type": "display_data"
    }
   ],
   "source": [
    "digit_boxplot('failures')"
   ]
  },
  {
   "cell_type": "code",
   "execution_count": 67,
   "metadata": {},
   "outputs": [
    {
     "data": {
      "image/png": "[encoded data removed]",
      "text/plain": [
       "<Figure size 432x288 with 1 Axes>"
      ]
     },
     "metadata": {},
     "output_type": "display_data"
    }
   ],
   "source": [
    "digit_col_plot('failures')"
   ]
  },
  {
   "cell_type": "code",
   "execution_count": 68,
   "metadata": {},
   "outputs": [
    {
     "name": "stdout",
     "output_type": "stream",
     "text": [
      "ОБРАБОТКА ЧИСЛОВОЙ КОЛОНКИ failures\n",
      "Пустых значений: 13 \n",
      "\n",
      "\n"
     ]
    },
    {
     "data": {
      "text/html": [
       "<div>\n",
       "<style scoped>\n",
       "    .dataframe tbody tr th:only-of-type {\n",
       "        vertical-align: middle;\n",
       "    }\n",
       "\n",
       "    .dataframe tbody tr th {\n",
       "        vertical-align: top;\n",
       "    }\n",
       "\n",
       "    .dataframe thead th {\n",
       "        text-align: right;\n",
       "    }\n",
       "</style>\n",
       "<table border=\"1\" class=\"dataframe\">\n",
       "  <thead>\n",
       "    <tr style=\"text-align: right;\">\n",
       "      <th></th>\n",
       "      <th>failures</th>\n",
       "    </tr>\n",
       "  </thead>\n",
       "  <tbody>\n",
       "    <tr>\n",
       "      <th>0.0</th>\n",
       "      <td>228</td>\n",
       "    </tr>\n",
       "    <tr>\n",
       "      <th>1.0</th>\n",
       "      <td>40</td>\n",
       "    </tr>\n",
       "    <tr>\n",
       "      <th>2.0</th>\n",
       "      <td>12</td>\n",
       "    </tr>\n",
       "    <tr>\n",
       "      <th>3.0</th>\n",
       "      <td>11</td>\n",
       "    </tr>\n",
       "  </tbody>\n",
       "</table>\n",
       "</div>"
      ],
      "text/plain": [
       "     failures\n",
       "0.0       228\n",
       "1.0        40\n",
       "2.0        12\n",
       "3.0        11"
      ]
     },
     "metadata": {},
     "output_type": "display_data"
    }
   ],
   "source": [
    "colstatprint('failures')"
   ]
  },
  {
   "cell_type": "code",
   "execution_count": 69,
   "metadata": {},
   "outputs": [
    {
     "data": {
      "text/plain": [
       "count    291.000000\n",
       "mean       0.333333\n",
       "std        0.730297\n",
       "min        0.000000\n",
       "25%        0.000000\n",
       "50%        0.000000\n",
       "75%        0.000000\n",
       "max        3.000000\n",
       "Name: failures, dtype: float64"
      ]
     },
     "execution_count": 69,
     "metadata": {},
     "output_type": "execute_result"
    }
   ],
   "source": [
    "df['failures'].describe()"
   ]
  },
  {
   "cell_type": "code",
   "execution_count": 70,
   "metadata": {},
   "outputs": [
    {
     "name": "stdout",
     "output_type": "stream",
     "text": [
      "25-й перцентиль: 0.0, 75-й перцентиль: 0.0, IQR: 0.0,  Границы выбросов: [0.0, 0.0].\n"
     ]
    }
   ],
   "source": [
    "median, IQR, perc25, perc75 = parameters('failures')\n",
    "df = df.loc[df['failures'].between(perc25 - 1.5*IQR, perc75 + 1.5*IQR)]\n",
    "print('25-й перцентиль: {},'.format(perc25), '75-й перцентиль: {},'.format(perc75),\n",
    "      \"IQR: {}, \".format(IQR), \"Границы выбросов: [{f}, {l}].\".format(f=perc25 - 1.5*IQR, l=perc75 + 1.5*IQR))"
   ]
  },
  {
   "cell_type": "code",
   "execution_count": null,
   "metadata": {},
   "outputs": [],
   "source": [
    "df['failures'].describe()"
   ]
  },
  {
   "cell_type": "markdown",
   "metadata": {},
   "source": [
    "##### Выводы: Внешкольные неудачи очень редки, до такой степени, что даже единичные случаи являются выбросами. Скорее всего, эо связано с низким возрастом учеников"
   ]
  },
  {
   "cell_type": "markdown",
   "metadata": {},
   "source": [
    "### studytime_gran"
   ]
  },
  {
   "cell_type": "code",
   "execution_count": 71,
   "metadata": {},
   "outputs": [
    {
     "data": {
      "image/png": "[encoded data removed]",
      "text/plain": [
       "<Figure size 432x288 with 1 Axes>"
      ]
     },
     "metadata": {},
     "output_type": "display_data"
    }
   ],
   "source": [
    "digit_boxplot('studytime_gran')"
   ]
  },
  {
   "cell_type": "code",
   "execution_count": 72,
   "metadata": {},
   "outputs": [
    {
     "data": {
      "image/png": "[encoded data removed]",
      "text/plain": [
       "<Figure size 432x288 with 1 Axes>"
      ]
     },
     "metadata": {},
     "output_type": "display_data"
    }
   ],
   "source": [
    "digit_col_plot('studytime_gran')"
   ]
  },
  {
   "cell_type": "code",
   "execution_count": 73,
   "metadata": {},
   "outputs": [
    {
     "name": "stdout",
     "output_type": "stream",
     "text": [
      "ОБРАБОТКА ЧИСЛОВОЙ КОЛОНКИ studytime_gran\n",
      "Пустых значений: 0 \n",
      "\n",
      "\n"
     ]
    },
    {
     "data": {
      "text/html": [
       "<div>\n",
       "<style scoped>\n",
       "    .dataframe tbody tr th:only-of-type {\n",
       "        vertical-align: middle;\n",
       "    }\n",
       "\n",
       "    .dataframe tbody tr th {\n",
       "        vertical-align: top;\n",
       "    }\n",
       "\n",
       "    .dataframe thead th {\n",
       "        text-align: right;\n",
       "    }\n",
       "</style>\n",
       "<table border=\"1\" class=\"dataframe\">\n",
       "  <thead>\n",
       "    <tr style=\"text-align: right;\">\n",
       "      <th></th>\n",
       "      <th>studytime_gran</th>\n",
       "    </tr>\n",
       "  </thead>\n",
       "  <tbody>\n",
       "    <tr>\n",
       "      <th>-6.0</th>\n",
       "      <td>127</td>\n",
       "    </tr>\n",
       "    <tr>\n",
       "      <th>-3.0</th>\n",
       "      <td>60</td>\n",
       "    </tr>\n",
       "    <tr>\n",
       "      <th>-9.0</th>\n",
       "      <td>41</td>\n",
       "    </tr>\n",
       "  </tbody>\n",
       "</table>\n",
       "</div>"
      ],
      "text/plain": [
       "      studytime_gran\n",
       "-6.0             127\n",
       "-3.0              60\n",
       "-9.0              41"
      ]
     },
     "metadata": {},
     "output_type": "display_data"
    }
   ],
   "source": [
    "colstatprint('studytime_gran')"
   ]
  },
  {
   "cell_type": "code",
   "execution_count": 74,
   "metadata": {},
   "outputs": [
    {
     "data": {
      "text/plain": [
       "count    228.000000\n",
       "mean      -5.750000\n",
       "std        1.985354\n",
       "min       -9.000000\n",
       "25%       -6.000000\n",
       "50%       -6.000000\n",
       "75%       -3.000000\n",
       "max       -3.000000\n",
       "Name: studytime_gran, dtype: float64"
      ]
     },
     "execution_count": 74,
     "metadata": {},
     "output_type": "execute_result"
    }
   ],
   "source": [
    "df['studytime_gran'].describe()"
   ]
  },
  {
   "cell_type": "code",
   "execution_count": 75,
   "metadata": {},
   "outputs": [
    {
     "name": "stdout",
     "output_type": "stream",
     "text": [
      "25-й перцентиль: -6.0, 75-й перцентиль: -3.0, IQR: 3.0,  Границы выбросов: [-10.5, 1.5].\n"
     ]
    }
   ],
   "source": [
    "median, IQR, perc25, perc75 = parameters('studytime_gran')\n",
    "df = df.loc[df['studytime_gran'].between(perc25 - 1.5*IQR, perc75 + 1.5*IQR)]\n",
    "print('25-й перцентиль: {},'.format(perc25), '75-й перцентиль: {},'.format(perc75),\n",
    "      \"IQR: {}, \".format(IQR), \"Границы выбросов: [{f}, {l}].\".format(f=perc25 - 1.5*IQR, l=perc75 + 1.5*IQR))"
   ]
  },
  {
   "cell_type": "code",
   "execution_count": null,
   "metadata": {},
   "outputs": [],
   "source": [
    "df['studytime_gran'].describe()"
   ]
  },
  {
   "cell_type": "markdown",
   "metadata": {},
   "source": [
    "##### Выводы: сложно сделать, т.к. колонка непонятная. В целом распределение нормалоьное без выбросов. Пустых значений нет"
   ]
  },
  {
   "cell_type": "code",
   "execution_count": null,
   "metadata": {},
   "outputs": [],
   "source": []
  },
  {
   "cell_type": "markdown",
   "metadata": {},
   "source": [
    "### famrel"
   ]
  },
  {
   "cell_type": "code",
   "execution_count": 76,
   "metadata": {},
   "outputs": [
    {
     "data": {
      "image/png": "[encoded data removed]",
      "text/plain": [
       "<Figure size 432x288 with 1 Axes>"
      ]
     },
     "metadata": {},
     "output_type": "display_data"
    }
   ],
   "source": [
    "digit_boxplot('famrel')"
   ]
  },
  {
   "cell_type": "code",
   "execution_count": 77,
   "metadata": {},
   "outputs": [
    {
     "data": {
      "image/png": "[encoded data removed]",
      "text/plain": [
       "<Figure size 432x288 with 1 Axes>"
      ]
     },
     "metadata": {},
     "output_type": "display_data"
    }
   ],
   "source": [
    "digit_col_plot('famrel')"
   ]
  },
  {
   "cell_type": "code",
   "execution_count": 78,
   "metadata": {},
   "outputs": [
    {
     "name": "stdout",
     "output_type": "stream",
     "text": [
      "ОБРАБОТКА ЧИСЛОВОЙ КОЛОНКИ famrel\n",
      "Пустых значений: 17 \n",
      "\n",
      "\n"
     ]
    },
    {
     "data": {
      "text/html": [
       "<div>\n",
       "<style scoped>\n",
       "    .dataframe tbody tr th:only-of-type {\n",
       "        vertical-align: middle;\n",
       "    }\n",
       "\n",
       "    .dataframe tbody tr th {\n",
       "        vertical-align: top;\n",
       "    }\n",
       "\n",
       "    .dataframe thead th {\n",
       "        text-align: right;\n",
       "    }\n",
       "</style>\n",
       "<table border=\"1\" class=\"dataframe\">\n",
       "  <thead>\n",
       "    <tr style=\"text-align: right;\">\n",
       "      <th></th>\n",
       "      <th>famrel</th>\n",
       "    </tr>\n",
       "  </thead>\n",
       "  <tbody>\n",
       "    <tr>\n",
       "      <th>4.0</th>\n",
       "      <td>106</td>\n",
       "    </tr>\n",
       "    <tr>\n",
       "      <th>5.0</th>\n",
       "      <td>53</td>\n",
       "    </tr>\n",
       "    <tr>\n",
       "      <th>3.0</th>\n",
       "      <td>38</td>\n",
       "    </tr>\n",
       "    <tr>\n",
       "      <th>2.0</th>\n",
       "      <td>10</td>\n",
       "    </tr>\n",
       "    <tr>\n",
       "      <th>1.0</th>\n",
       "      <td>4</td>\n",
       "    </tr>\n",
       "  </tbody>\n",
       "</table>\n",
       "</div>"
      ],
      "text/plain": [
       "     famrel\n",
       "4.0     106\n",
       "5.0      53\n",
       "3.0      38\n",
       "2.0      10\n",
       "1.0       4"
      ]
     },
     "metadata": {},
     "output_type": "display_data"
    }
   ],
   "source": [
    "colstatprint('famrel')"
   ]
  },
  {
   "cell_type": "code",
   "execution_count": 79,
   "metadata": {},
   "outputs": [
    {
     "data": {
      "text/plain": [
       "count    211.000000\n",
       "mean       3.919431\n",
       "std        0.888097\n",
       "min        1.000000\n",
       "25%        4.000000\n",
       "50%        4.000000\n",
       "75%        4.500000\n",
       "max        5.000000\n",
       "Name: famrel, dtype: float64"
      ]
     },
     "execution_count": 79,
     "metadata": {},
     "output_type": "execute_result"
    }
   ],
   "source": [
    "df['famrel'].describe()"
   ]
  },
  {
   "cell_type": "code",
   "execution_count": 80,
   "metadata": {},
   "outputs": [
    {
     "name": "stdout",
     "output_type": "stream",
     "text": [
      "25-й перцентиль: 4.0, 75-й перцентиль: 4.5, IQR: 0.5,  Границы выбросов: [3.25, 5.25].\n"
     ]
    }
   ],
   "source": [
    "median, IQR, perc25, perc75 = parameters('famrel')\n",
    "df = df.loc[df['famrel'].between(perc25 - 1.5*IQR, perc75 + 1.5*IQR)]\n",
    "print('25-й перцентиль: {},'.format(perc25), '75-й перцентиль: {},'.format(perc75),\n",
    "      \"IQR: {}, \".format(IQR), \"Границы выбросов: [{f}, {l}].\".format(f=perc25 - 1.5*IQR, l=perc75 + 1.5*IQR))"
   ]
  },
  {
   "cell_type": "code",
   "execution_count": null,
   "metadata": {},
   "outputs": [],
   "source": [
    "df['famrel'].describe()"
   ]
  },
  {
   "cell_type": "markdown",
   "metadata": {},
   "source": [
    "##### Выводы: распределение было смещено влево. В целом почти у всех детей отношения в семье хорошие или очень хорошие"
   ]
  },
  {
   "cell_type": "code",
   "execution_count": null,
   "metadata": {},
   "outputs": [],
   "source": []
  },
  {
   "cell_type": "markdown",
   "metadata": {},
   "source": [
    "### freetime"
   ]
  },
  {
   "cell_type": "code",
   "execution_count": null,
   "metadata": {},
   "outputs": [],
   "source": []
  },
  {
   "cell_type": "code",
   "execution_count": 81,
   "metadata": {},
   "outputs": [
    {
     "data": {
      "image/png": "[encoded data removed]",
      "text/plain": [
       "<Figure size 432x288 with 1 Axes>"
      ]
     },
     "metadata": {},
     "output_type": "display_data"
    }
   ],
   "source": [
    "digit_boxplot('freetime')"
   ]
  },
  {
   "cell_type": "code",
   "execution_count": 82,
   "metadata": {
    "scrolled": true
   },
   "outputs": [
    {
     "data": {
      "image/png": "[encoded data removed]",
      "text/plain": [
       "<Figure size 432x288 with 1 Axes>"
      ]
     },
     "metadata": {},
     "output_type": "display_data"
    }
   ],
   "source": [
    "digit_col_plot('freetime')"
   ]
  },
  {
   "cell_type": "code",
   "execution_count": 83,
   "metadata": {},
   "outputs": [
    {
     "name": "stdout",
     "output_type": "stream",
     "text": [
      "ОБРАБОТКА ЧИСЛОВОЙ КОЛОНКИ freetime\n",
      "Пустых значений: 6 \n",
      "\n",
      "\n"
     ]
    },
    {
     "data": {
      "text/html": [
       "<div>\n",
       "<style scoped>\n",
       "    .dataframe tbody tr th:only-of-type {\n",
       "        vertical-align: middle;\n",
       "    }\n",
       "\n",
       "    .dataframe tbody tr th {\n",
       "        vertical-align: top;\n",
       "    }\n",
       "\n",
       "    .dataframe thead th {\n",
       "        text-align: right;\n",
       "    }\n",
       "</style>\n",
       "<table border=\"1\" class=\"dataframe\">\n",
       "  <thead>\n",
       "    <tr style=\"text-align: right;\">\n",
       "      <th></th>\n",
       "      <th>freetime</th>\n",
       "    </tr>\n",
       "  </thead>\n",
       "  <tbody>\n",
       "    <tr>\n",
       "      <th>3.0</th>\n",
       "      <td>70</td>\n",
       "    </tr>\n",
       "    <tr>\n",
       "      <th>4.0</th>\n",
       "      <td>47</td>\n",
       "    </tr>\n",
       "    <tr>\n",
       "      <th>2.0</th>\n",
       "      <td>19</td>\n",
       "    </tr>\n",
       "    <tr>\n",
       "      <th>5.0</th>\n",
       "      <td>12</td>\n",
       "    </tr>\n",
       "    <tr>\n",
       "      <th>1.0</th>\n",
       "      <td>5</td>\n",
       "    </tr>\n",
       "  </tbody>\n",
       "</table>\n",
       "</div>"
      ],
      "text/plain": [
       "     freetime\n",
       "3.0        70\n",
       "4.0        47\n",
       "2.0        19\n",
       "5.0        12\n",
       "1.0         5"
      ]
     },
     "metadata": {},
     "output_type": "display_data"
    }
   ],
   "source": [
    "colstatprint('freetime')"
   ]
  },
  {
   "cell_type": "code",
   "execution_count": 84,
   "metadata": {},
   "outputs": [
    {
     "data": {
      "text/plain": [
       "count    153.000000\n",
       "mean       3.274510\n",
       "std        0.897623\n",
       "min        1.000000\n",
       "25%        3.000000\n",
       "50%        3.000000\n",
       "75%        4.000000\n",
       "max        5.000000\n",
       "Name: freetime, dtype: float64"
      ]
     },
     "execution_count": 84,
     "metadata": {},
     "output_type": "execute_result"
    }
   ],
   "source": [
    "df['freetime'].describe()"
   ]
  },
  {
   "cell_type": "code",
   "execution_count": 85,
   "metadata": {},
   "outputs": [
    {
     "name": "stdout",
     "output_type": "stream",
     "text": [
      "25-й перцентиль: 3.0, 75-й перцентиль: 4.0, IQR: 1.0,  Границы выбросов: [1.5, 5.5].\n"
     ]
    }
   ],
   "source": [
    "median, IQR, perc25, perc75 = parameters('freetime')\n",
    "df = df.loc[df['freetime'].between(perc25 - 1.5*IQR, perc75 + 1.5*IQR)]\n",
    "print('25-й перцентиль: {},'.format(perc25), '75-й перцентиль: {},'.format(perc75),\n",
    "      \"IQR: {}, \".format(IQR), \"Границы выбросов: [{f}, {l}].\".format(f=perc25 - 1.5*IQR, l=perc75 + 1.5*IQR))"
   ]
  },
  {
   "cell_type": "code",
   "execution_count": null,
   "metadata": {},
   "outputs": [],
   "source": [
    "df['freetime'].describe()"
   ]
  },
  {
   "cell_type": "markdown",
   "metadata": {},
   "source": [
    "##### Выводы: в целом распределение нормальное, свободного вреимени у учеников в основном от 3 до 4 часов"
   ]
  },
  {
   "cell_type": "code",
   "execution_count": null,
   "metadata": {},
   "outputs": [],
   "source": []
  },
  {
   "cell_type": "markdown",
   "metadata": {},
   "source": [
    "### go_out"
   ]
  },
  {
   "cell_type": "code",
   "execution_count": 86,
   "metadata": {},
   "outputs": [
    {
     "data": {
      "image/png": "[encoded data removed]",
      "text/plain": [
       "<Figure size 432x288 with 1 Axes>"
      ]
     },
     "metadata": {},
     "output_type": "display_data"
    }
   ],
   "source": [
    "digit_boxplot('go_out')"
   ]
  },
  {
   "cell_type": "code",
   "execution_count": 87,
   "metadata": {},
   "outputs": [
    {
     "data": {
      "image/png": "[encoded data removed]",
      "text/plain": [
       "<Figure size 432x288 with 1 Axes>"
      ]
     },
     "metadata": {},
     "output_type": "display_data"
    }
   ],
   "source": [
    "digit_col_plot('go_out')"
   ]
  },
  {
   "cell_type": "code",
   "execution_count": 88,
   "metadata": {},
   "outputs": [
    {
     "name": "stdout",
     "output_type": "stream",
     "text": [
      "ОБРАБОТКА ЧИСЛОВОЙ КОЛОНКИ go_out\n",
      "Пустых значений: 2 \n",
      "\n",
      "\n"
     ]
    },
    {
     "data": {
      "text/html": [
       "<div>\n",
       "<style scoped>\n",
       "    .dataframe tbody tr th:only-of-type {\n",
       "        vertical-align: middle;\n",
       "    }\n",
       "\n",
       "    .dataframe tbody tr th {\n",
       "        vertical-align: top;\n",
       "    }\n",
       "\n",
       "    .dataframe thead th {\n",
       "        text-align: right;\n",
       "    }\n",
       "</style>\n",
       "<table border=\"1\" class=\"dataframe\">\n",
       "  <thead>\n",
       "    <tr style=\"text-align: right;\">\n",
       "      <th></th>\n",
       "      <th>go_out</th>\n",
       "    </tr>\n",
       "  </thead>\n",
       "  <tbody>\n",
       "    <tr>\n",
       "      <th>3.0</th>\n",
       "      <td>57</td>\n",
       "    </tr>\n",
       "    <tr>\n",
       "      <th>2.0</th>\n",
       "      <td>34</td>\n",
       "    </tr>\n",
       "    <tr>\n",
       "      <th>4.0</th>\n",
       "      <td>30</td>\n",
       "    </tr>\n",
       "    <tr>\n",
       "      <th>5.0</th>\n",
       "      <td>18</td>\n",
       "    </tr>\n",
       "    <tr>\n",
       "      <th>1.0</th>\n",
       "      <td>7</td>\n",
       "    </tr>\n",
       "  </tbody>\n",
       "</table>\n",
       "</div>"
      ],
      "text/plain": [
       "     go_out\n",
       "3.0      57\n",
       "2.0      34\n",
       "4.0      30\n",
       "5.0      18\n",
       "1.0       7"
      ]
     },
     "metadata": {},
     "output_type": "display_data"
    }
   ],
   "source": [
    "colstatprint('go_out')"
   ]
  },
  {
   "cell_type": "code",
   "execution_count": 89,
   "metadata": {},
   "outputs": [
    {
     "data": {
      "text/plain": [
       "count    146.000000\n",
       "mean       3.123288\n",
       "std        1.056281\n",
       "min        1.000000\n",
       "25%        2.000000\n",
       "50%        3.000000\n",
       "75%        4.000000\n",
       "max        5.000000\n",
       "Name: go_out, dtype: float64"
      ]
     },
     "execution_count": 89,
     "metadata": {},
     "output_type": "execute_result"
    }
   ],
   "source": [
    "df['go_out'].describe()"
   ]
  },
  {
   "cell_type": "code",
   "execution_count": 90,
   "metadata": {},
   "outputs": [
    {
     "name": "stdout",
     "output_type": "stream",
     "text": [
      "25-й перцентиль: 2.0, 75-й перцентиль: 4.0, IQR: 2.0,  Границы выбросов: [-1.0, 7.0].\n"
     ]
    }
   ],
   "source": [
    "median, IQR, perc25, perc75 = parameters('go_out')\n",
    "df = df.loc[df['go_out'].between(perc25 - 1.5*IQR, perc75 + 1.5*IQR)]\n",
    "print('25-й перцентиль: {},'.format(perc25), '75-й перцентиль: {},'.format(perc75),\n",
    "      \"IQR: {}, \".format(IQR), \"Границы выбросов: [{f}, {l}].\".format(f=perc25 - 1.5*IQR, l=perc75 + 1.5*IQR))"
   ]
  },
  {
   "cell_type": "code",
   "execution_count": null,
   "metadata": {},
   "outputs": [],
   "source": [
    "df['go_out'].describe()"
   ]
  },
  {
   "cell_type": "markdown",
   "metadata": {},
   "source": [
    "##### Выводы: распределение нормальное, в основном все ученики гуляют с друзьями от 2 до 4 часов, н очень много пропуков данных (около трети)"
   ]
  },
  {
   "cell_type": "code",
   "execution_count": null,
   "metadata": {},
   "outputs": [],
   "source": []
  },
  {
   "cell_type": "markdown",
   "metadata": {},
   "source": [
    "### health"
   ]
  },
  {
   "cell_type": "code",
   "execution_count": 91,
   "metadata": {},
   "outputs": [
    {
     "data": {
      "image/png": "[encoded data removed]",
      "text/plain": [
       "<Figure size 432x288 with 1 Axes>"
      ]
     },
     "metadata": {},
     "output_type": "display_data"
    }
   ],
   "source": [
    "digit_boxplot('health')"
   ]
  },
  {
   "cell_type": "code",
   "execution_count": 92,
   "metadata": {},
   "outputs": [
    {
     "data": {
      "image/png": "[encoded data removed]",
      "text/plain": [
       "<Figure size 432x288 with 1 Axes>"
      ]
     },
     "metadata": {},
     "output_type": "display_data"
    }
   ],
   "source": [
    "digit_col_plot('health')"
   ]
  },
  {
   "cell_type": "code",
   "execution_count": 93,
   "metadata": {},
   "outputs": [
    {
     "name": "stdout",
     "output_type": "stream",
     "text": [
      "ОБРАБОТКА ЧИСЛОВОЙ КОЛОНКИ health\n",
      "Пустых значений: 5 \n",
      "\n",
      "\n"
     ]
    },
    {
     "data": {
      "text/html": [
       "<div>\n",
       "<style scoped>\n",
       "    .dataframe tbody tr th:only-of-type {\n",
       "        vertical-align: middle;\n",
       "    }\n",
       "\n",
       "    .dataframe tbody tr th {\n",
       "        vertical-align: top;\n",
       "    }\n",
       "\n",
       "    .dataframe thead th {\n",
       "        text-align: right;\n",
       "    }\n",
       "</style>\n",
       "<table border=\"1\" class=\"dataframe\">\n",
       "  <thead>\n",
       "    <tr style=\"text-align: right;\">\n",
       "      <th></th>\n",
       "      <th>health</th>\n",
       "    </tr>\n",
       "  </thead>\n",
       "  <tbody>\n",
       "    <tr>\n",
       "      <th>5.0</th>\n",
       "      <td>45</td>\n",
       "    </tr>\n",
       "    <tr>\n",
       "      <th>4.0</th>\n",
       "      <td>28</td>\n",
       "    </tr>\n",
       "    <tr>\n",
       "      <th>3.0</th>\n",
       "      <td>28</td>\n",
       "    </tr>\n",
       "    <tr>\n",
       "      <th>1.0</th>\n",
       "      <td>20</td>\n",
       "    </tr>\n",
       "    <tr>\n",
       "      <th>2.0</th>\n",
       "      <td>20</td>\n",
       "    </tr>\n",
       "  </tbody>\n",
       "</table>\n",
       "</div>"
      ],
      "text/plain": [
       "     health\n",
       "5.0      45\n",
       "4.0      28\n",
       "3.0      28\n",
       "1.0      20\n",
       "2.0      20"
      ]
     },
     "metadata": {},
     "output_type": "display_data"
    }
   ],
   "source": [
    "colstatprint('health')"
   ]
  },
  {
   "cell_type": "code",
   "execution_count": 94,
   "metadata": {},
   "outputs": [
    {
     "data": {
      "text/plain": [
       "count    141.000000\n",
       "mean       3.411348\n",
       "std        1.424635\n",
       "min        1.000000\n",
       "25%        2.000000\n",
       "50%        4.000000\n",
       "75%        5.000000\n",
       "max        5.000000\n",
       "Name: health, dtype: float64"
      ]
     },
     "execution_count": 94,
     "metadata": {},
     "output_type": "execute_result"
    }
   ],
   "source": [
    "df['health'].describe()"
   ]
  },
  {
   "cell_type": "code",
   "execution_count": 95,
   "metadata": {},
   "outputs": [
    {
     "name": "stdout",
     "output_type": "stream",
     "text": [
      "25-й перцентиль: 2.0, 75-й перцентиль: 5.0, IQR: 3.0,  Границы выбросов: [-2.5, 9.5].\n"
     ]
    }
   ],
   "source": [
    "median, IQR, perc25, perc75 = parameters('health')\n",
    "df = df.loc[df['health'].between(perc25 - 1.5*IQR, perc75 + 1.5*IQR)]\n",
    "print('25-й перцентиль: {},'.format(perc25), '75-й перцентиль: {},'.format(perc75),\n",
    "      \"IQR: {}, \".format(IQR), \"Границы выбросов: [{f}, {l}].\".format(f=perc25 - 1.5*IQR, l=perc75 + 1.5*IQR))"
   ]
  },
  {
   "cell_type": "code",
   "execution_count": null,
   "metadata": {},
   "outputs": [],
   "source": [
    "df['health'].describe()"
   ]
  },
  {
   "cell_type": "markdown",
   "metadata": {},
   "source": [
    "##### Выводы: в целом распределение смешено влево"
   ]
  },
  {
   "cell_type": "code",
   "execution_count": null,
   "metadata": {},
   "outputs": [],
   "source": []
  },
  {
   "cell_type": "code",
   "execution_count": null,
   "metadata": {},
   "outputs": [],
   "source": []
  },
  {
   "cell_type": "markdown",
   "metadata": {},
   "source": [
    "### absences"
   ]
  },
  {
   "cell_type": "code",
   "execution_count": 96,
   "metadata": {},
   "outputs": [
    {
     "data": {
      "image/png": "[encoded data removed]",
      "text/plain": [
       "<Figure size 432x288 with 1 Axes>"
      ]
     },
     "metadata": {},
     "output_type": "display_data"
    }
   ],
   "source": [
    "digit_boxplot('absences')"
   ]
  },
  {
   "cell_type": "code",
   "execution_count": 97,
   "metadata": {},
   "outputs": [
    {
     "data": {
      "image/png": "[encoded data removed]",
      "text/plain": [
       "<Figure size 432x288 with 1 Axes>"
      ]
     },
     "metadata": {},
     "output_type": "display_data"
    }
   ],
   "source": [
    "digit_col_plot('absences')"
   ]
  },
  {
   "cell_type": "code",
   "execution_count": 98,
   "metadata": {},
   "outputs": [
    {
     "name": "stdout",
     "output_type": "stream",
     "text": [
      "ОБРАБОТКА ЧИСЛОВОЙ КОЛОНКИ absences\n",
      "Пустых значений: 6 \n",
      "\n",
      "\n"
     ]
    },
    {
     "data": {
      "text/html": [
       "<div>\n",
       "<style scoped>\n",
       "    .dataframe tbody tr th:only-of-type {\n",
       "        vertical-align: middle;\n",
       "    }\n",
       "\n",
       "    .dataframe tbody tr th {\n",
       "        vertical-align: top;\n",
       "    }\n",
       "\n",
       "    .dataframe thead th {\n",
       "        text-align: right;\n",
       "    }\n",
       "</style>\n",
       "<table border=\"1\" class=\"dataframe\">\n",
       "  <thead>\n",
       "    <tr style=\"text-align: right;\">\n",
       "      <th></th>\n",
       "      <th>absences</th>\n",
       "    </tr>\n",
       "  </thead>\n",
       "  <tbody>\n",
       "    <tr>\n",
       "      <th>0.0</th>\n",
       "      <td>43</td>\n",
       "    </tr>\n",
       "    <tr>\n",
       "      <th>4.0</th>\n",
       "      <td>26</td>\n",
       "    </tr>\n",
       "    <tr>\n",
       "      <th>2.0</th>\n",
       "      <td>21</td>\n",
       "    </tr>\n",
       "    <tr>\n",
       "      <th>6.0</th>\n",
       "      <td>8</td>\n",
       "    </tr>\n",
       "    <tr>\n",
       "      <th>8.0</th>\n",
       "      <td>7</td>\n",
       "    </tr>\n",
       "    <tr>\n",
       "      <th>10.0</th>\n",
       "      <td>6</td>\n",
       "    </tr>\n",
       "    <tr>\n",
       "      <th>12.0</th>\n",
       "      <td>4</td>\n",
       "    </tr>\n",
       "    <tr>\n",
       "      <th>7.0</th>\n",
       "      <td>3</td>\n",
       "    </tr>\n",
       "    <tr>\n",
       "      <th>3.0</th>\n",
       "      <td>3</td>\n",
       "    </tr>\n",
       "    <tr>\n",
       "      <th>14.0</th>\n",
       "      <td>2</td>\n",
       "    </tr>\n",
       "    <tr>\n",
       "      <th>9.0</th>\n",
       "      <td>2</td>\n",
       "    </tr>\n",
       "    <tr>\n",
       "      <th>16.0</th>\n",
       "      <td>2</td>\n",
       "    </tr>\n",
       "    <tr>\n",
       "      <th>5.0</th>\n",
       "      <td>1</td>\n",
       "    </tr>\n",
       "    <tr>\n",
       "      <th>26.0</th>\n",
       "      <td>1</td>\n",
       "    </tr>\n",
       "    <tr>\n",
       "      <th>17.0</th>\n",
       "      <td>1</td>\n",
       "    </tr>\n",
       "    <tr>\n",
       "      <th>18.0</th>\n",
       "      <td>1</td>\n",
       "    </tr>\n",
       "    <tr>\n",
       "      <th>13.0</th>\n",
       "      <td>1</td>\n",
       "    </tr>\n",
       "    <tr>\n",
       "      <th>20.0</th>\n",
       "      <td>1</td>\n",
       "    </tr>\n",
       "    <tr>\n",
       "      <th>1.0</th>\n",
       "      <td>1</td>\n",
       "    </tr>\n",
       "    <tr>\n",
       "      <th>56.0</th>\n",
       "      <td>1</td>\n",
       "    </tr>\n",
       "  </tbody>\n",
       "</table>\n",
       "</div>"
      ],
      "text/plain": [
       "      absences\n",
       "0.0         43\n",
       "4.0         26\n",
       "2.0         21\n",
       "6.0          8\n",
       "8.0          7\n",
       "10.0         6\n",
       "12.0         4\n",
       "7.0          3\n",
       "3.0          3\n",
       "14.0         2\n",
       "9.0          2\n",
       "16.0         2\n",
       "5.0          1\n",
       "26.0         1\n",
       "17.0         1\n",
       "18.0         1\n",
       "13.0         1\n",
       "20.0         1\n",
       "1.0          1\n",
       "56.0         1"
      ]
     },
     "metadata": {},
     "output_type": "display_data"
    }
   ],
   "source": [
    "colstatprint('absences')"
   ]
  },
  {
   "cell_type": "code",
   "execution_count": 99,
   "metadata": {},
   "outputs": [
    {
     "data": {
      "text/plain": [
       "count    135.000000\n",
       "mean       4.607407\n",
       "std        6.582537\n",
       "min        0.000000\n",
       "25%        0.000000\n",
       "50%        3.000000\n",
       "75%        6.000000\n",
       "max       56.000000\n",
       "Name: absences, dtype: float64"
      ]
     },
     "execution_count": 99,
     "metadata": {},
     "output_type": "execute_result"
    }
   ],
   "source": [
    "df['absences'].describe()"
   ]
  },
  {
   "cell_type": "code",
   "execution_count": 100,
   "metadata": {},
   "outputs": [
    {
     "name": "stdout",
     "output_type": "stream",
     "text": [
      "25-й перцентиль: 0.0, 75-й перцентиль: 6.0, IQR: 6.0,  Границы выбросов: [-9.0, 15.0].\n"
     ]
    }
   ],
   "source": [
    "median, IQR, perc25, perc75 = parameters('absences')\n",
    "df = df.loc[df['absences'].between(perc25 - 1.5*IQR, perc75 + 1.5*IQR)]\n",
    "print('25-й перцентиль: {},'.format(perc25), '75-й перцентиль: {},'.format(perc75),\n",
    "      \"IQR: {}, \".format(IQR), \"Границы выбросов: [{f}, {l}].\".format(f=perc25 - 1.5*IQR, l=perc75 + 1.5*IQR))"
   ]
  },
  {
   "cell_type": "code",
   "execution_count": null,
   "metadata": {},
   "outputs": [],
   "source": [
    "df['absences'].describe()"
   ]
  },
  {
   "cell_type": "markdown",
   "metadata": {},
   "source": [
    "##### Выводы: в целом цченики пропускают не так много уровков (в основном от 2 до 6), распределение сильно смещено вправо"
   ]
  },
  {
   "cell_type": "code",
   "execution_count": null,
   "metadata": {},
   "outputs": [],
   "source": []
  },
  {
   "cell_type": "markdown",
   "metadata": {},
   "source": [
    "### score"
   ]
  },
  {
   "cell_type": "code",
   "execution_count": 101,
   "metadata": {},
   "outputs": [
    {
     "data": {
      "image/png": "[encoded data removed]",
      "text/plain": [
       "<Figure size 432x288 with 1 Axes>"
      ]
     },
     "metadata": {},
     "output_type": "display_data"
    }
   ],
   "source": [
    "digit_boxplot('score')"
   ]
  },
  {
   "cell_type": "code",
   "execution_count": 102,
   "metadata": {},
   "outputs": [
    {
     "data": {
      "image/png": "[encoded data removed]",
      "text/plain": [
       "<Figure size 432x288 with 1 Axes>"
      ]
     },
     "metadata": {},
     "output_type": "display_data"
    }
   ],
   "source": [
    "digit_col_plot('score')"
   ]
  },
  {
   "cell_type": "code",
   "execution_count": 103,
   "metadata": {},
   "outputs": [
    {
     "name": "stdout",
     "output_type": "stream",
     "text": [
      "ОБРАБОТКА ЧИСЛОВОЙ КОЛОНКИ score\n",
      "Пустых значений: 1 \n",
      "\n",
      "\n"
     ]
    },
    {
     "data": {
      "text/html": [
       "<div>\n",
       "<style scoped>\n",
       "    .dataframe tbody tr th:only-of-type {\n",
       "        vertical-align: middle;\n",
       "    }\n",
       "\n",
       "    .dataframe tbody tr th {\n",
       "        vertical-align: top;\n",
       "    }\n",
       "\n",
       "    .dataframe thead th {\n",
       "        text-align: right;\n",
       "    }\n",
       "</style>\n",
       "<table border=\"1\" class=\"dataframe\">\n",
       "  <thead>\n",
       "    <tr style=\"text-align: right;\">\n",
       "      <th></th>\n",
       "      <th>score</th>\n",
       "    </tr>\n",
       "  </thead>\n",
       "  <tbody>\n",
       "    <tr>\n",
       "      <th>50.0</th>\n",
       "      <td>20</td>\n",
       "    </tr>\n",
       "    <tr>\n",
       "      <th>55.0</th>\n",
       "      <td>19</td>\n",
       "    </tr>\n",
       "    <tr>\n",
       "      <th>70.0</th>\n",
       "      <td>14</td>\n",
       "    </tr>\n",
       "    <tr>\n",
       "      <th>65.0</th>\n",
       "      <td>12</td>\n",
       "    </tr>\n",
       "    <tr>\n",
       "      <th>75.0</th>\n",
       "      <td>10</td>\n",
       "    </tr>\n",
       "    <tr>\n",
       "      <th>60.0</th>\n",
       "      <td>9</td>\n",
       "    </tr>\n",
       "    <tr>\n",
       "      <th>80.0</th>\n",
       "      <td>8</td>\n",
       "    </tr>\n",
       "    <tr>\n",
       "      <th>0.0</th>\n",
       "      <td>7</td>\n",
       "    </tr>\n",
       "    <tr>\n",
       "      <th>40.0</th>\n",
       "      <td>7</td>\n",
       "    </tr>\n",
       "    <tr>\n",
       "      <th>30.0</th>\n",
       "      <td>7</td>\n",
       "    </tr>\n",
       "    <tr>\n",
       "      <th>45.0</th>\n",
       "      <td>6</td>\n",
       "    </tr>\n",
       "    <tr>\n",
       "      <th>90.0</th>\n",
       "      <td>3</td>\n",
       "    </tr>\n",
       "    <tr>\n",
       "      <th>35.0</th>\n",
       "      <td>2</td>\n",
       "    </tr>\n",
       "    <tr>\n",
       "      <th>95.0</th>\n",
       "      <td>1</td>\n",
       "    </tr>\n",
       "    <tr>\n",
       "      <th>25.0</th>\n",
       "      <td>1</td>\n",
       "    </tr>\n",
       "    <tr>\n",
       "      <th>85.0</th>\n",
       "      <td>1</td>\n",
       "    </tr>\n",
       "  </tbody>\n",
       "</table>\n",
       "</div>"
      ],
      "text/plain": [
       "      score\n",
       "50.0     20\n",
       "55.0     19\n",
       "70.0     14\n",
       "65.0     12\n",
       "75.0     10\n",
       "60.0      9\n",
       "80.0      8\n",
       "0.0       7\n",
       "40.0      7\n",
       "30.0      7\n",
       "45.0      6\n",
       "90.0      3\n",
       "35.0      2\n",
       "95.0      1\n",
       "25.0      1\n",
       "85.0      1"
      ]
     },
     "metadata": {},
     "output_type": "display_data"
    }
   ],
   "source": [
    "colstatprint('score')"
   ]
  },
  {
   "cell_type": "code",
   "execution_count": 104,
   "metadata": {},
   "outputs": [
    {
     "data": {
      "text/plain": [
       "count    127.000000\n",
       "mean      55.433071\n",
       "std       19.850869\n",
       "min        0.000000\n",
       "25%       50.000000\n",
       "50%       55.000000\n",
       "75%       70.000000\n",
       "max       95.000000\n",
       "Name: score, dtype: float64"
      ]
     },
     "execution_count": 104,
     "metadata": {},
     "output_type": "execute_result"
    }
   ],
   "source": [
    "df['score'].describe()"
   ]
  },
  {
   "cell_type": "code",
   "execution_count": 105,
   "metadata": {},
   "outputs": [
    {
     "name": "stdout",
     "output_type": "stream",
     "text": [
      "25-й перцентиль: 50.0, 75-й перцентиль: 70.0, IQR: 20.0,  Границы выбросов: [20.0, 100.0].\n"
     ]
    }
   ],
   "source": [
    "median, IQR, perc25, perc75 = parameters('score')\n",
    "df = df.loc[df['score'].between(perc25 - 1.5*IQR, perc75 + 1.5*IQR)]\n",
    "print('25-й перцентиль: {},'.format(perc25), '75-й перцентиль: {},'.format(perc75),\n",
    "      \"IQR: {}, \".format(IQR), \"Границы выбросов: [{f}, {l}].\".format(f=perc25 - 1.5*IQR, l=perc75 + 1.5*IQR))"
   ]
  },
  {
   "cell_type": "code",
   "execution_count": null,
   "metadata": {},
   "outputs": [],
   "source": [
    "df['score'].describe()"
   ]
  },
  {
   "cell_type": "markdown",
   "metadata": {},
   "source": [
    "##### Выводы: ошибка в данных - нулевой балл за экзамен (выброс). Скорее всего, графа оценок была 100-балльная"
   ]
  },
  {
   "cell_type": "code",
   "execution_count": null,
   "metadata": {},
   "outputs": [],
   "source": []
  },
  {
   "cell_type": "code",
   "execution_count": null,
   "metadata": {},
   "outputs": [],
   "source": []
  },
  {
   "cell_type": "markdown",
   "metadata": {},
   "source": [
    "### Корреляционный анализ"
   ]
  },
  {
   "cell_type": "code",
   "execution_count": 106,
   "metadata": {
    "scrolled": false
   },
   "outputs": [
    {
     "data": {
      "text/html": [
       "<div>\n",
       "<style scoped>\n",
       "    .dataframe tbody tr th:only-of-type {\n",
       "        vertical-align: middle;\n",
       "    }\n",
       "\n",
       "    .dataframe tbody tr th {\n",
       "        vertical-align: top;\n",
       "    }\n",
       "\n",
       "    .dataframe thead th {\n",
       "        text-align: right;\n",
       "    }\n",
       "</style>\n",
       "<table border=\"1\" class=\"dataframe\">\n",
       "  <thead>\n",
       "    <tr style=\"text-align: right;\">\n",
       "      <th></th>\n",
       "      <th>age</th>\n",
       "      <th>m_edu</th>\n",
       "      <th>f_edu</th>\n",
       "      <th>traveltime</th>\n",
       "      <th>studytime</th>\n",
       "      <th>failures</th>\n",
       "      <th>studytime_gran</th>\n",
       "      <th>famrel</th>\n",
       "      <th>freetime</th>\n",
       "      <th>go_out</th>\n",
       "      <th>health</th>\n",
       "      <th>absences</th>\n",
       "      <th>score</th>\n",
       "      <th>famsize_dig</th>\n",
       "      <th>schoolsup_dig</th>\n",
       "      <th>famsup_dig</th>\n",
       "      <th>paid_math_dig</th>\n",
       "      <th>activities_dig</th>\n",
       "      <th>nursery_dig</th>\n",
       "      <th>higher_dig</th>\n",
       "      <th>internet_dig</th>\n",
       "      <th>romantic_dig</th>\n",
       "    </tr>\n",
       "  </thead>\n",
       "  <tbody>\n",
       "    <tr>\n",
       "      <th>age</th>\n",
       "      <td>1.000000</td>\n",
       "      <td>-0.043281</td>\n",
       "      <td>-0.100141</td>\n",
       "      <td>0.189335</td>\n",
       "      <td>0.007304</td>\n",
       "      <td>NaN</td>\n",
       "      <td>-0.007304</td>\n",
       "      <td>-8.452114e-02</td>\n",
       "      <td>-8.047077e-02</td>\n",
       "      <td>0.111146</td>\n",
       "      <td>-0.034241</td>\n",
       "      <td>0.210241</td>\n",
       "      <td>-0.123756</td>\n",
       "      <td>0.017608</td>\n",
       "      <td>-0.253059</td>\n",
       "      <td>-0.112686</td>\n",
       "      <td>-0.011574</td>\n",
       "      <td>-0.135686</td>\n",
       "      <td>-0.040035</td>\n",
       "      <td>-0.068088</td>\n",
       "      <td>-0.096643</td>\n",
       "      <td>0.093901</td>\n",
       "    </tr>\n",
       "    <tr>\n",
       "      <th>m_edu</th>\n",
       "      <td>-0.043281</td>\n",
       "      <td>1.000000</td>\n",
       "      <td>0.620653</td>\n",
       "      <td>-0.055629</td>\n",
       "      <td>0.060845</td>\n",
       "      <td>NaN</td>\n",
       "      <td>-0.060845</td>\n",
       "      <td>6.202532e-02</td>\n",
       "      <td>6.510970e-02</td>\n",
       "      <td>0.008407</td>\n",
       "      <td>-0.058203</td>\n",
       "      <td>0.123055</td>\n",
       "      <td>0.126962</td>\n",
       "      <td>-0.082144</td>\n",
       "      <td>0.003146</td>\n",
       "      <td>0.279708</td>\n",
       "      <td>0.062943</td>\n",
       "      <td>0.144868</td>\n",
       "      <td>0.183964</td>\n",
       "      <td>0.265521</td>\n",
       "      <td>0.093897</td>\n",
       "      <td>0.091130</td>\n",
       "    </tr>\n",
       "    <tr>\n",
       "      <th>f_edu</th>\n",
       "      <td>-0.100141</td>\n",
       "      <td>0.620653</td>\n",
       "      <td>1.000000</td>\n",
       "      <td>-0.042178</td>\n",
       "      <td>-0.046599</td>\n",
       "      <td>NaN</td>\n",
       "      <td>0.046599</td>\n",
       "      <td>3.483533e-02</td>\n",
       "      <td>4.113856e-02</td>\n",
       "      <td>-0.043158</td>\n",
       "      <td>0.041265</td>\n",
       "      <td>0.065537</td>\n",
       "      <td>0.077740</td>\n",
       "      <td>0.015952</td>\n",
       "      <td>0.160953</td>\n",
       "      <td>0.193534</td>\n",
       "      <td>0.012430</td>\n",
       "      <td>0.098773</td>\n",
       "      <td>0.141736</td>\n",
       "      <td>0.078652</td>\n",
       "      <td>0.140727</td>\n",
       "      <td>0.087848</td>\n",
       "    </tr>\n",
       "    <tr>\n",
       "      <th>traveltime</th>\n",
       "      <td>0.189335</td>\n",
       "      <td>-0.055629</td>\n",
       "      <td>-0.042178</td>\n",
       "      <td>1.000000</td>\n",
       "      <td>-0.143967</td>\n",
       "      <td>NaN</td>\n",
       "      <td>0.143967</td>\n",
       "      <td>-1.076244e-01</td>\n",
       "      <td>7.343461e-02</td>\n",
       "      <td>-0.063820</td>\n",
       "      <td>-0.005000</td>\n",
       "      <td>-0.044366</td>\n",
       "      <td>-0.021659</td>\n",
       "      <td>-0.113165</td>\n",
       "      <td>-0.096825</td>\n",
       "      <td>0.052025</td>\n",
       "      <td>0.097719</td>\n",
       "      <td>0.013102</td>\n",
       "      <td>-0.004794</td>\n",
       "      <td>-0.066692</td>\n",
       "      <td>0.094225</td>\n",
       "      <td>0.037606</td>\n",
       "    </tr>\n",
       "    <tr>\n",
       "      <th>studytime</th>\n",
       "      <td>0.007304</td>\n",
       "      <td>0.060845</td>\n",
       "      <td>-0.046599</td>\n",
       "      <td>-0.143967</td>\n",
       "      <td>1.000000</td>\n",
       "      <td>NaN</td>\n",
       "      <td>-1.000000</td>\n",
       "      <td>2.972629e-02</td>\n",
       "      <td>-3.120451e-02</td>\n",
       "      <td>0.013850</td>\n",
       "      <td>-0.061220</td>\n",
       "      <td>-0.033633</td>\n",
       "      <td>0.005128</td>\n",
       "      <td>-0.019619</td>\n",
       "      <td>0.014904</td>\n",
       "      <td>0.093882</td>\n",
       "      <td>0.129362</td>\n",
       "      <td>0.017338</td>\n",
       "      <td>0.015751</td>\n",
       "      <td>0.160702</td>\n",
       "      <td>0.105894</td>\n",
       "      <td>0.117940</td>\n",
       "    </tr>\n",
       "    <tr>\n",
       "      <th>failures</th>\n",
       "      <td>NaN</td>\n",
       "      <td>NaN</td>\n",
       "      <td>NaN</td>\n",
       "      <td>NaN</td>\n",
       "      <td>NaN</td>\n",
       "      <td>NaN</td>\n",
       "      <td>NaN</td>\n",
       "      <td>NaN</td>\n",
       "      <td>NaN</td>\n",
       "      <td>NaN</td>\n",
       "      <td>NaN</td>\n",
       "      <td>NaN</td>\n",
       "      <td>NaN</td>\n",
       "      <td>NaN</td>\n",
       "      <td>NaN</td>\n",
       "      <td>NaN</td>\n",
       "      <td>NaN</td>\n",
       "      <td>NaN</td>\n",
       "      <td>NaN</td>\n",
       "      <td>NaN</td>\n",
       "      <td>NaN</td>\n",
       "      <td>NaN</td>\n",
       "    </tr>\n",
       "    <tr>\n",
       "      <th>studytime_gran</th>\n",
       "      <td>-0.007304</td>\n",
       "      <td>-0.060845</td>\n",
       "      <td>0.046599</td>\n",
       "      <td>0.143967</td>\n",
       "      <td>-1.000000</td>\n",
       "      <td>NaN</td>\n",
       "      <td>1.000000</td>\n",
       "      <td>-2.972629e-02</td>\n",
       "      <td>3.120451e-02</td>\n",
       "      <td>-0.013850</td>\n",
       "      <td>0.061220</td>\n",
       "      <td>0.033633</td>\n",
       "      <td>-0.005128</td>\n",
       "      <td>0.019619</td>\n",
       "      <td>-0.014904</td>\n",
       "      <td>-0.093882</td>\n",
       "      <td>-0.129362</td>\n",
       "      <td>-0.017338</td>\n",
       "      <td>-0.015751</td>\n",
       "      <td>-0.160702</td>\n",
       "      <td>-0.105894</td>\n",
       "      <td>-0.117940</td>\n",
       "    </tr>\n",
       "    <tr>\n",
       "      <th>famrel</th>\n",
       "      <td>-0.084521</td>\n",
       "      <td>0.062025</td>\n",
       "      <td>0.034835</td>\n",
       "      <td>-0.107624</td>\n",
       "      <td>0.029726</td>\n",
       "      <td>NaN</td>\n",
       "      <td>-0.029726</td>\n",
       "      <td>1.000000e+00</td>\n",
       "      <td>-9.323455e-17</td>\n",
       "      <td>-0.076241</td>\n",
       "      <td>-0.015485</td>\n",
       "      <td>-0.041515</td>\n",
       "      <td>0.235743</td>\n",
       "      <td>-0.067008</td>\n",
       "      <td>0.018946</td>\n",
       "      <td>-0.114423</td>\n",
       "      <td>-0.224917</td>\n",
       "      <td>0.135851</td>\n",
       "      <td>-0.093875</td>\n",
       "      <td>0.017774</td>\n",
       "      <td>0.078734</td>\n",
       "      <td>-0.129662</td>\n",
       "    </tr>\n",
       "    <tr>\n",
       "      <th>freetime</th>\n",
       "      <td>-0.080471</td>\n",
       "      <td>0.065110</td>\n",
       "      <td>0.041139</td>\n",
       "      <td>0.073435</td>\n",
       "      <td>-0.031205</td>\n",
       "      <td>NaN</td>\n",
       "      <td>0.031205</td>\n",
       "      <td>-9.323455e-17</td>\n",
       "      <td>1.000000e+00</td>\n",
       "      <td>0.096706</td>\n",
       "      <td>0.065831</td>\n",
       "      <td>-0.022097</td>\n",
       "      <td>0.029424</td>\n",
       "      <td>-0.115952</td>\n",
       "      <td>-0.039181</td>\n",
       "      <td>0.101381</td>\n",
       "      <td>0.023188</td>\n",
       "      <td>0.070373</td>\n",
       "      <td>-0.053690</td>\n",
       "      <td>0.066535</td>\n",
       "      <td>0.041656</td>\n",
       "      <td>-0.162547</td>\n",
       "    </tr>\n",
       "    <tr>\n",
       "      <th>go_out</th>\n",
       "      <td>0.111146</td>\n",
       "      <td>0.008407</td>\n",
       "      <td>-0.043158</td>\n",
       "      <td>-0.063820</td>\n",
       "      <td>0.013850</td>\n",
       "      <td>NaN</td>\n",
       "      <td>-0.013850</td>\n",
       "      <td>-7.624108e-02</td>\n",
       "      <td>9.670579e-02</td>\n",
       "      <td>1.000000</td>\n",
       "      <td>-0.063750</td>\n",
       "      <td>0.224904</td>\n",
       "      <td>-0.271061</td>\n",
       "      <td>-0.005501</td>\n",
       "      <td>-0.009753</td>\n",
       "      <td>0.021197</td>\n",
       "      <td>0.119671</td>\n",
       "      <td>-0.057550</td>\n",
       "      <td>-0.038698</td>\n",
       "      <td>-0.097707</td>\n",
       "      <td>0.166591</td>\n",
       "      <td>0.032176</td>\n",
       "    </tr>\n",
       "    <tr>\n",
       "      <th>health</th>\n",
       "      <td>-0.034241</td>\n",
       "      <td>-0.058203</td>\n",
       "      <td>0.041265</td>\n",
       "      <td>-0.005000</td>\n",
       "      <td>-0.061220</td>\n",
       "      <td>NaN</td>\n",
       "      <td>0.061220</td>\n",
       "      <td>-1.548463e-02</td>\n",
       "      <td>6.583130e-02</td>\n",
       "      <td>-0.063750</td>\n",
       "      <td>1.000000</td>\n",
       "      <td>-0.061686</td>\n",
       "      <td>0.102968</td>\n",
       "      <td>0.008308</td>\n",
       "      <td>-0.077017</td>\n",
       "      <td>-0.055092</td>\n",
       "      <td>0.041712</td>\n",
       "      <td>-0.017491</td>\n",
       "      <td>-0.165327</td>\n",
       "      <td>0.050194</td>\n",
       "      <td>-0.000924</td>\n",
       "      <td>0.022412</td>\n",
       "    </tr>\n",
       "    <tr>\n",
       "      <th>absences</th>\n",
       "      <td>0.210241</td>\n",
       "      <td>0.123055</td>\n",
       "      <td>0.065537</td>\n",
       "      <td>-0.044366</td>\n",
       "      <td>-0.033633</td>\n",
       "      <td>NaN</td>\n",
       "      <td>0.033633</td>\n",
       "      <td>-4.151504e-02</td>\n",
       "      <td>-2.209664e-02</td>\n",
       "      <td>0.224904</td>\n",
       "      <td>-0.061686</td>\n",
       "      <td>1.000000</td>\n",
       "      <td>-0.203639</td>\n",
       "      <td>-0.107474</td>\n",
       "      <td>0.067758</td>\n",
       "      <td>0.147057</td>\n",
       "      <td>-0.033348</td>\n",
       "      <td>0.023616</td>\n",
       "      <td>0.050697</td>\n",
       "      <td>0.038013</td>\n",
       "      <td>0.016003</td>\n",
       "      <td>0.144393</td>\n",
       "    </tr>\n",
       "    <tr>\n",
       "      <th>score</th>\n",
       "      <td>-0.123756</td>\n",
       "      <td>0.126962</td>\n",
       "      <td>0.077740</td>\n",
       "      <td>-0.021659</td>\n",
       "      <td>0.005128</td>\n",
       "      <td>NaN</td>\n",
       "      <td>-0.005128</td>\n",
       "      <td>2.357432e-01</td>\n",
       "      <td>2.942433e-02</td>\n",
       "      <td>-0.271061</td>\n",
       "      <td>0.102968</td>\n",
       "      <td>-0.203639</td>\n",
       "      <td>1.000000</td>\n",
       "      <td>-0.016105</td>\n",
       "      <td>-0.283334</td>\n",
       "      <td>-0.108739</td>\n",
       "      <td>-0.122278</td>\n",
       "      <td>0.035142</td>\n",
       "      <td>0.100811</td>\n",
       "      <td>0.057480</td>\n",
       "      <td>-0.036925</td>\n",
       "      <td>-0.107177</td>\n",
       "    </tr>\n",
       "    <tr>\n",
       "      <th>famsize_dig</th>\n",
       "      <td>0.017608</td>\n",
       "      <td>-0.082144</td>\n",
       "      <td>0.015952</td>\n",
       "      <td>-0.113165</td>\n",
       "      <td>-0.019619</td>\n",
       "      <td>NaN</td>\n",
       "      <td>0.019619</td>\n",
       "      <td>-6.700793e-02</td>\n",
       "      <td>-1.159521e-01</td>\n",
       "      <td>-0.005501</td>\n",
       "      <td>0.008308</td>\n",
       "      <td>-0.107474</td>\n",
       "      <td>-0.016105</td>\n",
       "      <td>1.000000</td>\n",
       "      <td>-0.071276</td>\n",
       "      <td>-0.034816</td>\n",
       "      <td>-0.055470</td>\n",
       "      <td>-0.037812</td>\n",
       "      <td>-0.138115</td>\n",
       "      <td>-0.008586</td>\n",
       "      <td>-0.149404</td>\n",
       "      <td>-0.020565</td>\n",
       "    </tr>\n",
       "    <tr>\n",
       "      <th>schoolsup_dig</th>\n",
       "      <td>-0.253059</td>\n",
       "      <td>0.003146</td>\n",
       "      <td>0.160953</td>\n",
       "      <td>-0.096825</td>\n",
       "      <td>0.014904</td>\n",
       "      <td>NaN</td>\n",
       "      <td>-0.014904</td>\n",
       "      <td>1.894592e-02</td>\n",
       "      <td>-3.918120e-02</td>\n",
       "      <td>-0.009753</td>\n",
       "      <td>-0.077017</td>\n",
       "      <td>0.067758</td>\n",
       "      <td>-0.283334</td>\n",
       "      <td>-0.071276</td>\n",
       "      <td>1.000000</td>\n",
       "      <td>-0.044441</td>\n",
       "      <td>0.015181</td>\n",
       "      <td>0.075798</td>\n",
       "      <td>0.052811</td>\n",
       "      <td>0.065881</td>\n",
       "      <td>-0.121633</td>\n",
       "      <td>0.051425</td>\n",
       "    </tr>\n",
       "    <tr>\n",
       "      <th>famsup_dig</th>\n",
       "      <td>-0.112686</td>\n",
       "      <td>0.279708</td>\n",
       "      <td>0.193534</td>\n",
       "      <td>0.052025</td>\n",
       "      <td>0.093882</td>\n",
       "      <td>NaN</td>\n",
       "      <td>-0.093882</td>\n",
       "      <td>-1.144235e-01</td>\n",
       "      <td>1.013811e-01</td>\n",
       "      <td>0.021197</td>\n",
       "      <td>-0.055092</td>\n",
       "      <td>0.147057</td>\n",
       "      <td>-0.108739</td>\n",
       "      <td>-0.034816</td>\n",
       "      <td>-0.044441</td>\n",
       "      <td>1.000000</td>\n",
       "      <td>0.334232</td>\n",
       "      <td>-0.135714</td>\n",
       "      <td>0.056262</td>\n",
       "      <td>0.096816</td>\n",
       "      <td>-0.074444</td>\n",
       "      <td>0.147635</td>\n",
       "    </tr>\n",
       "    <tr>\n",
       "      <th>paid_math_dig</th>\n",
       "      <td>-0.011574</td>\n",
       "      <td>0.062943</td>\n",
       "      <td>0.012430</td>\n",
       "      <td>0.097719</td>\n",
       "      <td>0.129362</td>\n",
       "      <td>NaN</td>\n",
       "      <td>-0.129362</td>\n",
       "      <td>-2.249169e-01</td>\n",
       "      <td>2.318815e-02</td>\n",
       "      <td>0.119671</td>\n",
       "      <td>0.041712</td>\n",
       "      <td>-0.033348</td>\n",
       "      <td>-0.122278</td>\n",
       "      <td>-0.055470</td>\n",
       "      <td>0.015181</td>\n",
       "      <td>0.334232</td>\n",
       "      <td>1.000000</td>\n",
       "      <td>-0.019668</td>\n",
       "      <td>0.200066</td>\n",
       "      <td>0.140733</td>\n",
       "      <td>0.064081</td>\n",
       "      <td>0.128624</td>\n",
       "    </tr>\n",
       "    <tr>\n",
       "      <th>activities_dig</th>\n",
       "      <td>-0.135686</td>\n",
       "      <td>0.144868</td>\n",
       "      <td>0.098773</td>\n",
       "      <td>0.013102</td>\n",
       "      <td>0.017338</td>\n",
       "      <td>NaN</td>\n",
       "      <td>-0.017338</td>\n",
       "      <td>1.358506e-01</td>\n",
       "      <td>7.037296e-02</td>\n",
       "      <td>-0.057550</td>\n",
       "      <td>-0.017491</td>\n",
       "      <td>0.023616</td>\n",
       "      <td>0.035142</td>\n",
       "      <td>-0.037812</td>\n",
       "      <td>0.075798</td>\n",
       "      <td>-0.135714</td>\n",
       "      <td>-0.019668</td>\n",
       "      <td>1.000000</td>\n",
       "      <td>-0.022434</td>\n",
       "      <td>0.012773</td>\n",
       "      <td>0.093877</td>\n",
       "      <td>-0.209407</td>\n",
       "    </tr>\n",
       "    <tr>\n",
       "      <th>nursery_dig</th>\n",
       "      <td>-0.040035</td>\n",
       "      <td>0.183964</td>\n",
       "      <td>0.141736</td>\n",
       "      <td>-0.004794</td>\n",
       "      <td>0.015751</td>\n",
       "      <td>NaN</td>\n",
       "      <td>-0.015751</td>\n",
       "      <td>-9.387457e-02</td>\n",
       "      <td>-5.369029e-02</td>\n",
       "      <td>-0.038698</td>\n",
       "      <td>-0.165327</td>\n",
       "      <td>0.050697</td>\n",
       "      <td>0.100811</td>\n",
       "      <td>-0.138115</td>\n",
       "      <td>0.052811</td>\n",
       "      <td>0.056262</td>\n",
       "      <td>0.200066</td>\n",
       "      <td>-0.022434</td>\n",
       "      <td>1.000000</td>\n",
       "      <td>-0.076511</td>\n",
       "      <td>0.030121</td>\n",
       "      <td>0.172750</td>\n",
       "    </tr>\n",
       "    <tr>\n",
       "      <th>higher_dig</th>\n",
       "      <td>-0.068088</td>\n",
       "      <td>0.265521</td>\n",
       "      <td>0.078652</td>\n",
       "      <td>-0.066692</td>\n",
       "      <td>0.160702</td>\n",
       "      <td>NaN</td>\n",
       "      <td>-0.160702</td>\n",
       "      <td>1.777358e-02</td>\n",
       "      <td>6.653451e-02</td>\n",
       "      <td>-0.097707</td>\n",
       "      <td>0.050194</td>\n",
       "      <td>0.038013</td>\n",
       "      <td>0.057480</td>\n",
       "      <td>-0.008586</td>\n",
       "      <td>0.065881</td>\n",
       "      <td>0.096816</td>\n",
       "      <td>0.140733</td>\n",
       "      <td>0.012773</td>\n",
       "      <td>-0.076511</td>\n",
       "      <td>1.000000</td>\n",
       "      <td>-0.054724</td>\n",
       "      <td>-0.008113</td>\n",
       "    </tr>\n",
       "    <tr>\n",
       "      <th>internet_dig</th>\n",
       "      <td>-0.096643</td>\n",
       "      <td>0.093897</td>\n",
       "      <td>0.140727</td>\n",
       "      <td>0.094225</td>\n",
       "      <td>0.105894</td>\n",
       "      <td>NaN</td>\n",
       "      <td>-0.105894</td>\n",
       "      <td>7.873409e-02</td>\n",
       "      <td>4.165623e-02</td>\n",
       "      <td>0.166591</td>\n",
       "      <td>-0.000924</td>\n",
       "      <td>0.016003</td>\n",
       "      <td>-0.036925</td>\n",
       "      <td>-0.149404</td>\n",
       "      <td>-0.121633</td>\n",
       "      <td>-0.074444</td>\n",
       "      <td>0.064081</td>\n",
       "      <td>0.093877</td>\n",
       "      <td>0.030121</td>\n",
       "      <td>-0.054724</td>\n",
       "      <td>1.000000</td>\n",
       "      <td>0.004426</td>\n",
       "    </tr>\n",
       "    <tr>\n",
       "      <th>romantic_dig</th>\n",
       "      <td>0.093901</td>\n",
       "      <td>0.091130</td>\n",
       "      <td>0.087848</td>\n",
       "      <td>0.037606</td>\n",
       "      <td>0.117940</td>\n",
       "      <td>NaN</td>\n",
       "      <td>-0.117940</td>\n",
       "      <td>-1.296619e-01</td>\n",
       "      <td>-1.625472e-01</td>\n",
       "      <td>0.032176</td>\n",
       "      <td>0.022412</td>\n",
       "      <td>0.144393</td>\n",
       "      <td>-0.107177</td>\n",
       "      <td>-0.020565</td>\n",
       "      <td>0.051425</td>\n",
       "      <td>0.147635</td>\n",
       "      <td>0.128624</td>\n",
       "      <td>-0.209407</td>\n",
       "      <td>0.172750</td>\n",
       "      <td>-0.008113</td>\n",
       "      <td>0.004426</td>\n",
       "      <td>1.000000</td>\n",
       "    </tr>\n",
       "  </tbody>\n",
       "</table>\n",
       "</div>"
      ],
      "text/plain": [
       "                     age     m_edu     f_edu  traveltime  studytime  failures  \\\n",
       "age             1.000000 -0.043281 -0.100141    0.189335   0.007304       NaN   \n",
       "m_edu          -0.043281  1.000000  0.620653   -0.055629   0.060845       NaN   \n",
       "f_edu          -0.100141  0.620653  1.000000   -0.042178  -0.046599       NaN   \n",
       "traveltime      0.189335 -0.055629 -0.042178    1.000000  -0.143967       NaN   \n",
       "studytime       0.007304  0.060845 -0.046599   -0.143967   1.000000       NaN   \n",
       "failures             NaN       NaN       NaN         NaN        NaN       NaN   \n",
       "studytime_gran -0.007304 -0.060845  0.046599    0.143967  -1.000000       NaN   \n",
       "famrel         -0.084521  0.062025  0.034835   -0.107624   0.029726       NaN   \n",
       "freetime       -0.080471  0.065110  0.041139    0.073435  -0.031205       NaN   \n",
       "go_out          0.111146  0.008407 -0.043158   -0.063820   0.013850       NaN   \n",
       "health         -0.034241 -0.058203  0.041265   -0.005000  -0.061220       NaN   \n",
       "absences        0.210241  0.123055  0.065537   -0.044366  -0.033633       NaN   \n",
       "score          -0.123756  0.126962  0.077740   -0.021659   0.005128       NaN   \n",
       "famsize_dig     0.017608 -0.082144  0.015952   -0.113165  -0.019619       NaN   \n",
       "schoolsup_dig  -0.253059  0.003146  0.160953   -0.096825   0.014904       NaN   \n",
       "famsup_dig     -0.112686  0.279708  0.193534    0.052025   0.093882       NaN   \n",
       "paid_math_dig  -0.011574  0.062943  0.012430    0.097719   0.129362       NaN   \n",
       "activities_dig -0.135686  0.144868  0.098773    0.013102   0.017338       NaN   \n",
       "nursery_dig    -0.040035  0.183964  0.141736   -0.004794   0.015751       NaN   \n",
       "higher_dig     -0.068088  0.265521  0.078652   -0.066692   0.160702       NaN   \n",
       "internet_dig   -0.096643  0.093897  0.140727    0.094225   0.105894       NaN   \n",
       "romantic_dig    0.093901  0.091130  0.087848    0.037606   0.117940       NaN   \n",
       "\n",
       "                studytime_gran        famrel      freetime    go_out  \\\n",
       "age                  -0.007304 -8.452114e-02 -8.047077e-02  0.111146   \n",
       "m_edu                -0.060845  6.202532e-02  6.510970e-02  0.008407   \n",
       "f_edu                 0.046599  3.483533e-02  4.113856e-02 -0.043158   \n",
       "traveltime            0.143967 -1.076244e-01  7.343461e-02 -0.063820   \n",
       "studytime            -1.000000  2.972629e-02 -3.120451e-02  0.013850   \n",
       "failures                   NaN           NaN           NaN       NaN   \n",
       "studytime_gran        1.000000 -2.972629e-02  3.120451e-02 -0.013850   \n",
       "famrel               -0.029726  1.000000e+00 -9.323455e-17 -0.076241   \n",
       "freetime              0.031205 -9.323455e-17  1.000000e+00  0.096706   \n",
       "go_out               -0.013850 -7.624108e-02  9.670579e-02  1.000000   \n",
       "health                0.061220 -1.548463e-02  6.583130e-02 -0.063750   \n",
       "absences              0.033633 -4.151504e-02 -2.209664e-02  0.224904   \n",
       "score                -0.005128  2.357432e-01  2.942433e-02 -0.271061   \n",
       "famsize_dig           0.019619 -6.700793e-02 -1.159521e-01 -0.005501   \n",
       "schoolsup_dig        -0.014904  1.894592e-02 -3.918120e-02 -0.009753   \n",
       "famsup_dig           -0.093882 -1.144235e-01  1.013811e-01  0.021197   \n",
       "paid_math_dig        -0.129362 -2.249169e-01  2.318815e-02  0.119671   \n",
       "activities_dig       -0.017338  1.358506e-01  7.037296e-02 -0.057550   \n",
       "nursery_dig          -0.015751 -9.387457e-02 -5.369029e-02 -0.038698   \n",
       "higher_dig           -0.160702  1.777358e-02  6.653451e-02 -0.097707   \n",
       "internet_dig         -0.105894  7.873409e-02  4.165623e-02  0.166591   \n",
       "romantic_dig         -0.117940 -1.296619e-01 -1.625472e-01  0.032176   \n",
       "\n",
       "                  health  absences     score  famsize_dig  schoolsup_dig  \\\n",
       "age            -0.034241  0.210241 -0.123756     0.017608      -0.253059   \n",
       "m_edu          -0.058203  0.123055  0.126962    -0.082144       0.003146   \n",
       "f_edu           0.041265  0.065537  0.077740     0.015952       0.160953   \n",
       "traveltime     -0.005000 -0.044366 -0.021659    -0.113165      -0.096825   \n",
       "studytime      -0.061220 -0.033633  0.005128    -0.019619       0.014904   \n",
       "failures             NaN       NaN       NaN          NaN            NaN   \n",
       "studytime_gran  0.061220  0.033633 -0.005128     0.019619      -0.014904   \n",
       "famrel         -0.015485 -0.041515  0.235743    -0.067008       0.018946   \n",
       "freetime        0.065831 -0.022097  0.029424    -0.115952      -0.039181   \n",
       "go_out         -0.063750  0.224904 -0.271061    -0.005501      -0.009753   \n",
       "health          1.000000 -0.061686  0.102968     0.008308      -0.077017   \n",
       "absences       -0.061686  1.000000 -0.203639    -0.107474       0.067758   \n",
       "score           0.102968 -0.203639  1.000000    -0.016105      -0.283334   \n",
       "famsize_dig     0.008308 -0.107474 -0.016105     1.000000      -0.071276   \n",
       "schoolsup_dig  -0.077017  0.067758 -0.283334    -0.071276       1.000000   \n",
       "famsup_dig     -0.055092  0.147057 -0.108739    -0.034816      -0.044441   \n",
       "paid_math_dig   0.041712 -0.033348 -0.122278    -0.055470       0.015181   \n",
       "activities_dig -0.017491  0.023616  0.035142    -0.037812       0.075798   \n",
       "nursery_dig    -0.165327  0.050697  0.100811    -0.138115       0.052811   \n",
       "higher_dig      0.050194  0.038013  0.057480    -0.008586       0.065881   \n",
       "internet_dig   -0.000924  0.016003 -0.036925    -0.149404      -0.121633   \n",
       "romantic_dig    0.022412  0.144393 -0.107177    -0.020565       0.051425   \n",
       "\n",
       "                famsup_dig  paid_math_dig  activities_dig  nursery_dig  \\\n",
       "age              -0.112686      -0.011574       -0.135686    -0.040035   \n",
       "m_edu             0.279708       0.062943        0.144868     0.183964   \n",
       "f_edu             0.193534       0.012430        0.098773     0.141736   \n",
       "traveltime        0.052025       0.097719        0.013102    -0.004794   \n",
       "studytime         0.093882       0.129362        0.017338     0.015751   \n",
       "failures               NaN            NaN             NaN          NaN   \n",
       "studytime_gran   -0.093882      -0.129362       -0.017338    -0.015751   \n",
       "famrel           -0.114423      -0.224917        0.135851    -0.093875   \n",
       "freetime          0.101381       0.023188        0.070373    -0.053690   \n",
       "go_out            0.021197       0.119671       -0.057550    -0.038698   \n",
       "health           -0.055092       0.041712       -0.017491    -0.165327   \n",
       "absences          0.147057      -0.033348        0.023616     0.050697   \n",
       "score            -0.108739      -0.122278        0.035142     0.100811   \n",
       "famsize_dig      -0.034816      -0.055470       -0.037812    -0.138115   \n",
       "schoolsup_dig    -0.044441       0.015181        0.075798     0.052811   \n",
       "famsup_dig        1.000000       0.334232       -0.135714     0.056262   \n",
       "paid_math_dig     0.334232       1.000000       -0.019668     0.200066   \n",
       "activities_dig   -0.135714      -0.019668        1.000000    -0.022434   \n",
       "nursery_dig       0.056262       0.200066       -0.022434     1.000000   \n",
       "higher_dig        0.096816       0.140733        0.012773    -0.076511   \n",
       "internet_dig     -0.074444       0.064081        0.093877     0.030121   \n",
       "romantic_dig      0.147635       0.128624       -0.209407     0.172750   \n",
       "\n",
       "                higher_dig  internet_dig  romantic_dig  \n",
       "age              -0.068088     -0.096643      0.093901  \n",
       "m_edu             0.265521      0.093897      0.091130  \n",
       "f_edu             0.078652      0.140727      0.087848  \n",
       "traveltime       -0.066692      0.094225      0.037606  \n",
       "studytime         0.160702      0.105894      0.117940  \n",
       "failures               NaN           NaN           NaN  \n",
       "studytime_gran   -0.160702     -0.105894     -0.117940  \n",
       "famrel            0.017774      0.078734     -0.129662  \n",
       "freetime          0.066535      0.041656     -0.162547  \n",
       "go_out           -0.097707      0.166591      0.032176  \n",
       "health            0.050194     -0.000924      0.022412  \n",
       "absences          0.038013      0.016003      0.144393  \n",
       "score             0.057480     -0.036925     -0.107177  \n",
       "famsize_dig      -0.008586     -0.149404     -0.020565  \n",
       "schoolsup_dig     0.065881     -0.121633      0.051425  \n",
       "famsup_dig        0.096816     -0.074444      0.147635  \n",
       "paid_math_dig     0.140733      0.064081      0.128624  \n",
       "activities_dig    0.012773      0.093877     -0.209407  \n",
       "nursery_dig      -0.076511      0.030121      0.172750  \n",
       "higher_dig        1.000000     -0.054724     -0.008113  \n",
       "internet_dig     -0.054724      1.000000      0.004426  \n",
       "romantic_dig     -0.008113      0.004426      1.000000  "
      ]
     },
     "execution_count": 106,
     "metadata": {},
     "output_type": "execute_result"
    }
   ],
   "source": [
    "df.corr()"
   ]
  },
  {
   "cell_type": "code",
   "execution_count": null,
   "metadata": {},
   "outputs": [],
   "source": []
  },
  {
   "cell_type": "code",
   "execution_count": null,
   "metadata": {},
   "outputs": [],
   "source": [
    "df.drop(['failures', 'studytime_gran', 'famrel'], inplace=True, axis=1)"
   ]
  },
  {
   "cell_type": "code",
   "execution_count": 114,
   "metadata": {},
   "outputs": [],
   "source": [
    "df1.drop(['studytime_gran'], inplace=True, axis=1)"
   ]
  },
  {
   "cell_type": "code",
   "execution_count": 115,
   "metadata": {
    "scrolled": false
   },
   "outputs": [
    {
     "data": {
      "text/html": [
       "<div>\n",
       "<style scoped>\n",
       "    .dataframe tbody tr th:only-of-type {\n",
       "        vertical-align: middle;\n",
       "    }\n",
       "\n",
       "    .dataframe tbody tr th {\n",
       "        vertical-align: top;\n",
       "    }\n",
       "\n",
       "    .dataframe thead th {\n",
       "        text-align: right;\n",
       "    }\n",
       "</style>\n",
       "<table border=\"1\" class=\"dataframe\">\n",
       "  <thead>\n",
       "    <tr style=\"text-align: right;\">\n",
       "      <th></th>\n",
       "      <th>age</th>\n",
       "      <th>m_edu</th>\n",
       "      <th>f_edu</th>\n",
       "      <th>traveltime</th>\n",
       "      <th>studytime</th>\n",
       "      <th>failures</th>\n",
       "      <th>famrel</th>\n",
       "      <th>freetime</th>\n",
       "      <th>go_out</th>\n",
       "      <th>health</th>\n",
       "      <th>absences</th>\n",
       "      <th>score</th>\n",
       "      <th>famsize_dig</th>\n",
       "      <th>schoolsup_dig</th>\n",
       "      <th>famsup_dig</th>\n",
       "      <th>paid_math_dig</th>\n",
       "      <th>activities_dig</th>\n",
       "      <th>nursery_dig</th>\n",
       "      <th>higher_dig</th>\n",
       "      <th>internet_dig</th>\n",
       "      <th>romantic_dig</th>\n",
       "    </tr>\n",
       "  </thead>\n",
       "  <tbody>\n",
       "    <tr>\n",
       "      <th>age</th>\n",
       "      <td>1.000000</td>\n",
       "      <td>-0.161704</td>\n",
       "      <td>-0.138018</td>\n",
       "      <td>0.081508</td>\n",
       "      <td>-0.015556</td>\n",
       "      <td>0.228047</td>\n",
       "      <td>0.068899</td>\n",
       "      <td>0.029023</td>\n",
       "      <td>0.135107</td>\n",
       "      <td>-0.065946</td>\n",
       "      <td>0.093592</td>\n",
       "      <td>-0.155726</td>\n",
       "      <td>-0.022638</td>\n",
       "      <td>-0.256343</td>\n",
       "      <td>-0.159311</td>\n",
       "      <td>-0.030502</td>\n",
       "      <td>-0.110231</td>\n",
       "      <td>-0.106453</td>\n",
       "      <td>-0.207837</td>\n",
       "      <td>-0.108964</td>\n",
       "      <td>0.144440</td>\n",
       "    </tr>\n",
       "    <tr>\n",
       "      <th>m_edu</th>\n",
       "      <td>-0.161704</td>\n",
       "      <td>1.000000</td>\n",
       "      <td>0.275598</td>\n",
       "      <td>-0.173515</td>\n",
       "      <td>0.078589</td>\n",
       "      <td>-0.245463</td>\n",
       "      <td>-0.010050</td>\n",
       "      <td>0.025335</td>\n",
       "      <td>0.064164</td>\n",
       "      <td>-0.045051</td>\n",
       "      <td>-0.011944</td>\n",
       "      <td>0.213349</td>\n",
       "      <td>0.055857</td>\n",
       "      <td>-0.042360</td>\n",
       "      <td>0.207429</td>\n",
       "      <td>0.178744</td>\n",
       "      <td>0.106883</td>\n",
       "      <td>0.188484</td>\n",
       "      <td>0.176596</td>\n",
       "      <td>0.208719</td>\n",
       "      <td>0.023870</td>\n",
       "    </tr>\n",
       "    <tr>\n",
       "      <th>f_edu</th>\n",
       "      <td>-0.138018</td>\n",
       "      <td>0.275598</td>\n",
       "      <td>1.000000</td>\n",
       "      <td>0.030646</td>\n",
       "      <td>0.057199</td>\n",
       "      <td>-0.150821</td>\n",
       "      <td>0.040577</td>\n",
       "      <td>-0.066556</td>\n",
       "      <td>-0.023282</td>\n",
       "      <td>0.027251</td>\n",
       "      <td>0.004695</td>\n",
       "      <td>0.078573</td>\n",
       "      <td>0.070146</td>\n",
       "      <td>0.007020</td>\n",
       "      <td>0.140006</td>\n",
       "      <td>0.007128</td>\n",
       "      <td>0.098939</td>\n",
       "      <td>0.101002</td>\n",
       "      <td>0.100104</td>\n",
       "      <td>0.083520</td>\n",
       "      <td>-0.027778</td>\n",
       "    </tr>\n",
       "    <tr>\n",
       "      <th>traveltime</th>\n",
       "      <td>0.081508</td>\n",
       "      <td>-0.173515</td>\n",
       "      <td>0.030646</td>\n",
       "      <td>1.000000</td>\n",
       "      <td>-0.102206</td>\n",
       "      <td>0.064699</td>\n",
       "      <td>-0.016857</td>\n",
       "      <td>-0.021937</td>\n",
       "      <td>0.037636</td>\n",
       "      <td>-0.021531</td>\n",
       "      <td>-0.048215</td>\n",
       "      <td>-0.070559</td>\n",
       "      <td>-0.041872</td>\n",
       "      <td>-0.009752</td>\n",
       "      <td>-0.020651</td>\n",
       "      <td>-0.044878</td>\n",
       "      <td>-0.002043</td>\n",
       "      <td>-0.046749</td>\n",
       "      <td>-0.082866</td>\n",
       "      <td>-0.086334</td>\n",
       "      <td>0.022876</td>\n",
       "    </tr>\n",
       "    <tr>\n",
       "      <th>studytime</th>\n",
       "      <td>-0.015556</td>\n",
       "      <td>0.078589</td>\n",
       "      <td>0.057199</td>\n",
       "      <td>-0.102206</td>\n",
       "      <td>1.000000</td>\n",
       "      <td>-0.178992</td>\n",
       "      <td>0.045894</td>\n",
       "      <td>-0.121969</td>\n",
       "      <td>-0.051280</td>\n",
       "      <td>-0.080016</td>\n",
       "      <td>-0.026544</td>\n",
       "      <td>0.115741</td>\n",
       "      <td>0.086096</td>\n",
       "      <td>0.031873</td>\n",
       "      <td>0.129236</td>\n",
       "      <td>0.201447</td>\n",
       "      <td>0.110905</td>\n",
       "      <td>0.083487</td>\n",
       "      <td>0.174532</td>\n",
       "      <td>0.063471</td>\n",
       "      <td>0.055469</td>\n",
       "    </tr>\n",
       "    <tr>\n",
       "      <th>failures</th>\n",
       "      <td>0.228047</td>\n",
       "      <td>-0.245463</td>\n",
       "      <td>-0.150821</td>\n",
       "      <td>0.064699</td>\n",
       "      <td>-0.178992</td>\n",
       "      <td>1.000000</td>\n",
       "      <td>-0.022655</td>\n",
       "      <td>0.098382</td>\n",
       "      <td>0.120914</td>\n",
       "      <td>0.081284</td>\n",
       "      <td>0.057391</td>\n",
       "      <td>-0.344338</td>\n",
       "      <td>-0.002320</td>\n",
       "      <td>0.006310</td>\n",
       "      <td>-0.093340</td>\n",
       "      <td>-0.178898</td>\n",
       "      <td>-0.091205</td>\n",
       "      <td>-0.111398</td>\n",
       "      <td>-0.282585</td>\n",
       "      <td>-0.065367</td>\n",
       "      <td>0.095931</td>\n",
       "    </tr>\n",
       "    <tr>\n",
       "      <th>famrel</th>\n",
       "      <td>0.068899</td>\n",
       "      <td>-0.010050</td>\n",
       "      <td>0.040577</td>\n",
       "      <td>-0.016857</td>\n",
       "      <td>0.045894</td>\n",
       "      <td>-0.022655</td>\n",
       "      <td>1.000000</td>\n",
       "      <td>0.175743</td>\n",
       "      <td>0.081154</td>\n",
       "      <td>0.077474</td>\n",
       "      <td>-0.082609</td>\n",
       "      <td>0.057112</td>\n",
       "      <td>0.017231</td>\n",
       "      <td>-0.004088</td>\n",
       "      <td>-0.011997</td>\n",
       "      <td>-0.017581</td>\n",
       "      <td>0.063347</td>\n",
       "      <td>-0.016333</td>\n",
       "      <td>0.011767</td>\n",
       "      <td>0.052213</td>\n",
       "      <td>-0.066593</td>\n",
       "    </tr>\n",
       "    <tr>\n",
       "      <th>freetime</th>\n",
       "      <td>0.029023</td>\n",
       "      <td>0.025335</td>\n",
       "      <td>-0.066556</td>\n",
       "      <td>-0.021937</td>\n",
       "      <td>-0.121969</td>\n",
       "      <td>0.098382</td>\n",
       "      <td>0.175743</td>\n",
       "      <td>1.000000</td>\n",
       "      <td>0.296437</td>\n",
       "      <td>0.061575</td>\n",
       "      <td>0.009292</td>\n",
       "      <td>0.019026</td>\n",
       "      <td>-0.026207</td>\n",
       "      <td>-0.056599</td>\n",
       "      <td>-0.004149</td>\n",
       "      <td>-0.065099</td>\n",
       "      <td>0.074122</td>\n",
       "      <td>-0.041744</td>\n",
       "      <td>-0.050828</td>\n",
       "      <td>0.093749</td>\n",
       "      <td>-0.036552</td>\n",
       "    </tr>\n",
       "    <tr>\n",
       "      <th>go_out</th>\n",
       "      <td>0.135107</td>\n",
       "      <td>0.064164</td>\n",
       "      <td>-0.023282</td>\n",
       "      <td>0.037636</td>\n",
       "      <td>-0.051280</td>\n",
       "      <td>0.120914</td>\n",
       "      <td>0.081154</td>\n",
       "      <td>0.296437</td>\n",
       "      <td>1.000000</td>\n",
       "      <td>-0.015608</td>\n",
       "      <td>-0.048738</td>\n",
       "      <td>-0.129685</td>\n",
       "      <td>-0.028745</td>\n",
       "      <td>-0.037061</td>\n",
       "      <td>-0.040759</td>\n",
       "      <td>0.032648</td>\n",
       "      <td>0.045012</td>\n",
       "      <td>-0.006419</td>\n",
       "      <td>-0.022376</td>\n",
       "      <td>0.107363</td>\n",
       "      <td>0.009982</td>\n",
       "    </tr>\n",
       "    <tr>\n",
       "      <th>health</th>\n",
       "      <td>-0.065946</td>\n",
       "      <td>-0.045051</td>\n",
       "      <td>0.027251</td>\n",
       "      <td>-0.021531</td>\n",
       "      <td>-0.080016</td>\n",
       "      <td>0.081284</td>\n",
       "      <td>0.077474</td>\n",
       "      <td>0.061575</td>\n",
       "      <td>-0.015608</td>\n",
       "      <td>1.000000</td>\n",
       "      <td>-0.016222</td>\n",
       "      <td>-0.070460</td>\n",
       "      <td>0.048005</td>\n",
       "      <td>-0.030906</td>\n",
       "      <td>0.030130</td>\n",
       "      <td>-0.080834</td>\n",
       "      <td>0.027280</td>\n",
       "      <td>-0.020761</td>\n",
       "      <td>0.007746</td>\n",
       "      <td>-0.089305</td>\n",
       "      <td>0.010607</td>\n",
       "    </tr>\n",
       "    <tr>\n",
       "      <th>absences</th>\n",
       "      <td>0.093592</td>\n",
       "      <td>-0.011944</td>\n",
       "      <td>0.004695</td>\n",
       "      <td>-0.048215</td>\n",
       "      <td>-0.026544</td>\n",
       "      <td>0.057391</td>\n",
       "      <td>-0.082609</td>\n",
       "      <td>0.009292</td>\n",
       "      <td>-0.048738</td>\n",
       "      <td>-0.016222</td>\n",
       "      <td>1.000000</td>\n",
       "      <td>0.065283</td>\n",
       "      <td>-0.016183</td>\n",
       "      <td>0.109676</td>\n",
       "      <td>0.065217</td>\n",
       "      <td>-0.015179</td>\n",
       "      <td>-0.079675</td>\n",
       "      <td>0.039613</td>\n",
       "      <td>-0.010499</td>\n",
       "      <td>-0.001403</td>\n",
       "      <td>0.000414</td>\n",
       "    </tr>\n",
       "    <tr>\n",
       "      <th>score</th>\n",
       "      <td>-0.155726</td>\n",
       "      <td>0.213349</td>\n",
       "      <td>0.078573</td>\n",
       "      <td>-0.070559</td>\n",
       "      <td>0.115741</td>\n",
       "      <td>-0.344338</td>\n",
       "      <td>0.057112</td>\n",
       "      <td>0.019026</td>\n",
       "      <td>-0.129685</td>\n",
       "      <td>-0.070460</td>\n",
       "      <td>0.065283</td>\n",
       "      <td>1.000000</td>\n",
       "      <td>-0.063324</td>\n",
       "      <td>-0.088650</td>\n",
       "      <td>-0.007540</td>\n",
       "      <td>0.099878</td>\n",
       "      <td>0.010825</td>\n",
       "      <td>0.052859</td>\n",
       "      <td>0.185563</td>\n",
       "      <td>0.064526</td>\n",
       "      <td>-0.141320</td>\n",
       "    </tr>\n",
       "    <tr>\n",
       "      <th>famsize_dig</th>\n",
       "      <td>-0.022638</td>\n",
       "      <td>0.055857</td>\n",
       "      <td>0.070146</td>\n",
       "      <td>-0.041872</td>\n",
       "      <td>0.086096</td>\n",
       "      <td>-0.002320</td>\n",
       "      <td>0.017231</td>\n",
       "      <td>-0.026207</td>\n",
       "      <td>-0.028745</td>\n",
       "      <td>0.048005</td>\n",
       "      <td>-0.016183</td>\n",
       "      <td>-0.063324</td>\n",
       "      <td>1.000000</td>\n",
       "      <td>0.033654</td>\n",
       "      <td>0.122649</td>\n",
       "      <td>0.083343</td>\n",
       "      <td>0.025908</td>\n",
       "      <td>-0.103838</td>\n",
       "      <td>0.027185</td>\n",
       "      <td>0.004640</td>\n",
       "      <td>-0.016508</td>\n",
       "    </tr>\n",
       "    <tr>\n",
       "      <th>schoolsup_dig</th>\n",
       "      <td>-0.256343</td>\n",
       "      <td>-0.042360</td>\n",
       "      <td>0.007020</td>\n",
       "      <td>-0.009752</td>\n",
       "      <td>0.031873</td>\n",
       "      <td>0.006310</td>\n",
       "      <td>-0.004088</td>\n",
       "      <td>-0.056599</td>\n",
       "      <td>-0.037061</td>\n",
       "      <td>-0.030906</td>\n",
       "      <td>0.109676</td>\n",
       "      <td>-0.088650</td>\n",
       "      <td>0.033654</td>\n",
       "      <td>1.000000</td>\n",
       "      <td>0.098607</td>\n",
       "      <td>-0.030622</td>\n",
       "      <td>0.069506</td>\n",
       "      <td>0.049241</td>\n",
       "      <td>0.056949</td>\n",
       "      <td>-0.004859</td>\n",
       "      <td>-0.067455</td>\n",
       "    </tr>\n",
       "    <tr>\n",
       "      <th>famsup_dig</th>\n",
       "      <td>-0.159311</td>\n",
       "      <td>0.207429</td>\n",
       "      <td>0.140006</td>\n",
       "      <td>-0.020651</td>\n",
       "      <td>0.129236</td>\n",
       "      <td>-0.093340</td>\n",
       "      <td>-0.011997</td>\n",
       "      <td>-0.004149</td>\n",
       "      <td>-0.040759</td>\n",
       "      <td>0.030130</td>\n",
       "      <td>0.065217</td>\n",
       "      <td>-0.007540</td>\n",
       "      <td>0.122649</td>\n",
       "      <td>0.098607</td>\n",
       "      <td>1.000000</td>\n",
       "      <td>0.312699</td>\n",
       "      <td>-0.007412</td>\n",
       "      <td>0.064869</td>\n",
       "      <td>0.124554</td>\n",
       "      <td>0.098795</td>\n",
       "      <td>0.015542</td>\n",
       "    </tr>\n",
       "    <tr>\n",
       "      <th>paid_math_dig</th>\n",
       "      <td>-0.030502</td>\n",
       "      <td>0.178744</td>\n",
       "      <td>0.007128</td>\n",
       "      <td>-0.044878</td>\n",
       "      <td>0.201447</td>\n",
       "      <td>-0.178898</td>\n",
       "      <td>-0.017581</td>\n",
       "      <td>-0.065099</td>\n",
       "      <td>0.032648</td>\n",
       "      <td>-0.080834</td>\n",
       "      <td>-0.015179</td>\n",
       "      <td>0.099878</td>\n",
       "      <td>0.083343</td>\n",
       "      <td>-0.030622</td>\n",
       "      <td>0.312699</td>\n",
       "      <td>1.000000</td>\n",
       "      <td>0.019044</td>\n",
       "      <td>0.121350</td>\n",
       "      <td>0.197203</td>\n",
       "      <td>0.174581</td>\n",
       "      <td>0.049475</td>\n",
       "    </tr>\n",
       "    <tr>\n",
       "      <th>activities_dig</th>\n",
       "      <td>-0.110231</td>\n",
       "      <td>0.106883</td>\n",
       "      <td>0.098939</td>\n",
       "      <td>-0.002043</td>\n",
       "      <td>0.110905</td>\n",
       "      <td>-0.091205</td>\n",
       "      <td>0.063347</td>\n",
       "      <td>0.074122</td>\n",
       "      <td>0.045012</td>\n",
       "      <td>0.027280</td>\n",
       "      <td>-0.079675</td>\n",
       "      <td>0.010825</td>\n",
       "      <td>0.025908</td>\n",
       "      <td>0.069506</td>\n",
       "      <td>-0.007412</td>\n",
       "      <td>0.019044</td>\n",
       "      <td>1.000000</td>\n",
       "      <td>-0.006010</td>\n",
       "      <td>0.099606</td>\n",
       "      <td>0.060126</td>\n",
       "      <td>-0.032455</td>\n",
       "    </tr>\n",
       "    <tr>\n",
       "      <th>nursery_dig</th>\n",
       "      <td>-0.106453</td>\n",
       "      <td>0.188484</td>\n",
       "      <td>0.101002</td>\n",
       "      <td>-0.046749</td>\n",
       "      <td>0.083487</td>\n",
       "      <td>-0.111398</td>\n",
       "      <td>-0.016333</td>\n",
       "      <td>-0.041744</td>\n",
       "      <td>-0.006419</td>\n",
       "      <td>-0.020761</td>\n",
       "      <td>0.039613</td>\n",
       "      <td>0.052859</td>\n",
       "      <td>-0.103838</td>\n",
       "      <td>0.049241</td>\n",
       "      <td>0.064869</td>\n",
       "      <td>0.121350</td>\n",
       "      <td>-0.006010</td>\n",
       "      <td>1.000000</td>\n",
       "      <td>0.068030</td>\n",
       "      <td>0.032580</td>\n",
       "      <td>0.019314</td>\n",
       "    </tr>\n",
       "    <tr>\n",
       "      <th>higher_dig</th>\n",
       "      <td>-0.207837</td>\n",
       "      <td>0.176596</td>\n",
       "      <td>0.100104</td>\n",
       "      <td>-0.082866</td>\n",
       "      <td>0.174532</td>\n",
       "      <td>-0.282585</td>\n",
       "      <td>0.011767</td>\n",
       "      <td>-0.050828</td>\n",
       "      <td>-0.022376</td>\n",
       "      <td>0.007746</td>\n",
       "      <td>-0.010499</td>\n",
       "      <td>0.185563</td>\n",
       "      <td>0.027185</td>\n",
       "      <td>0.056949</td>\n",
       "      <td>0.124554</td>\n",
       "      <td>0.197203</td>\n",
       "      <td>0.099606</td>\n",
       "      <td>0.068030</td>\n",
       "      <td>1.000000</td>\n",
       "      <td>0.043522</td>\n",
       "      <td>-0.131382</td>\n",
       "    </tr>\n",
       "    <tr>\n",
       "      <th>internet_dig</th>\n",
       "      <td>-0.108964</td>\n",
       "      <td>0.208719</td>\n",
       "      <td>0.083520</td>\n",
       "      <td>-0.086334</td>\n",
       "      <td>0.063471</td>\n",
       "      <td>-0.065367</td>\n",
       "      <td>0.052213</td>\n",
       "      <td>0.093749</td>\n",
       "      <td>0.107363</td>\n",
       "      <td>-0.089305</td>\n",
       "      <td>-0.001403</td>\n",
       "      <td>0.064526</td>\n",
       "      <td>0.004640</td>\n",
       "      <td>-0.004859</td>\n",
       "      <td>0.098795</td>\n",
       "      <td>0.174581</td>\n",
       "      <td>0.060126</td>\n",
       "      <td>0.032580</td>\n",
       "      <td>0.043522</td>\n",
       "      <td>1.000000</td>\n",
       "      <td>0.099781</td>\n",
       "    </tr>\n",
       "    <tr>\n",
       "      <th>romantic_dig</th>\n",
       "      <td>0.144440</td>\n",
       "      <td>0.023870</td>\n",
       "      <td>-0.027778</td>\n",
       "      <td>0.022876</td>\n",
       "      <td>0.055469</td>\n",
       "      <td>0.095931</td>\n",
       "      <td>-0.066593</td>\n",
       "      <td>-0.036552</td>\n",
       "      <td>0.009982</td>\n",
       "      <td>0.010607</td>\n",
       "      <td>0.000414</td>\n",
       "      <td>-0.141320</td>\n",
       "      <td>-0.016508</td>\n",
       "      <td>-0.067455</td>\n",
       "      <td>0.015542</td>\n",
       "      <td>0.049475</td>\n",
       "      <td>-0.032455</td>\n",
       "      <td>0.019314</td>\n",
       "      <td>-0.131382</td>\n",
       "      <td>0.099781</td>\n",
       "      <td>1.000000</td>\n",
       "    </tr>\n",
       "  </tbody>\n",
       "</table>\n",
       "</div>"
      ],
      "text/plain": [
       "                     age     m_edu     f_edu  traveltime  studytime  failures  \\\n",
       "age             1.000000 -0.161704 -0.138018    0.081508  -0.015556  0.228047   \n",
       "m_edu          -0.161704  1.000000  0.275598   -0.173515   0.078589 -0.245463   \n",
       "f_edu          -0.138018  0.275598  1.000000    0.030646   0.057199 -0.150821   \n",
       "traveltime      0.081508 -0.173515  0.030646    1.000000  -0.102206  0.064699   \n",
       "studytime      -0.015556  0.078589  0.057199   -0.102206   1.000000 -0.178992   \n",
       "failures        0.228047 -0.245463 -0.150821    0.064699  -0.178992  1.000000   \n",
       "famrel          0.068899 -0.010050  0.040577   -0.016857   0.045894 -0.022655   \n",
       "freetime        0.029023  0.025335 -0.066556   -0.021937  -0.121969  0.098382   \n",
       "go_out          0.135107  0.064164 -0.023282    0.037636  -0.051280  0.120914   \n",
       "health         -0.065946 -0.045051  0.027251   -0.021531  -0.080016  0.081284   \n",
       "absences        0.093592 -0.011944  0.004695   -0.048215  -0.026544  0.057391   \n",
       "score          -0.155726  0.213349  0.078573   -0.070559   0.115741 -0.344338   \n",
       "famsize_dig    -0.022638  0.055857  0.070146   -0.041872   0.086096 -0.002320   \n",
       "schoolsup_dig  -0.256343 -0.042360  0.007020   -0.009752   0.031873  0.006310   \n",
       "famsup_dig     -0.159311  0.207429  0.140006   -0.020651   0.129236 -0.093340   \n",
       "paid_math_dig  -0.030502  0.178744  0.007128   -0.044878   0.201447 -0.178898   \n",
       "activities_dig -0.110231  0.106883  0.098939   -0.002043   0.110905 -0.091205   \n",
       "nursery_dig    -0.106453  0.188484  0.101002   -0.046749   0.083487 -0.111398   \n",
       "higher_dig     -0.207837  0.176596  0.100104   -0.082866   0.174532 -0.282585   \n",
       "internet_dig   -0.108964  0.208719  0.083520   -0.086334   0.063471 -0.065367   \n",
       "romantic_dig    0.144440  0.023870 -0.027778    0.022876   0.055469  0.095931   \n",
       "\n",
       "                  famrel  freetime    go_out    health  absences     score  \\\n",
       "age             0.068899  0.029023  0.135107 -0.065946  0.093592 -0.155726   \n",
       "m_edu          -0.010050  0.025335  0.064164 -0.045051 -0.011944  0.213349   \n",
       "f_edu           0.040577 -0.066556 -0.023282  0.027251  0.004695  0.078573   \n",
       "traveltime     -0.016857 -0.021937  0.037636 -0.021531 -0.048215 -0.070559   \n",
       "studytime       0.045894 -0.121969 -0.051280 -0.080016 -0.026544  0.115741   \n",
       "failures       -0.022655  0.098382  0.120914  0.081284  0.057391 -0.344338   \n",
       "famrel          1.000000  0.175743  0.081154  0.077474 -0.082609  0.057112   \n",
       "freetime        0.175743  1.000000  0.296437  0.061575  0.009292  0.019026   \n",
       "go_out          0.081154  0.296437  1.000000 -0.015608 -0.048738 -0.129685   \n",
       "health          0.077474  0.061575 -0.015608  1.000000 -0.016222 -0.070460   \n",
       "absences       -0.082609  0.009292 -0.048738 -0.016222  1.000000  0.065283   \n",
       "score           0.057112  0.019026 -0.129685 -0.070460  0.065283  1.000000   \n",
       "famsize_dig     0.017231 -0.026207 -0.028745  0.048005 -0.016183 -0.063324   \n",
       "schoolsup_dig  -0.004088 -0.056599 -0.037061 -0.030906  0.109676 -0.088650   \n",
       "famsup_dig     -0.011997 -0.004149 -0.040759  0.030130  0.065217 -0.007540   \n",
       "paid_math_dig  -0.017581 -0.065099  0.032648 -0.080834 -0.015179  0.099878   \n",
       "activities_dig  0.063347  0.074122  0.045012  0.027280 -0.079675  0.010825   \n",
       "nursery_dig    -0.016333 -0.041744 -0.006419 -0.020761  0.039613  0.052859   \n",
       "higher_dig      0.011767 -0.050828 -0.022376  0.007746 -0.010499  0.185563   \n",
       "internet_dig    0.052213  0.093749  0.107363 -0.089305 -0.001403  0.064526   \n",
       "romantic_dig   -0.066593 -0.036552  0.009982  0.010607  0.000414 -0.141320   \n",
       "\n",
       "                famsize_dig  schoolsup_dig  famsup_dig  paid_math_dig  \\\n",
       "age               -0.022638      -0.256343   -0.159311      -0.030502   \n",
       "m_edu              0.055857      -0.042360    0.207429       0.178744   \n",
       "f_edu              0.070146       0.007020    0.140006       0.007128   \n",
       "traveltime        -0.041872      -0.009752   -0.020651      -0.044878   \n",
       "studytime          0.086096       0.031873    0.129236       0.201447   \n",
       "failures          -0.002320       0.006310   -0.093340      -0.178898   \n",
       "famrel             0.017231      -0.004088   -0.011997      -0.017581   \n",
       "freetime          -0.026207      -0.056599   -0.004149      -0.065099   \n",
       "go_out            -0.028745      -0.037061   -0.040759       0.032648   \n",
       "health             0.048005      -0.030906    0.030130      -0.080834   \n",
       "absences          -0.016183       0.109676    0.065217      -0.015179   \n",
       "score             -0.063324      -0.088650   -0.007540       0.099878   \n",
       "famsize_dig        1.000000       0.033654    0.122649       0.083343   \n",
       "schoolsup_dig      0.033654       1.000000    0.098607      -0.030622   \n",
       "famsup_dig         0.122649       0.098607    1.000000       0.312699   \n",
       "paid_math_dig      0.083343      -0.030622    0.312699       1.000000   \n",
       "activities_dig     0.025908       0.069506   -0.007412       0.019044   \n",
       "nursery_dig       -0.103838       0.049241    0.064869       0.121350   \n",
       "higher_dig         0.027185       0.056949    0.124554       0.197203   \n",
       "internet_dig       0.004640      -0.004859    0.098795       0.174581   \n",
       "romantic_dig      -0.016508      -0.067455    0.015542       0.049475   \n",
       "\n",
       "                activities_dig  nursery_dig  higher_dig  internet_dig  \\\n",
       "age                  -0.110231    -0.106453   -0.207837     -0.108964   \n",
       "m_edu                 0.106883     0.188484    0.176596      0.208719   \n",
       "f_edu                 0.098939     0.101002    0.100104      0.083520   \n",
       "traveltime           -0.002043    -0.046749   -0.082866     -0.086334   \n",
       "studytime             0.110905     0.083487    0.174532      0.063471   \n",
       "failures             -0.091205    -0.111398   -0.282585     -0.065367   \n",
       "famrel                0.063347    -0.016333    0.011767      0.052213   \n",
       "freetime              0.074122    -0.041744   -0.050828      0.093749   \n",
       "go_out                0.045012    -0.006419   -0.022376      0.107363   \n",
       "health                0.027280    -0.020761    0.007746     -0.089305   \n",
       "absences             -0.079675     0.039613   -0.010499     -0.001403   \n",
       "score                 0.010825     0.052859    0.185563      0.064526   \n",
       "famsize_dig           0.025908    -0.103838    0.027185      0.004640   \n",
       "schoolsup_dig         0.069506     0.049241    0.056949     -0.004859   \n",
       "famsup_dig           -0.007412     0.064869    0.124554      0.098795   \n",
       "paid_math_dig         0.019044     0.121350    0.197203      0.174581   \n",
       "activities_dig        1.000000    -0.006010    0.099606      0.060126   \n",
       "nursery_dig          -0.006010     1.000000    0.068030      0.032580   \n",
       "higher_dig            0.099606     0.068030    1.000000      0.043522   \n",
       "internet_dig          0.060126     0.032580    0.043522      1.000000   \n",
       "romantic_dig         -0.032455     0.019314   -0.131382      0.099781   \n",
       "\n",
       "                romantic_dig  \n",
       "age                 0.144440  \n",
       "m_edu               0.023870  \n",
       "f_edu              -0.027778  \n",
       "traveltime          0.022876  \n",
       "studytime           0.055469  \n",
       "failures            0.095931  \n",
       "famrel             -0.066593  \n",
       "freetime           -0.036552  \n",
       "go_out              0.009982  \n",
       "health              0.010607  \n",
       "absences            0.000414  \n",
       "score              -0.141320  \n",
       "famsize_dig        -0.016508  \n",
       "schoolsup_dig      -0.067455  \n",
       "famsup_dig          0.015542  \n",
       "paid_math_dig       0.049475  \n",
       "activities_dig     -0.032455  \n",
       "nursery_dig         0.019314  \n",
       "higher_dig         -0.131382  \n",
       "internet_dig        0.099781  \n",
       "romantic_dig        1.000000  "
      ]
     },
     "execution_count": 115,
     "metadata": {},
     "output_type": "execute_result"
    }
   ],
   "source": [
    "# изначальный датасет\n",
    "df1.corr()"
   ]
  },
  {
   "cell_type": "code",
   "execution_count": null,
   "metadata": {
    "scrolled": true
   },
   "outputs": [],
   "source": []
  },
  {
   "cell_type": "markdown",
   "metadata": {},
   "source": [
    "#### Выводы из анализа корреляции: \n",
    "Взросление обратно коррелирует с баллом на экзамене, предположительно потому, что ученик:\n",
    "•\tпропускает больше занятий\n",
    "•\tбольше гуляет с друзьями\n",
    "•\tПоявляется интерес к романтически отношениям\n",
    "•\tИмеет меньше свободного времени\n",
    "•\tИмеет меньшую дополнительную поддержу в школе (потому что прогуливает) и дома\n",
    "•\tБалл на экзамене ниже\n",
    "Интересно, что время на учебу вне школы с возрастом почти не меняется (уменьшается незначительно), как и количество свободного времени (почти не увеличиваетя).\n",
    "\n",
    "Уровень образования матери в большей степени коррелирует с высоким баллом, чем уровень образования отца, также заметно большее влияние уровня образования матери на дополнительные источники знаний для ребенка: домашние дополнительные занятия, платные курсы, интернет. В силу этого можно предположить, что с ребенком больше занимаются.\n",
    "\n",
    "Также в большой степени на уровень балла экзамена влияет желание поступить в ВУЗ. \n",
    "Дети, которые посещали детский сад также в среднем получают более высокие баллы на экзамене, предположительно потому, что они более устойчивы к неудачам (видна обратная корреляция)."
   ]
  },
  {
   "cell_type": "code",
   "execution_count": null,
   "metadata": {},
   "outputs": [],
   "source": []
  },
  {
   "cell_type": "markdown",
   "metadata": {},
   "source": [
    "### Анализ номинативных признаков"
   ]
  },
  {
   "cell_type": "markdown",
   "metadata": {},
   "source": [
    "##### поведем три анализа двух наборов: исходного с обогащением (df1) и очищенного (df)"
   ]
  },
  {
   "cell_type": "code",
   "execution_count": null,
   "metadata": {},
   "outputs": [],
   "source": []
  },
  {
   "cell_type": "code",
   "execution_count": null,
   "metadata": {},
   "outputs": [],
   "source": []
  },
  {
   "cell_type": "code",
   "execution_count": 164,
   "metadata": {},
   "outputs": [],
   "source": []
  },
  {
   "cell_type": "code",
   "execution_count": null,
   "metadata": {},
   "outputs": [],
   "source": []
  },
  {
   "cell_type": "code",
   "execution_count": 152,
   "metadata": {},
   "outputs": [],
   "source": [
    "def get_boxplot1(column):\n",
    "    fig, ax = plt.subplots(figsize=(14, 4))\n",
    "    sns.boxplot(x=column, y='score',\n",
    "                data=df1.loc[df1.loc[:, column].isin(\n",
    "                    df1.loc[:, column].value_counts().index[:5])],\n",
    "                ax=ax)\n",
    "    plt.xticks(rotation=45)\n",
    "    ax.set_title('Boxplot for ' + column)\n",
    "    plt.show()"
   ]
  },
  {
   "cell_type": "code",
   "execution_count": 153,
   "metadata": {
    "scrolled": true
   },
   "outputs": [
    {
     "data": {
      "image/png": "[encoded data removed]",
      "text/plain": [
       "<Figure size 1008x288 with 1 Axes>"
      ]
     },
     "metadata": {},
     "output_type": "display_data"
    },
    {
     "data": {
      "image/png": "[encoded data removed]",
      "text/plain": [
       "<Figure size 1008x288 with 1 Axes>"
      ]
     },
     "metadata": {},
     "output_type": "display_data"
    },
    {
     "data": {
      "image/png": "[encoded data removed]",
      "text/plain": [
       "<Figure size 1008x288 with 1 Axes>"
      ]
     },
     "metadata": {},
     "output_type": "display_data"
    },
    {
     "data": {
      "image/png": "[encoded data removed]",
      "text/plain": [
       "<Figure size 1008x288 with 1 Axes>"
      ]
     },
     "metadata": {},
     "output_type": "display_data"
    },
    {
     "data": {
      "image/png": "[encoded data removed]",
      "text/plain": [
       "<Figure size 1008x288 with 1 Axes>"
      ]
     },
     "metadata": {},
     "output_type": "display_data"
    },
    {
     "data": {
      "image/png": "[encoded data removed]",
      "text/plain": [
       "<Figure size 1008x288 with 1 Axes>"
      ]
     },
     "metadata": {},
     "output_type": "display_data"
    },
    {
     "data": {
      "image/png": "[encoded data removed]",
      "text/plain": [
       "<Figure size 1008x288 with 1 Axes>"
      ]
     },
     "metadata": {},
     "output_type": "display_data"
    },
    {
     "data": {
      "image/png": "[encoded data removed]",
      "text/plain": [
       "<Figure size 1008x288 with 1 Axes>"
      ]
     },
     "metadata": {},
     "output_type": "display_data"
    },
    {
     "data": {
      "image/png": "[encoded data removed]",
      "text/plain": [
       "<Figure size 1008x288 with 1 Axes>"
      ]
     },
     "metadata": {},
     "output_type": "display_data"
    },
    {
     "data": {
      "image/png": "[encoded data removed]",
      "text/plain": [
       "<Figure size 1008x288 with 1 Axes>"
      ]
     },
     "metadata": {},
     "output_type": "display_data"
    },
    {
     "data": {
      "image/png": "[encoded data removed]",
      "text/plain": [
       "<Figure size 1008x288 with 1 Axes>"
      ]
     },
     "metadata": {},
     "output_type": "display_data"
    },
    {
     "data": {
      "image/png": "[encoded data removed]",
      "text/plain": [
       "<Figure size 1008x288 with 1 Axes>"
      ]
     },
     "metadata": {},
     "output_type": "display_data"
    },
    {
     "data": {
      "image/png": "[encoded data removed]",
      "text/plain": [
       "<Figure size 1008x288 with 1 Axes>"
      ]
     },
     "metadata": {},
     "output_type": "display_data"
    },
    {
     "data": {
      "image/png": "[encoded data removed]",
      "text/plain": [
       "<Figure size 1008x288 with 1 Axes>"
      ]
     },
     "metadata": {},
     "output_type": "display_data"
    },
    {
     "data": {
      "image/png": "[encoded data removed]",
      "text/plain": [
       "<Figure size 1008x288 with 1 Axes>"
      ]
     },
     "metadata": {},
     "output_type": "display_data"
    },
    {
     "data": {
      "image/png": "[encoded data removed]",
      "text/plain": [
       "<Figure size 1008x288 with 1 Axes>"
      ]
     },
     "metadata": {},
     "output_type": "display_data"
    },
    {
     "data": {
      "image/png": "[encoded data removed]",
      "text/plain": [
       "<Figure size 1008x288 with 1 Axes>"
      ]
     },
     "metadata": {},
     "output_type": "display_data"
    }
   ],
   "source": [
    "for col in obj_cols:\n",
    "    get_boxplot1(col)"
   ]
  },
  {
   "cell_type": "markdown",
   "metadata": {},
   "source": [
    "##### Для срвнения с обогащенным исходным строим то, что получилось после очитки"
   ]
  },
  {
   "cell_type": "code",
   "execution_count": 155,
   "metadata": {},
   "outputs": [],
   "source": [
    "def get_boxplot(column):\n",
    "    fig, ax = plt.subplots(figsize=(14, 4))\n",
    "    sns.boxplot(x=column, y='score',\n",
    "                data=df.loc[df.loc[:, column].isin(\n",
    "                    df.loc[:, column].value_counts().index[:5])],\n",
    "                ax=ax)\n",
    "    plt.xticks(rotation=45)\n",
    "    ax.set_title('Boxplot for ' + column)\n",
    "    plt.show()"
   ]
  },
  {
   "cell_type": "code",
   "execution_count": 157,
   "metadata": {},
   "outputs": [
    {
     "data": {
      "image/png": "[encoded data removed]",
      "text/plain": [
       "<Figure size 1008x288 with 1 Axes>"
      ]
     },
     "metadata": {},
     "output_type": "display_data"
    },
    {
     "data": {
      "image/png": "[encoded data removed]",
      "text/plain": [
       "<Figure size 1008x288 with 1 Axes>"
      ]
     },
     "metadata": {},
     "output_type": "display_data"
    },
    {
     "data": {
      "image/png": "[encoded data removed]",
      "text/plain": [
       "<Figure size 1008x288 with 1 Axes>"
      ]
     },
     "metadata": {},
     "output_type": "display_data"
    },
    {
     "data": {
      "image/png": "[encoded data removed]",
      "text/plain": [
       "<Figure size 1008x288 with 1 Axes>"
      ]
     },
     "metadata": {},
     "output_type": "display_data"
    },
    {
     "data": {
      "image/png": "[encoded data removed]",
      "text/plain": [
       "<Figure size 1008x288 with 1 Axes>"
      ]
     },
     "metadata": {},
     "output_type": "display_data"
    },
    {
     "data": {
      "image/png": "[encoded data removed]",
      "text/plain": [
       "<Figure size 1008x288 with 1 Axes>"
      ]
     },
     "metadata": {},
     "output_type": "display_data"
    },
    {
     "data": {
      "image/png": "[encoded data removed]",
      "text/plain": [
       "<Figure size 1008x288 with 1 Axes>"
      ]
     },
     "metadata": {},
     "output_type": "display_data"
    },
    {
     "data": {
      "image/png": "[encoded data removed]",
      "text/plain": [
       "<Figure size 1008x288 with 1 Axes>"
      ]
     },
     "metadata": {},
     "output_type": "display_data"
    },
    {
     "data": {
      "image/png": "[encoded data removed]",
      "text/plain": [
       "<Figure size 1008x288 with 1 Axes>"
      ]
     },
     "metadata": {},
     "output_type": "display_data"
    },
    {
     "data": {
      "image/png": "[encoded data removed]",
      "text/plain": [
       "<Figure size 1008x288 with 1 Axes>"
      ]
     },
     "metadata": {},
     "output_type": "display_data"
    },
    {
     "data": {
      "image/png": "[encoded data removed]",
      "text/plain": [
       "<Figure size 1008x288 with 1 Axes>"
      ]
     },
     "metadata": {},
     "output_type": "display_data"
    },
    {
     "data": {
      "image/png": "[encoded data removed]",
      "text/plain": [
       "<Figure size 1008x288 with 1 Axes>"
      ]
     },
     "metadata": {},
     "output_type": "display_data"
    },
    {
     "data": {
      "image/png": "[encoded data removed]",
      "text/plain": [
       "<Figure size 1008x288 with 1 Axes>"
      ]
     },
     "metadata": {},
     "output_type": "display_data"
    },
    {
     "data": {
      "image/png": "[encoded data removed]",
      "text/plain": [
       "<Figure size 1008x288 with 1 Axes>"
      ]
     },
     "metadata": {},
     "output_type": "display_data"
    },
    {
     "data": {
      "image/png": "[encoded data removed]",
      "text/plain": [
       "<Figure size 1008x288 with 1 Axes>"
      ]
     },
     "metadata": {},
     "output_type": "display_data"
    },
    {
     "data": {
      "image/png": "[encoded data removed]",
      "text/plain": [
       "<Figure size 1008x288 with 1 Axes>"
      ]
     },
     "metadata": {},
     "output_type": "display_data"
    },
    {
     "data": {
      "image/png": "[encoded data removed]",
      "text/plain": [
       "<Figure size 1008x288 with 1 Axes>"
      ]
     },
     "metadata": {},
     "output_type": "display_data"
    }
   ],
   "source": [
    "for col in obj_cols:\n",
    "    get_boxplot(col)"
   ]
  },
  {
   "cell_type": "markdown",
   "metadata": {},
   "source": [
    "#### Выводы: предварительно из графиков заметна прямая зависимость балла и профессии отца-учитель, а также матери-доктора. И заметно, что желание поступить в вуз также показывает прямую зависимость с ростом балла на экзамене"
   ]
  },
  {
   "cell_type": "markdown",
   "metadata": {},
   "source": [
    "##### Для уровня доверия 0,05"
   ]
  },
  {
   "cell_type": "code",
   "execution_count": 137,
   "metadata": {},
   "outputs": [],
   "source": [
    "def get_stat_dif_005(column):\n",
    "    cols = df[column].value_counts().index[:5]\n",
    "    combinations_all = list(combinations(cols, 2))\n",
    "    for comb in combinations_all:\n",
    "        if ws.ttest_ind(df.loc[df.loc[:, column] == comb[0], 'score'],\n",
    "                        df.loc[df.loc[:, column] == comb[1], 'score'], alternative='two-sided',  usevar='unequal')[1] <= 0.05/len(combinations_all):\n",
    "            print('Найдены статистически значимые различия для колонки', column)\n",
    "            break"
   ]
  },
  {
   "cell_type": "code",
   "execution_count": 143,
   "metadata": {},
   "outputs": [],
   "source": [
    "def get_stat_dif1_005(column):\n",
    "    cols = df1[column].value_counts().index[:5]\n",
    "    combinations_all = list(combinations(cols, 2))\n",
    "    for comb in combinations_all:\n",
    "        if ws.ttest_ind(df1.loc[df1.loc[:, column] == comb[0], 'score'],\n",
    "                        df1.loc[df1.loc[:, column] == comb[1], 'score'], alternative='two-sided',  usevar='unequal')[1] <= 0.05/len(combinations_all):\n",
    "            print('Найдены статистически значимые различия для колонки', column)\n",
    "            break"
   ]
  },
  {
   "cell_type": "code",
   "execution_count": null,
   "metadata": {},
   "outputs": [],
   "source": []
  },
  {
   "cell_type": "markdown",
   "metadata": {},
   "source": [
    "##### Для уровня доверия 0,1"
   ]
  },
  {
   "cell_type": "code",
   "execution_count": 148,
   "metadata": {},
   "outputs": [],
   "source": [
    "def get_stat_dif_01(column):\n",
    "    cols = df[column].value_counts().index[:5]\n",
    "    combinations_all = list(combinations(cols, 2))\n",
    "    for comb in combinations_all:\n",
    "        if ws.ttest_ind(df.loc[df.loc[:, column] == comb[0], 'score'],\n",
    "                        df.loc[df.loc[:, column] == comb[1], 'score'], alternative='two-sided',  usevar='unequal')[1] <= 0.1/len(combinations_all):\n",
    "            print('Найдены статистически значимые различия для колонки', column)\n",
    "            break"
   ]
  },
  {
   "cell_type": "code",
   "execution_count": 149,
   "metadata": {},
   "outputs": [],
   "source": [
    "def get_stat_dif1_01(column):\n",
    "    cols = df1[column].value_counts().index[:5]\n",
    "    combinations_all = list(combinations(cols, 2))\n",
    "    for comb in combinations_all:\n",
    "        if ws.ttest_ind(df1.loc[df1.loc[:, column] == comb[0], 'score'],\n",
    "                        df1.loc[df1.loc[:, column] == comb[1], 'score'], alternative='two-sided',  usevar='unequal')[1] <= 0.1/len(combinations_all):\n",
    "            print('Найдены статистически значимые различия для колонки', column)\n",
    "            break"
   ]
  },
  {
   "cell_type": "code",
   "execution_count": null,
   "metadata": {},
   "outputs": [],
   "source": []
  },
  {
   "cell_type": "markdown",
   "metadata": {},
   "source": [
    "##### Сравнение на уровне доверия 0,05 обработанного и исходного датасетов"
   ]
  },
  {
   "cell_type": "code",
   "execution_count": 159,
   "metadata": {},
   "outputs": [
    {
     "name": "stdout",
     "output_type": "stream",
     "text": [
      "Найдены статистически значимые различия для колонки sex\n",
      "Найдены статистически значимые различия для колонки m_job\n",
      "Найдены статистически значимые различия для колонки schoolsup\n"
     ]
    }
   ],
   "source": [
    "for col in obj_cols:\n",
    "    get_stat_dif_005(col)"
   ]
  },
  {
   "cell_type": "code",
   "execution_count": 158,
   "metadata": {},
   "outputs": [
    {
     "name": "stdout",
     "output_type": "stream",
     "text": [
      "Найдены статистически значимые различия для колонки m_job\n"
     ]
    },
    {
     "name": "stderr",
     "output_type": "stream",
     "text": [
      "C:\\Users\\Nikolay\\Anaconda3\\lib\\site-packages\\scipy\\stats\\_continuous_distns.py:5193: RuntimeWarning: invalid value encountered in greater\n",
      "  return df > 0\n",
      "C:\\Users\\Nikolay\\Anaconda3\\lib\\site-packages\\scipy\\stats\\_distn_infrastructure.py:877: RuntimeWarning: invalid value encountered in greater\n",
      "  return (self.a < x) & (x < self.b)\n",
      "C:\\Users\\Nikolay\\Anaconda3\\lib\\site-packages\\scipy\\stats\\_distn_infrastructure.py:877: RuntimeWarning: invalid value encountered in less\n",
      "  return (self.a < x) & (x < self.b)\n",
      "C:\\Users\\Nikolay\\Anaconda3\\lib\\site-packages\\scipy\\stats\\_distn_infrastructure.py:1831: RuntimeWarning: invalid value encountered in less_equal\n",
      "  cond2 = cond0 & (x <= self.a)\n"
     ]
    }
   ],
   "source": [
    "for col in obj_cols:\n",
    "    get_stat_dif1_005(col)"
   ]
  },
  {
   "cell_type": "markdown",
   "metadata": {},
   "source": [
    "##### Сравнение на уровне доверия 0,1 обработанного и исходного датасетов"
   ]
  },
  {
   "cell_type": "code",
   "execution_count": 150,
   "metadata": {},
   "outputs": [
    {
     "name": "stdout",
     "output_type": "stream",
     "text": [
      "Найдены статистически значимые различия для колонки sex\n",
      "Найдены статистически значимые различия для колонки addr_type\n",
      "Найдены статистически значимые различия для колонки m_job\n",
      "Найдены статистически значимые различия для колонки schoolsup\n"
     ]
    }
   ],
   "source": [
    "for col in obj_cols:\n",
    "    get_stat_dif_01(col)"
   ]
  },
  {
   "cell_type": "code",
   "execution_count": 151,
   "metadata": {},
   "outputs": [
    {
     "name": "stdout",
     "output_type": "stream",
     "text": [
      "Найдены статистически значимые различия для колонки m_job\n"
     ]
    }
   ],
   "source": [
    "for col in obj_cols:\n",
    "    get_stat_dif1_01(col)"
   ]
  },
  {
   "cell_type": "code",
   "execution_count": null,
   "metadata": {},
   "outputs": [],
   "source": []
  },
  {
   "cell_type": "markdown",
   "metadata": {},
   "source": [
    "В итоге у нас получилось два пути: взять датасет после обработки и взять датасет исходный. В зависимости от этого получается два набора признаков:"
   ]
  },
  {
   "cell_type": "markdown",
   "metadata": {},
   "source": [
    "для исходного:"
   ]
  },
  {
   "cell_type": "code",
   "execution_count": 171,
   "metadata": {
    "scrolled": true
   },
   "outputs": [],
   "source": [
    "df1_model1 = df1.loc[:, ['m_job', 'm_edu', 'age',\n",
    "                         'studytime', 'famrel', 'health', 'go_out', 'higher_dig']]"
   ]
  },
  {
   "cell_type": "code",
   "execution_count": null,
   "metadata": {},
   "outputs": [],
   "source": []
  },
  {
   "cell_type": "markdown",
   "metadata": {},
   "source": [
    "##### выбираю переменные, которые коррелируют  score, но не коррелируют или минимально коррелируют ежду собой (до 0,1)"
   ]
  },
  {
   "cell_type": "code",
   "execution_count": 167,
   "metadata": {},
   "outputs": [],
   "source": [
    "df_model = df.loc[:, ['sex', 'addr_type', 'm_job', 'schoolsup',\n",
    "                      'm_edu', 'age', 'studytime', 'famrel', 'health', 'go_out']]"
   ]
  },
  {
   "cell_type": "code",
   "execution_count": null,
   "metadata": {},
   "outputs": [],
   "source": []
  },
  {
   "cell_type": "markdown",
   "metadata": {},
   "source": [
    "###### Гипотезы\n",
    "Взросление обратно коррелирует с баллом на экзамене, предположительно потому, что ученик: \n",
    "    • пропускает больше занятий \n",
    "    • больше гуляет с друзьями \n",
    "    • Появляется интерес к романтически отношениям \n",
    "    • Имеет меньше свободного времени \n",
    "    • Имеет меньшую дополнительную поддержу в школе (потому что прогуливает или уже закончил школу) и дома (стал самостоятельным и родители уже не оказывают такого влияния)\n",
    "    • Балл на экзамене ниже \n",
    "    \n",
    "Предположительно ученик в старшем возрасте может также уже работать или учиться в другом вузе, поэтому его фокус внимания смещен со дачи экзамена.\n",
    "Интересно, что время на учебу вне школы с возрастом почти не меняется (уменьшается незначительно), как и количество свободного времени (почти не увеличиваетя).\n",
    "\n",
    "\n",
    "Уровень образования матери в большей степени коррелирует с высоким баллом, чем уровень образования отца (тут возможно влияние и качества данных - большого кол-ва пропусков), также заметно большее влияние уровня образования матери на дополнительные источники знаний для ребенка: домашние дополнительные занятия, платные курсы, интернет. В силу этого можно предположить, что с ребенком больше занимаются мать.\n",
    "\n",
    "    \n",
    "Также в большой степени на уровень балла экзамена влияет желание поступить в ВУЗ. Дети, которые посещали детский сад также в среднем получают более высокие баллы на экзамене, предположительно потому, что они более устойчивы к неудачам (видна обратная корреляция).\n",
    "\n",
    "###### Самое ильное влияние\n",
    "Самое сильное влияние оказывают показатели:\n",
    "    Положительное: m_edu, higher_dig (новый параметр - желание поступить в ВУЗ), возраст (age), время, проведенное за занятияи вне школы (studytime)\n",
    "    Отрицательное: age (возраст), failures (кол-во неудач). go_out (время на прогулки)\n",
    "    номинативные признаки: m_edu (образование матери), а также в завиимости от выбранного пути могут быть еще 'sex', 'addr_type', 'schoolsup'\n",
    "    \n",
    "###### Качество данных\n",
    "Качество данных среднее: дотаточно большое кол-во пропусков (ообенно в health, freetime, famrel, failures, traeltime, f_edu).\n",
    "Если последовательно очищать выбросы по методу межквартильного разаха, то удаляется очень много информации (наглядно видно в очищенном df - осталось 120 значений из 395), поэтоу рекоендуется очищать только выбросыф за пределаи здравого смысла (те, что нарушают исходные услвоия).\n",
    "\n",
    "###### Выбрал два пути анализа\n",
    "Анализ очищенного датасета. Дальше берем показатели: df_model = df.loc[:,['sex', 'addr_type', 'm_job', 'schoolsup', 'm_edu', 'age', 'studytime', 'famrel', 'health', 'go_out']]\n",
    "Анализ неочищенного датасета, обогащенного доп. колонками: df1_model1 = df1.loc[:,['m_job', 'm_edu', 'age', 'studytime', 'famrel', 'health', 'go_out', 'higher_dig']]"
   ]
  },
  {
   "cell_type": "code",
   "execution_count": null,
   "metadata": {},
   "outputs": [],
   "source": []
  },
  {
   "cell_type": "code",
   "execution_count": null,
   "metadata": {},
   "outputs": [],
   "source": []
  },
  {
   "cell_type": "code",
   "execution_count": null,
   "metadata": {},
   "outputs": [],
   "source": []
  },
  {
   "cell_type": "code",
   "execution_count": null,
   "metadata": {},
   "outputs": [],
   "source": []
  }
 ],
 "metadata": {
  "kernelspec": {
   "display_name": "Python 3",
   "language": "python",
   "name": "python3"
  },
  "language_info": {
   "codemirror_mode": {
    "name": "ipython",
    "version": 3
   },
   "file_extension": ".py",
   "mimetype": "text/x-python",
   "name": "python",
   "nbconvert_exporter": "python",
   "pygments_lexer": "ipython3",
   "version": "3.7.3"
  }
 },
 "nbformat": 4,
 "nbformat_minor": 2
}
