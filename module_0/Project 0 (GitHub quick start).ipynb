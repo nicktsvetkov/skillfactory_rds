{
 "cells": [
  {
   "cell_type": "code",
   "execution_count": null,
   "metadata": {},
   "outputs": [],
   "source": [
    "import numpy as np\n",
    "count = 0                            # счетчик попыток\n",
    "number = np.random.randint(1,101)    # загадали число\n",
    "print (\"Загадано число от 1 до 100\")"
   ]
  },
  {
   "cell_type": "code",
   "execution_count": null,
   "metadata": {},
   "outputs": [],
   "source": [
    "# Пример 0\n",
    "count=0\n",
    "while True:                        # бесконечный цикл\n",
    "    predict = int(input())         # предполагаемое число\n",
    "    count += 1                     # плюсуем попытку\n",
    "    if number == predict: break    # выход из цикла, если угадали\n",
    "    elif number > predict: print (f\"Угадываемое число больше {predict} \")\n",
    "    elif number < predict: print (f\"Угадываемое число меньше {predict} \")\n",
    "        \n",
    "print (\"Вы угадали число {} за {} попыток(-ку).\".format(predict, count))"
   ]
  },
  {
   "cell_type": "code",
   "execution_count": null,
   "metadata": {},
   "outputs": [],
   "source": [
    "# Пример 1\n",
    "def game_core_v1(number):\n",
    "    #'''Просто угадываем на random, никак не используя информацию о больше или меньше.\n",
    "     #  Функция принимает загаданное число и возвращает число попыток'''\n",
    "    count = 0\n",
    "    while True:\n",
    "        count+=1\n",
    "        predict = np.random.randint(1,101) # предполагаемое число\n",
    "        if number == predict: \n",
    "            return(count) # выход из цикла, если угадали\n",
    "            break"
   ]
  },
  {
   "cell_type": "code",
   "execution_count": null,
   "metadata": {},
   "outputs": [],
   "source": [
    "def score_game(game_core):\n",
    "    #'''Запускаем игру 1000 раз, чтобы узнать, как быстро игра угадывает число'''\n",
    "    count_ls = []\n",
    "    np.random.seed(1)  # фиксируем RANDOM SEED, чтобы эксперимент был воспроизводим!\n",
    "    random_array = np.random.randint(1,101, size=(1000))\n",
    "    for number in random_array:\n",
    "        count_ls.append(game_core(number))\n",
    "    score = int(np.mean(count_ls))\n",
    "    print(\"Ваш алгоритм угадывает число в среднем за {} попыток\".format(score))\n",
    "    return(score)"
   ]
  },
  {
   "cell_type": "code",
   "execution_count": null,
   "metadata": {},
   "outputs": [],
   "source": [
    "score_game(game_core_v1)"
   ]
  },
  {
   "cell_type": "code",
   "execution_count": null,
   "metadata": {},
   "outputs": [],
   "source": [
    "# Пример 2\n",
    "def game_core_v2(number):\n",
    "   # '''Сначала устанавливаем любое random число, а потом уменьшаем или увеличиваем его в зависимости от того, больше оно или меньше нужного.\n",
    "    #   Функция принимает загаданное число и возвращает число попыток'''\n",
    "    count = 1\n",
    "    predict = np.random.randint(1,101)\n",
    "    while number != predict:\n",
    "        count+=1\n",
    "        if number > predict: \n",
    "            predict += 1\n",
    "        elif number < predict: \n",
    "            predict -= 1\n",
    "    return(count) # выход из цикла, если угадали"
   ]
  },
  {
   "cell_type": "code",
   "execution_count": null,
   "metadata": {},
   "outputs": [],
   "source": [
    "score_game(game_core_v2)"
   ]
  },
  {
   "cell_type": "code",
   "execution_count": null,
   "metadata": {},
   "outputs": [],
   "source": []
  },
  {
   "cell_type": "code",
   "execution_count": null,
   "metadata": {},
   "outputs": [],
   "source": []
  },
  {
   "cell_type": "markdown",
   "metadata": {},
   "source": [
    "### Моё решение"
   ]
  },
  {
   "cell_type": "code",
   "execution_count": 1,
   "metadata": {},
   "outputs": [
    {
     "name": "stdout",
     "output_type": "stream",
     "text": [
      "Введите нижнюю границу диапазона (целое число), из которого будет генерироваться случайное число:\n",
      "1\n",
      "Введите верхнюю границу диапазона (целое число), из которого будет генерироваться случайное число (должно быть не меньше нижней границы):\n",
      "100\n",
      "Загадано число от 1 до 100\n"
     ]
    }
   ],
   "source": [
    "import numpy as np\n",
    "count = 0                            # счетчик попыток\n",
    "print('Введите нижнюю границу диапазона (целое число), из которого будет генерироваться случайное число:')\n",
    "rand_num_min = int(input())\n",
    "rand_num_max = rand_num_min-1\n",
    "while rand_num_min>rand_num_max:\n",
    "    print('Введите верхнюю границу диапазона (целое число), из которого будет генерироваться случайное число (должно быть не меньше нижней границы):')\n",
    "    rand_num_max = int(input())\n",
    "number = np.random.randint(rand_num_min,rand_num_max+1)    # загадали число\n",
    "print(\"Загадано число от {} до {}\".format(rand_num_min, rand_num_max))"
   ]
  },
  {
   "cell_type": "code",
   "execution_count": 2,
   "metadata": {},
   "outputs": [],
   "source": [
    "def score_game(game_core):\n",
    "    #'''Запускаем игру 1000 раз, чтобы узнать, как быстро игра угадывает число'''\n",
    "    count_ls = []\n",
    "    np.random.seed(1)  # фиксируем RANDOM SEED, чтобы ваш эксперимент был воспроизводим!\n",
    "    random_array = np.random.randint(rand_num_min,rand_num_max, size=(1000))\n",
    "    for number in random_array:\n",
    "        count_ls.append(game_core(number))\n",
    "    score = int(np.mean(count_ls))\n",
    "    print(\"Ваш алгоритм угадывает число в среднем за {} попыток\".format(score))\n",
    "    return(score)"
   ]
  },
  {
   "cell_type": "code",
   "execution_count": null,
   "metadata": {},
   "outputs": [],
   "source": []
  },
  {
   "cell_type": "code",
   "execution_count": null,
   "metadata": {},
   "outputs": [],
   "source": [
    "def game_core_v3(number):\n",
    "   # '''Сначала устанавливаем любое random число, а потом корректируем границы для рандома\n",
    "    #   Функция принимает загаданное число и возвращает число попыток'''\n",
    "    count = 1\n",
    "    rand_min_score = rand_num_min\n",
    "    rand_max_score = rand_num_max\n",
    "    predict = np.random.randint(rand_min_score,rand_max_score)\n",
    "    while number != predict:\n",
    "        #count+=1\n",
    "        if number > predict: \n",
    "            rand_min_score = (predict)\n",
    "        elif number < predict: \n",
    "            rand_max_score = (predict)\n",
    "        predict = np.random.randint(rand_min_score,rand_max_score)\n",
    "        count+=1\n",
    "    return(count) # выход из цикла, если угадали"
   ]
  },
  {
   "cell_type": "code",
   "execution_count": null,
   "metadata": {},
   "outputs": [],
   "source": [
    "def game_core_v4(number):\n",
    "   #   Устанавливаем середину интервала в качестве значения по умолчанию, потом корректируем границы для рандома\n",
    "    #   Функция принимает загаданное число и возвращает число попыток'''\n",
    "    count = 1\n",
    "    rand_min_score = rand_num_min\n",
    "    rand_max_score = rand_num_max\n",
    "    predict = (rand_max_score-rand_min_score)/2 + rand_min_score\n",
    "    while number != predict:\n",
    "        if number > predict: \n",
    "            rand_min_score = (predict)\n",
    "        elif number < predict: \n",
    "            rand_max_score = (predict)\n",
    "        predict = np.random.randint(rand_min_score,rand_max_score)\n",
    "        count+=1\n",
    "    return(count) # выход из цикла, если угадали"
   ]
  },
  {
   "cell_type": "code",
   "execution_count": 3,
   "metadata": {},
   "outputs": [],
   "source": [
    "def game_core_v5(number):\n",
    "   #  Алгоритм деления пополам (в качестве варианта ставим середину интервала, затем уменьшаем интвервал в половину в соответствующую сторону и повторяем)\n",
    "    #   Важно округлять в меньшую сторону новый вариант\n",
    "    #   Функция принимает загаданное число и возвращает число попыток'''\n",
    "    count = 1\n",
    "    rand_min_score = rand_num_min\n",
    "    rand_max_score = rand_num_max\n",
    "    predict = (rand_max_score - rand_min_score)/2\n",
    "    while number != predict:\n",
    "        if number > predict: \n",
    "            rand_min_score = (predict+1)\n",
    "        elif number < predict: \n",
    "            rand_max_score = (predict-1)\n",
    "        predict = int((rand_max_score+rand_min_score)/2)\n",
    "        count+=1\n",
    "    return(count) # выход из цикла, если угадали"
   ]
  },
  {
   "cell_type": "code",
   "execution_count": 7,
   "metadata": {},
   "outputs": [],
   "source": [
    "def game_core_v5_se(number):\n",
    "    #   Важно округлять в меньшую сторону новый вариант\n",
    "    #   Функция принимает загаданное число и возвращает число попыток'''\n",
    "    count = 1\n",
    "    rand_min_score = rand_num_min\n",
    "    rand_max_score = rand_num_max\n",
    "    predict = (rand_max_score - rand_min_score)//2\n",
    "    while number != predict:\n",
    "        # print(count, predict, rand_min_score, rand_max_score)\n",
    "        if number > predict: \n",
    "            rand_min_score = (predict+1)\n",
    "        elif number < predict: \n",
    "            rand_max_score = (predict-1)\n",
    "        predict = (rand_max_score+rand_min_score)//2\n",
    "        count+=1\n",
    "    return(count) # выход из цикла, если угадали"
   ]
  },
  {
   "cell_type": "code",
   "execution_count": null,
   "metadata": {},
   "outputs": [],
   "source": [
    "score_game(game_core_v3)"
   ]
  },
  {
   "cell_type": "code",
   "execution_count": null,
   "metadata": {},
   "outputs": [],
   "source": [
    "score_game(game_core_v4)"
   ]
  },
  {
   "cell_type": "code",
   "execution_count": 5,
   "metadata": {},
   "outputs": [
    {
     "name": "stdout",
     "output_type": "stream",
     "text": [
      "Ваш алгоритм угадывает число в среднем за 5 попыток\n"
     ]
    },
    {
     "data": {
      "text/plain": [
       "5"
      ]
     },
     "execution_count": 5,
     "metadata": {},
     "output_type": "execute_result"
    }
   ],
   "source": [
    "score_game(game_core_v5_se)"
   ]
  },
  {
   "cell_type": "code",
   "execution_count": null,
   "metadata": {},
   "outputs": [],
   "source": []
  },
  {
   "cell_type": "code",
   "execution_count": null,
   "metadata": {},
   "outputs": [],
   "source": []
  },
  {
   "cell_type": "code",
   "execution_count": null,
   "metadata": {},
   "outputs": [],
   "source": []
  },
  {
   "cell_type": "code",
   "execution_count": null,
   "metadata": {},
   "outputs": [],
   "source": []
  },
  {
   "cell_type": "code",
   "execution_count": null,
   "metadata": {},
   "outputs": [],
   "source": []
  },
  {
   "cell_type": "code",
   "execution_count": null,
   "metadata": {},
   "outputs": [],
   "source": []
  },
  {
   "cell_type": "code",
   "execution_count": null,
   "metadata": {},
   "outputs": [],
   "source": []
  },
  {
   "cell_type": "code",
   "execution_count": null,
   "metadata": {},
   "outputs": [],
   "source": []
  },
  {
   "cell_type": "code",
   "execution_count": null,
   "metadata": {},
   "outputs": [],
   "source": []
  }
 ],
 "metadata": {
  "kernelspec": {
   "display_name": "Python 3",
   "language": "python",
   "name": "python3"
  },
  "language_info": {
   "codemirror_mode": {
    "name": "ipython",
    "version": 3
   },
   "file_extension": ".py",
   "mimetype": "text/x-python",
   "name": "python",
   "nbconvert_exporter": "python",
   "pygments_lexer": "ipython3",
   "version": "3.7.3"
  }
 },
 "nbformat": 4,
 "nbformat_minor": 2
}
